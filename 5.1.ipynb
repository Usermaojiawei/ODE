{
 "cells": [
  {
   "cell_type": "markdown",
   "metadata": {},
   "source": [
    "## § 5.1 线性微分方程组解的存在唯一性定理\n",
    "## Existence & Uniqueness Theorems of Linear ODEs"
   ]
  },
  {
   "cell_type": "markdown",
   "metadata": {},
   "source": [
    "### 本节要求 /Requirements/\n",
    "* 掌握高阶线性微分方程与线性微分方程组的关系.\n",
    "* 理解线性微分方程组解的存在唯一性定理.\n",
    "* 熟练掌握解的逐次逼近序列的构造方法."
   ]
  },
  {
   "cell_type": "markdown",
   "metadata": {},
   "source": [
    "### 5.1.1 记号与定义 /Symbol and Definition/"
   ]
  },
  {
   "cell_type": "markdown",
   "metadata": {},
   "source": [
    "一阶微分方程组\n",
    "\n",
    "$$\n",
    "\\begin{cases}\n",
    "x_1'=f_1(t,x_1,x_2,\\dots,x_n)\\\\\n",
    "x_2'=f_2(t,x_1,x_2,\\dots,x_n)\\\\\n",
    "\\dots\\dots\\dots\\dots\\\\\n",
    "x_n'=f_n(t,x_1,x_2,\\dots,x_n)\\\\\n",
    "\\end{cases}\n",
    "$$\n",
    "\n",
    "初值条件 $x_1(t_0)=\\eta_1$ , $x_2(t_0)=\\eta_2$ , $\\dots$ , $x_n(t_0)=\\eta_n$"
   ]
  },
  {
   "cell_type": "markdown",
   "metadata": {},
   "source": [
    "一阶线性微分方程组\n",
    "\n",
    "$$\n",
    "\\begin{cases}\n",
    "x_1'=a_{11}(t)x_1+a_{12}(t)x_2+\\dots+a_{1n}(t)x_n+f_1(t)\\\\\n",
    "x_2'=a_{21}(t)x_1+a_{22}(t)x_2+\\dots+a_{2n}(t)x_n+f_2(t)\\\\\n",
    "\\dots\\dots\\dots\\dots\\\\\n",
    "x_n'=a_{n1}(t)x_1+a_{n2}(t)x_2+\\dots+a_{nn}(t)x_n+f_n(t)\\\\\n",
    "\\end{cases}\n",
    "$$\n",
    "\n",
    "$a_{ij}$ , $f_i(t)$ $\\quad$ $i,j=1,2,\\dots,n$ 在 $[a,b]$ 上连续"
   ]
  },
  {
   "cell_type": "markdown",
   "metadata": {},
   "source": [
    "$$\n",
    "A(t)=\n",
    "\\left[\n",
    "\\begin{matrix}\n",
    "a_{11}(t)&a_{12}(t)&\\dots&a_{1n}(t)\\\\\n",
    "a_{21}(t)&a_{22}(t)&\\dots&a_{2n}(t)\\\\\n",
    "\\dots&\\dots&\\dots&\\dots\\\\\n",
    "a_{n1}(t)&a_{n2}(t)&\\dots&a_{nn}(t)\\\\\n",
    "\\end{matrix}\n",
    "\\right]\n",
    "$$\n",
    "\n",
    "$$\n",
    "f(t)=\n",
    "\\left[\n",
    "\\begin{matrix}\n",
    "f_1(t)\\\\\n",
    "f_2(t)\\\\\n",
    "\\vdots\\\\\n",
    "f_n(t)\\\\\n",
    "\\end{matrix}\n",
    "\\right]\n",
    "\\quad\n",
    "x=\n",
    "\\left[\n",
    "\\begin{matrix}\n",
    "x_1\\\\\n",
    "x_2\\\\\n",
    "\\vdots\\\\\n",
    "x_n\\\\\n",
    "\\end{matrix}\n",
    "\\right]\n",
    "\\quad\n",
    "\\frac{\\mathrm d x}{\\mathrm d t}=x'=\n",
    "\\left[\n",
    "\\begin{matrix}\n",
    "x_1'\\\\\n",
    "x_2'\\\\\n",
    "\\vdots\\\\\n",
    "x_n'\\\\\n",
    "\\end{matrix}\n",
    "\\right]\n",
    "$$\n",
    "\n",
    "$$\n",
    "\\frac{\\mathrm d x}{\\mathrm d t}=x'=A(t)x+f(t)\n",
    "$$"
   ]
  },
  {
   "cell_type": "markdown",
   "metadata": {},
   "source": [
    "$$\n",
    "B(t)=\n",
    "\\left[\n",
    "\\begin{matrix}\n",
    "b_{11}(t)&b_{12}(t)&\\dots&b_{1n}(t)\\\\\n",
    "b_{21}(t)&b_{22}(t)&\\dots&b_{2n}(t)\\\\\n",
    "\\dots&\\dots&\\dots&\\dots\\\\\n",
    "b_{n1}(t)&b_{n2}(t)&\\dots&b_{nn}(t)\\\\\n",
    "\\end{matrix}\n",
    "\\right]\n",
    "\\quad\n",
    "u(t)=\n",
    "\\left[\n",
    "\\begin{matrix}\n",
    "u_1(t)\\\\\n",
    "u_2(t)\\\\\n",
    "\\vdots\\\\\n",
    "u_n(t)\\\\\n",
    "\\end{matrix}\n",
    "\\right]\n",
    "$$\n",
    "\n",
    "在区间 $a\\leq t\\leq b$ 可定义矩阵与向量函数\n",
    "\n",
    "$B(t)=(b_{ij}(t))_{n\\times m}$\n",
    "\n",
    "$u(t)=(u_1(t),u_2(t),\\dots,u_n(t))^T$"
   ]
  },
  {
   "cell_type": "markdown",
   "metadata": {},
   "source": [
    "**连续:** $b_{ij}(t)$ , $u_i(t)$ 在区间 $a\\leq t\\leq b$ 连续.\n",
    "\n",
    "**可微:** $b_{ij}(t)$ , $u_i(t)$ 在区间 $a\\leq t\\leq b$ 可微.\n",
    "\n",
    "$B(t)'=(b_{ij}'(t))_{n\\times m}$ $\\quad$ $u(t)'=(u_1'(t),u_2'(t),\\dots,u_n'(t))^T$\n",
    "\n",
    "**可积:** $b_{ij}(t)$ , $u_i(t)$ 在区间 $a\\leq t\\leq b$ 可积."
   ]
  },
  {
   "cell_type": "markdown",
   "metadata": {},
   "source": [
    "$\\int B(t){\\mathrm d t}=\\left(\\int b_{ij}(t){\\mathrm d t}\\right)_{n \\times n}$\n",
    "\n",
    "$\\int u(t){\\mathrm d t}=\\left(\\int u_1(t){\\mathrm d t},\\int u_2(t){\\mathrm d t},\\dots,\\int u_n(t){\\mathrm d t}\\right)^T$"
   ]
  },
  {
   "cell_type": "markdown",
   "metadata": {},
   "source": [
    "(1)$\\left(A(t)+B(t)\\right)'=A'(t)+B'(t)$ $\\quad$ $\\left(u(t)+v(t)\\right)'=u'(t)+v'(t)$\n",
    "\n",
    "(2)$\\left(A(t)\\cdot B(t)\\right)'=A'(t)B(t)+B'(t)A(t)$\n",
    "\n",
    "(3)$\\left(A(t)\\cdot u(t)\\right)'=A'(t)u(t)+u'(t)A(t)$"
   ]
  },
  {
   "cell_type": "markdown",
   "metadata": {},
   "source": [
    "**定义$1$**设 $A(t)$ 是区间 $a\\leq t\\leq b$　上的连续　$n\\times n$ 矩阵,　$f(t)$ 是区间 $a\\leq t\\leq b$ 上的连续 $n$ 维向量,方程组\n",
    "\n",
    "$$\n",
    "\\frac{\\mathrm d x}{\\mathrm d t}=x'=A(t)x+f(t)\n",
    "$$\n",
    "\n",
    "在某区间 $\\alpha \\leq t \\leq \\beta $ $\\left([\\alpha,\\beta]\\subset[a,b]\\right)$ 的解就是向量 $u(t)$ 在区间 $\\alpha \\leq t \\leq \\beta $ 上连续且满足\n",
    "\n",
    "$$\n",
    "u'(t)=A(t)u(t)+f(t)\n",
    "$$"
   ]
  },
  {
   "cell_type": "markdown",
   "metadata": {},
   "source": [
    "**定义$2$** 初值问题(CauchyProblem)\n",
    "\n",
    "$$\n",
    "\\begin{cases}\n",
    "\\frac{\\mathrm d x}{\\mathrm d t}=x'=A(t)x+f(t)\\\\\n",
    "x(t_0)=\\eta\\\\\n",
    "\\end{cases}\n",
    "$$\n",
    "\n",
    "的解就是方程组 $\\frac{\\mathrm d x}{\\mathrm d t}=x'=A(t)x+f(t)$ 在包含 $t_0$ 的区间 $\\alpha \\leq t \\leq \\beta $ 上的解 $u(t)$ , 使得$u(t_0)=\\eta$"
   ]
  },
  {
   "cell_type": "markdown",
   "metadata": {},
   "source": [
    "**例$1$**验证向量\n",
    "$$\n",
    "u(t)=\n",
    "\\left[\n",
    "\\begin{matrix}\n",
    "e^{-t}\\\\\n",
    "-e^{-t}\\\\\n",
    "\\end{matrix}\n",
    "\\right]\n",
    "$$\n",
    "\n",
    "是初值问题\n",
    "$$\n",
    "x'=\n",
    "\\left[\n",
    "\\begin{matrix}\n",
    "0&1\\\\\n",
    "1&0\\\\\n",
    "\\end{matrix}\n",
    "\\right]x\n",
    "\\quad\n",
    "x(0)=\n",
    "\\left[\n",
    "\\begin{matrix}\n",
    "1\\\\\n",
    "-1\\\\\n",
    "\\end{matrix}\n",
    "\\right]x\n",
    "$$\n",
    "\n",
    "在区间$-\\infty<t<+\\infty$上的解."
   ]
  },
  {
   "cell_type": "markdown",
   "metadata": {},
   "source": [
    "**解**\n",
    "$$\n",
    "u'(t)=\n",
    "\\left[\n",
    "\\begin{matrix}\n",
    "-e^{-t}\\\\\n",
    "e^{-t}\\\\\n",
    "\\end{matrix}\n",
    "\\right]\n",
    ",\n",
    "\\quad\n",
    "\\left[\n",
    "\\begin{matrix}\n",
    "0&1\\\\\n",
    "1&0\\\\\n",
    "\\end{matrix}\n",
    "\\right]\n",
    "\\left[\n",
    "\\begin{matrix}\n",
    "e^{-t}\\\\\n",
    "-e^{-t}\\\\\n",
    "\\end{matrix}\n",
    "\\right]\n",
    "=\\left[\n",
    "\\begin{matrix}\n",
    "e^{-t}\\\\\n",
    "-e^{-t}\\\\\n",
    "\\end{matrix}\n",
    "\\right]\n",
    "$$\n",
    "\n",
    "$$\n",
    "u(0)=\n",
    "\\left[\n",
    "\\begin{matrix}\n",
    "e^0\\\\\n",
    "-e^0\\\\\n",
    "\\end{matrix}\n",
    "\\right]=\\left[\n",
    "\\begin{matrix}\n",
    "1\\\\\n",
    "-1\\\\\n",
    "\\end{matrix}\n",
    "\\right]\n",
    "$$"
   ]
  },
  {
   "cell_type": "markdown",
   "metadata": {},
   "source": [
    "### 5.1.2 n 阶线性微分方程与一阶线性微分方程组等价"
   ]
  },
  {
   "cell_type": "markdown",
   "metadata": {},
   "source": [
    "**例$1$**\n",
    "$$\n",
    "x''=p(t)x'+q(t)x=f(t)\n",
    "$$"
   ]
  },
  {
   "cell_type": "markdown",
   "metadata": {},
   "source": [
    "**解** \n",
    "\n",
    "令 $x_1=x$ ,$x_2=x'$\n",
    "\n",
    "$x'=x'=x_2$\n",
    "\n",
    "$x_2'=x''=-p(t)x'-q(t)x+f(t)$\n",
    "\n",
    "$$\n",
    "\\begin{cases}\n",
    "x'=x_2\\\\\n",
    "x_2'=-p(t)x'-q(t)x+f(t)\\\\\n",
    "\\end{cases}\n",
    "$$\n",
    "\n",
    "$$\n",
    "x'=\n",
    "\\left[\n",
    "\\begin{matrix}\n",
    "0&1\\\\\n",
    "-q(t)&-p(t)\\\\\n",
    "\\end{matrix}\n",
    "\\right]x+\n",
    "\\left[\n",
    "\\begin{matrix}\n",
    "0\\\\\n",
    "f(t)\\\\\n",
    "\\end{matrix}\n",
    "\\right]\n",
    "$$"
   ]
  },
  {
   "cell_type": "markdown",
   "metadata": {
    "collapsed": true
   },
   "source": [
    "$x(t_0)=\\eta_1$, $x'(t_0)=\\eta_2$\n",
    "\n",
    "$x''+p(t)x'+q(t)x=f(x)$  \n",
    "\n",
    "$\\varphi''1(t)+p(t)\\varphi'1(t)+q(t)\\varphi_(t)=f(t)$\n",
    "\n",
    "$$\n",
    "\\left[\n",
    "\\begin{matrix}\n",
    "\\varphi'_1(t\\\\\n",
    "\\varphi'_2(t)\\\\\n",
    "\\end{matrix}\n",
    "\\right]=\n",
    "\\left[\n",
    "\\begin{matrix}\n",
    "0&1\\\\\n",
    "-q(t)&-p(t)\\\\\n",
    "\\end{matrix}\n",
    "\\right]\n",
    "\\left[\n",
    "\\begin{matrix}\n",
    "\\varphi_1(t\\\\\n",
    "\\varphi_2(t)\\\\\n",
    "\\end{matrix}\n",
    "\\right]+\n",
    "\\left[\n",
    "\\begin{matrix}\n",
    "0\\\\\n",
    "f(t)\\\\\n",
    "\\end{matrix}\n",
    "\\right]\n",
    "=\n",
    "\\left[\n",
    "\\begin{matrix}\n",
    "\\varphi_2(t)\\\\\n",
    "-q(t)\\varphi_1(t)-p(t)\\varphi_2(t)+f(t)\\\\\n",
    "\\end{matrix}\n",
    "\\right]\n",
    "$$\n"
   ]
  },
  {
   "cell_type": "markdown",
   "metadata": {},
   "source": [
    "$x(t_0)=\\eta_1$, $x'(t_0)=\\eta_2$\n",
    "\n",
    "$x''+p(t)x'+q(t)x=f(x)$  \n",
    "\n",
    "$x''+p(t)x'+q(t)x=f(x)$  "
   ]
  },
  {
   "cell_type": "markdown",
   "metadata": {},
   "source": [
    "# 空"
   ]
  },
  {
   "cell_type": "code",
   "execution_count": null,
   "metadata": {
    "collapsed": true
   },
   "outputs": [],
   "source": []
  },
  {
   "cell_type": "code",
   "execution_count": null,
   "metadata": {
    "collapsed": true
   },
   "outputs": [],
   "source": []
  },
  {
   "cell_type": "markdown",
   "metadata": {},
   "source": [
    "### 5.1.4 简单方程组的消元法"
   ]
  },
  {
   "cell_type": "markdown",
   "metadata": {},
   "source": [
    "**例$5$**求解方程组\n",
    "$$\n",
    "x'=\n",
    "\\left[\n",
    "\\begin{matrix}\n",
    "3&-2\\\\\n",
    "2&-1\\\\\n",
    "\\end{matrix}\n",
    "\\right]x\n",
    "$$"
   ]
  },
  {
   "cell_type": "markdown",
   "metadata": {},
   "source": [
    "**解**\n",
    "\n",
    "$$\n",
    "\\begin{cases}\n",
    "x'_1=3x_1-2x_2\\\\\n",
    "x'_2=2x_1-x_2\\\\\n",
    "\\end{cases}\n",
    "$$\n",
    "\n",
    "**关键:**保留一个未知函数,消掉另一个未知函数\n",
    "\n",
    "x_1=\\frac{1}{2}(x'_2+x_2)"
   ]
  },
  {
   "cell_type": "markdown",
   "metadata": {},
   "source": [
    "**例$6$** 求解方程组\n",
    "\n",
    "$$\n",
    "\\begin{cases}\n",
    "\\frac{\\mathrm d x}{\\mathrm d t}=y\\\\\n",
    "\\frac{\\mathrm d y}{\\mathrm d t}=\\frac{y^2}{x}\\\\\n",
    "\\end{cases}\n",
    "$$"
   ]
  },
  {
   "cell_type": "markdown",
   "metadata": {},
   "source": [
    "**解:** 保留一个未知函数 $x$ ,消掉另一个未知函数 $y$\n",
    "\n",
    "$\\frac{\\mathrm d^2 x}{\\mathrm d t^2}=\\frac{\\mathrm d y}{\\mathrm d t}$\n",
    "\n",
    "\n",
    "$\\frac{\\mathrm d^2 x}{\\mathrm d t^2}=\\frac{1}{x}(\\frac{\\mathrm d x}{\\mathrm d t})^2$\n",
    "\n",
    "$\\frac{\\mathrm d x}{\\mathrm d t}=y=p$\n",
    "\n",
    "\n",
    "$\\frac{\\mathrm d p}{\\mathrm d t}=\\frac{1}{x}p^2$\n",
    "\n",
    "$\\frac{\\mathrm d p}{\\mathrm d x}\\frac{\\mathrm d x}{\\mathrm d t}=\\frac{1}{x}p^2$\n",
    "\n",
    "$p\\frac{\\mathrm d p}{\\mathrm d x}-\\frac{1}{x}p^2=0$\n"
   ]
  },
  {
   "cell_type": "markdown",
   "metadata": {},
   "source": [
    "$p=0$, $\\frac{\\mathrm d p}{\\mathrm d x}-\\frac{1}{x}p^2=0$\n",
    "\n",
    "$\\frac{\\mathrm d p}{p}-\\frac{\\mathrm d x}{x}=0$\n",
    "\n",
    "$p=c_1x$\n",
    "\n",
    "$\\frac{\\mathrm d x}{\\mathrm d t}=c_1x$\n",
    "\n",
    "$$\n",
    "\\begin{cases}\n",
    "x=c_2e^{c_1t}\\\\\n",
    "y=c_1c_2e^{c_1t}\\\\\n",
    "\\end{cases}\n",
    "$$\n",
    "\n",
    "另外由 $p =0$\n",
    "\n",
    "$$\n",
    "\\begin{cases}\n",
    "x=c\\\\\n",
    "y=0\\\\\n",
    "\\end{cases}\n",
    "$$\n",
    "\n",
    "\n",
    "方程组的解为\n",
    "$$\n",
    "\\begin{cases}\n",
    "x=c_2e^{c_1t}\\\\\n",
    "y=c_1c_2e^{c_1t}\\\\\n",
    "\\end{cases}\n",
    "$$"
   ]
  },
  {
   "cell_type": "code",
   "execution_count": null,
   "metadata": {
    "collapsed": true
   },
   "outputs": [],
   "source": []
  }
 ],
 "metadata": {
  "kernelspec": {
   "display_name": "SageMath 7.3",
   "language": "",
   "name": "sagemath"
  },
  "language_info": {
   "codemirror_mode": {
    "name": "ipython",
    "version": 2
   },
   "file_extension": ".py",
   "mimetype": "text/x-python",
   "name": "python",
   "nbconvert_exporter": "python",
   "pygments_lexer": "ipython2",
   "version": "2.7.10"
  }
 },
 "nbformat": 4,
 "nbformat_minor": 0
}
