{
 "cells": [
  {
   "cell_type": "markdown",
   "metadata": {},
   "source": [
    "# SymPy  入门简介"
   ]
  },
  {
   "cell_type": "markdown",
   "metadata": {},
   "source": [
    "SymPy 是 Python 的数学符号计算库，用它可以进行数学公式的符号推导。 为了调用方便，下面所有的实例程序都假设事先从sympy库导入了所有内容："
   ]
  },
  {
   "cell_type": "code",
   "execution_count": 11,
   "metadata": {
    "collapsed": false
   },
   "outputs": [],
   "source": [
    "from sympy import * # 导入 sympy 中的所有功能\n",
    "init_printing(use_latex=True) \n",
    "from IPython.display import display # 显示公式"
   ]
  },
  {
   "cell_type": "markdown",
   "metadata": {},
   "source": [
    "## 核心功能"
   ]
  },
  {
   "cell_type": "markdown",
   "metadata": {},
   "source": [
    "* 基本算术运算： \n",
    "    + 加法： +\n",
    "    + 减法： -\n",
    "    + 乘法： *\n",
    "    + 除法： /\n",
    "    + 幂次： **\n",
    "* 化简（Simplication）\n",
    "* 展开（Expansion)\n",
    "* 常用初等函数\n",
    "* 替换 （substitution)\n",
    "* 任意精度的整数， 有理数和浮点数\n",
    "* ......\n",
    "\n",
    "另外， 还包括：\n",
    "\n",
    "* 多项式\n",
    "* 微积分\n",
    "* 方程求解\n",
    "* 离散数学\n",
    "* 矩阵 \n",
    "* 几何\n",
    "* 画图\n",
    "* 物理\n",
    "* 统计\n",
    "* 组合数学\n",
    "* 数学公式显示"
   ]
  },
  {
   "cell_type": "markdown",
   "metadata": {},
   "source": [
    "## 示例"
   ]
  },
  {
   "cell_type": "markdown",
   "metadata": {},
   "source": [
    "定义数学符号和函数： "
   ]
  },
  {
   "cell_type": "code",
   "execution_count": 12,
   "metadata": {
    "collapsed": false
   },
   "outputs": [
    {
     "data": {
      "image/png": "[encoded data removed]",
      "text/latex": [
       "$$x e^{x}$$"
      ],
      "text/plain": [
       "   x\n",
       "x⋅ℯ "
      ]
     },
     "metadata": {},
     "output_type": "display_data"
    }
   ],
   "source": [
    "x = Symbol('x')\n",
    "y = Symbol('y')\n",
    "f = Function('f')\n",
    "display(x*exp(x))"
   ]
  },
  {
   "cell_type": "code",
   "execution_count": 13,
   "metadata": {
    "collapsed": false
   },
   "outputs": [
    {
     "data": {
      "image/png": "[encoded data removed]",
      "text/latex": [
       "$$\\int f{\\left (x \\right )}\\, dx$$"
      ],
      "text/plain": [
       "⌠        \n",
       "⎮ f(x) dx\n",
       "⌡        "
      ]
     },
     "metadata": {},
     "output_type": "display_data"
    }
   ],
   "source": [
    "display(Integral(f(x), x), use_unicode=True)"
   ]
  },
  {
   "cell_type": "code",
   "execution_count": 14,
   "metadata": {
    "collapsed": false
   },
   "outputs": [
    {
     "data": {
      "image/png": "[encoded data removed]",
      "text/latex": [
       "$$\\sqrt[4]{e^{x}}$$"
      ],
      "text/plain": [
       "   ____\n",
       "4 ╱  x \n",
       "╲╱  ℯ  "
      ]
     },
     "metadata": {},
     "output_type": "display_data"
    }
   ],
   "source": [
    "display(sqrt(sqrt(exp(x))))"
   ]
  },
  {
   "cell_type": "code",
   "execution_count": 15,
   "metadata": {
    "collapsed": false
   },
   "outputs": [
    {
     "data": {
      "image/png": "[encoded data removed]",
      "text/latex": [
       "$$1 + \\frac{x^{2}}{2} + \\frac{5 x^{4}}{24} + \\frac{61 x^{6}}{720} + \\frac{277 x^{8}}{8064} + \\mathcal{O}\\left(x^{10}\\right)$$"
      ],
      "text/plain": [
       "     2      4       6        8         \n",
       "    x    5⋅x    61⋅x    277⋅x     ⎛ 10⎞\n",
       "1 + ── + ──── + ───── + ────── + O⎝x  ⎠\n",
       "    2     24     720     8064          "
      ]
     },
     "metadata": {},
     "output_type": "display_data"
    }
   ],
   "source": [
    "a = (1/cos(x)).series(x, 0, 10)\n",
    "display(a)"
   ]
  },
  {
   "cell_type": "markdown",
   "metadata": {},
   "source": [
    "### 展开"
   ]
  },
  {
   "cell_type": "code",
   "execution_count": 17,
   "metadata": {
    "collapsed": false
   },
   "outputs": [
    {
     "data": {
      "image/png": "[encoded data removed]",
      "text/latex": [
       "$$\\left(a + b\\right)^{5}$$"
      ],
      "text/plain": [
       "       5\n",
       "(a + b) "
      ]
     },
     "metadata": {},
     "output_type": "display_data"
    }
   ],
   "source": [
    "a = Symbol('a')\n",
    "b = Symbol('b')\n",
    "e = (a+b)**5\n",
    "display(e)"
   ]
  },
  {
   "cell_type": "code",
   "execution_count": 18,
   "metadata": {
    "collapsed": false
   },
   "outputs": [
    {
     "data": {
      "image/png": "[encoded data removed]",
      "text/latex": [
       "$$a^{5} + 5 a^{4} b + 10 a^{3} b^{2} + 10 a^{2} b^{3} + 5 a b^{4} + b^{5}$$"
      ],
      "text/plain": [
       " 5      4         3  2       2  3        4    5\n",
       "a  + 5⋅a ⋅b + 10⋅a ⋅b  + 10⋅a ⋅b  + 5⋅a⋅b  + b "
      ]
     },
     "metadata": {},
     "output_type": "display_data"
    }
   ],
   "source": [
    "display(e.expand())"
   ]
  },
  {
   "cell_type": "markdown",
   "metadata": {},
   "source": [
    "### 任意精度计算"
   ]
  },
  {
   "cell_type": "code",
   "execution_count": 20,
   "metadata": {
    "collapsed": false
   },
   "outputs": [
    {
     "data": {
      "image/png": "[encoded data removed]",
      "text/latex": [
       "$$\\frac{1}{88817841970012523233890533447265625}$$"
      ],
      "text/plain": [
       "1/88817841970012523233890533447265625"
      ]
     },
     "metadata": {},
     "output_type": "display_data"
    }
   ],
   "source": [
    "e = Rational(2)**50 / Rational(10)**50\n",
    "display(e)"
   ]
  },
  {
   "cell_type": "markdown",
   "metadata": {},
   "source": [
    "### 微分"
   ]
  },
  {
   "cell_type": "code",
   "execution_count": 21,
   "metadata": {
    "collapsed": false
   },
   "outputs": [
    {
     "data": {
      "image/png": "[encoded data removed]",
      "text/latex": [
       "$$\\frac{x^{2}}{y} + 2 x - \\log{\\left (y \\right )}$$"
      ],
      "text/plain": [
       " 2               \n",
       "x                \n",
       "── + 2⋅x - log(y)\n",
       "y                "
      ]
     },
     "metadata": {},
     "output_type": "display_data"
    }
   ],
   "source": [
    "x, y = symbols('x y')\n",
    "f = x**2/y + 2*x - ln(y)\n",
    "display(f)"
   ]
  },
  {
   "cell_type": "code",
   "execution_count": 22,
   "metadata": {
    "collapsed": false
   },
   "outputs": [
    {
     "data": {
      "image/png": "[encoded data removed]",
      "text/latex": [
       "$$\\frac{2 x}{y} + 2$$"
      ],
      "text/plain": [
       "2⋅x    \n",
       "─── + 2\n",
       " y     "
      ]
     },
     "execution_count": 22,
     "metadata": {},
     "output_type": "execute_result"
    }
   ],
   "source": [
    "diff(f, x)"
   ]
  },
  {
   "cell_type": "code",
   "execution_count": 23,
   "metadata": {
    "collapsed": false
   },
   "outputs": [
    {
     "data": {
      "image/png": "[encoded data removed]",
      "text/latex": [
       "$$- \\frac{x^{2}}{y^{2}} - \\frac{1}{y}$$"
      ],
      "text/plain": [
       "   2    \n",
       "  x    1\n",
       "- ── - ─\n",
       "   2   y\n",
       "  y     "
      ]
     },
     "execution_count": 23,
     "metadata": {},
     "output_type": "execute_result"
    }
   ],
   "source": [
    "diff(f, y)"
   ]
  },
  {
   "cell_type": "code",
   "execution_count": 24,
   "metadata": {
    "collapsed": false
   },
   "outputs": [
    {
     "data": {
      "image/png": "[encoded data removed]",
      "text/latex": [
       "$$- \\frac{2 x}{y^{2}}$$"
      ],
      "text/plain": [
       "-2⋅x \n",
       "─────\n",
       "   2 \n",
       "  y  "
      ]
     },
     "execution_count": 24,
     "metadata": {},
     "output_type": "execute_result"
    }
   ],
   "source": [
    "diff(diff(f, x), y)"
   ]
  },
  {
   "cell_type": "markdown",
   "metadata": {},
   "source": [
    "### 画图"
   ]
  },
  {
   "cell_type": "code",
   "execution_count": 53,
   "metadata": {
    "collapsed": false
   },
   "outputs": [
    {
     "data": {
      "text/plain": [
       "<sympy.plotting.plot.Plot at 0x7fc42ff339e8>"
      ]
     },
     "execution_count": 53,
     "metadata": {},
     "output_type": "execute_result"
    }
   ],
   "source": [
    "from sympy.plotting import plot3d\n",
    "x, y = symbols('x y')\n",
    "plot3d(cos(x*3)*cos(y*5)-y, (x, -1, 1), (y, -1, 1))"
   ]
  },
  {
   "cell_type": "markdown",
   "metadata": {},
   "source": [
    "### 极限"
   ]
  },
  {
   "cell_type": "code",
   "execution_count": 30,
   "metadata": {
    "collapsed": false
   },
   "outputs": [
    {
     "data": {
      "image/png": "[encoded data removed]",
      "text/latex": [
       "$$- x + \\sqrt{x^{2} - 5 x + 6}$$"
      ],
      "text/plain": [
       "        ______________\n",
       "       ╱  2           \n",
       "-x + ╲╱  x  - 5⋅x + 6 "
      ]
     },
     "metadata": {},
     "output_type": "display_data"
    }
   ],
   "source": [
    "x = Symbol('x')\n",
    "f = sqrt(x**2 - 5*x + 6) - x\n",
    "display(f)"
   ]
  },
  {
   "cell_type": "code",
   "execution_count": 28,
   "metadata": {
    "collapsed": false
   },
   "outputs": [
    {
     "data": {
      "image/png": "[encoded data removed]",
      "text/latex": [
       "$$- \\frac{5}{2}$$"
      ],
      "text/plain": [
       "-5/2"
      ]
     },
     "execution_count": 28,
     "metadata": {},
     "output_type": "execute_result"
    }
   ],
   "source": [
    "limit(f, x, oo)"
   ]
  },
  {
   "cell_type": "code",
   "execution_count": 31,
   "metadata": {
    "collapsed": false
   },
   "outputs": [
    {
     "data": {
      "image/png": "[encoded data removed]",
      "text/latex": [
       "$$x \\left(- x + \\sqrt{x^{2} + 1}\\right)$$"
      ],
      "text/plain": [
       "  ⎛        ________⎞\n",
       "  ⎜       ╱  2     ⎟\n",
       "x⋅⎝-x + ╲╱  x  + 1 ⎠"
      ]
     },
     "metadata": {},
     "output_type": "display_data"
    }
   ],
   "source": [
    "f = x*(sqrt(x**2 + 1) - x)\n",
    "display(f)"
   ]
  },
  {
   "cell_type": "code",
   "execution_count": 32,
   "metadata": {
    "collapsed": false
   },
   "outputs": [
    {
     "data": {
      "image/png": "[encoded data removed]",
      "text/latex": [
       "$$\\frac{1}{2}$$"
      ],
      "text/plain": [
       "1/2"
      ]
     },
     "execution_count": 32,
     "metadata": {},
     "output_type": "execute_result"
    }
   ],
   "source": [
    "limit(f, x, oo)"
   ]
  },
  {
   "cell_type": "code",
   "execution_count": 33,
   "metadata": {
    "collapsed": false
   },
   "outputs": [
    {
     "data": {
      "image/png": "[encoded data removed]",
      "text/latex": [
       "$$\\left(\\frac{x - 1}{x + 1}\\right)^{x}$$"
      ],
      "text/plain": [
       "       x\n",
       "⎛x - 1⎞ \n",
       "⎜─────⎟ \n",
       "⎝x + 1⎠ "
      ]
     },
     "metadata": {},
     "output_type": "display_data"
    }
   ],
   "source": [
    "f = ((x - 1)/(x + 1))**x\n",
    "display(f)"
   ]
  },
  {
   "cell_type": "code",
   "execution_count": 34,
   "metadata": {
    "collapsed": false
   },
   "outputs": [
    {
     "data": {
      "image/png": "[encoded data removed]",
      "text/latex": [
       "$$e^{-2}$$"
      ],
      "text/plain": [
       " -2\n",
       "ℯ  "
      ]
     },
     "execution_count": 34,
     "metadata": {},
     "output_type": "execute_result"
    }
   ],
   "source": [
    "limit(f, x, oo)"
   ]
  },
  {
   "cell_type": "markdown",
   "metadata": {},
   "source": [
    "### 积分"
   ]
  },
  {
   "cell_type": "code",
   "execution_count": 35,
   "metadata": {
    "collapsed": false
   },
   "outputs": [
    {
     "data": {
      "image/png": "[encoded data removed]",
      "text/latex": [
       "$$x^{2} + x + 1$$"
      ],
      "text/plain": [
       " 2        \n",
       "x  + x + 1"
      ]
     },
     "metadata": {},
     "output_type": "display_data"
    }
   ],
   "source": [
    "x = Symbol('x')\n",
    "f = x**2 + x + 1\n",
    "display(f)"
   ]
  },
  {
   "cell_type": "code",
   "execution_count": 36,
   "metadata": {
    "collapsed": false
   },
   "outputs": [
    {
     "data": {
      "image/png": "[encoded data removed]",
      "text/latex": [
       "$$\\frac{x^{3}}{3} + \\frac{x^{2}}{2} + x$$"
      ],
      "text/plain": [
       " 3    2    \n",
       "x    x     \n",
       "── + ── + x\n",
       "3    2     "
      ]
     },
     "execution_count": 36,
     "metadata": {},
     "output_type": "execute_result"
    }
   ],
   "source": [
    "integrate(f, x)"
   ]
  },
  {
   "cell_type": "code",
   "execution_count": 37,
   "metadata": {
    "collapsed": false
   },
   "outputs": [
    {
     "data": {
      "image/png": "[encoded data removed]",
      "text/latex": [
       "$$\\frac{x}{x^{2} + 2 x + 1}$$"
      ],
      "text/plain": [
       "     x      \n",
       "────────────\n",
       " 2          \n",
       "x  + 2⋅x + 1"
      ]
     },
     "metadata": {},
     "output_type": "display_data"
    }
   ],
   "source": [
    "f = x/(x**2 + 2*x + 1)\n",
    "display(f)"
   ]
  },
  {
   "cell_type": "code",
   "execution_count": 38,
   "metadata": {
    "collapsed": false
   },
   "outputs": [
    {
     "data": {
      "image/png": "[encoded data removed]",
      "text/latex": [
       "$$\\log{\\left (x + 1 \\right )} + \\frac{1}{x + 1}$$"
      ],
      "text/plain": [
       "               1  \n",
       "log(x + 1) + ─────\n",
       "             x + 1"
      ]
     },
     "execution_count": 38,
     "metadata": {},
     "output_type": "execute_result"
    }
   ],
   "source": [
    "integrate(f, x)"
   ]
  },
  {
   "cell_type": "code",
   "execution_count": 39,
   "metadata": {
    "collapsed": false
   },
   "outputs": [
    {
     "data": {
      "image/png": "[encoded data removed]",
      "text/latex": [
       "$$x^{2} e^{x} \\cos{\\left (x \\right )}$$"
      ],
      "text/plain": [
       " 2  x       \n",
       "x ⋅ℯ ⋅cos(x)"
      ]
     },
     "metadata": {},
     "output_type": "display_data"
    }
   ],
   "source": [
    "f = x**2 * exp(x) * cos(x)\n",
    "display(f)"
   ]
  },
  {
   "cell_type": "code",
   "execution_count": 40,
   "metadata": {
    "collapsed": false
   },
   "outputs": [
    {
     "data": {
      "image/png": "[encoded data removed]",
      "text/latex": [
       "$$\\frac{x^{2} e^{x}}{2} \\sin{\\left (x \\right )} + \\frac{x^{2} e^{x}}{2} \\cos{\\left (x \\right )} - x e^{x} \\sin{\\left (x \\right )} + \\frac{e^{x}}{2} \\sin{\\left (x \\right )} - \\frac{e^{x}}{2} \\cos{\\left (x \\right )}$$"
      ],
      "text/plain": [
       " 2  x           2  x                         x           x       \n",
       "x ⋅ℯ ⋅sin(x)   x ⋅ℯ ⋅cos(x)      x          ℯ ⋅sin(x)   ℯ ⋅cos(x)\n",
       "──────────── + ──────────── - x⋅ℯ ⋅sin(x) + ───────── - ─────────\n",
       "     2              2                           2           2    "
      ]
     },
     "execution_count": 40,
     "metadata": {},
     "output_type": "execute_result"
    }
   ],
   "source": [
    "integrate(f, x)"
   ]
  },
  {
   "cell_type": "markdown",
   "metadata": {},
   "source": [
    "### 级数"
   ]
  },
  {
   "cell_type": "code",
   "execution_count": 41,
   "metadata": {
    "collapsed": false
   },
   "outputs": [
    {
     "data": {
      "image/png": "[encoded data removed]",
      "text/latex": [
       "$$\\frac{1}{\\cos{\\left (x \\right )}}$$"
      ],
      "text/plain": [
       "  1   \n",
       "──────\n",
       "cos(x)"
      ]
     },
     "metadata": {},
     "output_type": "display_data"
    }
   ],
   "source": [
    "x = Symbol('x')\n",
    "e = 1/cos(x)\n",
    "display(e)"
   ]
  },
  {
   "cell_type": "code",
   "execution_count": 42,
   "metadata": {
    "collapsed": false
   },
   "outputs": [
    {
     "data": {
      "image/png": "[encoded data removed]",
      "text/latex": [
       "$$1 + \\frac{x^{2}}{2} + \\frac{5 x^{4}}{24} + \\frac{61 x^{6}}{720} + \\frac{277 x^{8}}{8064} + \\mathcal{O}\\left(x^{10}\\right)$$"
      ],
      "text/plain": [
       "     2      4       6        8         \n",
       "    x    5⋅x    61⋅x    277⋅x     ⎛ 10⎞\n",
       "1 + ── + ──── + ───── + ────── + O⎝x  ⎠\n",
       "    2     24     720     8064          "
      ]
     },
     "execution_count": 42,
     "metadata": {},
     "output_type": "execute_result"
    }
   ],
   "source": [
    "e.series(x, 0, 10)"
   ]
  },
  {
   "cell_type": "code",
   "execution_count": 43,
   "metadata": {
    "collapsed": false
   },
   "outputs": [
    {
     "data": {
      "image/png": "[encoded data removed]",
      "text/latex": [
       "$$\\frac{1}{\\sin{\\left (x \\right )}}$$"
      ],
      "text/plain": [
       "  1   \n",
       "──────\n",
       "sin(x)"
      ]
     },
     "metadata": {},
     "output_type": "display_data"
    }
   ],
   "source": [
    "e = 1/sin(x)\n",
    "display(e)"
   ]
  },
  {
   "cell_type": "code",
   "execution_count": 44,
   "metadata": {
    "collapsed": false
   },
   "outputs": [
    {
     "data": {
      "image/png": "[encoded data removed]",
      "text/latex": [
       "$$\\frac{1}{x} + \\frac{x}{6} + \\frac{7 x^{3}}{360} + \\mathcal{O}\\left(x^{4}\\right)$$"
      ],
      "text/plain": [
       "           3        \n",
       "1   x   7⋅x     ⎛ 4⎞\n",
       "─ + ─ + ──── + O⎝x ⎠\n",
       "x   6   360         "
      ]
     },
     "execution_count": 44,
     "metadata": {},
     "output_type": "execute_result"
    }
   ],
   "source": [
    "e.series(x, 0, 4)"
   ]
  },
  {
   "cell_type": "markdown",
   "metadata": {},
   "source": [
    "## 方程"
   ]
  },
  {
   "cell_type": "code",
   "execution_count": 47,
   "metadata": {
    "collapsed": false
   },
   "outputs": [
    {
     "data": {
      "image/png": "[encoded data removed]",
      "text/latex": [
       "$$\\frac{d}{d x} f{\\left (x \\right )} = f{\\left (x \\right )}$$"
      ],
      "text/plain": [
       "d              \n",
       "──(f(x)) = f(x)\n",
       "dx             "
      ]
     },
     "metadata": {},
     "output_type": "display_data"
    }
   ],
   "source": [
    "x = Symbol('x')\n",
    "f = Function('f')\n",
    "eq = Eq(f(x).diff(x), f(x))\n",
    "display(eq)"
   ]
  },
  {
   "cell_type": "code",
   "execution_count": 46,
   "metadata": {
    "collapsed": false
   },
   "outputs": [
    {
     "data": {
      "image/png": "[encoded data removed]",
      "text/latex": [
       "$$f{\\left (x \\right )} = C_{1} e^{x}$$"
      ],
      "text/plain": [
       "           x\n",
       "f(x) = C₁⋅ℯ "
      ]
     },
     "execution_count": 46,
     "metadata": {},
     "output_type": "execute_result"
    }
   ],
   "source": [
    "dsolve(eq, f(x))"
   ]
  },
  {
   "cell_type": "code",
   "execution_count": 48,
   "metadata": {
    "collapsed": false
   },
   "outputs": [
    {
     "data": {
      "image/png": "[encoded data removed]",
      "text/latex": [
       "$$x^{2} \\frac{d}{d x} f{\\left (x \\right )} = - 3 x f{\\left (x \\right )} + \\frac{1}{x} \\sin{\\left (x \\right )}$$"
      ],
      "text/plain": [
       " 2 d                      sin(x)\n",
       "x ⋅──(f(x)) = -3⋅x⋅f(x) + ──────\n",
       "   dx                       x   "
      ]
     },
     "metadata": {},
     "output_type": "display_data"
    }
   ],
   "source": [
    "eq = Eq(x**2*f(x).diff(x), -3*x*f(x) + sin(x)/x)\n",
    "display(eq)"
   ]
  },
  {
   "cell_type": "code",
   "execution_count": 54,
   "metadata": {
    "collapsed": false
   },
   "outputs": [
    {
     "data": {
      "image/png": "[encoded data removed]",
      "text/latex": [
       "$$f{\\left (x \\right )} = \\frac{1}{x^{3}} \\left(C_{1} - \\cos{\\left (x \\right )}\\right)$$"
      ],
      "text/plain": [
       "       C₁ - cos(x)\n",
       "f(x) = ───────────\n",
       "             3    \n",
       "            x     "
      ]
     },
     "execution_count": 54,
     "metadata": {},
     "output_type": "execute_result"
    }
   ],
   "source": [
    "dsolve(eq, f(x))"
   ]
  },
  {
   "cell_type": "markdown",
   "metadata": {},
   "source": [
    "### 练习： \n",
    "\n",
    "利用 SymPy 证明下面的公式：\n",
    "\n",
    "$$ \n",
    "e^{i x} = \\cos(x) + i\\sin(x)\n",
    "$$"
   ]
  },
  {
   "cell_type": "code",
   "execution_count": 12,
   "metadata": {
    "collapsed": false
   },
   "outputs": [
    {
     "name": "stdout",
     "output_type": "stream",
     "text": [
      "Help on function dsolve in module sympy.solvers.ode:\n",
      "\n",
      "dsolve(eq, func=None, hint='default', simplify=True, ics=None, xi=None, eta=None, x0=0, n=6, **kwargs)\n",
      "     Solves any (supported) kind of ordinary differential equation and\n",
      "     system of ordinary differential equations.\n",
      "    \n",
      "     For single ordinary differential equation\n",
      "     =========================================\n",
      "    \n",
      "     It is classified under this when number of equation in ``eq`` is one.\n",
      "     **Usage**\n",
      "    \n",
      "         ``dsolve(eq, f(x), hint)`` -> Solve ordinary differential equation\n",
      "         ``eq`` for function ``f(x)``, using method ``hint``.\n",
      "    \n",
      "     **Details**\n",
      "    \n",
      "         ``eq`` can be any supported ordinary differential equation (see the\n",
      "             :py:mod:`~sympy.solvers.ode` docstring for supported methods).\n",
      "             This can either be an :py:class:`~sympy.core.relational.Equality`,\n",
      "             or an expression, which is assumed to be equal to ``0``.\n",
      "    \n",
      "         ``f(x)`` is a function of one variable whose derivatives in that\n",
      "             variable make up the ordinary differential equation ``eq``.  In\n",
      "             many cases it is not necessary to provide this; it will be\n",
      "             autodetected (and an error raised if it couldn't be detected).\n",
      "    \n",
      "         ``hint`` is the solving method that you want dsolve to use.  Use\n",
      "             ``classify_ode(eq, f(x))`` to get all of the possible hints for an\n",
      "             ODE.  The default hint, ``default``, will use whatever hint is\n",
      "             returned first by :py:meth:`~sympy.solvers.ode.classify_ode`.  See\n",
      "             Hints below for more options that you can use for hint.\n",
      "    \n",
      "         ``simplify`` enables simplification by\n",
      "             :py:meth:`~sympy.solvers.ode.odesimp`.  See its docstring for more\n",
      "             information.  Turn this off, for example, to disable solving of\n",
      "             solutions for ``func`` or simplification of arbitrary constants.\n",
      "             It will still integrate with this hint. Note that the solution may\n",
      "             contain more arbitrary constants than the order of the ODE with\n",
      "             this option enabled.\n",
      "    \n",
      "         ``xi`` and ``eta`` are the infinitesimal functions of an ordinary\n",
      "             differential equation. They are the infinitesimals of the Lie group\n",
      "             of point transformations for which the differential equation is\n",
      "             invariant. The user can specify values for the infinitesimals. If\n",
      "             nothing is specified, ``xi`` and ``eta`` are calculated using\n",
      "             :py:meth:`~sympy.solvers.ode.infinitesimals` with the help of various\n",
      "             heuristics.\n",
      "    \n",
      "         ``ics`` is the set of boundary conditions for the differential equation.\n",
      "           It should be given in the form of ``{f(x0): x1, f(x).diff(x).subs(x, x2):\n",
      "           x3}`` and so on. For now initial conditions are implemented only for\n",
      "           power series solutions of first-order differential equations which should\n",
      "           be given in the form of ``{f(x0): x1}`` (See issue 4720). If nothing is\n",
      "           specified for this case ``f(0)`` is assumed to be ``C0`` and the power\n",
      "           series solution is calculated about 0.\n",
      "    \n",
      "         ``x0`` is the point about which the power series solution of a differential\n",
      "           equation is to be evaluated.\n",
      "    \n",
      "         ``n`` gives the exponent of the dependent variable up to which the power series\n",
      "           solution of a differential equation is to be evaluated.\n",
      "    \n",
      "     **Hints**\n",
      "    \n",
      "         Aside from the various solving methods, there are also some meta-hints\n",
      "         that you can pass to :py:meth:`~sympy.solvers.ode.dsolve`:\n",
      "    \n",
      "         ``default``:\n",
      "                 This uses whatever hint is returned first by\n",
      "                 :py:meth:`~sympy.solvers.ode.classify_ode`. This is the\n",
      "                 default argument to :py:meth:`~sympy.solvers.ode.dsolve`.\n",
      "    \n",
      "         ``all``:\n",
      "                 To make :py:meth:`~sympy.solvers.ode.dsolve` apply all\n",
      "                 relevant classification hints, use ``dsolve(ODE, func,\n",
      "                 hint=\"all\")``.  This will return a dictionary of\n",
      "                 ``hint:solution`` terms.  If a hint causes dsolve to raise the\n",
      "                 ``NotImplementedError``, value of that hint's key will be the\n",
      "                 exception object raised.  The dictionary will also include\n",
      "                 some special keys:\n",
      "    \n",
      "                 - ``order``: The order of the ODE.  See also\n",
      "                   :py:meth:`~sympy.solvers.deutils.ode_order` in\n",
      "                   ``deutils.py``.\n",
      "                 - ``best``: The simplest hint; what would be returned by\n",
      "                   ``best`` below.\n",
      "                 - ``best_hint``: The hint that would produce the solution\n",
      "                   given by ``best``.  If more than one hint produces the best\n",
      "                   solution, the first one in the tuple returned by\n",
      "                   :py:meth:`~sympy.solvers.ode.classify_ode` is chosen.\n",
      "                 - ``default``: The solution that would be returned by default.\n",
      "                   This is the one produced by the hint that appears first in\n",
      "                   the tuple returned by\n",
      "                   :py:meth:`~sympy.solvers.ode.classify_ode`.\n",
      "    \n",
      "         ``all_Integral``:\n",
      "                 This is the same as ``all``, except if a hint also has a\n",
      "                 corresponding ``_Integral`` hint, it only returns the\n",
      "                 ``_Integral`` hint.  This is useful if ``all`` causes\n",
      "                 :py:meth:`~sympy.solvers.ode.dsolve` to hang because of a\n",
      "                 difficult or impossible integral.  This meta-hint will also be\n",
      "                 much faster than ``all``, because\n",
      "                 :py:meth:`~sympy.core.expr.Expr.integrate` is an expensive\n",
      "                 routine.\n",
      "    \n",
      "         ``best``:\n",
      "                 To have :py:meth:`~sympy.solvers.ode.dsolve` try all methods\n",
      "                 and return the simplest one.  This takes into account whether\n",
      "                 the solution is solvable in the function, whether it contains\n",
      "                 any Integral classes (i.e.  unevaluatable integrals), and\n",
      "                 which one is the shortest in size.\n",
      "    \n",
      "         See also the :py:meth:`~sympy.solvers.ode.classify_ode` docstring for\n",
      "         more info on hints, and the :py:mod:`~sympy.solvers.ode` docstring for\n",
      "         a list of all supported hints.\n",
      "    \n",
      "     **Tips**\n",
      "    \n",
      "         - You can declare the derivative of an unknown function this way:\n",
      "    \n",
      "             >>> from sympy import Function, Derivative\n",
      "             >>> from sympy.abc import x # x is the independent variable\n",
      "             >>> f = Function(\"f\")(x) # f is a function of x\n",
      "             >>> # f_ will be the derivative of f with respect to x\n",
      "             >>> f_ = Derivative(f, x)\n",
      "    \n",
      "         - See ``test_ode.py`` for many tests, which serves also as a set of\n",
      "           examples for how to use :py:meth:`~sympy.solvers.ode.dsolve`.\n",
      "         - :py:meth:`~sympy.solvers.ode.dsolve` always returns an\n",
      "           :py:class:`~sympy.core.relational.Equality` class (except for the\n",
      "           case when the hint is ``all`` or ``all_Integral``).  If possible, it\n",
      "           solves the solution explicitly for the function being solved for.\n",
      "           Otherwise, it returns an implicit solution.\n",
      "         - Arbitrary constants are symbols named ``C1``, ``C2``, and so on.\n",
      "         - Because all solutions should be mathematically equivalent, some\n",
      "           hints may return the exact same result for an ODE. Often, though,\n",
      "           two different hints will return the same solution formatted\n",
      "           differently.  The two should be equivalent. Also note that sometimes\n",
      "           the values of the arbitrary constants in two different solutions may\n",
      "           not be the same, because one constant may have \"absorbed\" other\n",
      "           constants into it.\n",
      "         - Do ``help(ode.ode_<hintname>)`` to get help more information on a\n",
      "           specific hint, where ``<hintname>`` is the name of a hint without\n",
      "           ``_Integral``.\n",
      "    \n",
      "     For system of ordinary differential equations\n",
      "     =============================================\n",
      "    \n",
      "    **Usage**\n",
      "         ``dsolve(eq, func)`` -> Solve a system of ordinary differential\n",
      "         equations ``eq`` for ``func`` being list of functions including\n",
      "         `x(t)`, `y(t)`, `z(t)` where number of functions in the list depends\n",
      "         upon the number of equations provided in ``eq``.\n",
      "    \n",
      "     **Details**\n",
      "    \n",
      "         ``eq`` can be any supported system of ordinary differential equations\n",
      "         This can either be an :py:class:`~sympy.core.relational.Equality`,\n",
      "         or an expression, which is assumed to be equal to ``0``.\n",
      "    \n",
      "         ``func`` holds ``x(t)`` and ``y(t)`` being functions of one variable which\n",
      "         together with some of their derivatives make up the system of ordinary\n",
      "         differential equation ``eq``. It is not necessary to provide this; it\n",
      "         will be autodetected (and an error raised if it couldn't be detected).\n",
      "    \n",
      "     **Hints**\n",
      "    \n",
      "         The hints are formed by parameters returned by classify_sysode, combining\n",
      "         them give hints name used later for forming method name.\n",
      "    \n",
      "     Examples\n",
      "     ========\n",
      "    \n",
      "     >>> from sympy import Function, dsolve, Eq, Derivative, sin, cos, symbols\n",
      "     >>> from sympy.abc import x\n",
      "     >>> f = Function('f')\n",
      "     >>> dsolve(Derivative(f(x), x, x) + 9*f(x), f(x))\n",
      "     Eq(f(x), C1*sin(3*x) + C2*cos(3*x))\n",
      "    \n",
      "     >>> eq = sin(x)*cos(f(x)) + cos(x)*sin(f(x))*f(x).diff(x)\n",
      "     >>> dsolve(eq, hint='1st_exact')\n",
      "     [Eq(f(x), -acos(C1/cos(x)) + 2*pi), Eq(f(x), acos(C1/cos(x)))]\n",
      "     >>> dsolve(eq, hint='almost_linear')\n",
      "     [Eq(f(x), -acos(C1/sqrt(-cos(x)**2)) + 2*pi), Eq(f(x), acos(C1/sqrt(-cos(x)**2)))]\n",
      "     >>> t = symbols('t')\n",
      "     >>> x, y = symbols('x, y', function=True)\n",
      "     >>> eq = (Eq(Derivative(x(t),t), 12*t*x(t) + 8*y(t)), Eq(Derivative(y(t),t), 21*x(t) + 7*t*y(t)))\n",
      "     >>> dsolve(eq)\n",
      "     [Eq(x(t), C1*x0 + C2*x0*Integral(8*exp(Integral(7*t, t))*exp(Integral(12*t, t))/x0**2, t)),\n",
      "     Eq(y(t), C1*y0 + C2(y0*Integral(8*exp(Integral(7*t, t))*exp(Integral(12*t, t))/x0**2, t) +\n",
      "     exp(Integral(7*t, t))*exp(Integral(12*t, t))/x0))]\n",
      "     >>> eq = (Eq(Derivative(x(t),t),x(t)*y(t)*sin(t)), Eq(Derivative(y(t),t),y(t)**2*sin(t)))\n",
      "     >>> dsolve(eq)\n",
      "     set([Eq(x(t), -exp(C1)/(C2*exp(C1) - cos(t))), Eq(y(t), -1/(C1 - cos(t)))])\n",
      "\n"
     ]
    }
   ],
   "source": [
    "x = Symbol('x')\n",
    "y = Function('y')(x)\n",
    "eqn = Eq(diff(y, x), sin(y/x))\n",
    "help(dsolve)"
   ]
  },
  {
   "cell_type": "code",
   "execution_count": null,
   "metadata": {
    "collapsed": true
   },
   "outputs": [],
   "source": []
  }
 ],
 "metadata": {
  "kernelspec": {
   "display_name": "Python 3",
   "language": "python",
   "name": "python3"
  },
  "language_info": {
   "codemirror_mode": {
    "name": "ipython",
    "version": 3
   },
   "file_extension": ".py",
   "mimetype": "text/x-python",
   "name": "python",
   "nbconvert_exporter": "python",
   "pygments_lexer": "ipython3",
   "version": "3.5.2"
  },
  "latex_envs": {
   "bibliofile": "biblio.bib",
   "cite_by": "apalike",
   "current_citInitial": 1,
   "eqLabelWithNumbers": true,
   "eqNumInitial": 0
  }
 },
 "nbformat": 4,
 "nbformat_minor": 0
}
