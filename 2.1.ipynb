{
 "cells": [
  {
   "cell_type": "code",
   "execution_count": 1,
   "metadata": {
    "collapsed": true
   },
   "outputs": [],
   "source": [
    "from sympy import * # 导入 sympy 中的所有功能\n",
    "init_printing(use_latex=True) \n",
    "from IPython.display import display # 显示公式\n",
    "import matplotlib.pyplot as plt\n",
    "%matplotlib inline"
   ]
  },
  {
   "cell_type": "markdown",
   "metadata": {},
   "source": [
    "# 简介"
   ]
  },
  {
   "cell_type": "markdown",
   "metadata": {},
   "source": [
    "方程类型:\n",
    "$$y^\\prime = f(x,y), \\quad F(x, y, y^\\prime)=0$$"
   ]
  },
  {
   "cell_type": "markdown",
   "metadata": {},
   "source": [
    "**初等积分法:** 通过积分求解常微分方程的一种方法, 其特点是微分方程的解可以用初等函数及初等函数的积分形式来表示."
   ]
  },
  {
   "cell_type": "markdown",
   "metadata": {},
   "source": [
    "## 2.1 变量分离方程与变量变换"
   ]
  },
  {
   "cell_type": "markdown",
   "metadata": {},
   "source": [
    "### 1. 变量分离方程"
   ]
  },
  {
   "cell_type": "markdown",
   "metadata": {},
   "source": [
    "$$ \n",
    "\\frac{dy}{dx}=f(x)\\varphi(y) \n",
    "$$\n",
    "\n",
    "其中 $f(x)$, $g(y)$ 分别是 $x$ 和 $y$ 的已知连续函数."
   ]
  },
  {
   "cell_type": "markdown",
   "metadata": {},
   "source": [
    "**例** \n",
    "$$\\frac{dy}{dx}=-\\frac{x}{y}, \\quad R^\\prime = kR $$"
   ]
  },
  {
   "cell_type": "markdown",
   "metadata": {},
   "source": [
    "**解法步骤** 设 $\\varphi(y)\\not=0$\n",
    "1. 分离变量 $$\\frac{dy}{\\varphi(y)}=f(x)dx$$\n",
    "1. 两边积分 $$\\int\\frac{dy}{\\varphi(y)}=\\int f(x)dx$$\n",
    "1. 设 $G(y)=\\int\\frac{dy}{\\varphi(y)}$, $F(x)=\\int f(x)dx$, 可得方程通解 $$G(y)=F(x)+C$$"
   ]
  },
  {
   "cell_type": "markdown",
   "metadata": {},
   "source": [
    "**易验证上述解为通解**."
   ]
  },
  {
   "cell_type": "markdown",
   "metadata": {},
   "source": [
    "如果存在 $y_i$, 使得 $\\varphi(y_i)=0, i = 1, 2, \\cdots,k$, 则 $y=y_i$ 是方程的常数解."
   ]
  },
  {
   "cell_type": "markdown",
   "metadata": {},
   "source": [
    "最终方程的解为\n",
    "$$\n",
    "\\begin{cases}\n",
    "G(y)=F(x)+C\\\\\n",
    "y=y_i, i = 1, 2, \\cdots, k\n",
    "\\end{cases}\n",
    "$$"
   ]
  },
  {
   "cell_type": "markdown",
   "metadata": {},
   "source": [
    "**例 1** 求解方程 $\\frac{dy}{dx}=-\\frac{x}{y}$"
   ]
  },
  {
   "cell_type": "markdown",
   "metadata": {},
   "source": [
    "**例 2** 求解方程 $\\frac{dy}{dx}=y^2\\cos x$"
   ]
  },
  {
   "cell_type": "markdown",
   "metadata": {},
   "source": [
    "### 2. 可化成变量分离方程的类型"
   ]
  },
  {
   "cell_type": "markdown",
   "metadata": {},
   "source": [
    "**(1) 齐次方程** "
   ]
  },
  {
   "cell_type": "markdown",
   "metadata": {},
   "source": [
    "形如 \n",
    "$$\n",
    "\\frac{\\mathrm d y}{\\mathrm d x} = g(\\frac{y}{x})\n",
    "$$\n",
    "的方程, 称为**齐次微分方程**, $g(u)$ 是 $u$ 的连续函数."
   ]
  },
  {
   "cell_type": "markdown",
   "metadata": {},
   "source": [
    "若函数 $f(x, y)$ 满足下式\n",
    "$$\n",
    "f(kx,ky) = k^nf(x,y)\n",
    "$$\n",
    "其中 $n$ 是整数, 则称 $f(x,y)$ 为 **$n$ 次齐次函数**."
   ]
  },
  {
   "cell_type": "markdown",
   "metadata": {},
   "source": [
    "**解法**\n",
    "1. 作变量变换 $\\frac{y}{x} = u$ 即 $$y=ux$$.\n",
    "1. 两边关于 $x$ 求导 $$\\frac{\\mathrm d y}{\\mathrm d x}=x\\frac{\\mathrm d u}{\\mathrm d x}+u$$\n",
    "1. 将上式代入原方程, 得 $$x\\frac{\\mathrm d u}{\\mathrm d x}+u = g(u)$$ $$\\frac{\\mathrm d u}{\\mathrm d x} = \\frac{g(u)-u}{x}$$\n",
    "1. 求解得通解: $u=\\varphi(x,c)$ 或 $\\Phi(u, x, c) = 0$ \n",
    "1. 原方程通解为 $ y=x\\varphi(x,c)$ 或 $ \\Phi(\\frac{y}{x}, x, c)=0$"
   ]
  },
  {
   "cell_type": "markdown",
   "metadata": {},
   "source": [
    "**练习：**"
   ]
  },
  {
   "cell_type": "markdown",
   "metadata": {},
   "source": [
    "（1） $$\\frac{\\mathrm d y}{\\mathrm d x}=\\frac{y}{x}+\\tan \\frac{y}{x}$$"
   ]
  },
  {
   "cell_type": "markdown",
   "metadata": {},
   "source": [
    "（2） $$x\\frac{\\mathrm d y}{\\mathrm d x}+2\\sqrt{xy}=y, (x < 0)$$"
   ]
  },
  {
   "cell_type": "markdown",
   "metadata": {},
   "source": [
    "（3） $$\n",
    "\\begin{cases}\n",
    "(y+\\sqrt{x^2 + y^2})\\mathrm d x = x \\mathrm d y\\\\\n",
    "y(1) = 0\n",
    "\\end{cases}\n",
    "$$"
   ]
  },
  {
   "cell_type": "markdown",
   "metadata": {},
   "source": [
    "**(2) 可化为齐次方程的方程类型**"
   ]
  },
  {
   "cell_type": "markdown",
   "metadata": {},
   "source": [
    "形如\n",
    "$$\n",
    "\\frac{\\mathrm d y}{\\mathrm d x} = \\frac{a_1x + b_1y+c_1}{a_2x+b_2y+c_2}\n",
    "$$\n",
    "方程, 其中 $a_1, a_2, b_1, b_2, c_1, c_2$ 均为常数."
   ]
  },
  {
   "cell_type": "markdown",
   "metadata": {},
   "source": [
    "* $\\frac{a_1}{a_2}=\\frac{b_1}{b_2}=\\frac{c_1}{c_2}=k$\n",
    "\n",
    "$$ \\frac{\\mathrm d y}{\\mathrm d x} = k$$"
   ]
  },
  {
   "cell_type": "markdown",
   "metadata": {},
   "source": [
    "*  $\\frac{a_1}{a_2}=\\frac{b_1}{b_2}=k\\not=\\frac{c_1}{c_2}$"
   ]
  },
  {
   "cell_type": "markdown",
   "metadata": {},
   "source": [
    "令 $ u = a_2x + b_2 y$ , 则\n",
    "\n",
    "$$\n",
    "\\frac{\\mathrm d u}{\\mathrm d x} = a_2 + b_2 \\frac{\\mathrm d y}{\\mathrm d x} = a_2 + b_2 \\frac{ku + c_1}{u + c_2}\n",
    "$$"
   ]
  },
  {
   "cell_type": "markdown",
   "metadata": {},
   "source": [
    "* $\\frac{a_1}{a_2}\\not=\\frac{b_1}{b_2}$"
   ]
  },
  {
   "cell_type": "markdown",
   "metadata": {},
   "source": [
    "线性方程组\n",
    "\n",
    "$$\n",
    "\\begin{cases}\n",
    "a_1x + b_1y+c_1 = 0\\\\\n",
    "a_2x+b_2y+c_2 = 0\n",
    "\\end{cases}\n",
    "$$\n",
    "\n",
    "存在解 $(\\alpha, \\beta)$. "
   ]
  },
  {
   "cell_type": "markdown",
   "metadata": {},
   "source": [
    "令 \n",
    "$$\n",
    "\\begin{cases}\n",
    "X = x - \\alpha\\\\\n",
    "Y = y - \\beta\n",
    "\\end{cases}\n",
    "$$"
   ]
  },
  {
   "cell_type": "markdown",
   "metadata": {},
   "source": [
    "则原方程化为\n",
    "\n",
    "$$\n",
    "\\frac{\\mathrm d Y}{\\mathrm d X} = \\frac{a_1X + b_1Y}{a_2X+b_2Y}\n",
    "$$"
   ]
  },
  {
   "cell_type": "markdown",
   "metadata": {},
   "source": [
    "**注**:  同样的方法和步骤可解如下更一般的方程类型\n",
    "$$\\frac{\\mathrm d y}{\\mathrm d x} = f(\\frac{a_1x + b_1y+c_1}{a_2x+b_2y+c_2})$$"
   ]
  },
  {
   "cell_type": "markdown",
   "metadata": {},
   "source": [
    "**练习：**"
   ]
  },
  {
   "cell_type": "markdown",
   "metadata": {},
   "source": [
    "（1） 求方程 $$ \\frac{\\mathrm d y}{\\mathrm d x} = \\frac{x+y-1}{x-y+3}$$ 的通解。"
   ]
  },
  {
   "cell_type": "markdown",
   "metadata": {},
   "source": [
    "**注：** 上述的方法可以用到更多类型的方程上去， 如："
   ]
  },
  {
   "cell_type": "markdown",
   "metadata": {},
   "source": [
    "（1） $$ \\frac{\\mathrm d y}{\\mathrm d x} = f(ax + by + c)\\rightarrow u = ax+by+c$$"
   ]
  },
  {
   "cell_type": "markdown",
   "metadata": {},
   "source": [
    "（2） $$ yf(xy)\\mathrm d x + x g(xy)\\mathrm d y = 0\\rightarrow u = xy$$"
   ]
  },
  {
   "cell_type": "markdown",
   "metadata": {},
   "source": [
    "（3） $$ x^2 \\frac{\\mathrm d y}{\\mathrm d x} = f(xy)\\rightarrow u = xy $$"
   ]
  },
  {
   "cell_type": "markdown",
   "metadata": {
    "collapsed": true
   },
   "source": [
    "（4） $$ \\frac{\\mathrm d y}{\\mathrm d x} = x f(\\frac{y}{x^2})\\rightarrow u = \\frac{y}{x^2} $$"
   ]
  },
  {
   "cell_type": "markdown",
   "metadata": {},
   "source": [
    "# 应用"
   ]
  },
  {
   "cell_type": "markdown",
   "metadata": {},
   "source": [
    "## 应用1： 雪球的融化 "
   ]
  },
  {
   "cell_type": "markdown",
   "metadata": {},
   "source": [
    "设雪球在融化时体积的变化率与表面积成比例，且在融化过程中它始终为球体，该雪球在开始时的半径为6cm，经过2小时后，其半径缩小为3cm，求雪球的体积随时间变化的关系。"
   ]
  },
  {
   "cell_type": "markdown",
   "metadata": {},
   "source": [
    "**解：** 假"
   ]
  }
 ],
 "metadata": {
  "kernelspec": {
   "display_name": "Python 3",
   "language": "python",
   "name": "python3"
  },
  "language_info": {
   "codemirror_mode": {
    "name": "ipython",
    "version": 3
   },
   "file_extension": ".py",
   "mimetype": "text/x-python",
   "name": "python",
   "nbconvert_exporter": "python",
   "pygments_lexer": "ipython3",
   "version": "3.5.2"
  },
  "latex_envs": {
   "LaTeX_envs_menu_present": true,
   "bibliofile": "biblio.bib",
   "cite_by": "apalike",
   "current_citInitial": 1,
   "eqLabelWithNumbers": true,
   "eqNumInitial": 0
  }
 },
 "nbformat": 4,
 "nbformat_minor": 0
}
