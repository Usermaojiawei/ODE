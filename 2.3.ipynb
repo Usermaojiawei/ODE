{
 "cells": [
  {
   "cell_type": "markdown",
   "metadata": {},
   "source": [
    "# 2.3 Exact ODE and Integrating Factor"
   ]
  },
  {
   "cell_type": "markdown",
   "metadata": {},
   "source": [
    "# 一.恰当方程\\Exact ODE\\\n"
   ]
  },
  {
   "cell_type": "markdown",
   "metadata": {},
   "source": [
    "$\\frac{\\mathrm d y}{\\mathrm d x}=f(x,y)~~~~~~f(x,y)dx=dy~~~~~~ f(x,y)dx-dy=0$\n",
    "\n"
   ]
  },
  {
   "cell_type": "markdown",
   "metadata": {},
   "source": [
    "$M(x,y)dx+N(x,y)dy=0~~~~~~~~~ (2.3.1)$"
   ]
  },
  {
   "cell_type": "markdown",
   "metadata": {},
   "source": [
    "**特点**:$\\ x$,$\\ y$处于同等地位，若视$\\ x$为自变量，则$\\ y$就是$\\ x$的函数;若视$\\ y$为自变量，则$\\ x$就是$\\ y$的函数;"
   ]
  },
  {
   "cell_type": "markdown",
   "metadata": {},
   "source": [
    "方程（2.3.1）称为<font color=\"red\">**对称形式的方程**<font> 。"
   ]
  },
  {
   "cell_type": "markdown",
   "metadata": {},
   "source": [
    "如果存在某一二元函数$\\ u(x,y)$ 使得**$$\\ du(x,y)=M(X,Y)dx+N(x,y)dy......(2.3.2)$$**则方程（2.3.1）称为<font color =\"red\">**恰当方程（或全微风方程)**<font>。"
   ]
  },
  {
   "cell_type": "markdown",
   "metadata": {},
   "source": [
    "称$\\ u(x,y)$为$\\ M(x,y)dx+N(x,y)dy$的一个<font color =\"red\">**原函数**<font>。"
   ]
  },
  {
   "cell_type": "markdown",
   "metadata": {},
   "source": [
    " 如果**$\\ M(x.y)dx+N(x,y)dy=0$**为恰当方程$$\\ M(x.y)dx+N(x,y)dy=\\frac{\\partial{u}}{\\partial{x}}dx+\\frac{\\partial{u}}{\\partial{y}}=du$$方程可改为$~~~~du(x,y)=0$"
   ]
  },
  {
   "cell_type": "markdown",
   "metadata": {},
   "source": [
    "则方程的同解为**$~~~~du(x,y)=0$**其中$C$是任意常数。"
   ]
  },
  {
   "cell_type": "markdown",
   "metadata": {},
   "source": [
    "如$~~~~~~$**$\\frac {\\mathrm d x}{\\mathrm d y}=-\\frac {x}{y}~~~~~~~$**$\\ xdx+ydy=0~~~~~~~~$"
   ]
  },
  {
   "cell_type": "markdown",
   "metadata": {
    "collapsed": true
   },
   "source": [
    "$~~~~~~~~~\\ xdx+ydy=d\\frac {1}{2}(x^2+y^2)$$~~~~~~~~~u(x,y)=\\frac {1}{2}(x^2+y^2)$"
   ]
  },
  {
   "cell_type": "markdown",
   "metadata": {},
   "source": [
    "方程的通解为**$~~~~~~\\ x^2+y^2=C$**"
   ]
  },
  {
   "cell_type": "markdown",
   "metadata": {},
   "source": [
    "**例**$~~~~~~\\ (x^3+y)dx+(x-y)dy=0$"
   ]
  },
  {
   "cell_type": "markdown",
   "metadata": {},
   "source": [
    "**解**$~~~~~$方程各项经过重新组合后，可以看出它是恰当方程。"
   ]
  },
  {
   "cell_type": "markdown",
   "metadata": {},
   "source": [
    "$$\\ x^3dx-ydy+(ydy+xdy)=0$$"
   ]
  },
  {
   "cell_type": "markdown",
   "metadata": {},
   "source": [
    "$$d(\\frac {x^4}{4})-d(\\frac {y^2}{2}+d(xy)=0$$\n"
   ]
  },
  {
   "cell_type": "markdown",
   "metadata": {},
   "source": [
    "$$d(\\frac {x^4}{4}-\\frac {y^2}{2}+xy)=o$$"
   ]
  },
  {
   "cell_type": "markdown",
   "metadata": {},
   "source": [
    "通解为**$~~~\\frac {x^4}{4}-\\frac {y^2}{2}+xy=C$** <font color=\"red\">**求解恰当方程的关键就是求解原函数的问题**<font>"
   ]
  },
  {
   "cell_type": "markdown",
   "metadata": {},
   "source": [
    "$M(x,y)dx+N(x,y)dy=0~~~~~~~~~~~~~~~~(2.3.1)$"
   ]
  },
  {
   "cell_type": "markdown",
   "metadata": {},
   "source": [
    "$du(x,y)=M(x,y)dx+N(x,y)dy~~~~~~~(2.3.2)$"
   ]
  },
  {
   "cell_type": "markdown",
   "metadata": {},
   "source": [
    "## 问题"
   ]
  },
  {
   "cell_type": "markdown",
   "metadata": {},
   "source": [
    "* 如何判断方程（2.3.1）是否为恰当方程？\n",
    "* 如果方程（2.3.1）是恰当方程，如何求满足条件（2.3.2）的函数$~~~u(x,y)$，即方程（2.3.1）左端微分式的原函数？"
   ]
  },
  {
   "cell_type": "markdown",
   "metadata": {},
   "source": [
    "## <font color=\"red\">**定理**<left>  "
   ]
  },
  {
   "cell_type": "markdown",
   "metadata": {},
   "source": [
    "假设函数$~~~~M(x,y)$和$~~~~N(x,y)$在某区域内连续可微，则方程（2.3.1）是恰当方程的充分必要条件是：$$\\frac {\\partial {M^3}}{\\partial y} \\equiv \\frac {\\partial N}{\\partial x}$$此时，方程（2.3.1）的通解为$$\\int\\limits_{x_0}^x M(x,y)\\mathrm dx+\\int\\limits_{y_0}^y N(x_0,y)\\mathrm dy=C~(2.3.3）$$或$$\\int\\limits_{x_o}^x M(x,y_0)\\mathrm dx+\\int\\limits_{y_0}^y N(x,y)\\mathrm dy=C~（2.3.4）$$其中C是任意常数。"
   ]
  },
  {
   "cell_type": "markdown",
   "metadata": {},
   "source": [
    "**证明**     **必要条件**$~~~~~~~M(x,y)dx+N(x,y)dy=0$"
   ]
  },
  {
   "cell_type": "markdown",
   "metadata": {
    "collapsed": true
   },
   "source": [
    "即证（2.3.1）为恰当方程，有$~~~~\\frac{\\partial M}{\\partial N}\\equiv \\frac{\\partial N}{\\partial x}$成立。"
   ]
  },
  {
   "cell_type": "markdown",
   "metadata": {},
   "source": [
    "若（2.3.1）是恰当方程，则存在某一二元函数$~~u(x,y)$.使$~~du(x,y)=M(x,y)dx+N(x,y)dy$"
   ]
  },
  {
   "cell_type": "markdown",
   "metadata": {},
   "source": [
    "$\\frac{\\partial u}{\\partial x}=M(x,y)$, $~~\\frac{\\partial u}{\\partial y}=N(x,y)$,$~~\\frac{\\partial^2 u}{\\partial x\\partial y}=\\frac{\\partial M}{partial y}$,$~~\\frac{\\partial^2 u}{\\partial y\\partial x}=\\frac{\\partial N}{\\partial x}$"
   ]
  },
  {
   "cell_type": "markdown",
   "metadata": {},
   "source": [
    "由条件知$~~~~\\frac{\\partial^2 u}{\\partial x\\partial y}\\equiv\\frac{\\partial^2 u}{\\partial y\\partial x}$    故$~~~\\frac{\\partial M}{\\partial y}\\equiv\\frac{\\partial N}{\\partial x}$"
   ]
  },
  {
   "cell_type": "markdown",
   "metadata": {},
   "source": [
    "**充分条件**"
   ]
  },
  {
   "cell_type": "markdown",
   "metadata": {},
   "source": [
    "即证若$~~~~\\frac{\\partial M}{\\partial y}\\equiv\\frac{\\partial N}{\\partial x}$时，（2.3.1）是恰当方程，即要找到一个二元函数$~~~u(k,y)$,使$~~~~u(k,y)$使$$du(x,y)=M(x,y)dx+N(x,y)dy$$"
   ]
  },
  {
   "cell_type": "markdown",
   "metadata": {},
   "source": [
    "$u(x,y)~~$满足以下方程组\n",
    "$\n",
    "\\begin{cases}\n",
    "\\frac{\\partial u(x,y)}{\\partial x}) \\\\\n",
    "\\frac{\\partial u(x,y)}{\\partial y}=N(x,y) \n",
    "\\end{cases}\n",
    "$\n"
   ]
  },
  {
   "cell_type": "markdown",
   "metadata": {},
   "source": [
    "以下推证满足上方程组的$~~u(x,y)$一定存在。"
   ]
  },
  {
   "cell_type": "markdown",
   "metadata": {},
   "source": [
    "从$~x_0~$到$~x~$对方程组\n",
    "$\n",
    "\\begin{cases}\n",
    "\\frac{\\partial u(x,y)}{\\partial x}) \\\\\n",
    "\\frac{\\partial u(x,y)}{\\partial y}=N(x,y) \n",
    "\\end{cases}\n",
    "$\n",
    "的第一式进行积分"
   ]
  },
  {
   "cell_type": "markdown",
   "metadata": {
    "collapsed": true
   },
   "source": [
    "$$u(x,y)-u(x_o,y)=\\int \\limits_{x_0}^x M(x,y)\\mathrm dx$$\n"
   ]
  },
  {
   "cell_type": "markdown",
   "metadata": {},
   "source": [
    "$$u(x,y)=\\int\\limits {x_0}^x M(x,y)\\mathrm dx+\\varphi(y)$$"
   ]
  },
  {
   "cell_type": "markdown",
   "metadata": {},
   "source": [
    "$$\\frac {\\partial u}{\\partial y}=\\frac{\\partial}{\\partial y}(\\int\\limits_{x_0}^x M(x,y)\\mathrm dx+\\varphi')$$"
   ]
  },
  {
   "cell_type": "markdown",
   "metadata": {},
   "source": [
    "$$=\\int\\limits_{x_0}^x\\frac{\\partial N}{\\partial x}\\mathrm dx=\\varphi'(y)~~~~~~~~~~~~~~   \\varphi'(y)=N({x_0},y)$$"
   ]
  },
  {
   "cell_type": "markdown",
   "metadata": {},
   "source": [
    "$$=N(x,y)-N({X_0},y)+\\varphi'(y)~~~~~~~~~~\\varphi(y)=\\int\\limits_{y_0}^y N({x_0},y)\\mathrm dy$$"
   ]
  },
  {
   "cell_type": "markdown",
   "metadata": {},
   "source": [
    "即$~~~~~~~N(x,y)=N(x,y)-N({x_0},y)+\\varphi'(y)$"
   ]
  },
  {
   "cell_type": "markdown",
   "metadata": {},
   "source": [
    "$~~~~u(x,y)=\\int\\limits_{x_0}^x M(x,y)\\mathrm dx+\\int\\limits_{y_0}^y N(x,y)\\mathrm dy$"
   ]
  },
  {
   "cell_type": "markdown",
   "metadata": {},
   "source": [
    "这就是所求方程（2.3.1）左端微分式的一个原函数。"
   ]
  },
  {
   "cell_type": "markdown",
   "metadata": {},
   "source": [
    "   故（2.3.1）的通解为：$$\\int\\limits_{x_0}^x M(x,y)\\mathrm dx+\\int\\limits_{y_0}^y N({x_0},y)\\mathrm dy=C$$\n",
    "       "
   ]
  },
  {
   "cell_type": "markdown",
   "metadata": {},
   "source": [
    "如从方程组的第二式出发，推证，还可得：$$u(x,y)=\\int\\limits_{x_0}^x M(x,y)\\mathrm dx+\\int\\limits_{y_0}^y N(x,y)\\mathrm dy=C~~~~~~~~~~~~~~~~~~~~证毕$$"
   ]
  },
  {
   "cell_type": "markdown",
   "metadata": {},
   "source": [
    "<font color=\"red\">**注意**<font>:\n"
   ]
  },
  {
   "cell_type": "markdown",
   "metadata": {},
   "source": [
    "求解时，$~x_0$,$~~y_0$的选择要尽可能简单，且使$~~M$,$~~N$有意义。"
   ]
  },
  {
   "cell_type": "markdown",
   "metadata": {},
   "source": [
    "**例1**$~~~~(3x^2+6xy)dx+(6x^2y+4y^3)dy=0$"
   ]
  },
  {
   "cell_type": "markdown",
   "metadata": {},
   "source": [
    "**解**$~~~M(x,y)=3x^2+6xy^2$,$~~N(x,y)=6x^2y+4y^3$"
   ]
  },
  {
   "cell_type": "markdown",
   "metadata": {},
   "source": [
    "有$~~~~~~~\\frac{\\partial M}{\\partial y}=12xy$    $~~~~~~~\\frac{\\partial N}{\\partial x}=12xy$"
   ]
  },
  {
   "cell_type": "markdown",
   "metadata": {},
   "source": [
    "故此方程为恰当方程，由（2.3.3）式，得出通解为$$\\int\\limits_0^x (3x^2+6xy^2)\\mathrm dx+\\int\\limits_0^y (6x^2y+4y^3)\\mathrm dy=C~~~(取x_0=0,y_0=0)$$"
   ]
  },
  {
   "cell_type": "markdown",
   "metadata": {},
   "source": [
    "即$~~~~~x^3+3x^2y^2+y^4=C$"
   ]
  },
  {
   "cell_type": "markdown",
   "metadata": {},
   "source": [
    "**另解**        原方程可写为："
   ]
  },
  {
   "cell_type": "markdown",
   "metadata": {},
   "source": [
    "$$3x^2\\mathrm dx+4y^3\\mathrm dy+(6xy^2\\mathrm dx+6x^2y\\mathrm dy)=0$$"
   ]
  },
  {
   "cell_type": "markdown",
   "metadata": {},
   "source": [
    "$$3x^2\\mathrm dx+4y^3\\mathrm dy+3(y^2\\mathrm dx^2+x^2\\mathrm dy^2)=0$$"
   ]
  },
  {
   "cell_type": "markdown",
   "metadata": {},
   "source": [
    "$$\\mathrm d(x^3)+\\mathrm d(y^4)+\\mathrm d(3x^2y^2)=0$$"
   ]
  },
  {
   "cell_type": "markdown",
   "metadata": {},
   "source": [
    "$$\\mathrm d(x^3+y^4+3x^2y^2)=0$$"
   ]
  },
  {
   "cell_type": "markdown",
   "metadata": {},
   "source": [
    "故$$x^3+y^4+3x^2y^2=C$$"
   ]
  },
  {
   "cell_type": "markdown",
   "metadata": {},
   "source": [
    "**例2**$~~~ \\frac{2xy+1}{y}\\mathrm dx+\\frac{y-x}{y^2}\\mathrm dy=0$"
   ]
  },
  {
   "cell_type": "markdown",
   "metadata": {},
   "source": [
    "**解** $~~~\\frac{\\partial M}{\\partial y}=-\\frac{1}{y^2}=\\frac{\\partial N}{\\partial x}~~~$故为恰当（全微分）方程。"
   ]
  },
  {
   "cell_type": "markdown",
   "metadata": {},
   "source": [
    "根据（2.3.4）式，(选取$~~~x_0=0,y_0=1$)"
   ]
  },
  {
   "cell_type": "markdown",
   "metadata": {},
   "source": [
    "$\\int\\limits_0^x \\frac{2xy+1}{y}\\mathrm dx+\\int\\limits_1^y\\frac{y-x}{y^2}=C$"
   ]
  },
  {
   "cell_type": "markdown",
   "metadata": {},
   "source": [
    "通解为$~~~~x^2+\\frac{x}{y}+ln y=C$"
   ]
  },
  {
   "cell_type": "markdown",
   "metadata": {},
   "source": [
    "**练习1**\n",
    "\n",
    "\n"
   ]
  },
  {
   "cell_type": "markdown",
   "metadata": {},
   "source": [
    "（1）$~~x\\mathrm dx+y\\mathrm dy+\\frac{x\\mathrm dy-y\\mathrm dx}{x^2+y^2}=0$"
   ]
  },
  {
   "cell_type": "markdown",
   "metadata": {},
   "source": [
    "（2）$~~(y^2e^{xy^2}+4x^3)\\mathrm dx+(2xye^{xy^2}-3y^2)\\mathrm dy=0$"
   ]
  },
  {
   "cell_type": "markdown",
   "metadata": {},
   "source": [
    "（1）$~~x\\mathrm dx+y\\mathrm dy+\\frac{x\\mathrm dy-y\\mathrm dx}{x^2+y^2}=0$\n"
   ]
  },
  {
   "cell_type": "markdown",
   "metadata": {},
   "source": [
    "**解**   方程可写为$$\\mathrm d\\frac{1}{2}x^2+\\mathrm d\\frac{1}{2}y^2+\\frac{\\mathrm d\\frac{y}{x}}{1+(\\frac{y}{x})^2}=0$$"
   ]
  },
  {
   "cell_type": "markdown",
   "metadata": {},
   "source": [
    "显见，此为恰当方程，积分之，得通解$$\\frac{x^2}{2}+\\frac{y^2}{2}+\\arctan\\frac{y}{x}=C$$"
   ]
  },
  {
   "cell_type": "markdown",
   "metadata": {},
   "source": [
    "（2）$~~(y^2e^{xy^2}+4x^3)\\mathrm dx+(2xye^{xy^2}-3y^2)\\mathrm dy=0$"
   ]
  },
  {
   "cell_type": "markdown",
   "metadata": {},
   "source": [
    "**解**$~~~M(x,y)=y^2e^{xy^2}+4x^3,N(x,y)=2xye^{xy^2}-3y^2$"
   ]
  },
  {
   "cell_type": "markdown",
   "metadata": {},
   "source": [
    "$~~~~~~~\\frac{\\partial M}{\\partial y}=2ye^{xy^2}+2xy^3e^{xy^2}=\\frac{\\partial N}{\\partial x}$"
   ]
  },
  {
   "cell_type": "markdown",
   "metadata": {},
   "source": [
    "故为恰当方程，根据（2.3.4）式得通解为$$\\int\\limits_0^x (y^2e^{xy^2}+4x^3)\\mathrm dx+\\int\\limits_0^y (2xye^{xy^2}-3y^2)\\mathrm dy=C$$"
   ]
  },
  {
   "cell_type": "markdown",
   "metadata": {},
   "source": [
    "即$~~~~~~~~~~~x^4+e^(xy^2)-y^3=C$"
   ]
  },
  {
   "cell_type": "markdown",
   "metadata": {},
   "source": [
    "# 二、积分因子/Intrgrating Factor/"
   ]
  },
  {
   "cell_type": "markdown",
   "metadata": {},
   "source": [
    "$y\\mathrm dx-x\\mathrm dy=0\\xrightarrow{\\mu(x,y)}=\\frac{1}{y^2}\\frac{y\\mathrm dx-x\\mathrm dy}{y^2}~~~~\\frac{1}{y^2}\\frac{y\\mathrm dx-x\\mathrm dy}{y^2}\\rightarrow {x=cy}~~~~~x=cy\\xrightarrow{\\mathrm d(\\frac{x}{y})=\\frac{y\\mathrm dx-x\\mathrm dy}{y^2}}y\\mathrm dx-x\\mathrm dy=0$"
   ]
  },
  {
   "cell_type": "markdown",
   "metadata": {},
   "source": [
    "**问题:**"
   ]
  },
  {
   "cell_type": "markdown",
   "metadata": {},
   "source": [
    "  如何将非恰当方程化为恰当方程？"
   ]
  },
  {
   "cell_type": "markdown",
   "metadata": {},
   "source": [
    "## 1.积分因子的意义 "
   ]
  },
  {
   "cell_type": "markdown",
   "metadata": {},
   "source": [
    "$$M(x,y)\\mathrm dx+N(x,y)\\mathrm dy=0~~~~~~~~~~~~~~~(2.3.5)$$"
   ]
  },
  {
   "cell_type": "markdown",
   "metadata": {},
   "source": [
    "如果存在非零连续可微函数$~~\\mu(x,y)$,使得$$\\mu(x,y)M(x,y)\\mathrm dx+\\mu(x,y)N(x,y)\\mathrm dy=0~~~~~~(2.3.6)$$"
   ]
  },
  {
   "cell_type": "markdown",
   "metadata": {},
   "source": [
    "为恰当方程，则称$~~\\mu(x,y)$是方程（2.3.5）的一个<font color=\"red\">**积分因子**<font>。"
   ]
  },
  {
   "cell_type": "markdown",
   "metadata": {},
   "source": [
    "此时，$~~~\\mathrm dv(x,y)=\\mu M\\mathrm dx+\\mu N\\mathrm dy$"
   ]
  },
  {
   "cell_type": "markdown",
   "metadata": {},
   "source": [
    "则$~~~v(x,y)=c~~~$是方程（2.3.5）的通解。"
   ]
  },
  {
   "cell_type": "markdown",
   "metadata": {},
   "source": [
    "**思考:**$~~M\\mathrm dx+N\\mathrm dy=0~$与$~~\\mu M\\mathrm dx+\\mu N\\mathrm dy=0~~$通解？"
   ]
  },
  {
   "cell_type": "markdown",
   "metadata": {},
   "source": [
    "求解非恰当方程的**关键**是求<font color=\"red\">**积分因子**<font>!"
   ]
  },
  {
   "cell_type": "markdown",
   "metadata": {},
   "source": [
    "**例如**"
   ]
  },
  {
   "cell_type": "markdown",
   "metadata": {},
   "source": [
    "(1) 可分离变量方程：$~~M_1(x)M_2(y)\\mathrm dx+N_1(x)N_2(y\\mathrm dy)=0~$不一定是恰当方程，但是方程两端乘以$~~\\mu=\\frac{1}{N_1(x)M_2(x)}~$，\n"
   ]
  },
  {
   "cell_type": "markdown",
   "metadata": {},
   "source": [
    "得到$~~\\frac{M_1(x)}{N_1(x)}\\mathrm dx+\\frac{N_2(y)}{M_2(y)}=0~~$恰当方程。"
   ]
  },
  {
   "cell_type": "markdown",
   "metadata": {},
   "source": [
    "所以，$~~~\\mu=\\frac{1}{N_1(x)M_2(x)}~~$是可分离变量方程的积分因子。"
   ]
  },
  {
   "cell_type": "markdown",
   "metadata": {},
   "source": [
    "（2）方程$~~y\\mathrm dx-x\\mathrm dy=0~~$由如下积分因子：$$\\frac{1}{x^2},\\frac{1}{y^2},\\frac{1}{xy},\\frac{1}{x^2+y^2},\\frac{1}{x^2-y^2}~~等等$$"
   ]
  },
  {
   "cell_type": "markdown",
   "metadata": {},
   "source": [
    "$$y\\mathrm dx-x\\mathrm dy=0$$ "
   ]
  },
  {
   "cell_type": "markdown",
   "metadata": {},
   "source": [
    "这是因为："
   ]
  },
  {
   "cell_type": "markdown",
   "metadata": {},
   "source": [
    "$$\\mathrm d(\\frac{y}{x})=\\frac{y\\mathrm dx-x\\mathrm dy}{x^2}~~~~~~~\\mathrm d(\\arctan \\frac{x}{y})=\\frac{y\\mathrm dx-x\\mathrm dy}{x^2+y^2}$$ "
   ]
  },
  {
   "cell_type": "markdown",
   "metadata": {},
   "source": [
    "$$\\mathrm d(\\frac{x}{y})=\\frac{y\\mathrm dx-x\\mathrm dy}{y^2}~~~~~~~\\mathrm d(\\frac{1}{2}ln\\frac{x-y}{x+y})=\\frac{y\\mathrm dx-x\\mathrm dy}{x^2-y^2}$$"
   ]
  },
  {
   "cell_type": "markdown",
   "metadata": {},
   "source": [
    "$$\\mathrm d(ln\\frac{x}{y})=\\frac{y\\mathrm dx-x\\mathrm dy}{xy}$$"
   ]
  },
  {
   "cell_type": "markdown",
   "metadata": {},
   "source": [
    "**结论**： <font color=\"red\">**一个非恰当方程积分因子有无穷多个！**<font>"
   ]
  },
  {
   "cell_type": "markdown",
   "metadata": {},
   "source": [
    "**问题**：<font color=\"green\">**这些积分因子有何关系？**<font>$P_{50}2.3$"
   ]
  },
  {
   "cell_type": "markdown",
   "metadata": {},
   "source": [
    "$$M(x,y)\\mathrm dx+N(x,y)\\mathrm dy=0~~(2.3.5)$$"
   ]
  },
  {
   "cell_type": "markdown",
   "metadata": {},
   "source": [
    "设$~\\mu(x,y)~$是方程（2.3.5）的积分因子，从而求得可微函数$~\\mathrm U(x,y)~$,使得$~\\mathrm U=\\mu (M\\mathrm dx+N\\mathrm dy)~$。"
   ]
  },
  {
   "cell_type": "markdown",
   "metadata": {},
   "source": [
    "试证$\\tilde{\\mu}(x,y)$是方程（2.3.5）的积分因子的充要条件是$~~\\tilde\\mu(x,y)=\\mu\\psi(U)~~~~~$其中$\\psi(t)~$是$~t~$的可微函数。"
   ]
  },
  {
   "cell_type": "markdown",
   "metadata": {},
   "source": [
    "$\\implies\\tilde\\mu(x,y)$是任一积分因子，$~\\frac{\\tilde\\mu(x,y)}{\\mu(x,y)}\\mathrm dU=\\mathrm dV(x,y)~$"
   ]
  },
  {
   "cell_type": "markdown",
   "metadata": {},
   "source": [
    "$\\tilde\\mu(x,y)(M\\mathrm dx)+N\\mathrm dy)=\\mathrm dV(x,y)$            $~\\int\\frac{\\tilde\\mu(x,y)}{\\mu(x,y)}\\mathrm dU=V(x,y)$"
   ]
  },
  {
   "cell_type": "markdown",
   "metadata": {},
   "source": [
    "$\\frac{\\tilde\\mu(x,y)}{\\mu(x,y)}=\\mathrm dV(x,y)$                             $~\\frac{\\tilde\\mu(x,y)}{\\mu(x,y)}=\\tilde\\psi(U)$"
   ]
  },
  {
   "cell_type": "markdown",
   "metadata": {},
   "source": [
    "$$M(x,y)\\mathrm dx+N(x,y)\\mathrm dy=0~~(2.3.5)$$"
   ]
  },
  {
   "cell_type": "markdown",
   "metadata": {},
   "source": [
    "设$~\\mu(x,y)~$是方程（2.3.5）的积分因子，从而求得可微函数$~\\mathrm U(x,y)~$,使得$~\\mathrm dU=\\mu (M\\mathrm dx+N\\mathrm dy)~$。"
   ]
  },
  {
   "cell_type": "markdown",
   "metadata": {},
   "source": [
    "试证$\\tilde{\\mu}(x,y)$是方程（2.3.5）的积分因子的充要条件是$~~\\tilde\\mu(x,y)=\\mu\\psi(U)~~~~~$其中$\\psi(t)~$是$~t~$的可微函数。"
   ]
  },
  {
   "cell_type": "markdown",
   "metadata": {},
   "source": [
    "$\\Leftarrow $$$\\mu\\psi(U)(M\\mathrm dx+N\\mathrm dy)=0 $$"
   ]
  },
  {
   "cell_type": "markdown",
   "metadata": {},
   "source": [
    "$$\\psi(U)\\mathrm du=0$$"
   ]
  },
  {
   "cell_type": "markdown",
   "metadata": {},
   "source": [
    "$$\\mathrm d\\int \\psi(U)\\mathrm du=0$$"
   ]
  },
  {
   "cell_type": "markdown",
   "metadata": {},
   "source": [
    "$\\psi(U)$是积分因子。"
   ]
  },
  {
   "cell_type": "markdown",
   "metadata": {},
   "source": [
    "## 2.<font color=\"red\">**寻求积分因子的方法**<font>"
   ]
  },
  {
   "cell_type": "markdown",
   "metadata": {},
   "source": [
    "### （1）观察法：利用已知的或熟悉的微分式的原函数求积分因子。"
   ]
  },
  {
   "cell_type": "markdown",
   "metadata": {},
   "source": [
    "**例1**    解方程$~~~x\\mathrm dx+y\\mathrm dy+4y^3(x^2+y^2)\\mathrm dy=0$"
   ]
  },
  {
   "cell_type": "markdown",
   "metadata": {},
   "source": [
    "**解**：$$\\frac{1}{2}\\mathrm d(x^2+y^2)+4y^3(x^2+y^2)\\mathrm dy=0     ~~~~~     \\mu(x,y)=\\frac{1}{x^2+y^2}$$"
   ]
  },
  {
   "cell_type": "markdown",
   "metadata": {},
   "source": [
    "$$\\frac{1}{2}\\frac{1}{x^2+y^2}\\mathrm d(x^2+y^2)+4y^3\\mathrm dy=0$$"
   ]
  },
  {
   "cell_type": "markdown",
   "metadata": {},
   "source": [
    "$$\\mathrm d(\\frac{1}{2}\\ln(x^2+y^2))+\\mathrm d(y^4)=0$$ "
   ]
  },
  {
   "cell_type": "markdown",
   "metadata": {},
   "source": [
    "$$\\frac{1}{2}\\ln(x^2+y^2)+y^4=C$$"
   ]
  },
  {
   "cell_type": "markdown",
   "metadata": {},
   "source": [
    "**例2**  解方程$~(2x^3-y^3-3x)\\mathrm dx+3xy^2\\mathrm dy=0$"
   ]
  },
  {
   "cell_type": "markdown",
   "metadata": {},
   "source": [
    "**解**     将方程改为$$(2x^3-3x)\\mathrm dx-(y^3\\mathrm dx-3xy^2\\mathrm dy)=0$$"
   ]
  },
  {
   "cell_type": "markdown",
   "metadata": {},
   "source": [
    "$$(2x^3-3x)\\mathrm dx-(y^3\\mathrm dx-x\\mathrm dy^3)=0$$"
   ]
  },
  {
   "cell_type": "markdown",
   "metadata": {},
   "source": [
    "由此看出$\\mu=\\frac{1}{x^2}$是积分因子，于是方程化为："
   ]
  },
  {
   "cell_type": "markdown",
   "metadata": {},
   "source": [
    "$$(2x-\\frac{3}{x})\\mathrm dx-\\frac{x\\mathrm dy^3-y^3\\mathrm dx}{x^2}=0$$"
   ]
  },
  {
   "cell_type": "markdown",
   "metadata": {},
   "source": [
    "故方程的通解为：$$x^2-3\\ln|x|+\\frac{y63}{x}=C$$"
   ]
  },
  {
   "cell_type": "markdown",
   "metadata": {},
   "source": [
    "**练习**    求积分因子"
   ]
  },
  {
   "cell_type": "markdown",
   "metadata": {},
   "source": [
    "1.$x\\mathrm dy-y\\mathrm dx-(1-x^2)\\mathrm dx=0$"
   ]
  },
  {
   "cell_type": "markdown",
   "metadata": {},
   "source": [
    "$$\\frac{1}{x^2}$$"
   ]
  },
  {
   "cell_type": "markdown",
   "metadata": {},
   "source": [
    "2.$~~x^2\\frac{\\mathrm dy}{\\mathrm dx}+xy+\\sqrt {1-x^2y^2}=0$"
   ]
  },
  {
   "cell_type": "markdown",
   "metadata": {},
   "source": [
    "$$\\frac{1}{x\\sqrt {1-(xy)^2}}$$"
   ]
  },
  {
   "cell_type": "markdown",
   "metadata": {},
   "source": [
    "3.$~~(x-y^2)\\mathrm dx+2xy\\mathrm dy=0$"
   ]
  },
  {
   "cell_type": "markdown",
   "metadata": {},
   "source": [
    "$$\\frac{1}{x^2}$$"
   ]
  },
  {
   "cell_type": "markdown",
   "metadata": {},
   "source": [
    "1.$x\\mathrm dy-y\\mathrm dx-(1-x^2)\\mathrm dx=0$"
   ]
  },
  {
   "cell_type": "markdown",
   "metadata": {},
   "source": [
    "**解**：由观察法的$~~\\frac{1}{x^2}~~$为积分因子，故方程化为："
   ]
  },
  {
   "cell_type": "markdown",
   "metadata": {},
   "source": [
    "$$\\frac{x\\mathrm dy-y\\mathrm dx}{x^2}-(\\frac{1}{x^2}-1)\\mathrm dx=0$$"
   ]
  },
  {
   "cell_type": "markdown",
   "metadata": {},
   "source": [
    "$$\\mathrm d(\\frac{y}{x})+\\mathrm d(\\frac{1}{x}+x)=0$$\n"
   ]
  },
  {
   "cell_type": "markdown",
   "metadata": {},
   "source": [
    "$$\\frac{y}{x}+\\frac{1}{x}+x=C$$"
   ]
  },
  {
   "cell_type": "markdown",
   "metadata": {},
   "source": [
    "2.$~~x^2\\frac{\\mathrm dy}{\\mathrm dx}+xy+\\sqrt {1-x^2y^2}=0$"
   ]
  },
  {
   "cell_type": "markdown",
   "metadata": {},
   "source": [
    "**解**：  将方程改为$~~~~~~~~~~~~~~x(x\\mathrm dy+y\\mathrm dx)+\\sqrt{1-x^2y^2}\\mathrm dx=0$"
   ]
  },
  {
   "cell_type": "markdown",
   "metadata": {},
   "source": [
    "$$x\\mathrm d(xy)+\\sqrt{1-x^2y^2}\\mathrm dx=0$$"
   ]
  },
  {
   "cell_type": "markdown",
   "metadata": {},
   "source": [
    "由观察得$~~\\mu=\\frac{1}{x\\sqrt{1-x^2y^2}}~~$为积分因子"
   ]
  },
  {
   "cell_type": "markdown",
   "metadata": {},
   "source": [
    "于是方程化为：$$\\frac{\\mathrm d(xy)}{\\sqrt{1-x^2y^2}}+\\frac{\\mathrm dx}{x}=0$$"
   ]
  },
  {
   "cell_type": "markdown",
   "metadata": {},
   "source": [
    "$$\\mathrm d(\\arcsin(xy))+\\ln|x|=C$$"
   ]
  },
  {
   "cell_type": "markdown",
   "metadata": {},
   "source": [
    "3.$~~(x-y^2)\\mathrm dx+2xy\\mathrm dy=0$"
   ]
  },
  {
   "cell_type": "markdown",
   "metadata": {},
   "source": [
    "**解**      $$x\\mathrm dx-(y^2-x\\mathrm dy^2)=0$$"
   ]
  },
  {
   "cell_type": "markdown",
   "metadata": {},
   "source": [
    "显然$~~u=frac{1}{x^2}~~$是积分因子，于是方程可化为：$$\\frac{1}{x}\\mathrm dx+\\frac{x\\mathrm dy^2-y^2\\mathrm dx}{x^2}=0$$"
   ]
  },
  {
   "cell_type": "markdown",
   "metadata": {},
   "source": [
    "故通解为：$$\\ln|x|+\\frac{y^2}{x}=C$$"
   ]
  },
  {
   "cell_type": "markdown",
   "metadata": {},
   "source": [
    "## （2）公式法：利用积分因子满足的微分方程来求解积分因子。"
   ]
  },
  {
   "cell_type": "markdown",
   "metadata": {},
   "source": [
    "如$~~\\mu(x,y)~~$是方程$~~M(x,y)\\mathrm dx+N(x,y)\\mathrm dy=0~~$的积分因子"
   ]
  },
  {
   "cell_type": "markdown",
   "metadata": {},
   "source": [
    "$\\mu(x,y)M(x,y)\\mathrm dx+\\mu(x,y)N(x,y)\\mathrm dy=0~~~$恰当方程"
   ]
  },
  {
   "cell_type": "markdown",
   "metadata": {},
   "source": [
    "则有$~~~~\\frac{partial (\\mu M)}{\\partial y}\\equiv\\frac{\\partial (\\mu N)}{\\partial x}$"
   ]
  },
  {
   "cell_type": "markdown",
   "metadata": {},
   "source": [
    "即$~~M\\frac{\\partial \\mu}{\\partial y}-N\\frac{\\partial \\mu}{\\partial x}+\\mu(\\frac{\\partial M}{\\partial y}-\\frac{\\partial N}{\\partial x})=0~~~~~~~~~~~~(2.58)$"
   ]
  },
  {
   "cell_type": "markdown",
   "metadata": {},
   "source": [
    "反过来，满足（2.58）的函数$\\mu(x,y)$一定是方程的积分因子。"
   ]
  },
  {
   "cell_type": "markdown",
   "metadata": {},
   "source": [
    " 若$~\\mu(x,y)$是方程的积分因子的充要条件$~\\mu(x,y)$满足$$~M\\frac{\\partial \\mu}{\\partial y}-N\\frac{\\partial \\mu}{\\partial x}+\\mu(\\frac{\\partial M}{\\partial y}-\\frac{\\partial N}{\\partial x})=0~~~~~~~(2.58)$$"
   ]
  },
  {
   "cell_type": "markdown",
   "metadata": {},
   "source": [
    "**结论1**：若$~~M(x,y)\\mathrm dx+N(x,y)\\mathrm dy=0~~~~~(2.3.5)$有只与$~x~$有关的积分因子的充要条件是$$\\frac{1}{N}(\\frac{\\partial M}{\\partial y}-\\frac{\\partial N}{\\partial x})=\\psi(x)$$此时，$~~\\mu(x,y)=e^\\int\\psi(x)\\mathrm dx$"
   ]
  },
  {
   "cell_type": "markdown",
   "metadata": {},
   "source": [
    "这是因为$~~~M\\frac{\\partial \\mu}{\\partial y}-N\\frac{\\partial \\mu}{\\partial x}+\\mu(\\frac{\\partial M}{\\partial y}-\\frac{\\partial N}{\\partial x})=0~~~~(2.58)$"
   ]
  },
  {
   "cell_type": "markdown",
   "metadata": {},
   "source": [
    "$~~~~~~N\\frac{\\mathrm du}{\\mathrm dx}=\\mu(\\frac{\\partial M}{\\partial y}-\\frac{\\partial N}{\\partial x}) ~~~~~~        \\frac{1}{\\mu}\\frac{\\mathrm d\\mu}{\\mathrm dx}=\\frac{1}{N}(\\frac{\\partial M}{\\partial y}-\\frac{\\partial N}{\\partial x})=\\psi(x)$"
   ]
  },
  {
   "cell_type": "markdown",
   "metadata": {},
   "source": [
    "$\\mu(xy)=e^{\\int \\psi(x)\\mathrm dx}$"
   ]
  },
  {
   "cell_type": "markdown",
   "metadata": {},
   "source": [
    "反过来，可证$~~e^{\\int \\psi(x)\\mathrm dx}~~$满足（2.58），即有只与$~x~$有关的积分因子。"
   ]
  },
  {
   "cell_type": "markdown",
   "metadata": {},
   "source": [
    "**结论2：**若$~~M(x,y)\\mathrm dx+N(x,y)\\mathrm dy=0~~~~~(2.3.5)$有只与$~y~$有关的积分因子的充要条件是$$-\\frac{1}{M}(\\frac{\\partial M}{\\partial y}-\\frac{\\partial N}{\\partial x})=\\Psi (y)   ~~~~ 此时，\\mu(x,y)=e^{\\int y\\mathrm dy}$$"
   ]
  },
  {
   "cell_type": "markdown",
   "metadata": {},
   "source": [
    "**思考：**推证方程有只与$~~x\\pm y,xy,x^2\\pm y^2~~$有关的积分因子的充要条件。 "
   ]
  },
  {
   "cell_type": "markdown",
   "metadata": {},
   "source": [
    "**例3** 试用积分因子法求解线性方程$~~\\frac{\\mathrm dy}{\\mathrm dx}=P(x)y+Q(x)$"
   ]
  },
  {
   "cell_type": "markdown",
   "metadata": {},
   "source": [
    "**解:**$~~~(P(x)y+Q(x))\\mathrm dx-\\mathrm dy=0$"
   ]
  },
  {
   "cell_type": "markdown",
   "metadata": {},
   "source": [
    "$\\frac{\\partial M}{\\partial y}=p(x),\\frac{\\partial N}{\\partial x}=0$"
   ]
  },
  {
   "cell_type": "markdown",
   "metadata": {},
   "source": [
    "$\\frac{1}{N}(\\frac{\\partial M}{\\partial y}-\\frac{\\partial N}{\\partial x})=-p(x)$是非恰当方程"
   ]
  },
  {
   "cell_type": "markdown",
   "metadata": {},
   "source": [
    "$\\frac{1}{N}(\\frac{\\partial M}{\\partial y}-\\frac{\\partial N}{\\partial x})=-p(x)~~~~~~~~~~~~\\mu(x,y)=e^{-\\int p(x)\\mathrm dx}$"
   ]
  },
  {
   "cell_type": "markdown",
   "metadata": {},
   "source": [
    "$$e^{-\\int p(x)\\mathrm dx}(P(x)y+Q(X))\\mathrm dx-e^{-\\int P(X)\\mathrm dy}=0$$"
   ]
  },
  {
   "cell_type": "markdown",
   "metadata": {},
   "source": [
    "$$(e^{-\\int p(x)\\mathrm dx}P(x)y\\mathrm dx-e^{-\\int P(x)\\mathrm dx}\\mathrm dy)-Q(x)e^{-\\int p(x)\\mathrm dx}=0$$"
   ]
  },
  {
   "cell_type": "markdown",
   "metadata": {},
   "source": [
    "$$(y\\mathrm de^{-\\int p(x)\\mathrm dx}+e^{-\\int p(x)\\mathrm dx}\\mathrm dy)-Q(x)e^{-\\int p(x)\\mathrm dx}\\mathrm dx=0$$"
   ]
  },
  {
   "cell_type": "markdown",
   "metadata": {},
   "source": [
    "$$d(ye^{-\\int p(x)\\mathrm dx})-d\\int Q(x)e^{-\\int p(x)\\mathrm dx}\\mathrm dx=0$$"
   ]
  },
  {
   "cell_type": "markdown",
   "metadata": {},
   "source": [
    "$$ye^{-\\int p(x)\\mathrm dx}-\\int Q(x)e^{-\\int p(x)\\mathrm dx}\\mathrm dx=C$$\n"
   ]
  },
  {
   "cell_type": "markdown",
   "metadata": {},
   "source": [
    "$$y=e^{\\int p(x)\\mathrm dx}(\\int Q(x)e^{-\\int p(x)\\mathrm dx}\\mathrm dx+C)$$"
   ]
  },
  {
   "cell_type": "markdown",
   "metadata": {},
   "source": [
    "## （3）分组组合法：用$P_{50},23$的结论"
   ]
  },
  {
   "cell_type": "markdown",
   "metadata": {},
   "source": [
    "$$(M_1\\mathrm dx+N_1\\mathrm dy)+(M_2\\mathrm dx+N_2\\mathrm dy)=0$$"
   ]
  },
  {
   "cell_type": "markdown",
   "metadata": {},
   "source": [
    "$$\\mu_1(x,y)(M_1\\mathrm dx+N_1\\mathrm dy)=\\mathrm dU_1(x,y)$$"
   ]
  },
  {
   "cell_type": "markdown",
   "metadata": {},
   "source": [
    "$$\\mu_2(x,y)(M_2\\mathrm dx+N_2\\mathrm dy)=\\mathrm dU_2(x,y)$$"
   ]
  },
  {
   "cell_type": "markdown",
   "metadata": {},
   "source": [
    "$$\\mu_1(x,y)\\psi_1(U)~,\\mu_2(x,y)\\psi_2(U)$$"
   ]
  },
  {
   "cell_type": "markdown",
   "metadata": {},
   "source": [
    "寻求适当的$~\\psi_1(t)~$和$~\\psi_2(t)~$使得$$\\mu_1(x,y)\\psi_2(U)=\\mu_2(x,y)\\psi_2(U)$$"
   ]
  },
  {
   "cell_type": "markdown",
   "metadata": {},
   "source": [
    "则原方程的积分因子$~\\mu_1(x,y)\\psi_2(U)=\\mu_2(x,y)\\psi_2(U)~$"
   ]
  },
  {
   "cell_type": "markdown",
   "metadata": {},
   "source": [
    "**例4**    解方程$~(x-y)\\mathrm dx+(x+y)\\mathrm dy=0~$"
   ]
  },
  {
   "cell_type": "markdown",
   "metadata": {},
   "source": [
    "**解**  $~\\frac{\\partial M}{\\partial y}=-1,\\frac{\\partial N}{\\partial x}=1  不是恰当方程~$"
   ]
  },
  {
   "cell_type": "markdown",
   "metadata": {},
   "source": [
    "$(x\\mathrm dx+y\\mathrm dy)+(x\\mathrm dy-y\\mathrm dx)=0$"
   ]
  },
  {
   "cell_type": "markdown",
   "metadata": {},
   "source": [
    "$\\frac{1}{2}(x\\mathrm dx+y\\mathrm dy)=\\mathrm d(x^2+y^2),\\mu_1(x,y)=\\frac{1}{2}\\psi_1(x^2+y^2)$"
   ]
  },
  {
   "cell_type": "markdown",
   "metadata": {},
   "source": [
    "$\\frac{1}{x^2+y^2}(x\\mathrm dy-y\\mathrm dx)=\\mathrm\\arctan \\frac{y}{x},\\psi_1(t)=\\frac{2}{t}$"
   ]
  },
  {
   "cell_type": "markdown",
   "metadata": {},
   "source": [
    "$\\mu_2(x,y)=\\frac{1}{x^2+y^2},\\psi_2(\\arctan\\frac{y}{x})\\psi_2(t)=1$"
   ]
  },
  {
   "cell_type": "markdown",
   "metadata": {},
   "source": [
    "$\\mu(x,y)=\\frac{1}{x^2+y^2}$"
   ]
  },
  {
   "cell_type": "markdown",
   "metadata": {},
   "source": [
    "$(x\\mathrm dx+y\\mathrm dy)+(x\\mathrm dy-y\\mathrm dx)=0$"
   ]
  },
  {
   "cell_type": "markdown",
   "metadata": {},
   "source": [
    "$\\frac{x\\mathrm dx+y\\mathrm dy}{x^2+y^2}+\\frac{x\\mathrm dy-y\\mathrm dx}{x^2+y^2}$"
   ]
  },
  {
   "cell_type": "markdown",
   "metadata": {},
   "source": [
    "$\\frac{1}{2}\\frac{\\mathrm d(x^2+y^2)}{x^2+y^2}+\\mathrm d\\arctan\\frac{y}{x}=0$"
   ]
  },
  {
   "cell_type": "markdown",
   "metadata": {},
   "source": [
    "$\\ln\\sqrt(x^2+y^2)+\\arctan\\frac{y}{x}=C$"
   ]
  },
  {
   "cell_type": "markdown",
   "metadata": {},
   "source": [
    "**练习**"
   ]
  },
  {
   "cell_type": "markdown",
   "metadata": {},
   "source": [
    "(1)$~~~(x^2+y)\\mathrm dx+(x-2y)\\mathrm dy=0$"
   ]
  },
  {
   "cell_type": "markdown",
   "metadata": {},
   "source": [
    "(2)$~~~2(3xy^2+2x^3)\\mathrm dx+3(2x^2y+y^2)dy=0$"
   ]
  },
  {
   "cell_type": "markdown",
   "metadata": {},
   "source": [
    "(3)$~~~2x(ye^{x^2}-1)\\mathrm dx+e^{x^2}\\mathrm dy=0$"
   ]
  },
  {
   "cell_type": "markdown",
   "metadata": {},
   "source": [
    "(4)$~~~(y-x^2)\\mathrm dx-x\\mathrm dy=0$"
   ]
  },
  {
   "cell_type": "markdown",
   "metadata": {},
   "source": [
    "**思考：** 推证方程的积分因子只与$~~x\\pm y,xy,x^2\\pm y^2~~$有关。"
   ]
  },
  {
   "cell_type": "markdown",
   "metadata": {},
   "source": [
    "**结论3：**若$~~M(x,y)\\mathrm dx+N(x,y)\\mathrm dy=0~~~~~(2.3.5)$有只与$~x+y~$有关的积分因子的充要条件是$~~\\frac{1}{N-M}(\\frac {\\partial M}{\\partial y}-\\frac{\\partial N}{\\partial x})=\\psi (x+y)  此时，\\mu(x,y)=e^{\\int\\psi(x+y)\\mathrm dx}$"
   ]
  },
  {
   "cell_type": "markdown",
   "metadata": {},
   "source": [
    "这是因为$$~M\\frac{\\mathrm d\\mu}{\\mathrm dt}-N\\frac{\\mathrm d\\mu}{\\mathrm dt}+\\mu(\\frac{\\partial M}{\\partial y}-\\frac{\\partial N}{\\partial x})=0~~~~~~~(2.58)$$"
   ]
  },
  {
   "cell_type": "markdown",
   "metadata": {},
   "source": [
    "$~M\\frac{\\mathrm d\\mu}{\\mathrm dt}-N\\frac{\\mathrm d\\mu}{\\mathrm dt}=-\\mu(\\frac{\\partial M}{\\partial y}-\\frac{\\partial N}{\\partial x}),\\mu(x,y)=e^{\\int \\psi(t)\\mathrm dt}$"
   ]
  },
  {
   "cell_type": "markdown",
   "metadata": {},
   "source": [
    "$\\frac{1}{\\mu}\\frac{\\mathrm d\\mu}{\\mathrm dt}=\\frac{1}{N-M}(\\frac{\\partial M}{\\partial y}-\\frac{\\partial N}{\\partial x})=\\psi(x+y)\\doteq \\psi(t)~~~(x+y\\doteq t)$"
   ]
  },
  {
   "cell_type": "markdown",
   "metadata": {},
   "source": [
    "反过来，也可推知（2.58）确有只与$~x+y~$有关的解。"
   ]
  },
  {
   "cell_type": "markdown",
   "metadata": {},
   "source": [
    "**结论4：**若$~~M(x,y)\\mathrm dx+N(x,y)\\mathrm dy=0~~~~~(2.3.5)$有只与$~xy~$有关的积分因子的充要条件是$~~\\frac{1}{Ny-Mx}(\\frac {\\partial M}{\\partial y}-\\frac{\\partial N}{\\partial x})=\\psi (xy)  此时，\\mu(x,y)=e^{\\int\\psi(xy)\\mathrm dx}$"
   ]
  },
  {
   "cell_type": "markdown",
   "metadata": {},
   "source": [
    "这是因为$$~Mx\\frac{\\partial \\mu}{\\partial t}-Ny\\frac{\\partial \\mu}{\\mathrm dt}+\\mu(\\frac{\\partial M}{\\partial y}-\\frac{\\partial N}{\\partial x})=0~~~~~~~(2.58)$$\n"
   ]
  },
  {
   "cell_type": "markdown",
   "metadata": {},
   "source": [
    "$~Mx\\frac{\\partial \\mu}{\\partial t}-Ny\\frac{\\partial \\mu}{\\mathrm dt}=-\\mu(\\frac{\\partial M}{\\partial y}-\\frac{\\partial N}{\\partial x}),\\mu(x,y)=e^{\\int \\psi(t)\\mathrm dt}$"
   ]
  },
  {
   "cell_type": "markdown",
   "metadata": {},
   "source": [
    "$\\frac{1}{\\mu}\\frac{\\mathrm d\\mu}{\\mathrm dt}=\\frac{1}{Ny-Mx}(\\frac{\\partial M}{\\partial y}-\\frac{\\partial N}{\\partial x})=\\psi(xy)\\doteq \\psi(t)~~~(xy\\doteq t)$"
   ]
  },
  {
   "cell_type": "markdown",
   "metadata": {},
   "source": [
    "反过来，也可推知（2.58）确有只与$~xy~$有关的解。"
   ]
  },
  {
   "cell_type": "markdown",
   "metadata": {},
   "source": [
    "# 小结 /Conclusion/#"
   ]
  },
  {
   "cell_type": "markdown",
   "metadata": {},
   "source": [
    "* 恰当方程$\\begin{cases}恰当方程的判断定理\\\\\n",
    "        恰当方程的求解方法\n",
    "        \\end{cases}\n",
    "        $"
   ]
  },
  {
   "cell_type": "markdown",
   "metadata": {},
   "source": [
    "* 积分因子$\\begin{cases}积分因子的意义\\\\\n",
    "           寻求积分因子的方法\n",
    "           \\end{cases}\n",
    "           $"
   ]
  },
  {
   "cell_type": "markdown",
   "metadata": {},
   "source": [
    "**作业：**$P_{50}:第7,9,11,14,16,17,19,22题。$\n"
   ]
  },
  {
   "cell_type": "markdown",
   "metadata": {},
   "source": [
    "**作业：**$P_{50}:第9题~~参考答案$"
   ]
  },
  {
   "cell_type": "markdown",
   "metadata": {},
   "source": [
    "**解：  假设$~~M(x,y),N(x,y)~~$是$~m~$次齐次函数，则令**$~~y=ux~~$**有**$M(x,y)=M(x,xu)=x^mM(1,u),N(x,y)=N(x,xu)=x^mN(1,u)$\n"
   ]
  },
  {
   "cell_type": "markdown",
   "metadata": {},
   "source": [
    "**$~~\\mathrm dy=x\\mathrm du+u\\mathrm dx代入M(x,y)\\mathrm dx+N(x,y)\\mathrm dy=0$得$$x^m{[M(1,u)+N(1,u)u]\\mathrm dx+xN(1,u)\\mathrm du}=0$$**"
   ]
  },
  {
   "cell_type": "markdown",
   "metadata": {},
   "source": [
    "**要分离变量，只要乘积分因子$$\\mu(x,y)=\\frac{1}{x^{m+1}[M(1,u)+N(1,u)]}=\\frac{1}{xM(x,y)+yN(X,Y)}$$**"
   ]
  },
  {
   "cell_type": "markdown",
   "metadata": {},
   "source": [
    "**另解    直接验证$$\\mu(x,y)=\\frac{1}{xM(x,y)+yN(X,Y)}$$是方程$M(x,y)\\mathrm dx+N(x,y)\\mathrm dy=0$的积分因子**。"
   ]
  },
  {
   "cell_type": "markdown",
   "metadata": {},
   "source": [
    "**$\\frac{M(x,y)}{xM(x,y)+yN(x,y)}\\mathrm dx+\\frac{N(x,y)}{xM(x,y)+yN(x,y)}\\mathrm dy=0$**"
   ]
  },
  {
   "cell_type": "markdown",
   "metadata": {},
   "source": [
    "**$\\frac{M(1,\\frac{y}{x})}{xM(x,\\frac{y}{x})+yN(1,\\frac{y}{x})}\\mathrm dx+\\frac{N(1,\\frac{y}{x})}{xM(x,\\frac{y}{x})+yN(1,\\frac{y}{x})}\\mathrm dy=0$**"
   ]
  },
  {
   "cell_type": "markdown",
   "metadata": {},
   "source": [
    "**$\\frac{\\partial }{\\partial y}(\\frac{M(1,\\frac{y}{x})}{xM(1,\\frac{y}{x})+yN(1,\\frac{y}{x})})=\\frac{\\frac{1}{x}M'_2[xM(1,\\frac{y}{x})+yN(1,\\frac{y}{x})]}{[xM(1,\\frac{y}{x})+yN(1,\\frac{y}{x})]^2}-\\frac{M(1,\\frac{y}{x})[xM'_2(1,\\frac{y}{x})\\frac{1}{x}+N(1,\\frac{y}{x})+yN'_2(1,\\frac{y}{x}\\frac{1}{x})]}{[xM(1,\\frac{y}{x})+yN(1,\\frac{y}{x})]^2}$**"
   ]
  },
  {
   "cell_type": "markdown",
   "metadata": {
    "collapsed": true
   },
   "source": [
    "**$=\\frac{\\frac{y}{x}[M'_2(1,\\frac{y}{x})N(1,\\frac{y}{x})-N'_2(1,\\frac{y}{x})M(1,\\frac{y}{x})]-M(1,\\frac{y}{x})N(1,\\frac{y}{x})}{[xM(1,\\frac{y}{x})+yN(1,\\frac{y}{x})]^2}$**"
   ]
  },
  {
   "cell_type": "markdown",
   "metadata": {},
   "source": [
    "**$\\frac{\\partial }{\\partial x}(\\frac{N(1,\\frac{y}{x})}{xM(1,\\frac{y}{x})+yN(1,\\frac{y}{x})})=\\frac{-\\frac{y}{x^2}N'_2(1,\\frac{y}{x})[xM(1,\\frac{y}{x})+yN(1,\\frac{y}{x})]}{[xM(1,\\frac{y}{x})+yN(1,\\frac{y}{x})]^2}-\\frac{N(1,\\frac{y}{x})[M(1,\\frac{y}{x})+xM'_2(1,\\frac{y}{x})(-\\frac{y}{x^2})+yN'_2(1,\\frac{y}{x})(-\\frac{y}{x^2})]}{[xM(1,\\frac{y}{x})+yN(1,\\frac{y}{x})]^2}$**"
   ]
  },
  {
   "cell_type": "markdown",
   "metadata": {},
   "source": [
    "**$=\\frac{\\frac{y}{x}[M'_2(1,\\frac{y}{x})N(1,\\frac{y}{x})-N'_2(1,\\frac{y}{x})M(1,\\frac{y}{x})]-M(1,\\frac{y}{x})N(1,\\frac{y}{x})}{[xM(1,\\frac{y}{x})+yN(1,\\frac{y}{x})]^2}$**"
   ]
  },
  {
   "cell_type": "markdown",
   "metadata": {},
   "source": [
    "**$\\frac{\\partial }{\\partial y}(\\frac{M(1,\\frac{y}{x})}{xM(1,\\frac{y}{x})+yN(1,\\frac{y}{x})})=\\frac{\\partial }{\\partial x}(\\frac{N(1,\\frac{y}{x})}{xM(1,\\frac{y}{x})+yN(1,\\frac{y}{x})})$**"
   ]
  },
  {
   "cell_type": "markdown",
   "metadata": {},
   "source": [
    "**因此,齐次方程$~M(x,y)\\mathrm dx+N(x,y)\\mathrm dy=0~$有积分因子$$\\mu(x,y)=\\frac{1}{xM(x,y)+yN(x,y)}.$$**"
   ]
  },
  {
   "cell_type": "markdown",
   "metadata": {
    "collapsed": true
   },
   "source": [
    "<font color=\"red\">**问题：**<font>"
   ]
  },
  {
   "cell_type": "markdown",
   "metadata": {},
   "source": [
    "**1.齐次方程$~M(x,y)\\mathrm dx+N(x,y)\\mathrm dy=0~$是否有其它积分因子？**"
   ]
  },
  {
   "cell_type": "markdown",
   "metadata": {},
   "source": [
    "**2.函数$~\\mu(x,y)=\\frac{1}{x[M(1,u)+uN(1,u)]}=\\frac{x^m}{xM(x,y)+yN(x,y)}~$是积分因子吗？**"
   ]
  },
  {
   "cell_type": "code",
   "execution_count": null,
   "metadata": {
    "collapsed": true
   },
   "outputs": [],
   "source": []
  },
  {
   "cell_type": "code",
   "execution_count": null,
   "metadata": {
    "collapsed": true
   },
   "outputs": [],
   "source": []
  },
  {
   "cell_type": "code",
   "execution_count": null,
   "metadata": {
    "collapsed": true
   },
   "outputs": [],
   "source": []
  },
  {
   "cell_type": "code",
   "execution_count": null,
   "metadata": {
    "collapsed": true
   },
   "outputs": [],
   "source": []
  },
  {
   "cell_type": "code",
   "execution_count": null,
   "metadata": {
    "collapsed": true
   },
   "outputs": [],
   "source": []
  },
  {
   "cell_type": "code",
   "execution_count": null,
   "metadata": {
    "collapsed": true
   },
   "outputs": [],
   "source": []
  }
 ],
 "metadata": {
  "kernelspec": {
   "display_name": "SageMath 7.3",
   "language": "",
   "name": "sagemath"
  },
  "language_info": {
   "codemirror_mode": {
    "name": "ipython",
    "version": 2
   },
   "file_extension": ".py",
   "mimetype": "text/x-python",
   "name": "python",
   "nbconvert_exporter": "python",
   "pygments_lexer": "ipython2",
   "version": "2.7.10"
  }
 },
 "nbformat": 4,
 "nbformat_minor": 0
}
