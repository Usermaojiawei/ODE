{
 "cells": [
  {
   "cell_type": "markdown",
   "metadata": {},
   "source": [
    "# 1. 方程"
   ]
  },
  {
   "cell_type": "markdown",
   "metadata": {},
   "source": [
    "含有未知量的等式称为**方程**. \n",
    "\n",
    "* 代数方程\n",
    "* 超越方程\n",
    "* 函数方程或泛函方程\n",
    "\n",
    "多个方程联立称为**方程组**."
   ]
  },
  {
   "cell_type": "markdown",
   "metadata": {},
   "source": [
    "##   代数方程(组)"
   ]
  },
  {
   "cell_type": "markdown",
   "metadata": {},
   "source": [
    "代数方程的未知量是数.\n",
    "\n",
    "如一元 $n$ 次方程: \n",
    "\n",
    "$$\n",
    "x^n + a_1 x^{n-1} + \\cdots + a_{n-1}x + a_n = 0\n",
    "$$\n",
    "\n",
    "无理方程:\n",
    "\n",
    "$$ \\sqrt{x^2 + 5} = 7 $$\n",
    "\n",
    "方程组:\n",
    "$$\n",
    "\\begin{cases}\n",
    "x+y = 7\\\\\n",
    "x-y = -1\n",
    "\\end{cases}\n",
    "$$"
   ]
  },
  {
   "cell_type": "markdown",
   "metadata": {},
   "source": [
    "##  超越方程(组)"
   ]
  },
  {
   "cell_type": "markdown",
   "metadata": {},
   "source": [
    "等式中含有超越函数的方程称为**超越方程**. 如\n",
    "\n",
    "$$ \\sin(x+5) = \\cos x$$\n",
    "\n",
    "$$ e^x + 2^x = 5 $$\n",
    "\n",
    "这些方程的解为实数, 个数可能是有限多个或无限多个.\n"
   ]
  },
  {
   "cell_type": "markdown",
   "metadata": {},
   "source": [
    "## 函数方程或泛函方程"
   ]
  },
  {
   "cell_type": "markdown",
   "metadata": {},
   "source": [
    "* 未知量为函数 \n",
    "* 方程的解为有限个或无穷多个函数\n",
    "\n",
    "$$ Z^2(t) + \\sin^2 t = 1, Z(t) = \\pm \\cos t$$\n",
    "$$ Z^{\\prime\\prime} = 1, Z(t) = \\frac{t^2}{2}+c_1t+c_2$$ "
   ]
  },
  {
   "cell_type": "markdown",
   "metadata": {},
   "source": [
    "# 2. 微分方程"
   ]
  },
  {
   "cell_type": "markdown",
   "metadata": {},
   "source": [
    "一个或几个包含自变量,未知函数以及未知函数的某些阶导数(或微商)的关系式,称之为**微分方程**.\n",
    "\n",
    "1. $y^\\prime = x^2$ \n",
    "1. $ r^2\\frac{d^2u}{dr^2} + r\\frac{du}{dr}+(r^2 - 1)u = 0$\n",
    "1. $\\frac{dy}{dx}+p(x)y = \\theta(x)$\n",
    "1. $F(x, y, y^\\prime,\\ldots, y^{(n)})=0$\n",
    "1. $y^{(n)} = f(x, y, y^\\prime, \\ldots, y^{(n-1)})$\n",
    "1. $\\begin{cases}\\frac{dx}{dt}=x+y\\\\\\frac{dy}{dt}=x-y\\end{cases}$\n",
    "1. $\\frac{\\partial^2 u}{\\partial x\\partial y} = 0 $\n",
    "1. $\\frac{\\partial^2 u}{\\partial x\\partial y} + \\frac{\\partial^2u}{\\partial y^2} + \\frac{\\partial^2u}{\\partial z^2} = -4$\n",
    "1. $f^{\\prime\\prime}(x)=\\sin x$\n",
    "1. $f^{(2)}(x)=\\sin x$"
   ]
  },
  {
   "cell_type": "markdown",
   "metadata": {},
   "source": [
    "# 3. 微分方程模型"
   ]
  },
  {
   "cell_type": "markdown",
   "metadata": {},
   "source": [
    "**例 1** 质量为m的物体在重力的作用下,沿铅直线下落,\n",
    "物体下落距离 $s$ (向下为正)随时间 $t$ 而改变。在不考虑\n",
    "空气阻力的情况下,试求出距离 $s$ 应满足的微分方程。"
   ]
  },
  {
   "cell_type": "markdown",
   "metadata": {},
   "source": [
    "**解**: 设在时刻 $t$, 质量为 $m$ 的物体下落的距离为 $s(t)$, 由牛顿第二定律可得:\n",
    "$$\n",
    "m\\frac{d^2s}{dt^2}=mg\n",
    "$$\n",
    "$$\n",
    "\\frac{d^2s}{dt^2}=g\n",
    "$$\n",
    "解得\n",
    "$$\n",
    "s(t) = \\frac{1}{2}gt^2+c_1t+c_2\n",
    "$$"
   ]
  },
  {
   "cell_type": "markdown",
   "metadata": {},
   "source": [
    "**例 2**:放射性元素镭因不断放射出各种射线而逐渐减少其质量,这种现象成为**衰变**,实验知镭的衰变率与其当时的衰变质量成比例。试求镭衰变的规律。"
   ]
  },
  {
   "cell_type": "markdown",
   "metadata": {},
   "source": [
    "**解**: 设在任意时刻 $t$ 镭的质量为 $R(t)$,\n",
    "$$\n",
    "R^\\prime(t) = kR(t)\n",
    "$$"
   ]
  },
  {
   "cell_type": "markdown",
   "metadata": {},
   "source": [
    "**微分方程模型**: 含有自变量,未知函数及未知函数导数\n",
    "(或变化率)的关系式"
   ]
  },
  {
   "cell_type": "markdown",
   "metadata": {
    "collapsed": true
   },
   "source": [
    "#  4. 基本概念"
   ]
  },
  {
   "cell_type": "markdown",
   "metadata": {
    "collapsed": true
   },
   "source": [
    "* 常微分方程和偏微分方程\n",
    "* 一阶与高阶微分方程\n",
    "* 线性和非线性微分方程\n",
    "* 解和隐式解\n",
    "* 通解和特解\n",
    "* 积分曲线和积分曲线族\n",
    "* 微分方程的几何解释-----方向场"
   ]
  },
  {
   "cell_type": "markdown",
   "metadata": {},
   "source": [
    "## 常微分方程和偏微分方程"
   ]
  },
  {
   "cell_type": "markdown",
   "metadata": {},
   "source": [
    "**常微分方程/ODE/** 在微分方程中, 自变量的个数只有一个的微分方程.\n",
    "\n",
    "**偏微分方程 /PDE/** 自变量的个数有两个或两个以上的微分方程."
   ]
  },
  {
   "cell_type": "markdown",
   "metadata": {},
   "source": [
    "## 一阶与高阶微分方程"
   ]
  },
  {
   "cell_type": "markdown",
   "metadata": {},
   "source": [
    "**微分方程的阶 /Order/** 在一个微分方程中所出现的未知函数的导数的最高阶数 $n$ 。\n",
    "\n",
    "当 $n=1$ 时,称为一阶微分方程.\n",
    "\n",
    "当 $n>1$ 时,称为高阶微分方程."
   ]
  },
  {
   "cell_type": "markdown",
   "metadata": {},
   "source": [
    "* $F(x, y, y^\\prime) = 0$, 一阶隐式\n",
    "* $y^\\prime = f(x,y)$, 一阶显式\n",
    "* $F(x, y, y^\\prime,\\ldots, y^{(n)}) = 0$, $n$ 阶隐式\n",
    "* $y^{(n)} = f(x, y, y^\\prime, \\ldots, y^{(n-1)})$, $n$ 阶显式"
   ]
  },
  {
   "cell_type": "markdown",
   "metadata": {},
   "source": [
    "## 线性和非线性微分方程"
   ]
  },
  {
   "cell_type": "markdown",
   "metadata": {},
   "source": [
    "如果方程 $F(x, y, y^\\prime,\\ldots, y^{(n)}) = 0$ 的左端为未知函数及其各阶导数的**一次有理整式**,则称它为\n",
    "**线性微分方程**,否则,称它为**非线性微分方程**。"
   ]
  },
  {
   "cell_type": "markdown",
   "metadata": {},
   "source": [
    "$n$ 阶线性微分方程的一般形式为:\n",
    "$$\n",
    "a_0(x)y^{(n)}+a_1(x)y^{(n-1)}+\\cdots+a_n(x)y=g(x)\n",
    "$$\n",
    "其中 $a_0(x), a_1(x), \\cdots, a_n(x), g(x)$ 均为 $x$ 的已知函数."
   ]
  },
  {
   "cell_type": "markdown",
   "metadata": {},
   "source": [
    "## 解和隐式解"
   ]
  },
  {
   "cell_type": "markdown",
   "metadata": {},
   "source": [
    "对于方程\n",
    "$$F(x, y, y^\\prime,\\ldots, y^{(n)}) = 0$$\n",
    "\n",
    "如果函数 $y = \\varphi(x)$ 代入能使它变成恒等式, 则称 $y = \\varphi(x)$ 为它的**解**.\n",
    "\n",
    "如果关系式 $\\Phi(x, y)=0$ 决定的函数 $y = \\varphi(x)$ 是它的解, 则称 $\\Phi(x, y)=0$ 为方程的**隐式解**, 也称为**\"积分\"**. "
   ]
  },
  {
   "cell_type": "markdown",
   "metadata": {},
   "source": [
    "## 通解和特解"
   ]
  },
  {
   "cell_type": "markdown",
   "metadata": {},
   "source": [
    "把 $n$ 阶方程\n",
    "$$F(x, y, y^\\prime,\\ldots, y^{(n)}) = 0$$\n",
    "含有 $n$ 个独立的任意常数 $c_1, c_2, \\cdots, c_n$的解\n",
    "$$ y = \\varphi(x, c_1, c_2, \\cdots, c_n)$$\n",
    "称为它的**通解**.\n",
    "\n",
    "要确定通解中的 $n$ 个常数, 得到一个特定的解, 需要 $n$ 个条件, 例如\n",
    "\n",
    "$$y(x_0) = y_0, \\frac{dy(x_0)}{dx}=y_0^{(1)}, \\cdots, \\frac{d^{n-1}y(x_0)}{dx^{n-1}}=y_0^{(n-1)}.$$\n",
    "\n",
    "上面 $n$ 条件称为**初值条件**.\n",
    "\n",
    "求微分方程满足初值条件的解, 称为**初值问题**. 满足初值条件的解称为**特解**."
   ]
  },
  {
   "cell_type": "markdown",
   "metadata": {},
   "source": [
    "## 积分曲线和积分曲线族"
   ]
  },
  {
   "cell_type": "markdown",
   "metadata": {},
   "source": [
    "一阶微分方程\n",
    "$$ \\frac{dy}{dx}=f(x,y)$$\n",
    "的解 $y=\\varphi(x)$ 表示 $Oxy$ 平面上的一条曲线, 称为微分方程的**积分曲线**, 而其通解 $y=\\varphi(x, c)$ 表示 $Oxy$ 平面上的一族曲线, 称为微分方程的**积分曲线族**."
   ]
  },
  {
   "cell_type": "markdown",
   "metadata": {},
   "source": [
    "## 微分方程的几何解释-----方向场"
   ]
  },
  {
   "cell_type": "markdown",
   "metadata": {},
   "source": [
    "一阶微分方程\n",
    "$$ \\frac{dy}{dx}=f(x,y)$$\n",
    "设其右端函数 $f(x,y)$ 定义域为 $D$, 在 $D$ 的每一个点 $(x, y)$ 处画一个小线段, 其斜率等于 $f(x, y)$, 则点集 $D$就成为带方向的点集, 称其为方程 $\\frac{dy}{dx}=f(x,y)$ 确定的**方向场**, 又称**向量场**."
   ]
  },
  {
   "cell_type": "markdown",
   "metadata": {},
   "source": [
    "方向场中方向相同的曲线 $f(x,y)=k$, 称为**等倾斜线**或**等斜线**."
   ]
  },
  {
   "cell_type": "markdown",
   "metadata": {},
   "source": [
    "常微分方程求解的几何意义: **在方向场中寻求一条曲线, 使这条曲线上每一点切线的方向等于方向场中该点的方向.** "
   ]
  },
  {
   "cell_type": "markdown",
   "metadata": {},
   "source": [
    "**例 1** 画出 $\\frac{dy}{dx}=-\\frac{x}{y}$ 的方向场."
   ]
  },
  {
   "cell_type": "markdown",
   "metadata": {},
   "source": [
    "$ - \\frac{x}{y} = k $\n",
    "$$ -x = ky $$"
   ]
  },
  {
   "cell_type": "markdown",
   "metadata": {},
   "source": [
    "**例 2** 画出方程 $\\frac{dy}{dx}=x^2+y^2$ 的方向场."
   ]
  },
  {
   "cell_type": "markdown",
   "metadata": {
    "collapsed": true
   },
   "source": [
    "## 微分方程组"
   ]
  },
  {
   "cell_type": "markdown",
   "metadata": {},
   "source": [
    "**微分方程组**: 用两个或两个以上关系式表示的微分方程."
   ]
  },
  {
   "cell_type": "markdown",
   "metadata": {},
   "source": [
    "习惯将一般 $n$ 阶方程写成解出最高阶导数的形式\n",
    "\n",
    "$$ z^{(n)} = g(t;z, z^\\prime, \\cdots, z^{(n-1)})$$\n",
    "\n",
    "取变换\n",
    "\n",
    "$$ y_1= z, y_2 = z^\\prime, \\cdots, y_n = z^{(n-1)} $$\n",
    "\n",
    "可把$n$阶方程化为一阶方程组\n",
    "\n",
    "$$\n",
    "\\begin{cases}\n",
    "\\frac{dy_1}{dt}=y_2,\\\\\n",
    "\\vdots \\\\\n",
    "\\frac{dy_{n-1}}{dt}=y_n,\\\\\n",
    "\\frac{dy_n}{dt} = g(t;y_1, \\cdots, y_n)\n",
    "\\end{cases}\n",
    "$$\n",
    "\n",
    "一般的一阶微分方程组形式如下:\n",
    "\n",
    "$$ \\frac{d\\mathbf y}{dt}=\\mathbf f(t;\\mathbf y)$$\n",
    "\n",
    "其中\n",
    "\n",
    "$$\n",
    "\\mathbf y =\n",
    "\\begin{pmatrix}\n",
    "y_1\\\\y_2\\\\\\vdots\\\\y_n\n",
    "\\end{pmatrix},\\quad\n",
    "\\mathbf f(t;\\mathbf y) = \n",
    "\\begin{pmatrix}\n",
    "f_1(t;y_1,\\cdots,y_n)\\\\\n",
    "f_2(t;y_1,\\cdots,y_n)\\\\\n",
    "\\vdots\\\\\n",
    "f_n(t;y_1,\\cdots,y_n)\n",
    "\\end{pmatrix}\n",
    "$$"
   ]
  },
  {
   "cell_type": "markdown",
   "metadata": {},
   "source": [
    "## 驻定(autonomous)与非驻定, 动力系统"
   ]
  },
  {
   "cell_type": "markdown",
   "metadata": {},
   "source": [
    "如果方程右端不含自变量 $t$, 即\n",
    "\n",
    "$$ \\frac{d\\mathbf y}{dt}=\\mathbf f(\\mathbf y), \\mathbf y \\in D \\subset \\mathbb R^n$$\n",
    "\n",
    "则称为**驻定(自治)的**, 若右端含 $t$ 则称为**非驻定(非自治)的**.\n",
    "\n",
    "对于非驻定微分方程组, 可以引进新的时间 $\\tau$, 方程组$ \\frac{d\\mathbf y}{dt}=\\mathbf f(t; \\mathbf y)$  可化为\n",
    "\n",
    "$$\n",
    "\\begin{cases}\n",
    "\\frac{d\\mathbf y}{d\\tau}=\\mathbf f(t;\\mathbf y)\\\\\n",
    "\\frac{dt}{d\\tau}=1,\n",
    "\\end{cases}\n",
    "$$\n",
    "成为 $n+1$ 维空间 $(t;\\mathbf y)$ 驻定方程."
   ]
  },
  {
   "cell_type": "markdown",
   "metadata": {},
   "source": [
    "设 $\\mathbf y_1(t)$ 是\n",
    "\n",
    " $$\\frac{d\\mathbf y}{dt}=\\mathbf f(\\mathbf y), \\mathbf y(0) = \\mathbf y_0$$\n",
    " \n",
    "解, 则 $\\mathbf y_2(t)= \\mathbf y_1(t - t_0)$ 是\n",
    "$$\\frac{d\\mathbf y}{dt}=\\mathbf f(\\mathbf y), \\mathbf y(t_0) = \\mathbf y_0$$\n",
    "的解."
   ]
  },
  {
   "cell_type": "markdown",
   "metadata": {},
   "source": [
    "$$\\frac{\\mathrm d y}{\\mathrm d t} = (2-y)y$$"
   ]
  }
 ],
 "metadata": {
  "kernelspec": {
   "display_name": "Python 3",
   "language": "python",
   "name": "python3"
  },
  "language_info": {
   "codemirror_mode": {
    "name": "ipython",
    "version": 3
   },
   "file_extension": ".py",
   "mimetype": "text/x-python",
   "name": "python",
   "nbconvert_exporter": "python",
   "pygments_lexer": "ipython3",
   "version": "3.5.2"
  },
  "latex_envs": {
   "LaTeX_envs_menu_present": true,
   "bibliofile": "biblio.bib",
   "cite_by": "apalike",
   "current_citInitial": 1,
   "eqLabelWithNumbers": true,
   "eqNumInitial": 0
  }
 },
 "nbformat": 4,
 "nbformat_minor": 0
}
