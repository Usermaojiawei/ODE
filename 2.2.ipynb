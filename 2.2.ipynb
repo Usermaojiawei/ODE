{
 "cells": [
  {
   "cell_type": "markdown",
   "metadata": {},
   "source": [
    "## 2.2 线性方程与常数变易法"
   ]
  },
  {
   "cell_type": "markdown",
   "metadata": {},
   "source": [
    "**Linear ODE and variation of constants Method**"
   ]
  },
  {
   "cell_type": "markdown",
   "metadata": {},
   "source": [
    "## 一、一阶线性微分方程 (Fist-Order Linear ODE)"
   ]
  },
  {
   "cell_type": "markdown",
   "metadata": {},
   "source": [
    "形如 $$\\frac{\\mathrm d y}{\\mathrm d x}=P(x)y+Q(x).........(2.2.1)$$"
   ]
  },
  {
   "cell_type": "markdown",
   "metadata": {},
   "source": [
    "的方程为**一阶线性微分方程**（即关于$\\frac{\\mathrm d y}{\\mathrm d x}$,$y$是线性的）"
   ]
  },
  {
   "cell_type": "markdown",
   "metadata": {},
   "source": [
    "其中 $P(x)$ , $ Q(x)$ 为 $ x $ 的已知函数。当 $ Q(x)$ =0 时"
   ]
  },
  {
   "cell_type": "markdown",
   "metadata": {},
   "source": [
    "$$\\frac{\\mathrm d y}{\\mathrm d x}=p(x)y........(2.2.2) $$ 称为**齐次线性方程**."
   ]
  },
  {
   "cell_type": "markdown",
   "metadata": {},
   "source": [
    "当 $ Q(x) \\neq 0 $ 时,称为**非齐次线性方程**。"
   ]
  },
  {
   "cell_type": "markdown",
   "metadata": {},
   "source": [
    "其中 $P(x)$ , $ Q(x)$ 在所考虑的区间上是 $x$ 的连续函数."
   ]
  },
  {
   "cell_type": "markdown",
   "metadata": {},
   "source": [
    "### (1)齐次线性方程 Homogenous Linear ODE "
   ]
  },
  {
   "cell_type": "markdown",
   "metadata": {},
   "source": [
    "$$\\frac{\\mathrm d y}{\\mathrm d x}=P(x)y$$"
   ]
  },
  {
   "cell_type": "markdown",
   "metadata": {},
   "source": [
    "**解法**"
   ]
  },
  {
   "cell_type": "markdown",
   "metadata": {},
   "source": [
    "分离变量得：$$ \\frac {\\mathrm d y}{\\mathrm y}=p(x)dx$$"
   ]
  },
  {
   "cell_type": "markdown",
   "metadata": {
    "collapsed": true
   },
   "source": [
    "积分，得: $$\\int \\frac{dy}{y}\\, \\mathrm{d}x=\\int p(x)\\,\\mathrm{d}x+c_1$$"
   ]
  },
  {
   "cell_type": "markdown",
   "metadata": {},
   "source": [
    "$$ ln|y|=\\int p(x)\\,\\mathrm{d}x+c_1 $$\n",
    "$$|y|=e^{c_1}e^{\\int p(x)\\,\\mathrm{d}x}$$ "
   ]
  },
  {
   "cell_type": "markdown",
   "metadata": {},
   "source": [
    "$$y=\\pm e^{c_1} e^{\\int p(x)\\,\\mathrm{d}x}$$"
   ]
  },
  {
   "cell_type": "markdown",
   "metadata": {},
   "source": [
    "取 $c=\\pm e^{c_1}$得 $$y=c e^{\\int p(x)\\,\\mathrm{d}x}$$ "
   ]
  },
  {
   "cell_type": "markdown",
   "metadata": {},
   "source": [
    "$因为y=0为（2.2.2）的解，所以其通解为:\n",
    "$$y=c e^{\\int p(x)\\,\\mathrm{d}x}$$ \n",
    "其中c为任意常数。"
   ]
  },
  {
   "cell_type": "markdown",
   "metadata": {},
   "source": [
    "满足初始条件 $ y(x_0)=y_0 $ 的解是"
   ]
  },
  {
   "cell_type": "markdown",
   "metadata": {},
   "source": [
    "$$y=y_0 e^{\\int_{x_0}^{x} p(t)\\,\\mathrm{d}t}$$"
   ]
  },
  {
   "cell_type": "markdown",
   "metadata": {},
   "source": [
    "**例1** 试求微分方程 $y'+ysinx=0$ 的通解,并求满足条件的 $y(\\frac{\\pi}{2})=2$ 特解."
   ]
  },
  {
   "cell_type": "markdown",
   "metadata": {},
   "source": [
    "**解** $$p(x)=-\\sin x$$"
   ]
  },
  {
   "cell_type": "markdown",
   "metadata": {},
   "source": [
    "所求通解为： $$y=c e^{-\\int sinx\\,\\mathrm{d}x}=c e^{cosx}$$"
   ]
  },
  {
   "cell_type": "markdown",
   "metadata": {},
   "source": [
    "所求特解为: $$y=2e^{cosx}$$"
   ]
  },
  {
   "cell_type": "markdown",
   "metadata": {},
   "source": [
    "### (2)非齐次线性方程 Non-Homogenous Linear ODE"
   ]
  },
  {
   "cell_type": "markdown",
   "metadata": {},
   "source": [
    "采用**常数变易法**求解"
   ]
  },
  {
   "cell_type": "markdown",
   "metadata": {},
   "source": [
    "设方程 $$y'=P(x)y+Q(x)$$"
   ]
  },
  {
   "cell_type": "markdown",
   "metadata": {},
   "source": [
    "其中的常数 $c$ 变易为 $x$ 的待定函数:"
   ]
  },
  {
   "cell_type": "markdown",
   "metadata": {},
   "source": [
    "$$y=c e^{\\int p(x)\\,\\mathrm{d}x}$$"
   ]
  },
  {
   "cell_type": "markdown",
   "metadata": {},
   "source": [
    "即设"
   ]
  },
  {
   "cell_type": "markdown",
   "metadata": {},
   "source": [
    "$$y=c(x) e^{\\int p(x)\\,\\mathrm{d}x}$$"
   ]
  },
  {
   "cell_type": "markdown",
   "metadata": {},
   "source": [
    "$$y=c(x) e^{\\int p(x)\\,\\mathrm{d}x},\\quad $$"
   ]
  },
  {
   "cell_type": "markdown",
   "metadata": {},
   "source": [
    "代入方程 $y'=P(x)y+Q(x)$，得:"
   ]
  },
  {
   "cell_type": "markdown",
   "metadata": {},
   "source": [
    "$$c(x)' e^{\\int p(x)\\,\\mathrm{d}x}+c(x) e^{\\int P(x)\\,\\mathrm{d}x}p(x)=P(x)c(x) e^{\\int p(x)\\,\\mathrm{d}x}+Q(x)$$"
   ]
  },
  {
   "cell_type": "markdown",
   "metadata": {},
   "source": [
    "即:"
   ]
  },
  {
   "cell_type": "markdown",
   "metadata": {},
   "source": [
    "$$\n",
    "\\begin{aligned}\n",
    "c(x)' e^{\\int p(x)\\,\\mathrm{d}x}& =Q(x)\\\\\n",
    "c(x)'&=Q(x) e^{-\\int p(x)\\,\\mathrm{d}x}\\\\\n",
    "c(x)&={\\int{Q(x)} e^{-\\int p(x)\\,\\mathrm{d}x}\\mathrm{d}x}+c\n",
    "\\end{aligned}\n",
    "$$"
   ]
  },
  {
   "cell_type": "markdown",
   "metadata": {},
   "source": [
    "$c(x)$ 代入 $y=c(x)e^{\\int p(x)\\,\\mathrm{d}x}$ 可得:"
   ]
  },
  {
   "cell_type": "markdown",
   "metadata": {},
   "source": [
    "$$y=e^{\\int p(x)\\,\\mathrm{d}x}[\\int Q(x) e^{-\\int p(x)\\,\\mathrm{d}x}\\mathrm{d}x+c]$$"
   ]
  },
  {
   "cell_type": "markdown",
   "metadata": {},
   "source": [
    "$$y=c e^{\\int p(x)\\,\\mathrm{d}x}+e^{\\int p(x)\\,\\mathrm{d}x}\\int{Q(x)} e^{-\\int p(x)\\,\\mathrm{d}x}\\mathrm{d}x$$"
   ]
  },
  {
   "cell_type": "markdown",
   "metadata": {},
   "source": [
    "其中第一项是线性齐次方程的通解，第二项是线性非齐次方程特解."
   ]
  },
  {
   "cell_type": "markdown",
   "metadata": {},
   "source": [
    "即**非齐次线性方程通解的结构通解等于其对应齐次方程通解与自身的一个特解之和**."
   ]
  },
  {
   "cell_type": "markdown",
   "metadata": {},
   "source": [
    "同时，方程满足初始条件 $ \\varphi(x_0 ) = y_0 $的特解为 :"
   ]
  },
  {
   "cell_type": "markdown",
   "metadata": {},
   "source": [
    "$$y=e^{\\int_{x_0}^{x} p(t)\\,\\mathrm{d}t}[y_0+\\int_{x_0}^{x} Q(x)e^{-\\int_{x_0}^{x} p(t)\\,\\mathrm{d}t}\\mathrm{d}x]$$"
   ]
  },
  {
   "cell_type": "markdown",
   "metadata": {},
   "source": [
    "**例2** $\\cos x\\frac{\\mathrm d y}{\\mathrm d x}=y\\sin x+\\cos^2x$"
   ]
  },
  {
   "cell_type": "markdown",
   "metadata": {},
   "source": [
    "**解:**"
   ]
  },
  {
   "cell_type": "markdown",
   "metadata": {},
   "source": [
    "1)  先求对应的齐次方程通解"
   ]
  },
  {
   "cell_type": "markdown",
   "metadata": {},
   "source": [
    "$$\n",
    "\\begin{aligned}\n",
    "\\cos x\\frac{\\mathrm d y}{\\mathrm d x}&=y\\sin x\\\\\n",
    "\\frac{\\mathrm d y}{\\mathrm y}&=\\frac{\\sin x}{\\cos x}{\\mathrm d x}\\\\\n",
    "\\ln|y|&=-\\ln|\\cos x|+\\ln|c_0|\\\\\n",
    "y&=\\frac{c}{\\cos x}\\\\\n",
    "\\end{aligned}\n",
    "$$\n",
    "其中 $c$ 为任意常数."
   ]
  },
  {
   "cell_type": "markdown",
   "metadata": {},
   "source": [
    "** (2) 用常数变易法求方程通解**"
   ]
  },
  {
   "cell_type": "markdown",
   "metadata": {},
   "source": [
    "设 $y=\\frac{c(x)}{\\cos x}$ 是方程的解，代入"
   ]
  },
  {
   "cell_type": "markdown",
   "metadata": {},
   "source": [
    "$$\\cos x\\frac{\\mathrm d y}{\\mathrm d x}=y\\sin x+\\cos^2x$$"
   ]
  },
  {
   "cell_type": "markdown",
   "metadata": {},
   "source": [
    "得 \n",
    "$$\\cos x\\left(\\frac{c'(x)\\cos x+c(x)\\sin x)}{\\cos^2x}\\right)=\\frac{c(x)}{\\cos x}\\sin x+\\cos^2x$$"
   ]
  },
  {
   "cell_type": "markdown",
   "metadata": {},
   "source": [
    "进而可得:\n",
    "$$\n",
    "\\begin{aligned}\n",
    "c'(x)&=\\cos^2x\\\\\n",
    "c(x)&=\\int{cos^2x}{\\mathrm d x}=\\frac{1}{2}x+\\frac{1}{4}sin2x+c\n",
    "\\end{aligned}\n",
    "$$"
   ]
  },
  {
   "cell_type": "markdown",
   "metadata": {},
   "source": [
    "$$y=\\frac{1}{\\cos x}(\\frac{1}{2}x+\\frac{1}{4}\\sin 2x+c)$$\n",
    "其中 $c$ 为任意常数."
   ]
  },
  {
   "cell_type": "markdown",
   "metadata": {},
   "source": [
    "说明：**对于一阶线性方程，也可直接用通解公式计算得出.**"
   ]
  },
  {
   "cell_type": "markdown",
   "metadata": {},
   "source": [
    "**例3**  利用公式\n",
    "$$y= e^{\\int p(x)\\,\\mathrm{d}x}[\\int{Q(x)} e^{-\\int p(x)\\,\\mathrm{d}x}\\mathrm{d}x+c]$$\n",
    "求解  \n",
    "$$\\frac{\\mathrm d y}{\\mathrm d x}=\\frac{y}{2x-y^2}$$"
   ]
  },
  {
   "cell_type": "markdown",
   "metadata": {},
   "source": [
    "**解:**"
   ]
  },
  {
   "cell_type": "markdown",
   "metadata": {},
   "source": [
    "1) 调换变量位置\n",
    "$$\\frac{\\mathrm d x}{\\mathrm d y}=\\frac{2x-y^2}{y}=\\frac{2}{y}x-y$$"
   ]
  },
  {
   "cell_type": "markdown",
   "metadata": {},
   "source": [
    "2) 用公式求方程通解\n",
    "$$\n",
    "\\begin{aligned}\n",
    "x&=e^{2\\int\\frac{1}{y}{\\mathrm dx}}[-\\int y e^{-2\\int\\frac{1}{y}{\\mathrm dy}}{\\mathrm dy}+c]=e^{\\ln y^2}(-\\int y e^{\\ln y^{-2}}{\\mathrm dy}+c)\\\\\n",
    "x&=y^2(-\\int\\frac{1}{y}{\\mathrm dy}+c)=-y^2\\ln|y|+cy^2\\\\\n",
    "x&=-y^2\\ln|y|+cy^2\n",
    "\\end{aligned}\n",
    "$$"
   ]
  },
  {
   "cell_type": "markdown",
   "metadata": {},
   "source": [
    "注意:"
   ]
  },
  {
   "cell_type": "markdown",
   "metadata": {},
   "source": [
    "**注意:**\n",
    "> 有时方程关于 $y$, $\\frac{dy}{dx}$ 不是线性的, \n",
    "> 但如果视 $x$ 为 $y$ 的函数，方程关于 $x$,$\\frac{\\mathrm d x}{\\mathrm d y}$\n",
    "> 是线性的, 于是仍可以根据上面的方法求解."
   ]
  },
  {
   "cell_type": "markdown",
   "metadata": {},
   "source": [
    "*练习*"
   ]
  },
  {
   "cell_type": "markdown",
   "metadata": {},
   "source": [
    "(1)$~~~xy'+(1+x)y=e^x$"
   ]
  },
  {
   "cell_type": "markdown",
   "metadata": {},
   "source": [
    "(2)$~~~\\frac{\\mathrm d y}{\\mathrm d x}+2xy+4x$"
   ]
  },
  {
   "cell_type": "markdown",
   "metadata": {},
   "source": [
    "(3)$~~~\\frac{\\mathrm d y}{\\mathrm d x}=\\frac{y}{x+y^3}$"
   ]
  },
  {
   "cell_type": "markdown",
   "metadata": {},
   "source": [
    "$练习~~~~(1)~~~xy'+(1+x)y=e^x$"
   ]
  },
  {
   "cell_type": "markdown",
   "metadata": {},
   "source": [
    "$解 ~~~~1)~~先解齐次方程~~~xy'+(1+x)y=0$"
   ]
  },
  {
   "cell_type": "markdown",
   "metadata": {},
   "source": [
    "$$\\frac{\\mathrm d y}{y}+\\frac{1+x}{x}{\\mathrm d x}=0$$"
   ]
  },
  {
   "cell_type": "markdown",
   "metadata": {},
   "source": [
    "积分，得："
   ]
  },
  {
   "cell_type": "markdown",
   "metadata": {},
   "source": [
    "$$lny+lnx+x=c_1~~~~~~y=c\\frac{e^-x}{x}$$"
   ]
  },
  {
   "cell_type": "markdown",
   "metadata": {},
   "source": [
    "$ 2) ~~设 y=c(x)\\frac{e^{-x}}{x},代入原方程，得:$"
   ]
  },
  {
   "cell_type": "markdown",
   "metadata": {},
   "source": [
    "$$x[c'(x)\\frac{e^{-x}}{x}+c(x)\\frac{-xe^x-e^x}{x^2}]+(1+x)c(x)\\frac{e^{-x}}{x}=e^x$$"
   ]
  },
  {
   "cell_type": "markdown",
   "metadata": {},
   "source": [
    "$化简得:~~~~~c'(x)e^{-x}=e^x~~~~~~c'(x)=e^{2x}$"
   ]
  },
  {
   "cell_type": "markdown",
   "metadata": {},
   "source": [
    "$c(x)=\\int e^{2x}{\\mathrm d x}+\\frac{1}{2}e^{2x}+c$"
   ]
  },
  {
   "cell_type": "markdown",
   "metadata": {},
   "source": [
    "$所以，通解为:~~~y=\\frac{e^{-x}}{x}(\\frac{1}{2}e^{2x}+c)$"
   ]
  },
  {
   "cell_type": "markdown",
   "metadata": {},
   "source": [
    "$$y=\\frac{e^x}{2x}+\\frac{ce^{-x}}{x}$$"
   ]
  },
  {
   "cell_type": "markdown",
   "metadata": {},
   "source": [
    "$练习~~~ (2)~~~\\frac{\\mathrm d y}{\\mathrm d x}+2xy=4x$"
   ]
  },
  {
   "cell_type": "markdown",
   "metadata": {},
   "source": [
    "$解 ~~~用公式求解, p(x) = −2x,Q(x) = 4x$\n",
    "\n"
   ]
  },
  {
   "cell_type": "markdown",
   "metadata": {},
   "source": [
    "$y=e^{-\\int 2x {\\mathrm d x}}({\\int 4xe^{\\int 2x {\\mathrm d x}}}{\\mathrm d x}+c）$"
   ]
  },
  {
   "cell_type": "markdown",
   "metadata": {},
   "source": [
    "$=e^{-x^2}{\\int 4xe^{\\int 2x {\\mathrm d x}}}{\\mathrm d x}+c）$"
   ]
  },
  {
   "cell_type": "markdown",
   "metadata": {},
   "source": [
    "$=e^{-x^2}(2+ce^{-x^2})$"
   ]
  },
  {
   "cell_type": "markdown",
   "metadata": {},
   "source": [
    "$练习~~(3)~\\frac {\\mathrm d y}{\\mathrm d x}=\\frac{y}{x+y^3}$"
   ]
  },
  {
   "cell_type": "markdown",
   "metadata": {},
   "source": [
    "$解 ~方程可以改写为: $"
   ]
  },
  {
   "cell_type": "markdown",
   "metadata": {},
   "source": [
    "$$\\frac {\\mathrm d x}{\\mathrm d y}=\\frac{1}{y}x+y^2~~~~P(y)=\\frac{1}{y},Q(x)=y^2$$"
   ]
  },
  {
   "cell_type": "markdown",
   "metadata": {},
   "source": [
    "故通解为:"
   ]
  },
  {
   "cell_type": "markdown",
   "metadata": {},
   "source": [
    "$$x=e^{\\int \\frac {1}{y}{\\mathrm d y}}(\\int y^2e ^{-\\int \\frac{1}{y}}+c)=y(\\frac{1}{2}y^2+c)$$"
   ]
  },
  {
   "cell_type": "markdown",
   "metadata": {},
   "source": [
    "$即:~~x=\\frac{1}{2}y^3+cy~~~ 或~~y=cx-\\frac{1}{2}y^3$"
   ]
  },
  {
   "cell_type": "markdown",
   "metadata": {
    "collapsed": true
   },
   "source": [
    "## 二、 可化为线性方程的方程\n",
    " **1 伯努利方程   Bernoulli ODE**\n",
    " \n",
    " **2 黎卡提方程   Riccati ODE**"
   ]
  },
  {
   "cell_type": "markdown",
   "metadata": {},
   "source": [
    "1 伯努利方程 Bernoulli ODE"
   ]
  },
  {
   "cell_type": "markdown",
   "metadata": {},
   "source": [
    "$形如~~y'=P(x)y+Q（x）y^n...... (2.2.6) $"
   ]
  },
  {
   "cell_type": "markdown",
   "metadata": {},
   "source": [
    "$的方程称为伯努利方程，其中 n \\neq0, n \\neq 1\n",
    "它通过变量代换可化为线性方程。$"
   ]
  },
  {
   "cell_type": "markdown",
   "metadata": {},
   "source": [
    "$解法：~~ 将方程(2.2.6)的各项同乘以y^{-n}$ "
   ]
  },
  {
   "cell_type": "markdown",
   "metadata": {},
   "source": [
    "$得:~~y^{-n}y'=P（x）y^{1-n}+Q(x)$"
   ]
  },
  {
   "cell_type": "markdown",
   "metadata": {},
   "source": [
    "$令~~~z=y^{1-n}$"
   ]
  },
  {
   "cell_type": "markdown",
   "metadata": {},
   "source": [
    "$$则~~~\\frac{\\mathrm d z}{\\mathrm d x}=(1=n)y^{-n}\\frac{\\mathrm d y}{\\mathrm d x}~~~~~\\frac{1}{1-n}\\frac{\\mathrm d z}{\\mathrm d x}=y^{-n}\\frac{\\mathrm d y}{\\mathrm d x}$$"
   ]
  },
  {
   "cell_type": "markdown",
   "metadata": {},
   "source": [
    "$$\\frac{1}{1-n}\\frac{\\mathrm d z}{\\mathrm d x}=P(x)z+Q(x)$$"
   ]
  },
  {
   "cell_type": "markdown",
   "metadata": {},
   "source": [
    "$$\\frac{\\mathrm d z}{\\mathrm d x}=(1-n)P(x)z+(1-n)Q(x)$$"
   ]
  },
  {
   "cell_type": "markdown",
   "metadata": {},
   "source": [
    "$用上式求解后，代入原变量~~~z=y^{1-n}~~,便得原方程的通解。$"
   ]
  },
  {
   "cell_type": "markdown",
   "metadata": {},
   "source": [
    "$y^{1-n}=e^{\\int (1-n)P(x){\\mathrm d x}}[\\int (1-n)Q(x)e^{-\\int (1-n)P(x){\\mathrm d x}}{\\mathrm d x }+c]$"
   ]
  },
  {
   "cell_type": "markdown",
   "metadata": {},
   "source": [
    "$例4~~~xy'+y=xy^2lnx$"
   ]
  },
  {
   "cell_type": "markdown",
   "metadata": {},
   "source": [
    "$解~~~将方程改写为:y^{-2}y'+\\frac{1}{x}y^{-1}=lnx$"
   ]
  },
  {
   "cell_type": "markdown",
   "metadata": {},
   "source": [
    "$z=y^{-1}~~~~~\\frac{\\mathrm d z}{\\mathrm dx}-\\frac{1}{x}z=-lnx$"
   ]
  },
  {
   "cell_type": "markdown",
   "metadata": {},
   "source": [
    "$z=e^{\\int \\frac{1}{x}{\\mathrm d x}}(\\int (-lnx)e^{-\\int \\frac{1}{x}{\\mathrm d x}}{\\mathrm d x}+c)$"
   ]
  },
  {
   "cell_type": "markdown",
   "metadata": {},
   "source": [
    "$=x(\\int -\\frac {lnx}{x}{\\mathrm d x}+c)$"
   ]
  },
  {
   "cell_type": "markdown",
   "metadata": {},
   "source": [
    "$=x[-\\frac {1}{2}(lnx)^2]$"
   ]
  },
  {
   "cell_type": "markdown",
   "metadata": {},
   "source": [
    "$故~~~~~\\frac {1}{y}=x[c-\\frac{1}{2}(lnx)^2]$"
   ]
  },
  {
   "cell_type": "markdown",
   "metadata": {},
   "source": [
    "2 黎卡提方程   Riccati ODE"
   ]
  },
  {
   "cell_type": "markdown",
   "metadata": {},
   "source": [
    "$形如 ~~~\\frac{\\mathrm d y}{\\mathrm d x}=P(x)y^2+Q(x)y+R(x).......(2.2.7)$"
   ]
  },
  {
   "cell_type": "markdown",
   "metadata": {},
   "source": [
    "的方程称为黎卡提方程。"
   ]
  },
  {
   "cell_type": "markdown",
   "metadata": {},
   "source": [
    "特点"
   ]
  },
  {
   "cell_type": "markdown",
   "metadata": {},
   "source": [
    "在一般情况下，此类方程的解不能用初等函数及其积分\n",
    "形示表示，如果先由观察法或其他方法知道它的一个特\n",
    "解时，才可以通过初等积分法，求出它的通解。"
   ]
  },
  {
   "cell_type": "markdown",
   "metadata": {},
   "source": [
    "$$\\frac{\\mathrm d y}{\\mathrm d x}=P(x)y^2+Q(x)y+R(x)~~~~~~~~~~~(2.2.7)$$"
   ]
  },
  {
   "cell_type": "markdown",
   "metadata": {},
   "source": [
    "$解法~~~ 若方程有一特解为~~~y(x)=\\tilde y(x)$"
   ]
  },
  {
   "cell_type": "markdown",
   "metadata": {
    "collapsed": true
   },
   "source": [
    "$设~~~y=z+\\tilde y(x)~~~~~y'=z'+\\tilde y'(x)$"
   ]
  },
  {
   "cell_type": "markdown",
   "metadata": {},
   "source": [
    "$则~~ z'+\\tilde y'(x)=P(x)(z+\\tilde y)^2+Q(x)(z+\\tilde y)+R(x)$"
   ]
  },
  {
   "cell_type": "markdown",
   "metadata": {},
   "source": [
    "$$z'+\\tilde y'(x)=P(x)(z^2+2\\tilde yz+\\tilde y^2)+Q(x)(z+\\tilde y)+R(x)$$"
   ]
  },
  {
   "cell_type": "markdown",
   "metadata": {},
   "source": [
    "$$z'+\\tilde y'(x)=P(x)z^2+(2\\tilde yP(x)+Q(x))z+P(x)\\tilde y^2+Q(x)\\tilde y+R(x)$$"
   ]
  },
  {
   "cell_type": "markdown",
   "metadata": {},
   "source": [
    "$$z'=P(x)z^2+(2\\tilde yP(x)+Q(x))z)$$"
   ]
  },
  {
   "cell_type": "markdown",
   "metadata": {},
   "source": [
    "化为伯努利方程。"
   ]
  },
  {
   "cell_type": "markdown",
   "metadata": {},
   "source": [
    "$例5~~y'=y^2=x^2+1$"
   ]
  },
  {
   "cell_type": "markdown",
   "metadata": {},
   "source": [
    "$例5~~~由观察看出  \\tilde y = x  是方程的一个特解，于是$"
   ]
  },
  {
   "cell_type": "markdown",
   "metadata": {},
   "source": [
    "$令~~~y=x+u~~,则得~~~1+u'=(u+x)^2=x^2+1$"
   ]
  },
  {
   "cell_type": "markdown",
   "metadata": {},
   "source": [
    "$$u'=u^2+2xu~~~~~\\frac{1}{u^2}u'=1+2xu^{-1}$$"
   ]
  },
  {
   "cell_type": "markdown",
   "metadata": {},
   "source": [
    "$$-(u^{-1})'=1+2xu^{-1}$$"
   ]
  },
  {
   "cell_type": "markdown",
   "metadata": {},
   "source": [
    "$$z'=-2xz_1~~~~~z=e^{-x^2}(\\int -e^{-x^2}{\\mathrm d x}+c)$$"
   ]
  },
  {
   "cell_type": "markdown",
   "metadata": {},
   "source": [
    "$故原方程的通解为y=x+e^{x^2}((C-\\int e^{x^2}{\\mathrm d x}))^{-1}$"
   ]
  },
  {
   "cell_type": "markdown",
   "metadata": {},
   "source": [
    "$例6 ~~ 试求x^2y'=x^2y^2+xy+1形如\\frac{a}{x}的特解, 解此微分方程。$"
   ]
  },
  {
   "cell_type": "markdown",
   "metadata": {},
   "source": [
    "$解~~~设~~y=\\frac{a}{x},y'=-\\frac{a}{x^2},代入方程得：$"
   ]
  },
  {
   "cell_type": "markdown",
   "metadata": {},
   "source": [
    "$$-a=a^2+a+a~~~(a+1)^2=0$$"
   ]
  },
  {
   "cell_type": "markdown",
   "metadata": {},
   "source": [
    "$所以~~~a=-1~~故~~\\tilde y=-\\frac{1}{x}是方程的一个特解。$"
   ]
  },
  {
   "cell_type": "markdown",
   "metadata": {},
   "source": [
    "$令~~~~y=-\\frac{1}{x}+u$"
   ]
  },
  {
   "cell_type": "markdown",
   "metadata": {},
   "source": [
    "$x^2(\\frac{1}{x^2}+u')=x^2(-\\frac{1}{x}+u)^2+x(-\\frac{1}{x}+u)+1$"
   ]
  },
  {
   "cell_type": "markdown",
   "metadata": {},
   "source": [
    "$于是方程化为伯努利方程~~~~u'=x^2u^2-xu$"
   ]
  },
  {
   "cell_type": "markdown",
   "metadata": {},
   "source": [
    "$\\frac{1}{u^2}u'=-xu^{-1}+x^2\\implies-(u^{-1})‘=-xu^{-1}+x^2$"
   ]
  },
  {
   "cell_type": "markdown",
   "metadata": {},
   "source": [
    "$z'=xz-x^2\\implies z=e^{\\frac{x^2}{2}}(\\int -x^2e^{-\\frac{x^2}{2}}{\\mathrm d x}+C)$"
   ]
  },
  {
   "cell_type": "markdown",
   "metadata": {},
   "source": [
    "$$u=e^{\\frac{x^2}{2}}(-\\int x^2e^{\\frac{x^2}{2}}{\\mathrm d x}+C)^{-1}$$"
   ]
  },
  {
   "cell_type": "markdown",
   "metadata": {},
   "source": [
    "故原方程的通解为"
   ]
  },
  {
   "cell_type": "markdown",
   "metadata": {},
   "source": [
    "$$y=-\\frac{1}{x}+u=-\\frac{1}{x}+e^{-\\frac{x^2}{2}}(-\\int x^2e^{-\\frac{x^2}{2}}{\\mathrm dx}+C)^{-1}$$"
   ]
  },
  {
   "cell_type": "markdown",
   "metadata": {},
   "source": [
    "练习"
   ]
  },
  {
   "cell_type": "markdown",
   "metadata": {},
   "source": [
    "$（1）~~~xdy-[y+xy^3(1+lnx)]{\\mathrm d x}=0$"
   ]
  },
  {
   "cell_type": "markdown",
   "metadata": {},
   "source": [
    "$ (2)~~~~y'e^{-x}+y^2-2ye^x=1-e^{2x}$"
   ]
  },
  {
   "cell_type": "markdown",
   "metadata": {},
   "source": [
    "练习"
   ]
  },
  {
   "cell_type": "markdown",
   "metadata": {},
   "source": [
    "(1)$~~~xdy-[y+xy^3(1+lnx)]{\\mathrm d x}=0$"
   ]
  },
  {
   "cell_type": "markdown",
   "metadata": {},
   "source": [
    "$解：~~~方程各项同除以~~~xy^3dx$"
   ]
  },
  {
   "cell_type": "markdown",
   "metadata": {},
   "source": [
    "$得：~~~y^{-3}\\frac{\\mathrm d y}{\\mathrm d x}=\\frac{1}{x}y^{-2}+1+lnx$"
   ]
  },
  {
   "cell_type": "markdown",
   "metadata": {},
   "source": [
    "$令~~~z=y^{-2},~~~~\\frac{\\mathrm d z}{\\mathrm d x}=-2y^{-3}\\frac{\\mathrm d y}{\\mathrm d x}$"
   ]
  },
  {
   "cell_type": "markdown",
   "metadata": {},
   "source": [
    "$于是方程化为:~~~\\frac{\\mathrm d z}{\\mathrm d x}=-\\frac{2}{x}z-2(1+lnx)$"
   ]
  },
  {
   "cell_type": "markdown",
   "metadata": {},
   "source": [
    "$z=\\frac{1}{x^2}[\\int -2(1+lnx)x^2{\\mathrm d x}+c]=\\frac{1}{x^2}(\\frac{4}{9}x^3-\\frac{2}{3}x^3lnx+c)$"
   ]
  },
  {
   "cell_type": "markdown",
   "metadata": {},
   "source": [
    "$即~~~~y^{-2}=\\frac{c}{x^2}-\\frac{4}{9}x-\\frac{2}{3}xlnx$"
   ]
  },
  {
   "cell_type": "markdown",
   "metadata": {},
   "source": [
    "$ (2)~~~~y'e^{-x}+y^2-2ye^x=1-e^{2x}$"
   ]
  },
  {
   "cell_type": "markdown",
   "metadata": {},
   "source": [
    "$解~~~~y'=-y^2e^x+2ye^{2x}+e^x-e^{3x}$"
   ]
  },
  {
   "cell_type": "markdown",
   "metadata": {},
   "source": [
    "$经观察，方程有一个特解~~~\\tilde y=e^x$"
   ]
  },
  {
   "cell_type": "markdown",
   "metadata": {},
   "source": [
    "$令~~~~~y=e^x+u$"
   ]
  },
  {
   "cell_type": "markdown",
   "metadata": {},
   "source": [
    "$u'=-u^2e^x-2ue^{2x}$"
   ]
  },
  {
   "cell_type": "markdown",
   "metadata": {},
   "source": [
    "$y=e^x+\\frac{1}{c+e^x}$"
   ]
  },
  {
   "cell_type": "markdown",
   "metadata": {},
   "source": [
    "思考题"
   ]
  },
  {
   "cell_type": "markdown",
   "metadata": {},
   "source": [
    "$（1）~~e^{-y}(\\frac{\\mathrm d y}{\\mathrm d x}+1)=xe^x$"
   ]
  },
  {
   "cell_type": "markdown",
   "metadata": {},
   "source": [
    "$ (2)~~ y'-e^x+e^{x+y}=0$"
   ]
  },
  {
   "cell_type": "markdown",
   "metadata": {},
   "source": [
    "$(3)~~ylny{\\mathrm d x}+(x-lny){\\mathrm d y}=0$"
   ]
  },
  {
   "cell_type": "markdown",
   "metadata": {},
   "source": [
    "$提示:1、e^{-y}(\\frac{\\mathrm d y}{\\mathrm d x}+1)=xe^x~~~e^{-y}\\frac{\\mathrm d y}{\\mathrm d x}+e{-y}=xe^x$"
   ]
  },
  {
   "cell_type": "markdown",
   "metadata": {},
   "source": [
    "$$\\frac{\\mathrm d e^{-y}}{e^{-y}}=e^{-y}-xe^x(线性方程)$$"
   ]
  },
  {
   "cell_type": "markdown",
   "metadata": {},
   "source": [
    "$2、y'-e^x+e^{x+y}=0~~~(e^y)'-e^xe^y+e^xe^{2y}=0$"
   ]
  },
  {
   "cell_type": "markdown",
   "metadata": {},
   "source": [
    "$u'-e^xu+e^xu^2=0(伯努利方程)$"
   ]
  },
  {
   "cell_type": "markdown",
   "metadata": {},
   "source": [
    "$3、ylny{\\mathrm d x}+(x-lny)dy=0$"
   ]
  },
  {
   "cell_type": "markdown",
   "metadata": {},
   "source": [
    "$\\frac{\\mathrm d x}{\\mathrm d y}=-\\frac{x-lny}{ylny}=-\\frac{1}{ylny}x+\\frac{1}{y}(线性方程)$"
   ]
  },
  {
   "cell_type": "markdown",
   "metadata": {},
   "source": [
    "$ylny{\\mathrm d x}+(x-lny)dy=0$"
   ]
  },
  {
   "cell_type": "markdown",
   "metadata": {},
   "source": [
    "解 原方程可改写为: "
   ]
  },
  {
   "cell_type": "markdown",
   "metadata": {},
   "source": [
    "$\\frac{\\mathrm d y}{\\mathrm d x}=-\\frac{ylny}{x-lny}~~~~~\\frac {\\mathrm d x}{\\mathrm d y}=-\\frac{x-lny}{ylny}$"
   ]
  },
  {
   "cell_type": "markdown",
   "metadata": {},
   "source": [
    "$\\frac{\\mathrm d x}{\\mathrm d y}=-\\frac{1}{ylny}x+\\frac{1}{y}~~~~P(y)=-\\frac{1}{ylny}~~~Q(y)=\\frac{1}{y}$"
   ]
  },
  {
   "cell_type": "markdown",
   "metadata": {},
   "source": [
    "$故通解为：x=e^{-\\int \\frac{1}{ylny}{\\mathrm d y}}(\\int\\frac{1}{y}e^{\\int \\frac{1}{ylny}{\\mathrm d y}}+c)$"
   ]
  },
  {
   "cell_type": "markdown",
   "metadata": {},
   "source": [
    "$=\\frac{1}{lny}(\\int\\frac{lny}{y}{\\mathrm d y}+c)$"
   ]
  },
  {
   "cell_type": "markdown",
   "metadata": {},
   "source": [
    "$=\\frac{1}{lny}(\\frac{1}{2}(lny)^2+c)$"
   ]
  },
  {
   "cell_type": "markdown",
   "metadata": {},
   "source": [
    "$即: x=\\frac{1}{2}lny+\\frac{c}{lny}$"
   ]
  },
  {
   "cell_type": "markdown",
   "metadata": {},
   "source": [
    "$或：（2x-lny）lny=2c$"
   ]
  },
  {
   "cell_type": "code",
   "execution_count": null,
   "metadata": {
    "collapsed": true
   },
   "outputs": [],
   "source": []
  }
 ],
 "metadata": {
  "kernelspec": {
   "display_name": "SageMath 7.2",
   "language": "",
   "name": "sagemath"
  },
  "language_info": {
   "codemirror_mode": {
    "name": "ipython",
    "version": 2
   },
   "file_extension": ".py",
   "mimetype": "text/x-python",
   "name": "python",
   "nbconvert_exporter": "python",
   "pygments_lexer": "ipython2",
   "version": "2.7.10"
  },
  "latex_envs": {
   "LaTeX_envs_menu_present": true,
   "bibliofile": "biblio.bib",
   "cite_by": "apalike",
   "current_citInitial": 1,
   "eqLabelWithNumbers": true,
   "eqNumInitial": 0
  }
 },
 "nbformat": 4,
 "nbformat_minor": 0
}
