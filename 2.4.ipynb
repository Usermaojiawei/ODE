{
 "cells": [
  {
   "cell_type": "markdown",
   "metadata": {},
   "source": [
    "## 2、4一阶隐式微分方程及其参数表示 "
   ]
  },
  {
   "cell_type": "markdown",
   "metadata": {},
   "source": [
    "### Implicit First-Order ODE and Parameter Representation"
   ]
  },
  {
   "cell_type": "markdown",
   "metadata": {},
   "source": [
    "一阶隐式微分方程的一般形式可以表示为\n"
   ]
  },
  {
   "cell_type": "markdown",
   "metadata": {},
   "source": [
    "$$F(x,y,y')=0$$"
   ]
  },
  {
   "cell_type": "markdown",
   "metadata": {},
   "source": [
    "$~~~~如果能从此方程中解出导数y',其表达式为y'=f(x,y),则可依f(x,y)的具体形状如何选择适合的办法进行求解。但如果难从方程中解出y',$\n",
    "$或即使可以解出y',而其表达式相当复杂的情况下，则宜引进参数的办法使之变为导数已解出的方程类型。$"
   ]
  },
  {
   "cell_type": "markdown",
   "metadata": {},
   "source": [
    "$$(1)y=f(x,y')~~~~~~~~~~~~~~~~~(2)x=f(y,y')~~~~~~~~~~~(3)F(x,y')=0~~~~~~~~~~~~~~~~~(4)F(y,y')=0$$"
   ]
  },
  {
   "cell_type": "markdown",
   "metadata": {},
   "source": [
    " $一、 能解出 ~y ~( 或 ~x)~的方程$"
   ]
  },
  {
   "cell_type": "markdown",
   "metadata": {},
   "source": [
    " $1、y =f(x,\\frac{\\mathrm d y}{\\mathrm d x})........(2.4.1)$"
   ]
  },
  {
   "cell_type": "markdown",
   "metadata": {},
   "source": [
    "$这里假设函数f(x,\\frac{\\mathrm d y}{\\mathrm d x})有连续的偏导数。$"
   ]
  },
  {
   "cell_type": "markdown",
   "metadata": {},
   "source": [
    "$解法：引进参数\\frac{\\mathrm d y}{\\mathrm d x}=p 则(2.4.1)变为 y=f(x,p)~~~~~~~~~~~~(2.4.2)$"
   ]
  },
  {
   "cell_type": "markdown",
   "metadata": {},
   "source": [
    "$两边关于x 求导，并把\\frac{\\mathrm d y}{\\mathrm d x}=p代入，得$"
   ]
  },
  {
   "cell_type": "markdown",
   "metadata": {},
   "source": [
    "$p=\\frac{\\partial f}{\\partial x}+\\frac{\\partial f}{\\partial p}\\frac{\\partial p}{\\partial x}~~~~~~~~~~(2.4.3)$"
   ]
  },
  {
   "cell_type": "markdown",
   "metadata": {},
   "source": [
    "$$\\frac{\\mathrm d p}{\\mathrm d x}=\\frac{p-\\frac{\\partial f}{\\partial x}}{\\frac{\\partial f}{\\partial p}}$$"
   ]
  },
  {
   "cell_type": "markdown",
   "metadata": {},
   "source": [
    "$关于x 和 p 显式方程$"
   ]
  },
  {
   "cell_type": "markdown",
   "metadata": {},
   "source": [
    "$(i) 若已得出(2.4.3)的通解形式为, p = \\varphi(x, c) 代入(2.4.2)得y = f (x,\\varphi(x,c)) 就是(2.4.1)的通解。$"
   ]
  },
  {
   "cell_type": "markdown",
   "metadata": {},
   "source": [
    "$(ii) 若得出(2.4.3)通解形式为 x =\\psi( p, c) ，则原方程(2.4.1)有参数形式的通解$"
   ]
  },
  {
   "cell_type": "markdown",
   "metadata": {},
   "source": [
    "$$\n",
    "\\begin{cases}\n",
    "x=\\psi( p, c)\\\\\n",
    "y=f(\\psi( p, c),p)\n",
    "\\end{cases}\n",
    "$$"
   ]
  },
  {
   "cell_type": "markdown",
   "metadata": {
    "collapsed": true
   },
   "source": [
    "$其中p 是参数，c为任意常数。$"
   ]
  },
  {
   "cell_type": "markdown",
   "metadata": {},
   "source": [
    "$(iii) 若求得(2.4.3)通解形式\\Phi(x, p, c) = 0，则原方程(2.4.1)有参数形式通解$"
   ]
  },
  {
   "cell_type": "markdown",
   "metadata": {},
   "source": [
    "$$\n",
    "\\begin{cases}\n",
    "\\Phi(x, p, c) = 0\\\\\n",
    "y=f(x,p)\n",
    "\\end{cases}\n",
    "$$"
   ]
  },
  {
   "cell_type": "markdown",
   "metadata": {},
   "source": [
    "$其中p是参数,c为任意常数。$"
   ]
  },
  {
   "cell_type": "markdown",
   "metadata": {},
   "source": [
    "$2、y =f(y,\\frac{\\mathrm d y}{\\mathrm d x})........(2.4.4）~~~~~~~~~~\\frac{\\mathrm d y}{\\mathrm d x}=p$"
   ]
  },
  {
   "cell_type": "markdown",
   "metadata": {},
   "source": [
    "$解法~~~x=f(y,p)~~~~~~~~~~~(2.4.5)$"
   ]
  },
  {
   "cell_type": "markdown",
   "metadata": {},
   "source": [
    "$两边对 y 求导\\frac{1}{p}=\\frac{\\partial f}{\\partial y}+\\frac{\\partial f}{\\partial p}\\frac{\\partial p}{\\partial y}........(2.4.6)$"
   ]
  },
  {
   "cell_type": "markdown",
   "metadata": {},
   "source": [
    "$若求得为p=\\psi( y, c)$"
   ]
  },
  {
   "cell_type": "markdown",
   "metadata": {},
   "source": [
    "$$\\frac{\\mathrm d p}{\\mathrm d y}=\\frac{{\\frac{1}{p}-\\frac{\\partial f}{\\partial y}}}{{\\frac{\\partial f}{\\partial p}}}$$"
   ]
  },
  {
   "cell_type": "markdown",
   "metadata": {},
   "source": [
    "$则(2.4.4)的通解为x = f ( y,\\psi( y, c))$"
   ]
  },
  {
   "cell_type": "markdown",
   "metadata": {},
   "source": [
    "$若求得为 \\Phi(y, p, c) = 0,则(2.4.4)的通解为$"
   ]
  },
  {
   "cell_type": "markdown",
   "metadata": {},
   "source": [
    "$$\n",
    "\\begin{cases}\n",
    "x=f(y,p)\\\\\n",
    "\\Phi(y, p, c) = 0\n",
    "\\end{cases}\n",
    "$$"
   ]
  },
  {
   "cell_type": "markdown",
   "metadata": {},
   "source": [
    "$例1求方程（\\frac{\\mathrm d y}{\\mathrm d x}）^3+2x\\frac{\\mathrm d y}{\\mathrm d x}-y=0$"
   ]
  },
  {
   "cell_type": "markdown",
   "metadata": {},
   "source": [
    "$解~~~解出y,并令\\frac{\\mathrm d y}{\\mathrm d x}=p，得到$"
   ]
  },
  {
   "cell_type": "markdown",
   "metadata": {},
   "source": [
    "$$y=p^3+2xp...........(2.4.7)$$"
   ]
  },
  {
   "cell_type": "markdown",
   "metadata": {},
   "source": [
    "$两边对x求导数，得到$"
   ]
  },
  {
   "cell_type": "markdown",
   "metadata": {},
   "source": [
    "$p=3p^2\\frac{\\mathrm d p}{\\mathrm d x}+2x\\frac{\\mathrm d p}{\\mathrm d x}+2p$"
   ]
  },
  {
   "cell_type": "markdown",
   "metadata": {},
   "source": [
    "即"
   ]
  },
  {
   "cell_type": "markdown",
   "metadata": {},
   "source": [
    "$$3p^2{\\mathrm d p}+2xp{\\mathrm d p}+p{\\mathrm d x}=0$$"
   ]
  },
  {
   "cell_type": "markdown",
   "metadata": {},
   "source": [
    "$当p\\neq0时，上式乘以p得到$"
   ]
  },
  {
   "cell_type": "markdown",
   "metadata": {},
   "source": [
    "$$3p^3{\\mathrm d p}+2xp{\\mathrm d p}+p^2{\\mathrm d x}=0$$"
   ]
  },
  {
   "cell_type": "markdown",
   "metadata": {},
   "source": [
    "$积分之，注意到中间一项为x{\\mathrm d p^2},得到$"
   ]
  },
  {
   "cell_type": "markdown",
   "metadata": {},
   "source": [
    "$$\\frac{3p^4}{4}+xp^2=c$$"
   ]
  },
  {
   "cell_type": "markdown",
   "metadata": {},
   "source": [
    "$解出x,得到$"
   ]
  },
  {
   "cell_type": "markdown",
   "metadata": {},
   "source": [
    "$$x=\\frac{c-\\frac{3}{4}p^2}{p^2}$$"
   ]
  },
  {
   "cell_type": "markdown",
   "metadata": {},
   "source": [
    "$将它代入（2.4.7）即得$"
   ]
  },
  {
   "cell_type": "markdown",
   "metadata": {},
   "source": [
    "$$y=p^3+\\frac{2(c-\\frac{3}{4}p^4)}{p}$$"
   ]
  },
  {
   "cell_type": "markdown",
   "metadata": {},
   "source": [
    "$因此，得到方程的参数形式的通解$"
   ]
  },
  {
   "cell_type": "markdown",
   "metadata": {},
   "source": [
    "$$\n",
    "\\begin{cases}\n",
    "x=\\frac{c}{p^2}-\\frac{3}{4}p^2\\\\\n",
    "y=\\frac{2c}{p}-\\frac{1}{2}p^3\n",
    "\\end{cases}\n",
    "p \\neq 0\n",
    "$$"
   ]
  },
  {
   "cell_type": "markdown",
   "metadata": {},
   "source": [
    "$当p=0时，由（2.4.7）直接推知y=0也是方程的解$"
   ]
  },
  {
   "cell_type": "markdown",
   "metadata": {},
   "source": [
    "$例2、求方程y=(\\frac{\\mathrm d y}{\\mathrm d x})^2-x\\frac{\\mathrm d y}{\\mathrm d x}+\\frac{x^2}{2}的解$"
   ]
  },
  {
   "cell_type": "markdown",
   "metadata": {},
   "source": [
    "$解令\\frac{\\mathrm d y}{\\mathrm d x}=p,得到$"
   ]
  },
  {
   "cell_type": "markdown",
   "metadata": {},
   "source": [
    "$$y=p^2-xp+\\frac{x^2}{2}............(2.4.8)$$"
   ]
  },
  {
   "cell_type": "markdown",
   "metadata": {},
   "source": [
    "$两边对x求导数，得到$"
   ]
  },
  {
   "cell_type": "markdown",
   "metadata": {},
   "source": [
    "$$p=2p\\frac{\\mathrm d p}{\\mathrm d x}-x\\frac{\\mathrm d p}{\\mathrm d x}-p+x$$"
   ]
  },
  {
   "cell_type": "markdown",
   "metadata": {},
   "source": [
    "$$或（\\frac{\\mathrm d p}{\\mathrm d x}-1）(2p-x)=0$$"
   ]
  },
  {
   "cell_type": "markdown",
   "metadata": {},
   "source": [
    "$从\\frac{\\mathrm d p}{\\mathrm d x}-1=0解得$"
   ]
  },
  {
   "cell_type": "markdown",
   "metadata": {},
   "source": [
    "$$p=x+c$$"
   ]
  },
  {
   "cell_type": "markdown",
   "metadata": {},
   "source": [
    "$将它代入(2.4.8)得到方程的通解$"
   ]
  },
  {
   "cell_type": "markdown",
   "metadata": {},
   "source": [
    "$$y=\\frac{x^2}{2}+cx+c^2..........(2.4.9)$$"
   ]
  },
  {
   "cell_type": "markdown",
   "metadata": {},
   "source": [
    "$又从2p-x=0解的$"
   ]
  },
  {
   "cell_type": "markdown",
   "metadata": {},
   "source": [
    "$$p=\\frac{x}{2}$$"
   ]
  },
  {
   "cell_type": "markdown",
   "metadata": {},
   "source": [
    "$将此式代入（2.4.8）又得到方程的一个解$"
   ]
  },
  {
   "cell_type": "markdown",
   "metadata": {},
   "source": [
    "$$y=\\frac{x^2}{4}..........(2.4.10)$$"
   ]
  },
  {
   "cell_type": "markdown",
   "metadata": {},
   "source": [
    "**注意**此解与通解（2.4.9）的没一条积分曲线均相切，这样的解我们称为**奇解**"
   ]
  },
  {
   "cell_type": "markdown",
   "metadata": {},
   "source": [
    "$例3、求解（例1)中的方程（\\frac{\\mathrm d y}{\\mathrm d x}）^3+2x\\frac{\\mathrm d y}{\\mathrm d x}-y=0$"
   ]
  },
  {
   "cell_type": "markdown",
   "metadata": {},
   "source": [
    "$解~~~ 解出x ，并以\\frac{\\mathrm d y}{\\mathrm d x}=p代入，得到$"
   ]
  },
  {
   "cell_type": "markdown",
   "metadata": {},
   "source": [
    "$x=\\frac{y-p^3}{2p},p\\neq0..........(2.4.11)$"
   ]
  },
  {
   "cell_type": "markdown",
   "metadata": {},
   "source": [
    "$对y求导数，得到$"
   ]
  },
  {
   "cell_type": "markdown",
   "metadata": {},
   "source": [
    "$$\\frac{1}{p}=\\frac{p(1-3p^2\\frac{\\mathrm d p}{\\mathrm d y})-(y-p^3)\\frac{\\mathrm d p}{\\mathrm d y}}{2p^2}$$"
   ]
  },
  {
   "cell_type": "markdown",
   "metadata": {},
   "source": [
    "$$或p{\\mathrm d y}+y{\\mathrm d p}+2p^3{\\mathrm d p}=0$$"
   ]
  },
  {
   "cell_type": "markdown",
   "metadata": {},
   "source": [
    "积分之有"
   ]
  },
  {
   "cell_type": "markdown",
   "metadata": {},
   "source": [
    "$$2yp+p^4=c$$"
   ]
  },
  {
   "cell_type": "markdown",
   "metadata": {},
   "source": [
    "因而"
   ]
  },
  {
   "cell_type": "markdown",
   "metadata": {},
   "source": [
    "$$y=\\frac{c-p^4}{2p}$$"
   ]
  },
  {
   "cell_type": "markdown",
   "metadata": {},
   "source": [
    "$代入（2.4.11）,求得$"
   ]
  },
  {
   "cell_type": "markdown",
   "metadata": {},
   "source": [
    "$$x=\\frac{\\frac{c-p^4}{2p}-p^3}{2p}=\\frac{c-3p^4}{4p^2}$$"
   ]
  },
  {
   "cell_type": "markdown",
   "metadata": {},
   "source": [
    "$所以方程的通解为$"
   ]
  },
  {
   "cell_type": "markdown",
   "metadata": {},
   "source": [
    "$$\n",
    "\\begin{cases}\n",
    "x=\\frac{c}{4p^2}-\\frac{3}{4}p^2\\\\\n",
    "y=\\frac{c}{2p}-\\frac{p^3}{2}\n",
    "\\end{cases}\n",
    "p \\neq 0\n",
    "$$"
   ]
  },
  {
   "cell_type": "markdown",
   "metadata": {},
   "source": [
    "$此外，还有解y=0,这和例1所得的结果一样，（这里的任意常数c换成4c）$"
   ]
  },
  {
   "cell_type": "markdown",
   "metadata": {
    "collapsed": true
   },
   "source": [
    "$二、不显含y(或x)的方程$"
   ]
  },
  {
   "cell_type": "markdown",
   "metadata": {},
   "source": [
    "3、现在讨论形如"
   ]
  },
  {
   "cell_type": "markdown",
   "metadata": {},
   "source": [
    "$$F（x，y'）=0~~~~~~~~~~~~(2.4.12)$$"
   ]
  },
  {
   "cell_type": "markdown",
   "metadata": {},
   "source": [
    "的方程的解法."
   ]
  },
  {
   "cell_type": "markdown",
   "metadata": {},
   "source": [
    "$记p=y'=\\frac{\\mathrm d y}{\\mathrm d x}.从几何观点看，F（x,p）=0代表Oxp平面上的一条曲线。设把这曲线表为适当的参数形式$"
   ]
  },
  {
   "cell_type": "markdown",
   "metadata": {},
   "source": [
    "$$\n",
    "\\begin{cases}\n",
    "x=\\varphi(t)\\\\\n",
    "p=\\psi(t)\n",
    "\\end{cases}\n",
    "~~~~~~~~~~~~(2.4.13)\n",
    "$$"
   ]
  },
  {
   "cell_type": "markdown",
   "metadata": {},
   "source": [
    "$这里t为参数，在注意到，沿方程（2.4.12）的任何一个积分曲线上，恒满足基本关系{\\mathrm d y}=p{\\mathrm d x}.以（2.4.13）代入上式得$"
   ]
  },
  {
   "cell_type": "markdown",
   "metadata": {},
   "source": [
    "$${\\mathrm d y}=p=\\psi(t)\\varphi'(t){\\mathrm d t}$$"
   ]
  },
  {
   "cell_type": "markdown",
   "metadata": {},
   "source": [
    "两边积分，得到"
   ]
  },
  {
   "cell_type": "markdown",
   "metadata": {},
   "source": [
    "$$y=\\int{\\psi(t)\\varphi'(t){\\mathrm d t}}+c$$"
   ]
  },
  {
   "cell_type": "markdown",
   "metadata": {},
   "source": [
    "于是得到方程（2.4.12）参数形式的通解"
   ]
  },
  {
   "cell_type": "markdown",
   "metadata": {},
   "source": [
    "$$\n",
    "\\begin{cases}\n",
    "x=\\varphi(t)\\\\\n",
    "y=\\int{\\psi(t)\\varphi'(t){\\mathrm d t}}+c\n",
    "\\end{cases}\n",
    "$$"
   ]
  },
  {
   "cell_type": "markdown",
   "metadata": {},
   "source": [
    "$c为任意常数$"
   ]
  },
  {
   "cell_type": "markdown",
   "metadata": {},
   "source": [
    "$例4、求解方程x^3+y'^3-3xy'=0(这里y'=\\frac{\\mathrm d y}{\\mathrm d x})$"
   ]
  },
  {
   "cell_type": "markdown",
   "metadata": {},
   "source": [
    "$解~~~令y'=p=tx,则由方程得$"
   ]
  },
  {
   "cell_type": "markdown",
   "metadata": {},
   "source": [
    "$$x=\\frac{3t}{1+t^3}$$"
   ]
  },
  {
   "cell_type": "markdown",
   "metadata": {},
   "source": [
    "从而"
   ]
  },
  {
   "cell_type": "markdown",
   "metadata": {},
   "source": [
    "$$p=\\frac{3t^2}{1+t^3}$$"
   ]
  },
  {
   "cell_type": "markdown",
   "metadata": {},
   "source": [
    "于是"
   ]
  },
  {
   "cell_type": "markdown",
   "metadata": {},
   "source": [
    "$${\\mathrm d y}=\\frac{9(1-2t^3)t^2}{(1+t^3)^3}{\\mathrm d t}$$"
   ]
  },
  {
   "cell_type": "markdown",
   "metadata": {},
   "source": [
    "积分之得到"
   ]
  },
  {
   "cell_type": "markdown",
   "metadata": {},
   "source": [
    "$$y=\\int \\frac{9(1-2t^3)t^2}{(1+t^3)^3}{\\mathrm d t}=\\frac{3}{2}\\frac{1+4t^3}{(1+t^3)^2}+c$$"
   ]
  },
  {
   "cell_type": "markdown",
   "metadata": {},
   "source": [
    "因此方程的通解表成参数形式"
   ]
  },
  {
   "cell_type": "markdown",
   "metadata": {},
   "source": [
    "$$\n",
    "\\begin{cases}\n",
    "x=\\frac{3t}{1+t^3}\\\\\n",
    "y=\\frac{3}{2}\\frac{1+4t^3}{(1+t^3)^2}+c\n",
    "\\end{cases}\n",
    "$$"
   ]
  },
  {
   "cell_type": "markdown",
   "metadata": {},
   "source": [
    "4、形如\n"
   ]
  },
  {
   "cell_type": "markdown",
   "metadata": {},
   "source": [
    "$$F（y,y'）=0~~~~~~~~~~~~~~~~~~~~~(2.4.14)$$"
   ]
  },
  {
   "cell_type": "markdown",
   "metadata": {},
   "source": [
    "$的方程，其求解的方法同方程（2.4.12）的求解方法类似$"
   ]
  },
  {
   "cell_type": "markdown",
   "metadata": {},
   "source": [
    "$记p=y',引入参数t,将方程表为适当的参数形式$"
   ]
  },
  {
   "cell_type": "markdown",
   "metadata": {},
   "source": [
    "$$\n",
    "\\begin{cases}\n",
    "x=\\varphi(t)\\\\\n",
    "p=\\psi(t)\n",
    "\\end{cases}\n",
    "$$"
   ]
  },
  {
   "cell_type": "markdown",
   "metadata": {},
   "source": [
    "$由关系式{\\mathrm d y}=p{\\mathrm d x}得到\\varphi‘(t）{\\mathrm d t}=\\psi(t){\\mathrm d x},由此得$"
   ]
  },
  {
   "cell_type": "markdown",
   "metadata": {},
   "source": [
    "$${\\mathrm d x}=\\frac{\\varphi‘(t}{\\psi(t)}{\\mathrm d t}$$"
   ]
  },
  {
   "cell_type": "markdown",
   "metadata": {},
   "source": [
    "$$x=\\int\\frac{\\varphi‘(t}{\\psi(t)}{\\mathrm d t}+c$$"
   ]
  },
  {
   "cell_type": "markdown",
   "metadata": {},
   "source": [
    "于是"
   ]
  },
  {
   "cell_type": "markdown",
   "metadata": {},
   "source": [
    "$$\n",
    "\\begin{cases}\n",
    "x=\\int\\frac{\\varphi‘(t}{\\psi(t)}{\\mathrm d t}+c\\\\\n",
    "y=\\varphi(t)\n",
    "\\end{cases}\n",
    "$$"
   ]
  },
  {
   "cell_type": "markdown",
   "metadata": {},
   "source": [
    "$为方程的参数形式的通解，其中c为任意常数$"
   ]
  },
  {
   "cell_type": "markdown",
   "metadata": {},
   "source": [
    "$此外，不难验证，若F(y,0)=0有实根y=k，则y=k也是方程的的解%"
   ]
  },
  {
   "cell_type": "markdown",
   "metadata": {},
   "source": [
    "$例5、求方程的y^2（1-y'）=(2-y')^2$"
   ]
  },
  {
   "cell_type": "markdown",
   "metadata": {},
   "source": [
    "$解~~令2-y'=yt,则与原微分方程消去y'后有$"
   ]
  },
  {
   "cell_type": "markdown",
   "metadata": {},
   "source": [
    "$$y^2(yt-1)=y^2t^2$$"
   ]
  },
  {
   "cell_type": "markdown",
   "metadata": {},
   "source": [
    "由此得"
   ]
  },
  {
   "cell_type": "markdown",
   "metadata": {},
   "source": [
    "$$y=\\frac{1}{t}+t$$"
   ]
  },
  {
   "cell_type": "markdown",
   "metadata": {},
   "source": [
    "并且"
   ]
  },
  {
   "cell_type": "markdown",
   "metadata": {},
   "source": [
    "$$y'=1-t^2$$"
   ]
  },
  {
   "cell_type": "markdown",
   "metadata": {},
   "source": [
    "这是原微分方程的参数形式.因此"
   ]
  },
  {
   "cell_type": "markdown",
   "metadata": {},
   "source": [
    "$${\\mathrm d x}=\\frac{\\mathrm d y}{y'}=-\\frac{1}{t^2}{\\mathrm d t}$$"
   ]
  },
  {
   "cell_type": "markdown",
   "metadata": {},
   "source": [
    "积分之得到"
   ]
  },
  {
   "cell_type": "markdown",
   "metadata": {},
   "source": [
    "$$x=\\frac{1}{t}+c$$"
   ]
  },
  {
   "cell_type": "markdown",
   "metadata": {},
   "source": [
    "于是求方程的参数形式的通解为"
   ]
  },
  {
   "cell_type": "markdown",
   "metadata": {},
   "source": [
    "$$\n",
    "\\begin{cases}\n",
    "x=\\frac{1}{t}+c\\\\\n",
    "y=\\frac{1}{t}+t\n",
    "\\end{cases}\n",
    "$$"
   ]
  },
  {
   "cell_type": "markdown",
   "metadata": {},
   "source": [
    "或者消去参数t得"
   ]
  },
  {
   "cell_type": "markdown",
   "metadata": {},
   "source": [
    "$$y=x+\\frac{1}{x-c}-c$$"
   ]
  },
  {
   "cell_type": "markdown",
   "metadata": {},
   "source": [
    "$其中c为任意常数$"
   ]
  },
  {
   "cell_type": "markdown",
   "metadata": {},
   "source": [
    "$此外，当y'=0时，原方程变为y^2=4,于是y=\\pm 2,也是方程的解$"
   ]
  },
  {
   "cell_type": "code",
   "execution_count": null,
   "metadata": {
    "collapsed": true
   },
   "outputs": [],
   "source": []
  }
 ],
 "metadata": {
  "kernelspec": {
   "display_name": "SageMath 7.3",
   "language": "",
   "name": "sagemath"
  },
  "language_info": {
   "codemirror_mode": {
    "name": "ipython",
    "version": 2
   },
   "file_extension": ".py",
   "mimetype": "text/x-python",
   "name": "python",
   "nbconvert_exporter": "python",
   "pygments_lexer": "ipython2",
   "version": "2.7.10"
  }
 },
 "nbformat": 4,
 "nbformat_minor": 0
}
