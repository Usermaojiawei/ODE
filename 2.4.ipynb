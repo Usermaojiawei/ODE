{
 "cells": [
  {
   "cell_type": "markdown",
   "metadata": {},
   "source": [
    "# 2.4 一阶隐式微分方程及其参数表示 (Implicit First-Order ODE and Parameter Representation)"
   ]
  },
  {
   "cell_type": "markdown",
   "metadata": {},
   "source": [
    "一阶隐式微分方程的一般形式可以表示为 \n",
    "$$ \n",
    "F(x,y,\\frac{\\mathrm d y}{\\mathrm d x})=0 \n",
    "$$ \n",
    "\n",
    "如果能从此方程中解出导数 $ \\frac{\\mathrm d y}{\\mathrm d x}$, 其表达式为 \n",
    "$$ \n",
    "\\frac{\\mathrm d y}{\\mathrm d x} = f(x,y),\n",
    "$$\n",
    "则可依 $ f(x,y) $ 的具体形状选择适合的办法进行求解。\n",
    "\n",
    "但如果难从方程中解出 $ \\frac{\\mathrm d y}{\\mathrm d x} $, 或即使可以解出 $\\frac{\\mathrm d y}{\\mathrm d x}$, 而其表达式相当复杂的情况下， 则宜**引进参数的办法使之变为导数已解出的方程类型**。"
   ]
  },
  {
   "cell_type": "markdown",
   "metadata": {},
   "source": [
    "本节考虑如下四种情形:\n",
    "\n",
    "$$\n",
    "\\begin{aligned}\n",
    "y &=f(x,\\frac{\\mathrm d y}{\\mathrm d x})\\\\\n",
    "x &=f(y,\\frac{\\mathrm d y}{\\mathrm d x})\n",
    "\\end{aligned}\n",
    "$$\n",
    "\n",
    "$$\n",
    "\\begin{aligned}\n",
    "F(x,\\frac{\\mathrm d y}{\\mathrm d x}) & =0\\\\\n",
    "F(y,\\frac{\\mathrm d y}{\\mathrm d x}) & =0\n",
    "\\end{aligned}\n",
    "$$"
   ]
  },
  {
   "cell_type": "markdown",
   "metadata": {},
   "source": [
    "## 一. 能解出 $y$ ( 或 $x$) 的方程 "
   ]
  },
  {
   "cell_type": "markdown",
   "metadata": {},
   "source": [
    "**1.**\n",
    "$$\n",
    "y =f(x,\\frac{\\mathrm d y}{\\mathrm d x})\n",
    "$$   \n",
    "   \n",
    "这里假设函数 $f(x,\\frac{\\mathrm d y}{\\mathrm d x})$ 有连续的偏导数。"
   ]
  },
  {
   "cell_type": "markdown",
   "metadata": {},
   "source": [
    "**解法**：引进参数 \n",
    "$$\n",
    "\\frac{\\mathrm d y}{\\mathrm d x}=p\n",
    "$$\n",
    "\n",
    "则 $ y =f(x,\\frac{\\mathrm d y}{\\mathrm d x})$变为\n",
    "\n",
    "$$ y=f(x,p)$$"
   ]
  },
  {
   "cell_type": "markdown",
   "metadata": {},
   "source": [
    "两边关于 $x$ 求导，并把 $\\frac{\\mathrm d y}{\\mathrm d x}=p$ 代入， 则可得关于 $x$  和  $p$  显式方程:\n",
    "\n",
    "$$\n",
    "\\begin{aligned}\n",
    "p &= \\frac{\\partial f}{\\partial x}+\\frac{\\partial f}{\\partial p}\\frac{\\mathbf d p}{\\mathbf d x} \\\\\n",
    "\\frac{\\mathrm d p}{\\mathrm d x} &=\\frac{p-\\frac{\\partial f}{\\partial x}}{\\frac{\\partial f}{\\partial p}} \n",
    "\\end{aligned}\n",
    "$$\n",
    "\n",
    "要获得最终的通解, 需考虑如下 (i), (ii), (iii) 三种情形:"
   ]
  },
  {
   "cell_type": "markdown",
   "metadata": {},
   "source": [
    "(i) 若已得出 \n",
    "$$\n",
    "p=\\frac{\\partial f}{\\partial x}+\\frac{\\partial f}{\\partial p}\\frac{\\partial p}{\\partial x}\n",
    "$$\n",
    "的通解形式为\n",
    "$$ \n",
    "p = \\varphi(x, c)\n",
    "$$ \n",
    "\n",
    "上式代入 $ y=f(x,p)$ 可得 $y =f(x,\\frac{\\mathrm d y}{\\mathrm d x})$ 的通解:\n",
    "$$\n",
    "y = f (x,\\varphi(x,c))\n",
    "$$ "
   ]
  },
  {
   "cell_type": "markdown",
   "metadata": {},
   "source": [
    "(ii) 若得出 \n",
    "$$\n",
    "p=\\frac{\\partial f}{\\partial x}+\\frac{\\partial f}{\\partial p}\\frac{\\partial p}{\\partial x}\n",
    "$$\n",
    "通解形式为 $x =\\psi( p, c)$， 则原方程 $ y =f(x,\\frac{\\mathrm d y}{\\mathrm d x})$ 有参数形式的通解\n",
    "\n",
    "$$\n",
    "\\begin{cases}\n",
    "x=\\psi( p, c)\\\\\n",
    "y=f(\\psi( p, c),p)\n",
    "\\end{cases}\n",
    "$$\n",
    "\n",
    "其中 $ p $ 是参数，$ c$ 为任意常数。"
   ]
  },
  {
   "cell_type": "markdown",
   "metadata": {},
   "source": [
    "(iii) 若求得 \n",
    "$$\n",
    "p=\\frac{\\partial f}{\\partial x}+\\frac{\\partial f}{\\partial p}\\frac{\\partial p}{\\partial x}\n",
    "$$\n",
    "通解形式 \n",
    "$$\n",
    "\\Phi(x, p, c) = 0,\n",
    "$$\n",
    "则原方程 $y=f(x,\\frac{\\mathrm d y}{\\mathrm d x})$ 有参数形式通解:\n",
    "\n",
    "$$\n",
    "\\begin{cases}\n",
    "\\Phi(x, p, c) = 0\\\\\n",
    "y=f(x,p)\n",
    "\\end{cases}\n",
    "$$\n",
    "其中 $p$ 是参数, $c$ 为任意常数。 $\\square$"
   ]
  },
  {
   "cell_type": "markdown",
   "metadata": {},
   "source": [
    "**2.** $$ x =f(y,\\frac{\\mathrm d y}{\\mathrm d x})$$"
   ]
  },
  {
   "cell_type": "markdown",
   "metadata": {},
   "source": [
    "**解法**\n",
    "令 $\\frac{\\mathrm d y}{\\mathrm d x}=p$ 则 \n",
    "$$\n",
    "x=f(y,p)\n",
    "$$\n",
    "\n",
    "两边对 $y$ 求导 \n",
    "\n",
    "$$ \n",
    "\\frac{1}{p}=\\frac{\\partial f}{\\partial y}+\\frac{\\partial f}{\\partial p}\\frac{\\partial p}{\\partial y}\n",
    "$$"
   ]
  },
  {
   "cell_type": "markdown",
   "metadata": {},
   "source": [
    "若求得为 $p=\\psi( y, c)$, 则 $x =f(y,\\frac{\\mathrm d y}{\\mathrm d x})$ 的通解为 \n",
    "$$\n",
    "x = f ( y,\\psi( y, c))\n",
    "$$\n",
    "\n",
    "若求得为 $\\Phi(y, p, c) = 0$,则 $x =f(y,\\frac{\\mathrm d y}{\\mathrm d x})$ 的通解为\n",
    "$$\n",
    "\\begin{cases}\n",
    "x=f(y,p)\\\\\n",
    "\\Phi(y, p, c) = 0\n",
    "\\end{cases}\n",
    "$$\n",
    "$\\square$"
   ]
  },
  {
   "cell_type": "markdown",
   "metadata": {},
   "source": [
    "**例 1.** 求方程 \n",
    "$$\n",
    "(\\frac{\\mathrm d y}{\\mathrm d x})^3+2x\\frac{\\mathrm d y}{\\mathrm d x}-y=0\n",
    "$$"
   ]
  },
  {
   "cell_type": "markdown",
   "metadata": {},
   "source": [
    "**解:** 解出 $y$, 并令 $\\frac{\\mathrm d y}{\\mathrm d x}=p$， 得到\n",
    "$$\n",
    "y=p^3+2xp\n",
    "$$\n",
    "两边对 $x$ 求导数， 得到\n",
    "\n",
    "$$\n",
    "p=3p^2\\frac{\\mathrm d p}{\\mathrm d x}+2x\\frac{\\mathrm d p}{\\mathrm d x}+2p\n",
    "$$\n",
    "\n",
    "即\n",
    "$$\n",
    "3p^2{\\mathrm d p}+2x{\\mathrm d p}+p{\\mathrm d x}=0\n",
    "$$"
   ]
  },
  {
   "cell_type": "markdown",
   "metadata": {},
   "source": [
    "当 $p\\neq0$ 时，上式乘以 $p$ 得到\n",
    "\n",
    "$$\n",
    "3p^3{\\mathrm d p}+2xp{\\mathrm d p}+p^2{\\mathrm d x}=0\n",
    "$$\n",
    "\n",
    "两边积分可得,\n",
    "\n",
    "$$\n",
    "\\begin{aligned}\n",
    "\\frac{3p^4}{4}+xp^2 &=c\\\\\n",
    "x&=\\frac{c-\\frac{3}{4}p^2}{p^2}\n",
    "\\end{aligned}\n",
    "$$\n",
    "\n",
    "上式代入 $y=p^3+2xp$, 可得\n",
    "\n",
    "$$\n",
    "y=\\frac{2c}{p}-\\frac{1}{2}p^3\n",
    "$$"
   ]
  },
  {
   "cell_type": "markdown",
   "metadata": {},
   "source": [
    "因此， 得到方程的参数形式的通解\n",
    "$$\n",
    "\\begin{cases}\n",
    "x=\\frac{c}{p^2}-\\frac{3}{4}p^2\\\\\n",
    "y=\\frac{2c}{p}-\\frac{1}{2}p^3\n",
    "\\end{cases}\n",
    "\\quad p \\neq 0.\n",
    "$$\n",
    "\n",
    "当 $p=0$ 时， 由 $y=p^3+2xp$ 可知 $y=0$ 也是方程的解."
   ]
  },
  {
   "cell_type": "markdown",
   "metadata": {},
   "source": [
    "**例2.** 求下面方程的解\n",
    "$$ \n",
    "y=(\\frac{\\mathrm d y}{\\mathrm d x})^2-x\\frac{\\mathrm d y}{\\mathrm d x}+\\frac{x^2}{2}\n",
    "$$"
   ]
  },
  {
   "cell_type": "markdown",
   "metadata": {},
   "source": [
    "**解:** 令 $\\frac{\\mathrm d y}{\\mathrm d x}=p$, 可得\n",
    "$$\n",
    "y=p^2-xp+\\frac{x^2}{2}\n",
    "$$\n",
    "两边对 $x$求导数，得到\n",
    "$$\n",
    "p=2p\\frac{\\mathrm d p}{\\mathrm d x}-x\\frac{\\mathrm d p}{\\mathrm d x}-p+x\n",
    "$$\n",
    "或\n",
    "$$\n",
    "(\\frac{\\mathrm d p}{\\mathrm d x}-1)(2p-x)=0\n",
    "$$"
   ]
  },
  {
   "cell_type": "markdown",
   "metadata": {},
   "source": [
    "从 $\\frac{\\mathrm d p}{\\mathrm d x}-1=0$ 解得\n",
    "$$\n",
    "p=x+c\n",
    "$$\n",
    "将它代入 $y=p^2-xp+\\frac{x^2}{2}$ 得到方程的通解\n",
    "$$\n",
    "y=\\frac{x^2}{2}+cx+c^2\n",
    "$$"
   ]
  },
  {
   "cell_type": "markdown",
   "metadata": {},
   "source": [
    "又从 $2p-x=0$ 解的\n",
    "$$\n",
    "p=\\frac{x}{2}\n",
    "$$\n",
    "将此式代入 $y=p^2-xp+\\frac{x^2}{2}$ 又得到方程的一个解\n",
    "$$\n",
    "y=\\frac{x^2}{4}\n",
    "$$"
   ]
  },
  {
   "cell_type": "markdown",
   "metadata": {},
   "source": [
    "**注意:** 此解与通解 $y=\\frac{x^2}{2}+cx+c^2$ 的每一条积分曲线均相切， 这样的解我们称为**奇解**."
   ]
  },
  {
   "cell_type": "code",
   "execution_count": 12,
   "metadata": {
    "collapsed": false
   },
   "outputs": [
    {
     "data": {
      "image/png": "[encoded data removed]",
      "text/plain": [
       "Graphics object consisting of 6 graphics primitives"
      ]
     },
     "metadata": {},
     "output_type": "display_data"
    }
   ],
   "source": [
    "var('x,c')\n",
    "maxy = 60\n",
    "y1 = x^2/2 + c*x + c^2\n",
    "y2 = x^2/4\n",
    "\n",
    "s = solve(y2 == maxy, x)\n",
    "x0 = s[0].right()\n",
    "x1 = s[1].right()\n",
    "xr = (x, x0, x1)\n",
    "\n",
    "p = y2.plot(xr, color='red')\n",
    "for k in [-2, -1, 0, 1, 2]:\n",
    "    y = y1.subs(c=k)\n",
    "    s = solve(y == maxy, x)\n",
    "    x0 = s[0].right()\n",
    "    x1 = s[1].right()\n",
    "    xr = (x, x0, x1)\n",
    "    p = p + y.plot(xr)\n",
    "show(p)"
   ]
  },
  {
   "cell_type": "markdown",
   "metadata": {},
   "source": [
    "**例 3.** 求解（例1) 中的方程 \n",
    "$$\n",
    "(\\frac{\\mathrm d y}{\\mathrm d x})^3+2x\\frac{\\mathrm d y}{\\mathrm d x}-y=0\n",
    "$$"
   ]
  },
  {
   "cell_type": "markdown",
   "metadata": {},
   "source": [
    "**解:** 解出 $x$， 并以 $\\frac{\\mathrm d y}{\\mathrm d x}=p$ 代入， 可得\n",
    "$$\n",
    "x=\\frac{y-p^3}{2p},\\quad p\\neq0\n",
    "$$\n",
    "对 $y$ 求导数，得到\n",
    "$$\n",
    "\\frac{1}{p}=\\frac{p(1-3p^2\\frac{\\mathrm d p}{\\mathrm d y})-(y-p^3)\\frac{\\mathrm d p}{\\mathrm d y}}{2p^2}\n",
    "$$\n",
    "或\n",
    "$$\n",
    "p{\\mathrm d y}+y{\\mathrm d p}+2p^3{\\mathrm d p}=0\n",
    "$$\n",
    "积分可得\n",
    "$$\n",
    "2yp+p^4=c\n",
    "$$"
   ]
  },
  {
   "cell_type": "markdown",
   "metadata": {},
   "source": [
    "因而\n",
    "$$\n",
    "y=\\frac{c-p^4}{2p}\n",
    "$$\n",
    "代入 $x=\\frac{y-p^3}{2p},\\, p\\neq0$, 求得\n",
    "$$\n",
    "x=\\frac{\\frac{c-p^4}{2p}-p^3}{2p}=\\frac{c-3p^4}{4p^2}\n",
    "$$"
   ]
  },
  {
   "cell_type": "markdown",
   "metadata": {},
   "source": [
    "所以方程的通解为\n",
    "$$\n",
    "\\begin{cases}\n",
    "x=\\frac{c}{4p^2}-\\frac{3}{4}p^2\\\\\n",
    "y=\\frac{c}{2p}-\\frac{p^3}{2}\n",
    "\\end{cases}\n",
    "\\quad p \\neq 0\n",
    "$$\n",
    "\n",
    "此外， 还有解 $y=0$. 把 $c$ 换成 $4c$, 通解就和例 1 的结果相同."
   ]
  },
  {
   "cell_type": "markdown",
   "metadata": {
    "collapsed": true
   },
   "source": [
    "## 二. 不显含 $y$ (或 $x$) 的方程"
   ]
  },
  {
   "cell_type": "markdown",
   "metadata": {},
   "source": [
    "**1.** 下面讨论形如\n",
    "$$\n",
    "F(x，\\frac{\\mathrm d y}{\\mathrm d x})=0\n",
    "$$\n",
    "的方程的解法."
   ]
  },
  {
   "cell_type": "markdown",
   "metadata": {},
   "source": [
    "记 \n",
    "$$\n",
    "p=\\frac{\\mathrm d y}{\\mathrm d x}.\n",
    "$$\n",
    "\n",
    "从几何观点看， $F(x,p)=0$ 代表 $Oxp$ 平面上的一条曲线. 设把这曲线表为适当的参数形式\n",
    "$$\n",
    "\\begin{cases}\n",
    "x=\\varphi(t)\\\\\n",
    "p=\\psi(t)\n",
    "\\end{cases}\n",
    "$$\n",
    "这里 $t$ 为参数. "
   ]
  },
  {
   "cell_type": "markdown",
   "metadata": {},
   "source": [
    "注意到， 沿方程 $F(x,p)=0$ 的任何一个积分曲线上， 恒满足基本关系 \n",
    "$$\n",
    "{\\mathrm d y}=p{\\mathrm d x}.\n",
    "$$"
   ]
  },
  {
   "cell_type": "markdown",
   "metadata": {},
   "source": [
    "把\n",
    "$$\n",
    "\\begin{cases}\n",
    "x=\\varphi(t)\\\\\n",
    "p=\\psi(t)\n",
    "\\end{cases}\n",
    "$$\n",
    "代入上式得\n",
    "$$\n",
    "{\\mathrm d y}=p=\\psi(t)\\varphi'(t){\\mathrm d t}\n",
    "$$\n",
    "两边积分，得到\n",
    "$$\n",
    "y=\\int{\\psi(t)\\varphi'(t){\\mathrm d t}}+c\n",
    "$$\n",
    "于是得到方程 $F(x，y')=0$ 参数形式的通解\n",
    "\n",
    "$$\n",
    "\\begin{cases}\n",
    "x=\\varphi(t)\\\\\n",
    "y=\\int{\\psi(t)\\varphi'(t){\\mathrm d t}}+c\n",
    "\\end{cases}\n",
    "$$\n",
    "其中 $c$ 为任意常数."
   ]
  },
  {
   "cell_type": "markdown",
   "metadata": {},
   "source": [
    "**例4. ** 求解方程 \n",
    "$$\n",
    "x^3+\\left(\\frac{\\mathrm d y}{\\mathrm d x}\\right)^3-3x\\frac{\\mathrm d y}{\\mathrm d x}=0 \n",
    "$$"
   ]
  },
  {
   "cell_type": "markdown",
   "metadata": {},
   "source": [
    "**解: ** 引入参数 $t$, 令 $p = \\frac{\\mathrm d y}{\\mathrm d x}=tx$, 则由方程得\n",
    "$$\n",
    "x=\\frac{3t}{1+t^3}\n",
    "$$\n",
    "从而\n",
    "$$\n",
    "p=\\frac{3t^2}{1+t^3}\n",
    "$$\n",
    "于是\n",
    "$$\n",
    "{\\mathrm d y}=\\frac{9(1-2t^3)t^2}{(1+t^3)^3}{\\mathrm d t}\n",
    "$$\n",
    "积分之得到\n",
    "$$\n",
    "y=\\int \\frac{9(1-2t^3)t^2}{(1+t^3)^3}{\\mathrm d t}=\\frac{3}{2}\\frac{1+4t^3}{(1+t^3)^2}+c\n",
    "$$"
   ]
  },
  {
   "cell_type": "markdown",
   "metadata": {},
   "source": [
    "因此方程的通解表成参数形式\n",
    "\n",
    "$$\n",
    "\\begin{cases}\n",
    "x=\\frac{3t}{1+t^3}\\\\\n",
    "y=\\frac{3}{2}\\frac{1+4t^3}{(1+t^3)^2}+c\n",
    "\\end{cases}\n",
    "$$"
   ]
  },
  {
   "cell_type": "markdown",
   "metadata": {},
   "source": [
    "**2. ** 下面讨论形如\n",
    "$$\n",
    "F（y,\\frac{\\mathrm d y}{\\mathrm d x}）=0\n",
    "$$\n",
    "的方程， 其求解的方法同方程 $F(y,\\frac{\\mathrm d y}{\\mathrm d x})=0$ 的求解方法类似."
   ]
  },
  {
   "cell_type": "markdown",
   "metadata": {},
   "source": [
    "记 $p=\\frac{\\mathrm d y}{\\mathrm d x}$, 引入参数 $t$, 将方程表为适当的参数形式\n",
    "$$\n",
    "\\begin{cases}\n",
    "x=\\varphi(t)\\\\\n",
    "p=\\psi(t)\n",
    "\\end{cases}\n",
    "$$\n",
    "由关系式 ${\\mathrm d y}=p{\\mathrm d x}$ 得到 $\\varphi'(t）{\\mathrm d t}=\\psi(t){\\mathrm d x}$, 由此得\n",
    "$$\n",
    "{\\mathrm d x}=\\frac{\\varphi'(t}{\\psi(t)}{\\mathrm d t}\n",
    "$$\n",
    "$$\n",
    "x=\\int\\frac{\\varphi'(t)}{\\psi(t)}{\\mathrm d t}+c\n",
    "$$\n",
    "于是\n",
    "\n",
    "$$\n",
    "\\begin{cases}\n",
    "x=\\int\\frac{\\varphi'(t)}{\\psi(t)}{\\mathrm d t}+c\\\\\n",
    "y=\\varphi(t)\n",
    "\\end{cases}\n",
    "$$\n",
    "为方程的参数形式的通解，其中 $c$为任意常数. \n",
    "\n",
    "此外，不难验证，若 $F(y,0)=0$ 有实根 $y=k$，则 $y=k$ 也是方程的的解."
   ]
  },
  {
   "cell_type": "markdown",
   "metadata": {},
   "source": [
    "**例 5.** 求解方程 \n",
    "$$ \n",
    "y^2(1-y')=(2-y')^2\n",
    "$$"
   ]
  },
  {
   "cell_type": "markdown",
   "metadata": {},
   "source": [
    "**解:** 令 $y^2-y'=yt$, 则原微分方程消去 $y'$ 后有\n",
    "$$\n",
    "y^2(yt-1)=y^2t^2\n",
    "$$\n",
    "由此得\n",
    "$$\n",
    "y=\\frac{1}{t}+t\n",
    "$$\n",
    "并且\n",
    "$$\n",
    "y'=1-t^2\n",
    "$$\n",
    "这是原微分方程的参数形式.因此\n",
    "$$\n",
    "{\\mathrm d x}=\\frac{\\mathrm d y}{y'}=-\\frac{1}{t^2}{\\mathrm d t}\n",
    "$$\n",
    "积分之得到\n",
    "$$\n",
    "x=\\frac{1}{t}+c\n",
    "$$\n",
    "于是求方程的参数形式的通解为\n",
    "$$\n",
    "\\begin{cases}\n",
    "x=\\frac{1}{t}+c\\\\\n",
    "y=\\frac{1}{t}+t\n",
    "\\end{cases}\n",
    "$$\n",
    "或者消去参数 $t$ 得\n",
    "$$\n",
    "y=x+\\frac{1}{x-c}-c\n",
    "$$\n",
    "其中 $c$ 为任意的常数.\n",
    "\n",
    "此外，当 $y'=0$ 时原方程变为 $y^2=4$, 于是有 $y=\\pm2$ 也是方程的解."
   ]
  },
  {
   "cell_type": "markdown",
   "metadata": {
    "collapsed": true
   },
   "source": [
    "**练习**"
   ]
  },
  {
   "cell_type": "markdown",
   "metadata": {},
   "source": [
    "(1) $x\\left(\\frac{\\mathrm d y}{\\mathrm d x}\\right)^3=1+ \\frac{\\mathrm d y}{\\mathrm d x}$ \n",
    "\n",
    "(2) $\\left(\\frac{\\mathrm d y}{\\mathrm d x}\\right)^3=x^3\\left(1-\\frac{\\mathrm d y}{\\mathrm d x}\\right)$\n",
    "\n",
    "(3) $y\\left[1-\\left(\\frac{\\mathrm d y}{\\mathrm d x}\\right)^2\\right]=1$\n",
    "\n",
    "(4) $x\\left(\\frac{\\mathrm d y}{\\mathrm d x}-1\\right)=\\left(2- \\frac{\\mathrm d y}{\\mathrm d x}\\right)^2$\n",
    "\n",
    "(5) $y=\\left(\\frac{\\mathrm d y}{\\mathrm d x}\\right)^2e^{\\frac{\\mathrm d y}{\\mathrm d x}}$"
   ]
  },
  {
   "cell_type": "code",
   "execution_count": null,
   "metadata": {
    "collapsed": true
   },
   "outputs": [],
   "source": []
  }
 ],
 "metadata": {
  "kernelspec": {
   "display_name": "SageMath 7.3",
   "language": "",
   "name": "sagemath"
  },
  "language_info": {
   "codemirror_mode": {
    "name": "ipython",
    "version": 2
   },
   "file_extension": ".py",
   "mimetype": "text/x-python",
   "name": "python",
   "nbconvert_exporter": "python",
   "pygments_lexer": "ipython2",
   "version": "2.7.10"
  },
  "latex_envs": {
   "LaTeX_envs_menu_present": true,
   "bibliofile": "biblio.bib",
   "cite_by": "apalike",
   "current_citInitial": 1,
   "eqLabelWithNumbers": true,
   "eqNumInitial": 0
  }
 },
 "nbformat": 4,
 "nbformat_minor": 0
}
