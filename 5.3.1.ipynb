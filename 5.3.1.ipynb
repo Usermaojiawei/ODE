{
 "cells": [
  {
   "cell_type": "raw",
   "metadata": {},
   "source": [
    "# § 5.3 常系数线性微分方程组/Coefficients Linear ODEs/"
   ]
  },
  {
   "cell_type": "markdown",
   "metadata": {},
   "source": [
    "### 本节主要内容 /Main Contents/\n",
    "\n",
    "* 常系数齐线性微分方程组\n",
    "$$\n",
    "\\mathbf x'=\\mathbf A\\mathbf x\n",
    "$$\n",
    "的基解矩阵的结构, 这里 $\\mathbf A$ 是 $n\\times n$ 常数矩阵.\n",
    "\n",
    "* 通过代数的方法, 寻求\n",
    "$$\n",
    "\\mathbf x'=\\mathbf A\\mathbf x\n",
    "$$\n",
    "的一个基解矩阵.\n",
    "\n",
    "* 拉普拉斯变换在常系数线性微分方程组中的应用."
   ]
  },
  {
   "cell_type": "markdown",
   "metadata": {},
   "source": [
    "### 5.3.1 矩阵指数 exp A 的定义和性质"
   ]
  },
  {
   "cell_type": "markdown",
   "metadata": {},
   "source": [
    "无穷矩阵级数\n",
    "\n",
    "$$\n",
    "\\begin{aligned}\n",
    "\\displaystyle\\sum_{k=1}^{\\infty} \\mathbf A_k\n",
    "&=\\mathbf A_1+\\mathbf A_2+\\mathbf A_3+\\dots+\\mathbf A_K+\\dots\\\\\n",
    "&=\\left( a_{ij}^{(1)}\\right)_{n\\times n}+\\left( a_{ij}^{(2)}\\right)_{n\\times n}+\\dots+\\left( a_{ij}^{(k)}\\right)_{n\\times n}+\\dots\\\\\n",
    "&=\\left(a_{ij}^{(1)}+a_{ij}^{(2)}+\\dots+a_{ij}^{(k)}+\\dots\\right)_{n\\times n}\\\\\n",
    "\\end{aligned}\n",
    "$$\n",
    "\n",
    "如果每个 $\\displaystyle\\sum_{k=1}^{\\infty} a_{ij}^{(k)}$, $i,j=1,2,\\dots,n$ 收敛, 则 $\\displaystyle\\sum_{k=1}^{\\infty} \\mathbf A_k$ 收敛."
   ]
  },
  {
   "cell_type": "markdown",
   "metadata": {},
   "source": [
    "判断无穷矩阵级数 $\\displaystyle\\sum_{k=1}^{\\infty} \\mathbf A_k$ 收敛的法则:\n",
    "\n",
    "$\\forall k$, $ \\mid\\mid \\mathbf A_k\\mid\\mid=\\displaystyle\\sum_{j=1}^{\\infty}\\displaystyle\\sum_{i=1}^{\\infty}\\mid a_{ij}^{(k)}\\mid\\leq M_k$, 而级数 $\\displaystyle\\sum_{k=1}^{\\infty} M_k$ 收敛,则 $\\displaystyle\\sum_{k=1}^{\\infty} \\mathbf A_k$收敛.\n",
    "\n",
    "同理, 可给出 $\\displaystyle\\sum_{k=1}^{\\infty} \\mathbf A_k{(t)}$ 在区间 $I$ 上的一致收敛的定义, 和函数等类似的结果."
   ]
  },
  {
   "cell_type": "markdown",
   "metadata": {},
   "source": [
    "**定义 $1$ ** 矩阵指数\n",
    "\n",
    "$$\n",
    "\\exp \\mathbf A=\\displaystyle\\sum_{k=0}^{\\infty} \\frac{\\mathbf A^k}{k!}=\\mathbf E+\\mathbf A+\\frac{\\mathbf A^2}{2!}+\\dots+\\frac{\\mathbf A^m}{m!}+\\dots\n",
    "$$\n",
    "\n",
    "$\\mathbf E$ 为 $n$ 阶单位矩阵, $\\mathbf A^m$ 是矩阵 $\\mathbf A$ 的 $m$ 次幂."
   ]
  },
  {
   "cell_type": "markdown",
   "metadata": {},
   "source": [
    "**注:** $\\mathbf A^0=E$ , $0!=1$, $\\exp \\mathbf A$ 是一个确定的矩阵."
   ]
  },
  {
   "cell_type": "markdown",
   "metadata": {},
   "source": [
    "对于一切正整数 $k$, $\\|\\frac{\\mathbf A^k}{k!}\\|\\leq\\frac{\\|\\mathbf A^k\\|}{k!} \\leq \\frac{\\|A\\|^k}{k!}$ 而\n",
    "\n",
    "$$\n",
    "\\sum_{k=0}^{\\infty}\\frac{\\| \\mathbf A\\|^k}{k!}=\\| \\mathbf E\\|+\\sum_{k=1}^{\\infty} \\frac{\\| \\mathbf A\\|^k}{k!}=e^{\\| \\mathbf A\\|}+n-1\n",
    "$$\n",
    "\n",
    "收敛, 则 $\\displaystyle\\sum_{k=0}^{\\infty} \\frac{\\mathbf A^k}{k!}$ 收敛."
   ]
  },
  {
   "cell_type": "markdown",
   "metadata": {},
   "source": [
    "**定义 2** 矩阵指数函数 $\\exp \\mathbf A t =\\displaystyle\\sum_{k=0}^{\\infty} \\frac{\\mathbf A^k t^k}{k!}$ 在 $t$ 的任何有限区间上是一致收敛的.\n",
    "\n",
    "对于一切正整数 $k$, 当 $\\mid t\\mid\\leq c$ ($c$是某一正常数时),有\n",
    "\n",
    "$$\n",
    "\\mid\\mid\\frac{\\mathbf A^k t^k}{k!}\\mid\\mid\\leq\\frac{\\mid\\mid \\mathbf A \\mid\\mid^k \\mid t\\mid^k}{k!}\\leq\\frac{\\mid\\mid \\mathbf A\\mid\\mid^k c^k}{k!}\n",
    "$$\n",
    "\n",
    "而数值级数 \n",
    "\n",
    "$$\n",
    "\\displaystyle\\sum_{k=0}^{\\infty}\\frac{\\left(\\mid\\mid \\mathbf A\\mid\\mid c\\right)^k}{k!}\n",
    "$$\n",
    "\n",
    "是收敛的,因而\n",
    "\n",
    "$$\n",
    "\\exp \\mathbf A t =\\displaystyle\\sum_{k=0}^{\\infty} \\frac{\\mathbf A^k t^k}{k!}\n",
    "$$\n",
    "\n",
    "在 $t$ 的任何有限区间上是一致收敛的."
   ]
  },
  {
   "cell_type": "markdown",
   "metadata": {},
   "source": [
    "### $\\exp \\mathbf A$ 性质"
   ]
  },
  {
   "cell_type": "markdown",
   "metadata": {},
   "source": [
    "**性质 1 ** "
   ]
  },
  {
   "cell_type": "markdown",
   "metadata": {},
   "source": [
    "如果矩阵 $\\mathbf A$ ,$\\mathbf B$ 是可交换的,即 $\\mathbf A\\mathbf B=\\mathbf B\\mathbf A$ ,则\n",
    "\n",
    "$$\n",
    "\\exp(\\mathbf A+\\mathbf B)=\\exp \\mathbf A \\cdot \\exp\\mathbf B\n",
    "$$"
   ]
  },
  {
   "cell_type": "markdown",
   "metadata": {},
   "source": [
    "**证:** 由于级数 $\\exp A =\\displaystyle\\sum_{k=0}^{\\infty} \\frac{A^k}{k!}$, $\\exp B =\\displaystyle\\sum_{k=0}^{\\infty} \\frac{B^k}{k!}$\n",
    "\n",
    "由二项式定理及 $AB=BA$ ,\n",
    "\n",
    "$$\n",
    "\\begin{aligned}\n",
    "\\exp (A+B)\n",
    "&=E+(A+B)+\\frac{1}{2!}(A+B)^2+\\dots\\\\\n",
    "&=E+(A+B)+\\frac{1}{2!}(A^2+2AＢ＋Ｂ^２)＋\\dots\\\\\n",
    "\\end{aligned}\n",
    "$$\n",
    "\n",
    "$$\n",
    "\\exp (A+B)=\\exp A \\cdot \\exp B\n",
    "$$\n",
    "\n",
    "证毕. $\\square$"
   ]
  },
  {
   "cell_type": "markdown",
   "metadata": {},
   "source": [
    "**性质 2** 对于任何矩阵 $\\mathbf A$, $(\\exp \\mathbf A)^{-1}$  存在, 且\n",
    "\n",
    "$$\n",
    "(\\exp \\mathbf A)^{-1}=\\exp(-\\mathbf A)\n",
    "$$"
   ]
  },
  {
   "cell_type": "markdown",
   "metadata": {},
   "source": [
    "**证:** $\\mathbf A$ 与 $-\\mathbf A$ 是可交换的,故在\n",
    "\n",
    "$$\n",
    "\\exp (\\mathbf A+\\mathbf B)=\\exp \\mathbf A \\cdot \\exp \\mathbf B\n",
    "$$\n",
    "\n",
    "中,令 $\\mathbf B = - \\mathbf A$ 得\n",
    "\n",
    "$$\n",
    "\\exp \\mathbf A \\exp( − \\mathbf A ) = \\exp( \\mathbf A + ( − \\mathbf A )) = \\exp \\mathbf 0 = \\mathbf E\n",
    "$$\n",
    "\n",
    "$$\n",
    "(\\exp \\mathbf A )^{-1} = \\exp( −\\mathbf  A )\n",
    "$$"
   ]
  },
  {
   "cell_type": "markdown",
   "metadata": {},
   "source": [
    "**性质 3** 如果 $T$ 是非奇异矩阵,则\n",
    "\n",
    "$$\n",
    "\\exp( \\mathbf T^{-1}\\mathbf  A\\mathbf T ) = \\mathbf T^{-1} (\\exp\\mathbf  A ) \\mathbf T\n",
    "$$\n",
    "\n",
    "事实上　 \n",
    "$$\n",
    "\\begin{aligned}\n",
    "\\exp( \\mathbf T^{-1} \\mathbf A\\mathbf T)\n",
    "&=\\mathbf E+\\sum_{k=1}^{\\infty}\\frac{(\\mathbf T^{-1} A\\mathbf T)^k}{k!}\\\\\n",
    "&=\\mathbf E+\\sum_{k=1}^{\\infty}\\frac{\\mathbf T^{-1} \\mathbf A^k\\mathbf T}{k!}\\\\\n",
    "&=\\mathbf E+\\mathbf T^{-1}(\\sum_{k=1}^{\\infty} \\frac{\\mathbf A^k}{k!})\\mathbf T\\\\\n",
    "&=\\mathbf T^{-1}(\\exp \\mathbf A)\\mathbf T\\\\\n",
    "\\end{aligned}\n",
    "$$\n",
    "\n",
    "$$\n",
    "(\\mathbf T^{-1}\\mathbf A\\mathbf T)^2 = \\mathbf T^{−1}\\mathbf A\\mathbf T \\mathbf T^{−1} \\mathbf A\\mathbf T =\\mathbf  T^{−1}\\mathbf A^2\\mathbf T\n",
    "$$"
   ]
  },
  {
   "cell_type": "markdown",
   "metadata": {},
   "source": [
    "**定理 9** 矩阵 $\\Phi(t)= \\exp \\mathbf A t$ 是\n",
    "$$\n",
    "\\mathbf x'=\\mathbf A\\mathbf x\n",
    "$$\n",
    "\n",
    "的标准基解矩阵, $\\Phi(0)= \\mathbf E$."
   ]
  },
  {
   "cell_type": "markdown",
   "metadata": {},
   "source": [
    "**证明:**\n",
    "$$\n",
    "\\begin{aligned}\n",
    "\\Phi(t)'\n",
    "&=(\\exp \\mathbf A t)'\\\\\n",
    "&=\\mathbf A+\\frac{\\mathbf A^2 t}{1!}+\\frac{\\mathbf A^3 t^2}{2!}+\\dots+\\frac{\\mathbf A^k t^{k-1}}{(k-1)!}+\\frac{\\mathbf A^{k+1} t^k}{k!}+\\dots\\\\\n",
    "&=\\mathbf A\\exp \\mathbf A t \\\\\n",
    "&=\\mathbf A \\Phi(t)\\\\\n",
    "\\end{aligned}\n",
    "$$\n",
    "\n",
    "$\\Phi(t)$ 是 \n",
    "\n",
    "$$\n",
    "\\mathbf x'=\\mathbf  A\\mathbf x\n",
    "$$\n",
    "\n",
    "的解矩阵 , 又因为, $\\Phi(0)=E$ , 因此, $\\Phi(t)$  是 \n",
    "\n",
    "$$\n",
    "\\mathbf x'=\\mathbf A\\mathbf x\n",
    "$$\n",
    "\n",
    "的标准基解矩阵。"
   ]
  },
  {
   "cell_type": "markdown",
   "metadata": {},
   "source": [
    "**例１** 如果 $A$ 是一个对角矩阵\n",
    "\n",
    "$$\n",
    "\\mathbf A=\n",
    "\\left[\n",
    "\\begin{matrix}\n",
    "a_1&&&\\\\\n",
    "&a_2&&\\\\\n",
    "&&\\ddots&\\\\\n",
    "&&&a_n\\\\\n",
    "\\end{matrix}\n",
    "\\right](其中未写出的元素均为零)\n",
    "$$\n",
    "\n",
    "试求出 $\\mathbf x'= \\mathbf A\\mathbf x$ 的基解矩阵."
   ]
  },
  {
   "cell_type": "markdown",
   "metadata": {},
   "source": [
    "**解:** 方程组可以写成 \n",
    "\n",
    "$$\n",
    "x_k'=a_k x_k(k=1,2,\\dotsi,n)\n",
    "$$\n",
    "\n",
    "分别积分\n",
    "\n",
    "$$\n",
    "\\left[\n",
    "\\begin{matrix}\n",
    "e^{a_1t}\\\\\n",
    "0\\\\\n",
    "\\vdots\\\\\n",
    "0\\\\\n",
    "\\end{matrix}\n",
    "\\right]\n",
    "\\quad\n",
    "\\left[\n",
    "\\begin{matrix}\n",
    "0\\\\\n",
    "e^{a_2t}\\\\\n",
    "\\vdots\\\\\n",
    "0\\\\\n",
    "\\end{matrix}\n",
    "\\right]\n",
    "\\dotsi\n",
    "\\left[\n",
    "\\begin{matrix}\n",
    "0\\\\\n",
    "0\\\\\n",
    "\\vdots\\\\\n",
    "e^{a_nt}\\\\\n",
    "\\end{matrix}\n",
    "\\right]\n",
    "$$"
   ]
  },
  {
   "cell_type": "markdown",
   "metadata": {},
   "source": [
    "$$\n",
    "\\left[\n",
    "\\begin{matrix}\n",
    "e^{a_1t}&&&\\\\\n",
    "&e^{a_2t}&&\\\\\n",
    "&&\\ddots&\\\\\n",
    "&&&e^{a_nt}\\\\\n",
    "\\end{matrix}\n",
    "\\right]\n",
    "$$"
   ]
  },
  {
   "cell_type": "markdown",
   "metadata": {},
   "source": [
    "$$\n",
    "\\exp \\mathbf At=\\mathbf E+\\left[\n",
    "\\begin{matrix}\n",
    "a_1&&&\\\\\n",
    "&a_2&&\\\\\n",
    "&&\\ddots&\\\\\n",
    "&&&a_n\\\\\n",
    "\\end{matrix}\n",
    "\\right]\\frac{t}{1!}+\n",
    "\\left[\n",
    "\\begin{matrix}\n",
    "{a_1}^2&&&\\\\\n",
    "&{a_2}^2&&\\\\\n",
    "&&\\ddots&\\\\\n",
    "&&&{a_n}^2\\\\\n",
    "\\end{matrix}\n",
    "\\right]\\frac{t^2}{2!}+\\dots+\\left[\n",
    "\\begin{matrix}\n",
    "{a_1}^k&&&\\\\\n",
    "&{a_2}^k&&\\\\\n",
    "&&\\ddots&\\\\\n",
    "&&&{a_n}^k\\\\\n",
    "\\end{matrix}\n",
    "\\right]\\frac{t^k}{k!}\n",
    "+\\dots=\\left[\n",
    "\\begin{matrix}\n",
    "e^{a_1t}&&&\\\\\n",
    "&e^{a_2t}&&\\\\\n",
    "&&\\ddots&\\\\\n",
    "&&&e^{a_nt}\\\\\n",
    "\\end{matrix}\n",
    "\\right]\n",
    "$$\n",
    "\n",
    "\n",
    "据定理 9, 这就是基解矩阵."
   ]
  },
  {
   "cell_type": "markdown",
   "metadata": {},
   "source": [
    "**例 2**试求\n",
    "\n",
    "$$\n",
    "\\mathbf x'=\n",
    "\\begin{bmatrix}\n",
    "2&1\\\\\n",
    "0&2\\\\\n",
    "\\end{bmatrix}\n",
    "\\mathbf x\n",
    "$$\n",
    "\n",
    "的基解矩阵."
   ]
  },
  {
   "cell_type": "markdown",
   "metadata": {},
   "source": [
    "**解:**\n",
    "$$\n",
    "\\mathbf A= \\left[\n",
    "\\begin{matrix}\n",
    "2&1\\\\\n",
    "0&2\\\\\n",
    "\\end{matrix}\n",
    "\\right]=\n",
    "\\left[\n",
    "\\begin{matrix}\n",
    "2&0\\\\\n",
    "0&2\\\\\n",
    "\\end{matrix}\n",
    "\\right]+\\left[\n",
    "\\begin{matrix}\n",
    "0&1\\\\\n",
    "0&0\\\\\n",
    "\\end{matrix}\n",
    "\\right]\n",
    "$$"
   ]
  },
  {
   "cell_type": "markdown",
   "metadata": {},
   "source": [
    "易验证后面的两个矩阵是可交换的, 可得 \n",
    "\n",
    "$$\n",
    "\\begin{aligned}\n",
    "\\exp \\mathbf At\n",
    "&=\\exp\n",
    "\\begin{bmatrix}\n",
    "2&0\\\\\n",
    "0&2\\\\\n",
    "\\end{bmatrix}\n",
    "t\\cdot \\exp\n",
    "\\begin{bmatrix}\n",
    "0&1\\\\\n",
    "0&0\\\\\n",
    "\\end{bmatrix}\n",
    "t\\\\\n",
    "&=\n",
    "\\begin{bmatrix}\n",
    "e^{2t}&0\\\\\n",
    "0&e^{2t}\\\\\n",
    "\\end{bmatrix}\n",
    "\\left\\{\\mathbf E+\n",
    "\\begin{bmatrix}\n",
    "0&1\\\\\n",
    "0&0\\\\\n",
    "\\end{bmatrix}\n",
    "t+\n",
    "\\begin{bmatrix}\n",
    "0&1\\\\\n",
    "0&0\\\\\n",
    "\\end{bmatrix}\n",
    "^2\\frac{t^2}{2!}+\\dots\\right\\}\n",
    "\\end{aligned}\n",
    "$$"
   ]
  },
  {
   "cell_type": "markdown",
   "metadata": {},
   "source": [
    "但是\n",
    "\n",
    "$$\n",
    "\\left[\n",
    "\\begin{matrix}\n",
    "0&1\\\\\n",
    "0&0\\\\\n",
    "\\end{matrix}\n",
    "\\right]^2=\\left[\n",
    "\\begin{matrix}\n",
    "0&0\\\\\n",
    "0&0\\\\\n",
    "\\end{matrix}\n",
    "\\right]\n",
    "$$"
   ]
  },
  {
   "cell_type": "markdown",
   "metadata": {},
   "source": [
    "$$\n",
    "\\exp \\mathbf At=\\left[\n",
    "\\begin{matrix}\n",
    "e^{2t}&0\\\\\n",
    "0&e^{2t}\\\\\n",
    "\\end{matrix}\n",
    "\\right]\\{\\mathbf E+\\left[\n",
    "\\begin{matrix}\n",
    "0&1\\\\\n",
    "0&0\\\\\n",
    "\\end{matrix}\n",
    "\\right]t\\}\n",
    "$$"
   ]
  },
  {
   "cell_type": "markdown",
   "metadata": {},
   "source": [
    "因此 , 基解矩阵就是\n",
    "\n",
    "$$\n",
    "\\exp \\mathbf At=e^{2t}\\left[\n",
    "\\begin{matrix}\n",
    "1&t\\\\\n",
    "0&1\\\\\n",
    "\\end{matrix}\n",
    "\\right]=\n",
    "\\left[\n",
    "\\begin{matrix}\n",
    "e^{2t}&te^{2t}\\\\\n",
    "0&e^{2t}\\\\\n",
    "\\end{matrix}\n",
    "\\right]\n",
    "$$"
   ]
  },
  {
   "cell_type": "markdown",
   "metadata": {},
   "source": [
    "### 5.3.2 基解矩阵的计算公式"
   ]
  },
  {
   "cell_type": "markdown",
   "metadata": {},
   "source": [
    "若\n",
    "\n",
    "$$\n",
    "\\mathbf x'=\\mathbf A\\mathbf x\n",
    "$$\n",
    "\n",
    "有 $\\varphi(t)=e^{\\lambda t}\\mathbf c$ , $\\mathbf c\\neq0$ 的解 ,其中常数 $\\lambda$ 和向量 $\\mathbf c$  是待定的.\n",
    "\n",
    "$$\n",
    "\\lambda e^{\\lambda t}\\mathbf c=\\mathbf A e^{\\lambda t}\\mathbf c\n",
    "$$"
   ]
  },
  {
   "cell_type": "markdown",
   "metadata": {},
   "source": [
    "因为 $e^{\\lambda t}\\neq0$\n",
    "\n",
    "$$\n",
    "(\\lambda \\mathbf E-\\mathbf A)\\mathbf c=0\n",
    "$$\n",
    "\n",
    "反过来, $\\lambda$ 和向量 $\\mathbf c$ 满足方程组\n",
    "\n",
    "$$\n",
    "(\\lambda \\mathbf E-\\mathbf A)\\mathbf c=0\n",
    "$$\n",
    "\n",
    "则\n",
    "\n",
    "$$\n",
    "(e^{\\lambda t}\\mathbf c)'=\\mathbf A(e^{\\lambda t}\\mathbf c)\n",
    "$$"
   ]
  },
  {
   "cell_type": "markdown",
   "metadata": {},
   "source": [
    "$e^{\\lambda t}\\mathbf c$ 是\n",
    "$\\mathbf x'=\\mathbf A\\mathbf x$\n",
    "的非零解 $\\iff$ $\\lambda$ 是 $\\mathbf A$的特征值, $\\mathbf c$ 是 $\\mathbf A$ 的属于 $\\lambda$ 的特征向量."
   ]
  },
  {
   "cell_type": "markdown",
   "metadata": {},
   "source": [
    "**例 3**求解\n",
    "\n",
    "$$\n",
    "\\mathbf x'=\\left[\n",
    "\\begin{matrix}\n",
    "-1&3\\\\\n",
    "2&-2\\\\\n",
    "\\end{matrix}\n",
    "\\right]\\mathbf x\n",
    "$$\n"
   ]
  },
  {
   "cell_type": "markdown",
   "metadata": {},
   "source": [
    "**解:**\n",
    "$$\n",
    "\\begin{aligned}\n",
    "\\mid\\lambda \\mathbf E-\\mathbf A\\mid=\n",
    "\\begin{vmatrix}\n",
    "\\lambda+1&-3\\\\\n",
    "-2&\\lambda+2\\\\\n",
    "\\end{vmatrix}&=(\\lambda+1)(\\lambda+2)-6\\\\\n",
    "&=\\lambda^2+3\\lambda-4=0\n",
    "\\end{aligned}\n",
    "$$"
   ]
  },
  {
   "cell_type": "markdown",
   "metadata": {},
   "source": [
    "$$\n",
    "\\lambda_1=-4,\\lambda_2=1\n",
    "$$"
   ]
  },
  {
   "cell_type": "markdown",
   "metadata": {},
   "source": [
    "求解 \n",
    "$$\n",
    "(-4\\mathbf E-\\mathbf A)\\mathbf c=0,\n",
    "$$"
   ]
  },
  {
   "cell_type": "markdown",
   "metadata": {},
   "source": [
    "$$\n",
    "\\begin{bmatrix}\n",
    "-3&-3\\\\\n",
    "-2&-2\\\\\n",
    "\\end{bmatrix}\n",
    "\\begin{bmatrix}\n",
    "c_1\\\\\n",
    "c_2\\\\\n",
    "\\end{bmatrix}=\\begin{bmatrix}\n",
    "0\\\\\n",
    "0\\\\\n",
    "\\end{bmatrix}\n",
    "$$\n",
    "\n",
    "$$\n",
    "\\begin{bmatrix}\n",
    "c_1\\\\\n",
    "c_2\\\\\n",
    "\\end{bmatrix}=\\begin{bmatrix}\n",
    "1\\\\\n",
    "-1\\\\\n",
    "\\end{bmatrix}\n",
    "$$\n",
    "\n",
    "$$\n",
    "\\mathbf x_1=e^{-4t}\\begin{bmatrix}\n",
    "１\\\\\n",
    "－１\\\\\n",
    "\\end{bmatrix}\n",
    "$$"
   ]
  },
  {
   "cell_type": "markdown",
   "metadata": {},
   "source": [
    "求解 \n",
    "$$\n",
    "(\\mathbf E-\\mathbf A)\\mathbf c=0\n",
    "$$"
   ]
  },
  {
   "cell_type": "markdown",
   "metadata": {},
   "source": [
    "$$\n",
    "\\begin{bmatrix}\n",
    "2&-3\\\\\n",
    "-2&3\\\\\n",
    "\\end{bmatrix}\n",
    "\\begin{bmatrix}\n",
    "c_1\\\\\n",
    "c_2\\\\\n",
    "\\end{bmatrix}\n",
    "=\\begin{bmatrix}\n",
    "0\\\\\n",
    "0\\\\\n",
    "\\end{bmatrix}\n",
    "$$\n",
    "\n",
    "$$\n",
    "\\begin{bmatrix}\n",
    "c_1\\\\\n",
    "c_2\\\\\n",
    "\\end{bmatrix}=\n",
    "\\begin{bmatrix}\n",
    "3\\\\\n",
    "2\\\\\n",
    "\\end{bmatrix}\n",
    "$$\n",
    "\n",
    "$$\n",
    "\\mathbf x_2=e^t\\begin{bmatrix}\n",
    "3\\\\\n",
    "2\\\\\n",
    "\\end{bmatrix}\n",
    "$$"
   ]
  },
  {
   "cell_type": "markdown",
   "metadata": {},
   "source": [
    "$$\n",
    "\\Phi(t)=\\begin{bmatrix}\n",
    "e^{-4t}&3e^t\\\\\n",
    "-e^{-4t}&2e^t\\\\\n",
    "\\end{bmatrix}\n",
    "$$\n",
    "\n",
    "$$\n",
    "\\det\\Phi(0)\n",
    "=\\begin{vmatrix}\n",
    "1&3\\\\\n",
    "-1&2\\\\\n",
    "\\end{vmatrix}=5\\neq0\n",
    "$$"
   ]
  },
  {
   "cell_type": "markdown",
   "metadata": {},
   "source": [
    "### 求解常系数线性齐次方程组实基解矩阵的方法之一"
   ]
  },
  {
   "cell_type": "markdown",
   "metadata": {},
   "source": [
    "**定理 10** 如果矩阵 $\\mathbf A$ 具有 $n$ 个线性无关的特征向量 $\\mathbf v_1,\\mathbf v_2,\\dots, \\mathbf v_n$ ,它们对应的特征值分别为 $\\lambda_1,\\lambda_2,\\dots,\\lambda_n$( 不必各不相同), 那么\n",
    "\n",
    "$$\n",
    "\\Phi(t)=[e^{\\lambda_1t}\\mathbf v_1,e^{\\lambda_2t}\\mathbf v_2,\\dots,e^{\\lambda_nt}\\mathbf v_n]\\quad -\\infty\\leq t\\leq \\infty\n",
    "$$\n",
    "\n",
    "是常系数线性微分方程组\n",
    "\n",
    "$$\n",
    "\\mathbf x'=\\mathbf A\\mathbf x\n",
    "$$\n",
    "\n",
    "的一个基解矩阵."
   ]
  },
  {
   "cell_type": "markdown",
   "metadata": {},
   "source": [
    "**证明:** 每一个向量函数 $e^{\\lambda_jt} \\mathbf v_j(j=1,2,\\dots,n)$\n",
    "都是\n",
    "\n",
    "$$\n",
    "\\mathbf x'=\\mathbf A\\mathbf x\n",
    "$$\n",
    "的一个解. $\\mathbf v_1,\\mathbf v_2,\\dots,\\mathbf v_n$ 是线性无关的,\n",
    "\n",
    "$$\n",
    "\\det \\Phi(0) =\\det[\\mathbf v_1,\\mathbf v_2,\\dots,\\mathbf v_n]\\neq0\n",
    "$$\n",
    "\n",
    "所以\n",
    "\n",
    "$$\n",
    "\\Phi(t)=[e^{\\lambda_1t}\\mathbf v_1,e^{\\lambda_2t}\\mathbf v_2,\\dots,e^{\\lambda_nt}\\mathbf v_n]\\quad -\\infty\\leq t\\leq \\infty\n",
    "$$\n",
    "\n",
    "基解矩阵."
   ]
  },
  {
   "cell_type": "markdown",
   "metadata": {},
   "source": [
    "**推论 1** 如果矩阵 $\\mathbf A$ 具有 $n$ 个互不相同的特征值 $\\lambda_1,\\lambda_2,\\dots,\\lambda_n$ ,它们对应的特征 向量分别为 $\\mathbf v_1,\\mathbf v_2,\\dots,\\mathbf v_n$ 那么\n",
    "\n",
    "$$\n",
    "\\Phi(t)=[e^{\\lambda_1t}\\mathbf v_1,e^{\\lambda_2t}\\mathbf v_2,\\dots,e^{\\lambda_nt}\\mathbf v_n]\\quad -\\infty\\leq t\\leq \\infty\n",
    "$$\n",
    "\n",
    "是常系数线性微分方程组\n",
    "\n",
    "\n",
    "$$\n",
    "\\mathbf x'=\\mathbf A\\mathbf x\n",
    "$$\n",
    "\n",
    "的一个基解矩阵."
   ]
  },
  {
   "cell_type": "markdown",
   "metadata": {},
   "source": [
    "**注 1** 标准基解阵的表示 $\\exp \\mathbf At=\\Phi(t)\\Phi^{-1}(0)$"
   ]
  },
  {
   "cell_type": "markdown",
   "metadata": {},
   "source": [
    "**注 2** 若实系数线性方程组 $\\mathbf x'=\\mathbf A\\mathbf x$ 有复值解 $\\mathbf x(t)=\\mathbf u(t)+i\\mathbf v(t)$ , 则其实部 $\\mathbf u(t)$ 与虚部 $\\mathbf v(t)$ 都是 \n",
    "\n",
    "$$\n",
    "\\mathbf x'=\\mathbf A\\mathbf x\n",
    "$$\n",
    "\n",
    "的解."
   ]
  },
  {
   "cell_type": "markdown",
   "metadata": {},
   "source": [
    "**例 5** 试求解 \n",
    "\n",
    "$$\n",
    "\\mathbf x'=\\mathbf A\\mathbf x\n",
    "$$\n",
    "\n",
    "其中\n",
    "$$\n",
    "\\mathbf A=\n",
    "\\begin{bmatrix}\n",
    "3&5\\\\\n",
    "-5&3\\\\\n",
    "\\end{bmatrix}\n",
    "$$"
   ]
  },
  {
   "cell_type": "markdown",
   "metadata": {},
   "source": [
    "**解:** 首先求 $\\mathbf A$ 的特征值和特征向量\n",
    "\n",
    "$$\n",
    "\\det(\\mathbf A-\\lambda \\mathbf E)=\\begin{vmatrix}\n",
    "3-\\lambda&5\\\\\n",
    "-5&3-\\lambda\\\\\n",
    "\\end{vmatrix}=\\lambda^2-6\\lambda+34=0\n",
    "$$\n",
    "\n",
    "解得:\n",
    "$$\n",
    "\\lambda_{1,2}=3\\pm5i\n",
    "$$\n",
    "\n",
    "$$\n",
    "(\\mathbf A-\\lambda_1 \\mathbf E)u=\\left[\n",
    "\\begin{matrix}\n",
    "-5i&5\\\\\n",
    "-5&-5i\\\\\n",
    "\\end{matrix}\n",
    "\\right]\\left[\n",
    "\\begin{matrix}\n",
    "u_1\\\\\n",
    "u_2\\\\\n",
    "\\end{matrix}\n",
    "\\right]=0\n",
    "$$"
   ]
  },
  {
   "cell_type": "markdown",
   "metadata": {},
   "source": [
    "$$\n",
    "\\begin{cases}\n",
    "-iu_1+u_2=0\\\\\n",
    "-u_1-iu_2=0\\\\\n",
    "\\end{cases}\n",
    "$$\n",
    "\n",
    "对于任意常数 $\\alpha \\neq 0$ , \n",
    "$$\n",
    "\\mathbf u=\\alpha\n",
    "\\begin{bmatrix}\n",
    "1\\\\\n",
    "i\\\\\n",
    "\\end{bmatrix}\n",
    "$$\n",
    "是对应于 $\\lambda_1=3+5i$ 的特征向量. 类似可以求出对应于 $\\lambda_2=3-5i$ 的特征向量为\n",
    "$$\n",
    "\\mathbf v=\\beta\n",
    "\\begin{bmatrix}\n",
    "i\\\\\n",
    "1\\\\\n",
    "\\end{bmatrix}\n",
    "$$\n",
    "其中 $\\beta\\neq0$."
   ]
  },
  {
   "cell_type": "markdown",
   "metadata": {},
   "source": [
    "下面求实基解矩阵\n",
    "\n",
    "$$\n",
    "x_1=e^{(3+5i)t}\\begin{bmatrix}\n",
    "1\\\\\n",
    "i\\\\\n",
    "\\end{bmatrix}\n",
    "\\quad\n",
    "x_2=e^{(3-5i)t}\\begin{bmatrix}\n",
    "i\\\\\n",
    "1\\\\\n",
    "\\end{bmatrix}\n",
    "$$\n",
    "\n",
    "$$\n",
    "\\Phi(t)=\\left[\n",
    "\\begin{matrix}\n",
    "e^{(3+5i)t}&ie^{(3-5i)t}\\\\\n",
    "ie^{(3+5i)t}&e^{(3-5i)t}\\\\\n",
    "\\end{matrix}\n",
    "\\right]\n",
    "$$\n",
    "\n",
    "就是一个基解矩阵."
   ]
  },
  {
   "cell_type": "markdown",
   "metadata": {},
   "source": [
    "$$\n",
    "\\exp At=\\Phi(t)\\Phi(0)^{-1}=\\left[\n",
    "\\begin{matrix}\n",
    "e^{(3+5i)t}&ie^{(3-5i)t}\\\\\n",
    "ie^{(3+5i)t}&e^{(3-5i)t}\\\\\n",
    "\\end{matrix}\n",
    "\\right]\\left[\\begin{matrix}\n",
    "1&i\\\\\n",
    "i&1\\\\\n",
    "\\end{matrix}\\right]^{-1}=\\left[\n",
    "\\begin{matrix}\n",
    "e^{(3+5i)t}&ie^{(3-5i)t}\\\\\n",
    "ie^{(3+5i)t}&e^{(3-5i)t}\\\\\n",
    "\\end{matrix}\n",
    "\\right]\\left[\\begin{matrix}\n",
    "\\frac{1}{2}&-\\frac{i}{2}\\\\\n",
    "-\\frac{i}{2}&\\frac{1}{2}\\\\\n",
    "\\end{matrix}\\right]=e^{3t}\\left[\\begin{matrix}\n",
    "\\cos 5t&\\sin 5t\\\\\n",
    "-sin 5t&\\cos 5t\\\\\n",
    "\\end{matrix}\\right]\n",
    "$$"
   ]
  },
  {
   "cell_type": "markdown",
   "metadata": {},
   "source": [
    "**求实基解矩阵的步骤(利用定理 10)**"
   ]
  },
  {
   "cell_type": "markdown",
   "metadata": {},
   "source": [
    "1. 计算特征值, 特征向量;\n",
    "2. 求解基解矩阵, 求标准基解矩阵;\n",
    "3. 写出方程的通解."
   ]
  },
  {
   "cell_type": "markdown",
   "metadata": {
    "collapsed": true
   },
   "source": [
    "### 求解常系数线性齐次方程组实基解矩阵的方法之二"
   ]
  },
  {
   "cell_type": "markdown",
   "metadata": {},
   "source": [
    "假设 $\\mathbf A$ 是一个 $n\\times n$ 矩阵, 其不同特征值 $\\lambda_1,\\lambda_2,\\cdots,\\lambda_k$, 它们的重数分别为 $n_1,n_2,\\cdots,n_k$, $n_1+n_2+\\cdots+n_k=n$, 则对于每一个 $n_j$ 重特征值 $\\lambda_j$, 线性方程组\n",
    "\n",
    "$$\n",
    "(\\mathbf A-\\lambda_j\\mathbf E)^{n_j}\\mathbf u=0\n",
    "$$\n",
    "\n",
    "的解全体构成 $n$ 维欧几里得空间的一个 $n_j$ 维子空间 $U_j(j=1,2,\\cdots,k)$, 且 $n$ 维欧几里得空间 $U$ \n",
    "\n",
    "$$\n",
    "U=U_1+U_2+\\cdots+U_k\n",
    "$$"
   ]
  },
  {
   "cell_type": "markdown",
   "metadata": {},
   "source": [
    "对于 $n$ 维欧几里得空间的每一个向量 $\\mathbf u$, 存在唯一的向量 $\\mathbf u_i \\in\n",
    "U_j(j=1,2,\\cdots,k)$ 使得\n",
    "\n",
    "$$\n",
    "\\mathbf u=\\mathbf u_1+\\mathbf u_2+\\cdots+\\mathbf u_k\n",
    "$$"
   ]
  },
  {
   "cell_type": "markdown",
   "metadata": {},
   "source": [
    "当 $k=1$, $\\mathbf A$ 有一个$n$重特征根 $\\lambda$\n",
    "\n",
    "$$\n",
    "(\\mathbf A-\\lambda \\mathbf E)^n\\mathbf u=0\n",
    "$$\n",
    "\n",
    "的解全体就构成 $n$ 维欧几里得空间."
   ]
  },
  {
   "cell_type": "markdown",
   "metadata": {},
   "source": [
    "设 $\\mathbf \\varphi (t)$ 是 $\\mathbf x'=\\mathbf A\\mathbf x$ 的满足 $\\mathbf \\varphi(0)=\\mathbf \\eta$ 的解, $\\mathbf \\eta$ 是 $n$ 维向量, 则存在唯一的 $\\mathbf v_j \\in U_j(j=1,2,\\cdots,k)$ 使得\n",
    "\n",
    "$$\n",
    "\\mathbf \\eta=\\mathbf v_1+\\mathbf v_2+\\cdots+\\mathbf v_k\n",
    "$$\n",
    "\n",
    "且$\\mathbf v_j(j=1,2,\\cdots,k)$ 满足\n",
    "\n",
    "$$\n",
    "(\\mathbf A-\\lambda_j\\mathbf E)^{n_j}\\mathbf v_j=0\n",
    "$$"
   ]
  },
  {
   "cell_type": "markdown",
   "metadata": {},
   "source": [
    "由此可推得\n",
    "\n",
    "$$\n",
    "(\\mathbf A-\\lambda_j\\mathbf E)^l\\mathbf v_j=0,\\quad l\\geq n_j \\quad  j=1,2,\\cdots,k \n",
    "$$\n",
    "\n",
    "$$\n",
    "\\mathbf \\varphi(t)=(\\exp \\mathbf At)\\mathbf \\eta=(\\exp \\mathbf At)(\\mathbf v_1+\\mathbf v_2+\\cdots+\\mathbf v_k)\n",
    "$$"
   ]
  },
  {
   "cell_type": "markdown",
   "metadata": {},
   "source": [
    "易知\n",
    "$$\n",
    "e^{\\lambda_j t}\\exp(-\\lambda_j \\mathbf Et) \n",
    "= e^{\\lambda_j t}\n",
    "\\begin{bmatrix}\n",
    "e^{-\\lambda_jt}&&&\\\\\n",
    "&e^{-\\lambda_jt}&&\\\\\n",
    "&&\\ddots &\\\\\n",
    "&&&e^{-\\lambda_jt}\\\\\n",
    "\\end{bmatrix}\n",
    "= \\mathbf E\n",
    "$$"
   ]
  },
  {
   "cell_type": "markdown",
   "metadata": {},
   "source": [
    "$$\n",
    "\\begin{aligned}\n",
    "(\\exp \\mathbf At) \\mathbf v_j \n",
    "&=(\\exp \\mathbf At)[e^{\\lambda_jt}\\exp(-\\lambda_j\\mathbf Et)] \\cdot\\mathbf v_j\\\\\n",
    "&=e^{\\lambda_j t}\\exp[(\\mathbf A-\\lambda_j\\mathbf E)t]\\mathbf v_j\\\\\n",
    "&=e^{\\lambda_jt}[\\mathbf E+t(\\mathbf A-\\lambda_j\\mathbf E)+\\frac{t^2}{2!}(\\mathbf A-\\lambda_j E)^2+\\cdots+\\frac{t^{n_j-1}}{(n_j-1)!}(\\mathbf A-\\lambda_j \\mathbf E)^{n_j-1}]\\mathbf v_j\\\\\n",
    "&=e^{\\lambda_j t}[\\sum_{i=0}^{n_j-1}\\frac{t^i}{i!}(\\mathbf A-\\lambda_j\\mathbf E)^i]\\mathbf v_j\n",
    "\\end{aligned}\n",
    "$$"
   ]
  },
  {
   "cell_type": "markdown",
   "metadata": {},
   "source": [
    "$$\n",
    "\\begin{align}\n",
    "\\mathbf \\varphi(t) & =(\\exp \\mathbf At)\\mathbf \\eta\\\\\n",
    "& = (\\exp \\mathbf At)(\\mathbf v_1+\\mathbf v_2+\\cdots+\\mathbf v_k)\\\\\n",
    "& = \\sum_{j=1}^k (\\exp \\mathbf At)\\mathbf v_j\\\\\n",
    "& = \\sum_{j=1}^k e^{\\lambda_j t}[\\sum_{i=0}^{n_j-1}\\frac{t^i}{i!}(\\mathbf A-\\lambda_j\\mathbf E)^i]\\mathbf v_j\n",
    "\\end{align}\n",
    "$$"
   ]
  },
  {
   "cell_type": "markdown",
   "metadata": {},
   "source": [
    "$\\mathbf x'=\\mathbf A\\mathbf x$ 的满足 $\\mathbf \\varphi(0)=\\mathbf \\eta$ 的解:\n",
    "\n",
    "$$\n",
    "\\mathbf \\varphi(t)=\\sum_{j=1}^k e^{\\lambda_jt}[\\sum_{i=0}^{n_j-1}\\frac{t^i}{i!}(\\mathbf A-\\lambda_j\\mathbf E)^i]\\mathbf v_j\n",
    "$$\n",
    "其中 $\\mathbf v_j(j=1,2,\\cdots,k)$ 满足\n",
    "\n",
    "$$\n",
    "(\\mathbf A-\\lambda_j \\mathbf E)^{n_j}\\mathbf v_j=0.\n",
    "$$"
   ]
  },
  {
   "cell_type": "markdown",
   "metadata": {},
   "source": [
    "当 $\\mathbf A$ 只有一个特征根时, 无需将特征向量分解. 这时对于任何 $\\mathbf u$ 都有\n",
    "$$\n",
    "(\\mathbf A-\\lambda \\mathbf E)^n\\mathbf u=0\n",
    "$$\n",
    "\n",
    "标准基解矩阵为:\n",
    "$$\n",
    "\\begin{align}\n",
    "\\exp \\mathbf At & = e^{\\lambda t} \\exp(\\mathbf A-\\lambda \\mathbf E)t\\\\\n",
    "& =e^{\\lambda t}[\\sum_{i=0}^{n-1}\\frac{t^i}{i!}(\\mathbf A-\\lambda \\mathbf E)^i]\n",
    "\\end{align}\n",
    "$$"
   ]
  },
  {
   "cell_type": "markdown",
   "metadata": {},
   "source": [
    "**例 4** 试求解\n",
    "$$\n",
    "\\begin{cases}\n",
    "\\mathbf x'=\\mathbf A\\mathbf x\\\\\n",
    "\\mathbf \\varphi(0)=\\mathbf \\eta\n",
    "\\end{cases}\n",
    "$$\n",
    "其中\n",
    "$$\n",
    "\\mathbf A=\\begin{bmatrix}\n",
    "2 & 1\\\\\n",
    "-1 & 4\n",
    "\\end{bmatrix},\\quad\n",
    "\\eta=\\begin{bmatrix}\n",
    "\\eta_1\\\\\n",
    "\\eta_2\n",
    "\\end{bmatrix}\n",
    "$$"
   ]
  },
  {
   "cell_type": "markdown",
   "metadata": {},
   "source": [
    "**解：** 首先求 $\\mathbf A$ 的特征值\n",
    "\n",
    "$$\n",
    "det(\\mathbf A-\\lambda \\mathbf E)=\n",
    "\\begin{vmatrix}\n",
    "2-\\lambda & 1\\\\\n",
    "-1 & 4-\\lambda\n",
    "\\end{vmatrix}\n",
    "=\\lambda^2-6\\lambda+9\n",
    "=0\n",
    "$$\n",
    "特征根为:\n",
    "$$\n",
    "\\lambda_{1,2}=3\n",
    "$$"
   ]
  },
  {
   "cell_type": "markdown",
   "metadata": {},
   "source": [
    "下面求初值问题的解\n",
    "\n",
    "$$\n",
    "\\begin{align}\n",
    "\\mathbf \\varphi(t) &= e^{\\lambda t}[\\sum_{i=0}^{n-1}\\frac{t^i}{i!}(\\mathbf A-\\lambda \\mathbf E)^i] \\eta\\\\\n",
    "&= e^{3t}[\\mathbf E+t(\\mathbf A-3\\mathbf E)] \\begin{bmatrix}\n",
    "\\eta_1\\\\\n",
    "\\eta_2\n",
    "\\end{bmatrix}\\\\\n",
    "& = e^{3t}[\n",
    "\\begin{bmatrix}\n",
    "1 & 0 \\\\\n",
    "0 & 1\n",
    "\\end{bmatrix}\n",
    "+t(\n",
    "\\begin{bmatrix}\n",
    "2 & 1 \\\\\n",
    "-1 & 4\\\\\n",
    "\\end{bmatrix}-\n",
    "\\begin{bmatrix}\n",
    "3 & 0\\\\\n",
    "0 & 3\n",
    "\\end{bmatrix})]\n",
    "\\begin{bmatrix}\n",
    "\\eta_1\\\\\n",
    "\\eta_2\n",
    "\\end{bmatrix}\\\\\n",
    "& = e^{3t}[\n",
    "\\begin{bmatrix}\n",
    "1 & 0 \\\\\n",
    "0 & 1\n",
    "\\end{bmatrix}+t\n",
    "\\begin{bmatrix}\n",
    "-1 & 1 \\\\\n",
    "-1 & 1\n",
    "\\end{bmatrix}]\n",
    "\\begin{bmatrix}\n",
    "\\eta_1\\\\\n",
    "\\eta_2\n",
    "\\end{bmatrix}\\\\\n",
    "& = e^{3t}\n",
    "\\begin{bmatrix}\n",
    "1-t & t\\\\\n",
    "-t & 1+t\n",
    "\\end{bmatrix}\n",
    "\\begin{bmatrix}\n",
    "\\eta_1\\\\\n",
    "\\eta_2\n",
    "\\end{bmatrix}\n",
    "\\end{align}\n",
    "$$"
   ]
  },
  {
   "cell_type": "markdown",
   "metadata": {},
   "source": [
    "最后求 $\\mathbf A$ 的标准基解矩阵 \n",
    "$$\n",
    "\\exp At =e^{3t}\n",
    "\\begin{bmatrix}\n",
    "1-t & t\\\\\n",
    "-t & 1+t\n",
    "\\end{bmatrix}\n",
    "$$"
   ]
  },
  {
   "cell_type": "code",
   "execution_count": 3,
   "metadata": {
    "collapsed": false
   },
   "outputs": [
    {
     "data": {
      "text/html": [
       "<html><script type=\"math/tex; mode=display\">\\newcommand{\\Bold}[1]{\\mathbf{#1}}\\left(\\begin{array}{rrr}\n",
       "3 & -1 & 1 \\\\\n",
       "2 & 0 & 1 \\\\\n",
       "1 & -1 & 2\n",
       "\\end{array}\\right)</script></html>"
      ],
      "text/plain": [
       "[ 3 -1  1]\n",
       "[ 2  0  1]\n",
       "[ 1 -1  2]"
      ]
     },
     "metadata": {},
     "output_type": "display_data"
    },
    {
     "data": {
      "text/html": [
       "<html><script type=\"math/tex; mode=display\">\\newcommand{\\Bold}[1]{\\mathbf{#1}}\\left(\\begin{array}{rrr}\n",
       "0 & 0 & 0 \\\\\n",
       "-1 & 1 & 0 \\\\\n",
       "-1 & 1 & 0\n",
       "\\end{array}\\right)</script></html>"
      ],
      "text/plain": [
       "[ 0  0  0]\n",
       "[-1  1  0]\n",
       "[-1  1  0]"
      ]
     },
     "metadata": {},
     "output_type": "display_data"
    }
   ],
   "source": [
    "A = matrix([[3, -1, 1],[2, 0, 1],[1, -1, 2]])\n",
    "show(A)\n",
    "E = matrix([[1, 0, 0], [0, 1, 0], [0, 0, 1]])\n",
    "B = (A-2*E)*(A-2*E)\n",
    "show(B)"
   ]
  },
  {
   "cell_type": "markdown",
   "metadata": {},
   "source": [
    "**例 5** \n",
    "$$\n",
    "\\begin{cases}\n",
    "x_1'= 3x_1-x_2+x_3\\\\\n",
    "x_2'=2x_1+x_3\\\\\n",
    "x_3'=x_1-x_2+2x_3\\\\\n",
    "\\end{cases}\n",
    "\\quad\\quad\n",
    "\\mathbf A=\\begin{bmatrix}\n",
    "3 & -1 & 1\\\\\n",
    "2 & 0 & 1\\\\\n",
    "1 & -1 & 2\n",
    "\\end{bmatrix}\n",
    "$$\n",
    "\n",
    "试求满足初始条件 \n",
    "$$\n",
    "\\mathbf \\varphi(0)=\n",
    "\\begin{bmatrix}\n",
    "\\eta_1\\\\\n",
    "\\eta_2\\\\\n",
    "\\eta_3\n",
    "\\end{bmatrix}\n",
    "=\\eta\n",
    "$$\n",
    "的解 $\\varphi(t)$, 并求 $\\exp \\mathbf At$."
   ]
  },
  {
   "cell_type": "markdown",
   "metadata": {},
   "source": [
    "**解 :** \n",
    "(1) 求 $\\mathbf A$ 特征值\n",
    "\n",
    "$$\n",
    "\\det(\\lambda \\mathbf E-\\mathbf A)=(\\lambda -1)(\\lambda-2)^2=0\\\\\n",
    "\\lambda_1=1,\\lambda_{2,3}=2\\\\\n",
    "(\\mathbf A-\\mathbf E)\\mathbf u=\\mathbf 0,  \\quad\\quad  (\\mathbf A-2\\mathbf E)^2\\mathbf u=\\mathbf 0\n",
    "$$"
   ]
  },
  {
   "cell_type": "markdown",
   "metadata": {},
   "source": [
    "(2)确定 $\\eta$ 的分解\n",
    "\n",
    "$$\n",
    "(\\mathbf A-\\mathbf E)\\mathbf u=\n",
    "\\begin{bmatrix}\n",
    "2 & -1 & 1 \\\\\n",
    "2 & -1  & 1 \\\\\n",
    "1 & -1  & 1 \n",
    "\\end{bmatrix}\n",
    "\\mathbf u= \\mathbf 0\n",
    "$$"
   ]
  },
  {
   "cell_type": "markdown",
   "metadata": {},
   "source": [
    "$$\n",
    "\\begin{cases}\n",
    "2u_1-u_2+u_3=0\\\\\n",
    "2u_1-u_2+u_3=0\\\\\n",
    "u_1-u_2+u_3=0\n",
    "\\end{cases}\n",
    "$$\n",
    "解得:\n",
    "$$ \n",
    "u_1=\\alpha\n",
    "\\begin{bmatrix}\n",
    "0\\\\\n",
    "1\\\\\n",
    "1\n",
    "\\end{bmatrix}\n",
    "$$\n",
    "\n",
    "其中 $\\alpha$ 为任意常数. 子空间 $U_1$ 是由向量 $\\mathbf u_1$ 所生成的."
   ]
  },
  {
   "cell_type": "markdown",
   "metadata": {},
   "source": [
    "$$\n",
    "(\\mathbf A-2\\mathbf E)^2\\mathbf u=\n",
    "\\begin{bmatrix}\n",
    "0 & 0 & 0\\\\\n",
    "-1 & 1 & 0\\\\\n",
    "-1 & 1 & 0\n",
    "\\end{bmatrix}u=0\n",
    "$$\n",
    "\n",
    "$$\n",
    "\\begin{cases}\n",
    "-u_1+u_2 =0\\\\\n",
    "-u_1+u_2=0\n",
    "\\end{cases}\n",
    "$$\n",
    "求解可得 \n",
    "$$\n",
    "u_2=\\beta\\begin{bmatrix}\n",
    "1\\\\\n",
    "1\\\\\n",
    "0\n",
    "\\end{bmatrix}+\n",
    "\\chi\\begin{bmatrix}\n",
    "0\\\\\n",
    "0\\\\\n",
    "1\n",
    "\\end{bmatrix}\n",
    "$$\n",
    "\n",
    "其中 $\\beta,\\chi$ 是任意常数.子空间 $U_2$ 是有向量 $\\mathbf u_2$ 所张成的."
   ]
  },
  {
   "cell_type": "markdown",
   "metadata": {},
   "source": [
    "$\\mathbf \\eta$ 可以分解为 $U_1$ 和 $U_2$ 空间中向量的和\n",
    "\n",
    "$$\n",
    "\\mathbf \\eta = \\mathbf v_1 + \\mathbf v_2\n",
    "$$\n",
    "其中\n",
    "$$\n",
    "\\mathbf v_1\\in U_1, \\quad \\mathbf v_2\\in U_2\n",
    "$$"
   ]
  },
  {
   "cell_type": "markdown",
   "metadata": {},
   "source": [
    "利用特定系数法:\n",
    "\n",
    "$$\n",
    "\\begin{cases}\n",
    "\\eta_1 =\\beta\\\\\n",
    "\\eta_2 = \\alpha +\\beta\\\\\n",
    "\\eta_3 = \\alpha +\\chi\n",
    "\\end{cases}\n",
    "$$\n",
    "\n",
    "可解得\n",
    "\n",
    "$$\n",
    "\\begin{cases}\n",
    "\\alpha = \\eta_1-\\eta_2\\\\\n",
    "\\beta = \\eta_1\\\\\n",
    "\\chi = \\eta_3-\\eta_2+\\eta_1\n",
    "\\end{cases}\n",
    "$$\n",
    "\n",
    "$$\n",
    "\\mathbf v_1=\\begin{bmatrix}\n",
    "0\\\\\n",
    "\\eta_1-\\eta_2\\\\\n",
    "\\eta_1-\\eta_2\\\\\n",
    "\\end{bmatrix},\n",
    "\\quad\n",
    "\\mathbf v_2=\\begin{bmatrix}\n",
    "\\eta_1\\\\\n",
    "\\eta_1\\\\\n",
    "\\eta_3-\\eta_2+\\eta_1\n",
    "\\end{bmatrix}\n",
    "$$"
   ]
  },
  {
   "cell_type": "markdown",
   "metadata": {},
   "source": [
    "(3) 求满足初始条件  $\\mathbf \\varphi(0)=\\mathbf \\eta$ 的解为\n",
    "\n",
    "$$\n",
    "\\mathbf \\varphi(t) =\\sum_{j=1}^k e^{\\lambda_j t}[\\sum_{i=0}^{n_j-1}\\frac{t^i}{i!}(\\mathbf A-\\lambda_j\\mathbf E)^i]\\mathbf v_j\\\\\n",
    "\\begin{aligned}\n",
    "\\mathbf \\varphi(t) &=e^t\\mathbf E\\mathbf v_1+e^{2t}(\\mathbf E+t(\\mathbf A-2\\mathbf E))\\mathbf v_2\\\\\n",
    "& = e^t\n",
    "\\begin{bmatrix}\n",
    "0\\\\\n",
    "\\eta_1-\\eta_2\\\\\n",
    "\\eta_1-\\eta_2\\\\\n",
    "\\end{bmatrix}+e^{2t}(\\mathbf E+t\\begin{bmatrix}\n",
    "1 & -1 &1\\\\\n",
    "2 & -2 & 1 \\\\\n",
    "1 & -1 & 0\n",
    "\\end{bmatrix})\n",
    "\\begin{bmatrix}\n",
    "\\eta_1\\\\\n",
    "\\eta_1\\\\\n",
    "\\eta_3-\\eta_2+\\eta_1\n",
    "\\end{bmatrix}\\\\\n",
    "&= e^t\n",
    "\\begin{bmatrix}\n",
    "0\\\\\n",
    "\\eta_1-\\eta_2\\\\\n",
    "\\eta_1-\\eta_2\\\\\n",
    "\\end{bmatrix}+e^{2t}\n",
    "\\begin{bmatrix}\n",
    "\\eta_1+t(\\eta_3-\\eta_2+\\eta_1)\\\\\n",
    "\\eta_1+t(\\eta_3-\\eta_2+\\eta_1)\\\\\n",
    "\\eta_3-\\eta_2+\\eta_1\n",
    "\\end{bmatrix}\n",
    "\\end{aligned}\n",
    "$$"
   ]
  },
  {
   "cell_type": "markdown",
   "metadata": {},
   "source": [
    "则\n",
    "\n",
    "$$\n",
    "\\mathbf \\varphi(t)=e^t\n",
    "\\begin{bmatrix}\n",
    "0\\\\\n",
    "\\eta_1-\\eta_2\\\\\n",
    "\\eta_1-\\eta_2\\\\\n",
    "\\end{bmatrix}+e^{2t}\\begin{bmatrix}\n",
    "\\eta_1+t(\\eta_3-\\eta_2+\\eta_1)\\\\\n",
    "\\eta_1+t(\\eta_3-\\eta_2+\\eta_1)\\\\\n",
    "\\eta_3-\\eta_2+\\eta_1\n",
    "\\end{bmatrix}\n",
    "$$"
   ]
  },
  {
   "cell_type": "markdown",
   "metadata": {},
   "source": [
    "(4) 求出 $\\exp At$\n",
    "\n",
    "依次令 $\\eta$, \n",
    "$$\n",
    "\\begin{bmatrix}\n",
    "1\\\\\n",
    "0\\\\ \n",
    "0\n",
    "\\end{bmatrix},\\quad\n",
    "\\begin{bmatrix}\n",
    "0\\\\\n",
    "1\\\\\n",
    "0\n",
    "\\end{bmatrix},\n",
    "\\quad\\begin{bmatrix}\n",
    "0\\\\\n",
    "0\\\\\n",
    "1\n",
    "\\end{bmatrix}\n",
    "$$\n",
    "\n",
    "得到三个线性无关的解. \n",
    "\n",
    "$$\n",
    "\\exp \\mathbf At=\\begin{bmatrix}\n",
    "(1+t)e^{2t} & -te^{2t} &te^{2t}\\\\\n",
    "-e^t+(1+t)e^{2t} & e^t-te^{2t} & te^{2t}\\\\\n",
    "-e^t+e^{2t} & e^t-e^{2t} & e^{2t}\n",
    "\\end{bmatrix}\n",
    "$$"
   ]
  },
  {
   "cell_type": "markdown",
   "metadata": {},
   "source": [
    "(5)求通解\n",
    "$\n",
    "\\mathbf x(t)=(\\exp \\mathbf At)\\mathbf c\n",
    "$"
   ]
  },
  {
   "cell_type": "markdown",
   "metadata": {},
   "source": [
    "### 求解常系数线性齐次微分方程组实基解矩阵的方法之三"
   ]
  },
  {
   "cell_type": "markdown",
   "metadata": {},
   "source": [
    "#### 利用若当标准型计算基解矩阵 $\\exp\\mathbf At$"
   ]
  },
  {
   "cell_type": "markdown",
   "metadata": {},
   "source": [
    "根据线性代数知识, 对每一个 $n$ 阶矩阵 $\\mathbf A$, 存在 $n$ 阶非奇异矩阵 $\\mathbf P$, 使得\n",
    "$$\n",
    "\\mathbf A=\\mathbf P\\mathbf J\\mathbf P^{-1}\n",
    "$$\n",
    "\n",
    "其中\n",
    "\n",
    "$$\n",
    "\\mathbf J=\\begin{bmatrix}\n",
    "\\mathbf J_1 & & &\\\\\n",
    "& \\mathbf J_2 & &\\\\\n",
    "& & \\ddots &\\\\\n",
    "& & & \\mathbf J_m\n",
    "\\end{bmatrix}\n",
    "$$\n",
    "\n",
    "为若而当标准型."
   ]
  },
  {
   "cell_type": "markdown",
   "metadata": {},
   "source": [
    " \n",
    "假设若当块\n",
    "\n",
    "$$\n",
    "\\mathbf J_i=\\begin{bmatrix}\n",
    "\\lambda_i & 1 & &\\\\\n",
    "& \\lambda_i & \\ddots&&\\\\\n",
    "& & \\ddots & 1\\\\\n",
    "&&&\\lambda_i\n",
    "\\end{bmatrix}\n",
    "$$\n",
    "\n",
    "是 $n_i$ 阶的 $i=1,2,\\cdots,m$, 且 $n_1+n_2+\\cdots+n_m=n$, 则 $\\mathbf J_i$ 有如下分解式\n",
    "\n",
    "$$\n",
    "\\mathbf J_i=\\begin{bmatrix}\n",
    "\\lambda_i & & &\\\\\n",
    "& \\lambda_i & &&\\\\\n",
    "& & \\ddots & \\\\\n",
    "&&&\\lambda_i\n",
    "\\end{bmatrix}+\\begin{bmatrix}\n",
    "0 & 1 & &\\\\\n",
    "&0& \\ddots&&\\\\\n",
    "& & \\ddots & 1\\\\\n",
    "&&&0\n",
    "\\end{bmatrix}\n",
    "$$"
   ]
  },
  {
   "cell_type": "markdown",
   "metadata": {},
   "source": [
    "第一个矩阵具有 $\\lambda_i\\mathbf E$ 形式, 第二个矩阵是幂零矩阵, 由于矩阵 $\\lambda_i\\mathbf E$ 和任何矩阵可以交换, 因此有\n",
    "\n",
    "$$\n",
    "\\exp \\mathbf J_i t=e^{\\lambda_it}\\mathbf E\\left(\\mathbf E+t\\begin{bmatrix}\n",
    "0 & 1 & &\\\\\n",
    "&0& \\ddots&&\\\\\n",
    "& & \\ddots & 1\\\\\n",
    "&&&0\n",
    "\\end{bmatrix}+\n",
    "\\frac{x^2}{2!}\\begin{bmatrix}\n",
    "0 & 0 &1 &\\\\\n",
    "&& \\ddots&\\ddots&\\\\\n",
    "& & \\ddots & 1\\\\\n",
    "&&\\ddots&0\\\\\n",
    "&&&0\n",
    "\\end{bmatrix}+\\cdots+\\frac{t^{n_j-1}}{(n_i-1)!}\\begin{bmatrix}\n",
    "0 & 0 & 0 & 0 & 1\\\\\n",
    "  & \\ddots & \\ddots & \\ddots & 0\\\\\n",
    "  & & \\ddots & \\ddots & 0\\\\\n",
    "  &    &  &  \\ddots & 0\\\\\n",
    "  &   & & &0\n",
    "\\end{bmatrix}\\right)\n",
    "$$"
   ]
  },
  {
   "cell_type": "markdown",
   "metadata": {},
   "source": [
    "由此得到它的初等函数有限和的形式，即\n",
    "\n",
    "$$\n",
    "e^{t\\mathbf J_i}=e^{\\lambda_it}\n",
    "\\begin{bmatrix}\n",
    "1 & t & \\frac{t^2}{2!} & \\cdots & \\cdots & \\frac{t^{n_j-1}}{(n_j-1)!}\\\\\n",
    "& 1 & t &\\cdots &\\cdots &\\frac{t^{n_j-2}}{(n_j-2)!}\\\\\n",
    "& & \\ddots & \\ddots & &\\vdots\\\\\n",
    "& & & \\ddots  & \\ddots &\\frac{t^2}{2!}\\\\\n",
    "& & & & \\ddots & t\\\\\n",
    "& & & & &1\n",
    "\\end{bmatrix}\n",
    "$$"
   ]
  },
  {
   "cell_type": "markdown",
   "metadata": {},
   "source": [
    "根据分块矩阵的运算可得到\n",
    "\n",
    "$$\n",
    "e^{t\\mathbf J}=\\begin{bmatrix}\n",
    "e^{t\\mathbf J_1} & & \\\\\n",
    "& e^{t\\mathbf J_2}& &\\\\\n",
    "& & \\ddots&\\\\\n",
    "&&&e^{t\\mathbf J_m}\n",
    "\\end{bmatrix}\n",
    "$$\n",
    "\n",
    "因此基解矩阵为 $e^{\\mathbf At}=e^{\\mathbf P\\mathbf Jt\\mathbf P^{-1}}=\\mathbf Pe^{\\mathbf Jt}\\mathbf P^{-1}$\n",
    "$$\n",
    "e^{\\mathbf At}=\\mathbf P\\begin{bmatrix}\n",
    "e^{t\\mathbf J_1} & & &\\\\\n",
    "& e^{t\\mathbf J_2}& &\\\\\n",
    "& & \\ddots&\\\\\n",
    "&&&e^{t\\mathbf J_m}\n",
    "\\end{bmatrix}\\mathbf P^{-1}\n",
    "$$"
   ]
  },
  {
   "cell_type": "markdown",
   "metadata": {},
   "source": [
    "### 求解常系数线性齐次方程组实基解矩阵的方法之四"
   ]
  },
  {
   "cell_type": "markdown",
   "metadata": {},
   "source": [
    "利用递推法计算基解矩阵\n",
    "\n",
    "结论 \n",
    "$$\n",
    "\\exp\\mathbf A t=\\sum_{j=0}^{n-1}r_{j+1}(t)\\mathbf P_j\n",
    "$$\n",
    "\n",
    "其中 \n",
    "$$\n",
    "\\begin{cases}\n",
    "\\mathbf P_0=E\\\\\n",
    "\\mathbf P_j=\\prod_{k=1}^j(\\mathbf A-\\lambda_k\\mathbf E), & j=1,2,3,\\cdots,n\n",
    "\\end{cases}\n",
    "$$"
   ]
  },
  {
   "cell_type": "markdown",
   "metadata": {},
   "source": [
    "$r_1(t),r_2(t),\\cdots,r_n(t)$ 是下列初值问题的解\n",
    "\n",
    "$$\n",
    "\\begin{cases}\n",
    "r_1'=\\lambda_1r_1\\\\\n",
    "r_j'=r_{j-1}+\\lambda_jr_j \\quad (j=2,\\cdots,n)\\\\\n",
    "r_1(0)=1,r_j(0)=0\n",
    "\\end{cases}\n",
    "$$"
   ]
  },
  {
   "cell_type": "markdown",
   "metadata": {},
   "source": [
    "$$\n",
    "\\exp(\\mathbf At)=\\sum_{j=0}^{n-1}r_{j+1}(t)\\mathbf P_j=\n",
    "(\\mathbf P_0 , \\mathbf P_1 , \\cdots,\\mathbf P_{n-1})\n",
    "\\begin{bmatrix}\n",
    "r_1(t)\\\\\n",
    "r_2(t)\\\\\n",
    "\\cdots\\\\\n",
    "r_n(t)\n",
    "\\end{bmatrix}\n",
    "$$"
   ]
  },
  {
   "cell_type": "markdown",
   "metadata": {},
   "source": [
    "$$\n",
    "\\begin{bmatrix}\n",
    "r_1(t)\\\\\n",
    "r_2(t)\\\\\n",
    "\\cdots\\\\\n",
    "r_n(t)\n",
    "\\end{bmatrix}'=\n",
    "\\begin{bmatrix}\n",
    "\\lambda_1 & 0& \\cdots&0\\\\\n",
    "1 & \\lambda & \\cdots & 0\\\\\n",
    "\\vdots & \\ddots & \\ddots & 0\\\\\n",
    "0 & 0 & 1 & \\lambda_n\n",
    "\\end{bmatrix}\n",
    "\\begin{bmatrix}\n",
    "r_1(t)\\\\\n",
    "r_2(t)\\\\\n",
    "\\cdots\\\\\n",
    "r_n(t)\n",
    "\\end{bmatrix}\n",
    "$$"
   ]
  },
  {
   "cell_type": "markdown",
   "metadata": {},
   "source": [
    "$$\n",
    "\\begin{align}\n",
    "&\\left((\\mathbf P_0 , \\mathbf P_1 , \\cdots, \\mathbf P_{n-1})\n",
    "\\begin{bmatrix}\n",
    "r_1(t)\\\\\n",
    "r_2(t)\\\\\n",
    "\\cdots\\\\\n",
    "r_n(t)\n",
    "\\end{bmatrix}\\right)'\\\\\n",
    "&=(\\mathbf P_0 ,\\mathbf P_1 , \\cdots, \\mathbf P_{n-1})\n",
    "\\begin{bmatrix}\n",
    "r_1(t)\\\\\n",
    "r_2(t)\\\\\n",
    "\\cdots\\\\\n",
    "r_n(t)\n",
    "\\end{bmatrix}'\\\\\n",
    "& = (\\mathbf P_0 ,\\mathbf P_1 , \\cdots,\\mathbf P_{n-1})\n",
    "\\begin{bmatrix}\n",
    "\\lambda_1 &0 &\\cdots &0\\\\\n",
    "1 & \\lambda_2 & \\cdots & 0\\\\\n",
    "\\vdots & \\ddots & \\ddots &0\\\\\n",
    "0 & 0&1&\\lambda_n\n",
    "\\end{bmatrix}\n",
    "\\begin{bmatrix}\n",
    "r_1(t)\\\\\n",
    "r_2(t)\\\\\n",
    "\\cdots\\\\\n",
    "r_n(t)\n",
    "\\end{bmatrix}\\\\\n",
    "&= (\\lambda_1\\mathbf P_0+\\mathbf P_1,\\lambda_2\\mathbf P_1+\\mathbf P_2,\\cdots,\\lambda_n\\mathbf P_{n-1})\\\\\n",
    "&=\n",
    "(\\lambda_1\\mathbf P_0+\\mathbf P_1,\\lambda_2\\mathbf P_1+\\mathbf P_2,\\cdots,\\lambda_n\\mathbf P_{n-1}+\\mathbf P_n)\\\\\n",
    "&=\n",
    "(\\mathbf A\\mathbf P_0,\\mathbf A\\mathbf P_1,\\cdots,\\mathbf A\\mathbf P_{n-1})\\\\\n",
    "&=\n",
    "\\mathbf A(\\mathbf P_0,\\mathbf P_1,\\cdots,\\mathbf P_{n-1})\n",
    "\\end{align}\n",
    "$$"
   ]
  },
  {
   "cell_type": "markdown",
   "metadata": {},
   "source": [
    "$$\n",
    "\\begin{aligned}\n",
    "\\mathbf P_0&=\\mathbf E\\\\\n",
    "\\mathbf P_j&=\\prod_{k=1}^j (\\mathbf A-\\lambda_k\\mathbf E),(j=1,2,\\cdots,n)\\\\\n",
    "\\lambda_j\\mathbf P_{j-1}+ \\mathbf P_j &=(\\lambda_j\\mathbf E+A-\\lambda_j\\mathbf E)\\mathbf P_{J-1}=\\mathbf A\\mathbf P_{j-1}\n",
    "\\end{aligned}\n",
    "$$"
   ]
  },
  {
   "cell_type": "markdown",
   "metadata": {},
   "source": [
    "$$\n",
    "\\left((\\mathbf P_0 ,\\mathbf P_1 , \\cdots,\\mathbf P_{n-1})\n",
    "\\begin{bmatrix}\n",
    "r_1(t)\\\\\n",
    "r_2(t)\\\\\n",
    "\\cdots\\\\\n",
    "r_n(t)\n",
    "\\end{bmatrix}\\right)' =\\mathbf A(\\mathbf P_0 ,\\mathbf P_1 , \\cdots,\\mathbf P_{n-1})\n",
    "\\begin{bmatrix}\n",
    "r_1(t)\\\\\n",
    "r_2(t)\\\\\n",
    "\\cdots\\\\\n",
    "r_n(t)\n",
    "\\end{bmatrix}'\n",
    "$$"
   ]
  },
  {
   "cell_type": "markdown",
   "metadata": {},
   "source": [
    "$$\n",
    "\\exp \\mathbf At=\\sum_{j=0}^{n-1}r_{j+1}(t)\\mathbf P_j=\n",
    "(\\mathbf P_0 ,\\mathbf P_1 , \\cdots,\\mathbf P_{n-1})\n",
    "\\begin{bmatrix}\n",
    "r_1(t)\\\\\n",
    "r_2(t)\\\\\n",
    "\\cdots\\\\\n",
    "r_n(t)\n",
    "\\end{bmatrix}\n",
    "$$"
   ]
  },
  {
   "cell_type": "markdown",
   "metadata": {},
   "source": [
    "$$\n",
    "\\exp\\mathbf At|_{t=0}=\\sum_{j=0}^{n-1}r_{j+1}(0)\\mathbf P_j=\n",
    "(\\mathbf P_0 ,\\mathbf P_1 , \\cdots,\\mathbf P_{n-1})\n",
    "\\begin{bmatrix}\n",
    "r_1(0)\\\\\n",
    "r_2(0)\\\\\n",
    "\\cdots\\\\\n",
    "r_n(0)\n",
    "\\end{bmatrix}\n",
    "=(\\mathbf P_0, \\mathbf P_1 , \\cdots, \\mathbf P_{n-1})\n",
    "\\begin{bmatrix}\n",
    "1\\\\\n",
    "0\\\\\n",
    "\\vdots\\\\\n",
    "0\n",
    "\\end{bmatrix}=\\mathbf E\n",
    "$$"
   ]
  },
  {
   "cell_type": "markdown",
   "metadata": {},
   "source": [
    "$$\n",
    "\\exp \\mathbf A t =\\sum_{j=0}^{n-1}r_{j+1}(t)\\mathbf P_j\n",
    "$$\n",
    "为标准基本解矩阵."
   ]
  },
  {
   "cell_type": "markdown",
   "metadata": {},
   "source": [
    "**例6** 求 $\\mathbf x'=\\mathbf A\\mathbf x$ 的标准基本解矩阵 $\\exp \\mathbf At$.\n",
    "$$\n",
    "\\mathbf A=\n",
    "\\begin{bmatrix}\n",
    "3 & -1 & 1\\\\\n",
    "2 & 0 & 1\\\\\n",
    "1 & -1 & 2\n",
    "\\end{bmatrix}\n",
    "$$"
   ]
  },
  {
   "cell_type": "markdown",
   "metadata": {},
   "source": [
    "**解: ** \n",
    "(1) 求 $\\mathbf A$的特征值\n",
    "\n",
    "$$\n",
    "\\det(\\lambda \\mathbf E-\\mathbf A)=(\\lambda-1)(\\lambda-2)^2=0\n",
    "$$\n",
    "解得:\n",
    "$$\n",
    "\\lambda_1=1,\\lambda_{2,3}=2\n",
    "$$\n",
    "\n",
    "(2)解方程组\n",
    "\n",
    "$$\n",
    "\\begin{cases}\n",
    "r_1'=r_1\\\\\n",
    "r_2'=r_1+2r_2\\\\\n",
    "r_3'=r_2+2r_3\\\\\n",
    "r_1(0)=1,r_2(0)=0,r_3(0)=0\n",
    "\\end{cases}\n",
    "$$\n",
    "\n",
    "解得:\n",
    "$$\n",
    "\\begin{cases}\n",
    "r_1(t)=e^t\\\\\n",
    "r_2(t)=-e^t+e^{2t}\\\\\n",
    "r_3(t)=e^t+(t-1)e^{2t}\n",
    "\\end{cases}\n",
    "$$\n",
    "\n",
    "(3)确定 $\\mathbf P_0,\\mathbf P_1,\\mathbf P_2$\n",
    "\n",
    "$$\n",
    "\\exp \\mathbf At=r_1(t)\\mathbf P_0+r_2(t)\\mathbf P_1+r(3)\\mathbf P_2\n",
    "\\mathbf P_0=\\mathbf E,\n",
    "$$\n",
    "$$\\mathbf P_1=\\mathbf A-\\mathbf E=\n",
    "\\begin{bmatrix}\n",
    "2 & -1 & 1\\\\\n",
    "2 & -1 & 1\\\\\n",
    "1 & -1 & 1\n",
    "\\end{bmatrix}\\\\\n",
    "P_2=(A-1E)(A-2E)=\n",
    "\\begin{bmatrix}\n",
    "1 & -1 & 1\\\\\n",
    "1 & -1 & 1\\\\\n",
    "0 & 0 & 1\n",
    "\\end{bmatrix}\n",
    "$$\n",
    "$$\n",
    "\\begin{align}\n",
    "\\exp At &= r_1(t)P_0+r_2(t)P_1+r_3(t)P_2\\\\\n",
    "&=\\begin{bmatrix}\n",
    "(1+t)e^{2t} & -te^{2t} & te^{3t}\\\\\n",
    "-e^t+(1+t)e^{2t} & e^t-e^{2t} &e^{2t}\n",
    "\\end{bmatrix}\n",
    "\\end{align}\n",
    "$$"
   ]
  },
  {
   "cell_type": "markdown",
   "metadata": {},
   "source": [
    "**例7 ** 求 $x'=Ax$ 的标准基本解矩阵 $\\exp At$\n",
    "\n",
    "$$\n",
    "A=\\begin{bmatrix}\n",
    "0 & 1 & 1\\\\\n",
    "1 & 0 & 1\\\\\n",
    "1 & 1 & 0\n",
    "\\end{bmatrix}\n",
    "$$"
   ]
  },
  {
   "cell_type": "markdown",
   "metadata": {},
   "source": [
    "**解：** \n",
    "(1) 求 $A$ 的特征值\n",
    "$$\n",
    "det(\\lambda E-A)=(\\lambda-2)(\\lambda+1)^2=0\n",
    "\\quad \\lambda_1=2,\\lambda_{2,3}=-1\n",
    "$$\n",
    "\n",
    "(2)解方程组 $P_0,P_1,P_2$\n",
    "\n",
    "$$\n",
    "\\exp At = r_1(t)P_0+r_2(t)P_1+r_3(t)P_2\\\\\n",
    "P_0=E,P_1=A-2E=\n",
    "\\begin{bmatrix}\n",
    "-2 & 1 & 1\\\\\n",
    "1 & -2 & 1\\\\\n",
    "1 & 1 &-2\n",
    "\\end{bmatrix}\n",
    "P_2=(A-2E)(A+1E)=\n",
    "\\begin{bmatrix}\n",
    "0&0&0\\\\\n",
    "0&0&0\\\\\n",
    "0&0&0\n",
    "\\end{bmatrix}\\\\\n",
    "\\begin{align}\n",
    "\\exp At &=r_1(t)P_0+r_2(t)P_1+r_3(t)P_2\\\\\n",
    "& =\\frac{1}{3}\n",
    "\\begin{bmatrix}\n",
    "e^{2t}+2e^{-t} & e^{2t}-e^{-t} & e^{2t}-e^{-t}\\\\\n",
    "e^{2t}-e^{-t} & e^{2t}+2e^{-t} & e^{2t}-e^{-t}\\\\\n",
    "e^{2t}-e^{-t} & e^{2t}-e^{-t} & e^{2t}+2e^{-t}\n",
    "\\end{bmatrix}\n",
    "\\end{align}\n",
    "$$"
   ]
  },
  {
   "cell_type": "markdown",
   "metadata": {},
   "source": [
    "### 关于常系数非齐次线性方程组\n",
    "$$\n",
    "x'=Ax+f(t)\n",
    "$$\n",
    "\n",
    "$A$常矩阵, $f(t)$为连续的向量函数.\n"
   ]
  },
  {
   "cell_type": "markdown",
   "metadata": {},
   "source": [
    "常数变易法公式\n",
    "\n",
    "设上方程有解如$(\\exp At)c(t)$\n",
    "\n",
    "$$\n",
    "A(\\exp At)c(t)+(\\exp At)c'(t) =A(\\exp A t)c(t)+f(t)\\\\\n",
    "A(\\exp At)c'(t) =f(t)c'(t)=[\\exp(-At)]f(t)\\\\\n",
    "c(t)=\\int_{t_0}^t[\\exp(-As)]f(s)\\mathrm ds\\\\\n",
    "\\begin{align}\n",
    "(\\exp A t)c(t) &=(\\exp At)\\int_{t_0}^t\n",
    "[\\exp(-As)]f(s)\\mathrm ds\\\\\n",
    "& = \\int_{t_0}^t[\\exp A(t-s)]f(s)\\mathrm ds\n",
    "\\end{align}\n",
    "$$"
   ]
  },
  {
   "cell_type": "markdown",
   "metadata": {},
   "source": [
    "**例 8** 试求方程 $x'=Ax+f(t)$ 满足初始条件\n",
    "$x(0)=\\begin{bmatrix}\n",
    "0\\\\\n",
    "1\n",
    "\\end{bmatrix}\n",
    "$ 的解.\n",
    "\n",
    "$\n",
    "A=\\begin{bmatrix}\n",
    "3 & 5 \\\\\n",
    "-5 & 3\n",
    "\\end{bmatrix}\n",
    "\\quad\n",
    "\\begin{bmatrix}\n",
    "e^{-t}\\\\\n",
    "0\n",
    "\\end{bmatrix}\n",
    "$"
   ]
  },
  {
   "cell_type": "markdown",
   "metadata": {},
   "source": [
    "**解： ** 齐次方程的基解矩阵\n",
    "\n",
    "$$\n",
    "\\exp At=e^{3t}\\begin{bmatrix}\n",
    "\\cos 5t & \\sin 5t\\\\\n",
    "-\\sin 5t & \\cos 5t\n",
    "\\end{bmatrix}\\\\\n",
    "\\varphi(t)=\\exp(At)\\cdot\n",
    "\\begin{bmatrix}\n",
    "0\\\\\n",
    "1\n",
    "\\end{bmatrix}+\\int_0^t [\\exp A(t-s)]\n",
    "\\begin{bmatrix}\n",
    "e^{-s}\\\\\n",
    "0\n",
    "\\end{bmatrix}\\mathrm ds\n",
    "$$\n",
    "\n",
    "代入可得\n",
    "\n",
    "$$\n",
    "\\varphi(t)=e^{3t}\\begin{bmatrix}\n",
    "\\sin 5t \\\\\n",
    "\\cos 5t\n",
    "\\end{bmatrix}+e^{3t}\\int_0^t e^{4s}\n",
    "\\begin{bmatrix}\n",
    "\\cos 5t\\cos 5s  + \\sin 5t\\sin 5s\\\\\n",
    "-\\sin 5t\\cos 5s +\\cos 5t\\sin 5s\n",
    "\\end{bmatrix}\\mathrm ds\\\\\n",
    "=\\frac{1}{41}e^{3t}\n",
    "\\begin{bmatrix}\n",
    "4\\cos 5t+46\\sin 5t-4e^{-4t}\\\\\n",
    "46\\cos 5t -4\\sin 5t-5e^{-4t}\n",
    "\\end{bmatrix}\n",
    "$$"
   ]
  },
  {
   "cell_type": "code",
   "execution_count": null,
   "metadata": {
    "collapsed": true
   },
   "outputs": [],
   "source": []
  }
 ],
 "metadata": {
  "kernelspec": {
   "display_name": "SageMath 7.3",
   "language": "",
   "name": "sagemath"
  },
  "language_info": {
   "codemirror_mode": {
    "name": "ipython",
    "version": 2
   },
   "file_extension": ".py",
   "mimetype": "text/x-python",
   "name": "python",
   "nbconvert_exporter": "python",
   "pygments_lexer": "ipython2",
   "version": "2.7.10"
  }
 },
 "nbformat": 4,
 "nbformat_minor": 0
}
