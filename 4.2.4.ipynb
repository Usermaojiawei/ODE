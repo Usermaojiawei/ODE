{
 "cells": [
  {
   "cell_type": "markdown",
   "metadata": {},
   "source": [
    "# 4.2.4 非齐次线性微分方程 $\\bullet$ 拉普拉斯变换(Laplace Transform)法"
   ]
  },
  {
   "cell_type": "markdown",
   "metadata": {},
   "source": [
    "### 1. 拉普拉斯变换定义"
   ]
  },
  {
   "cell_type": "markdown",
   "metadata": {},
   "source": [
    "对于在 $[0,\\infty]$ 上有定义的函数 $f(t)$ , 若\n",
    "\n",
    "$$\n",
    "\\int_0^{\\infty} e^{-st}f(t)\\, \\mathrm dt=\\lim_{T\\to \\infty} \\int_0^T e^{-st}f(t)\\, \\mathrm dt\n",
    "$$\n",
    "\n",
    "对于已给的一些 $s$ (一般为复数)存在，则称\n",
    "\n",
    "$$\n",
    "F(s)=\\int_0^{\\infty} e^{-st}f(t) \\mathrm dt\n",
    "$$\n",
    "\n",
    "为函数 $f(t)$ 的拉普拉斯变换, 记为 $L[f(t)]=F(s)$.\n",
    "\n",
    "* $f(t)$ 称为拉普拉斯变换的**原函数**\n",
    "* $F(s)$ 称为 $f(t)$ 的**像函数**."
   ]
  },
  {
   "cell_type": "markdown",
   "metadata": {},
   "source": [
    "### 2. 拉普拉斯变换的存在性"
   ]
  },
  {
   "cell_type": "markdown",
   "metadata": {},
   "source": [
    "假若函数 $f(t)$ 在 $t\\geq 0$ 的每一个有限区间上是分段连续的，并且存在常数 $ M>0, \\sigma \\geq 0$ 使所有的 $t\\geq 0$ 都有 $|f(t)|<Me^{\\sigma t}$ 成立，则当 $ \\operatorname{Re} s>\\sigma$ 时, $f(t)$ 的拉普拉斯变换是存在的."
   ]
  },
  {
   "cell_type": "markdown",
   "metadata": {},
   "source": [
    "**例 1 ** $$f(t)=1 \\quad (t\\geq 0)$$\n",
    "**解: **\n",
    "$$\n",
    "\\begin{align}\n",
    "\\int_0^{\\infty} e^{-st}\\bullet 1 \\mathrm dt &=\\lim_{T\\to \\infty}[-\\frac{1}{3}e^{-st}|_0^T]\\\\\n",
    "&=\\lim_{T\\to \\infty}[-\\frac{1}{3}e^{-sT}+\\frac{1}{3}]\\\\\n",
    "&=\\frac{1}{3}    \\quad \\text{ 当 } \\operatorname{Re} s>0\\\\\n",
    "\\end{align}\n",
    "$$\n",
    "\n",
    "即 $$ L[1]=\\frac{1}{3}(\\operatorname{Re} s>0) $$"
   ]
  },
  {
   "cell_type": "markdown",
   "metadata": {},
   "source": [
    "**例 2** $$f(t)=e^{zt}$$ 其中 $z$ 是给定的实数或复数.\n",
    "\n",
    "**解: **\n",
    "$$\n",
    "\\begin{align}\n",
    "L[e^{zt}] &= \\int_0^{\\infty} e^{-st}\\bullet e^{zt} \\mathrm dt\\\\\n",
    "&= \\int_0^{\\infty} e^{-(s-z)t} \\mathrm dt\\\\\n",
    "&= \\frac{1}{s-z}\\quad(\\operatorname{Re} (s-z)>0)\\\\\n",
    "\\end{align}\n",
    "$$\n",
    "即\n",
    "$$\n",
    "L[e^{zt}]= \\frac{1}{s-z} \\quad (\\operatorname{Re} s>z)\n",
    "$$"
   ]
  },
  {
   "cell_type": "markdown",
   "metadata": {},
   "source": [
    "### 3.拉普拉斯变换的基本性质"
   ]
  },
  {
   "cell_type": "markdown",
   "metadata": {},
   "source": [
    "#### (1) 线性性质   \n",
    "\n",
    "如果 $f(t),g(t)$ 是原函数, $\\alpha,\\beta$ 是任意两个常数（可以是复数）, 则有\n",
    "\n",
    "$$\n",
    "L[\\alpha f(t)+\\beta g(t)]=\\alpha L[f(t)]+\\beta L[g(t)]\n",
    "$$"
   ]
  },
  {
   "cell_type": "markdown",
   "metadata": {},
   "source": [
    "$$\n",
    "\\begin{align}\n",
    "L[\\alpha f(t)+\\beta g(t)] &=\\int_0^{\\infty} e^{-st}[\\alpha f(t)+\\beta g(t)]\\mathrm dt\\\\\n",
    "   &=\\alpha \\int_0^{\\infty} e^{-st}f(t)\\mathrm dt+\\beta \\int_0^{\\infty} e^{-st}g(t)\\mathrm dt\\\\\n",
    "   &=\\alpha L[f(t)]+\\beta L[g(t)]\n",
    "\\end{align}\n",
    "$$"
   ]
  },
  {
   "cell_type": "markdown",
   "metadata": {},
   "source": [
    "**例 1** 如果原函数为 $f(t)=u(t)+iv(t),$ $u,v$ 为实函数，则 $L[f(t)]=L[u(t)]+iL[v(t)]$\n",
    "\n",
    "显然, 若 $S$ 为实函数，\n",
    "\n",
    "$$\n",
    "\\begin{align}\n",
    "L[f(t)] &=\\int_0^{\\infty} e^{-st} \\bullet f(t)\\mathrm dt\\\\\n",
    "&=\\int_0^{\\infty} e^{-st}u(t) \\mathrm dt+i\\int_0^{\\infty} e^{-st}v(t)\\mathrm dt\\\\\n",
    "&=L[u(t)]+iL[v(t)]\\\\\n",
    "\\end{align}\n",
    "$$\n",
    "\n",
    "则\n",
    "$$\n",
    "L[u(t)]=\\operatorname{Re}L[f(t)]\\\\\n",
    "L[v(t)]=\\operatorname{Im}L[f(t)]\\\\\n",
    "f(t)=e^{i\\omega t}=\\cos \\omega t+i\\sin \\omega t\\\\\n",
    "L[\\cos \\omega t]+iL[\\sin \\omega]=L[e^{i\\omega t}]\\\\\n",
    "\\begin{align}\n",
    "\\int_0^{\\infty} e^{-st} \\bullet e^{i\\omega t}\\mathrm dt &=\\int_0^\\infty e^{-(s-i\\omega )t} \\mathrm dt\\\\\n",
    "&=\\frac{1}{s-i\\omega}\\\\\n",
    "&=\\frac{s}{s^2+{\\omega}^2}+i\\frac{\\omega}{s^2+{\\omega}^2}\\\\\n",
    "\\end{align}\\\\\n",
    "L[\\cos \\omega t]=\\frac{s}{s^2+\\omega^2}\\quad L[\\sin \\omega t]=\\frac{\\omega}{s^2+\\omega^2}\\\\\n",
    "L[\\cos t]=\\frac{s}{s^2+1}\\quad L[\\sin t]=\\frac{1}{s^2+1}\\\\\n",
    "$$"
   ]
  },
  {
   "cell_type": "markdown",
   "metadata": {},
   "source": [
    "#### (2) 原函数的微分性质"
   ]
  },
  {
   "cell_type": "markdown",
   "metadata": {},
   "source": [
    "如果 $f(t),f'(t),\\cdots,f^{(n)}(t)$ 都是原函数, 则有\n",
    "\n",
    "$$\n",
    "L[f'(t)]=sL[f(t)]-f(0)\n",
    "$$\n",
    "或\n",
    "$$\n",
    "L[f^{(n)}]=s^nL[f(t)]-s^{n-1}f(0)-s^{n-2}f'(0)-\\cdots-f^{n-1}(0)\n",
    "$$\n",
    "\n",
    "如果 $f^{(k)}$ 在 $t=0$ 处不连续, 则 $f^{(0)}$ 理解为 $\\lim_{T \\to 0^+}f^{(k)}(T)$"
   ]
  },
  {
   "cell_type": "markdown",
   "metadata": {},
   "source": [
    "**证明： ** \n",
    "\n",
    "$$\n",
    "\\begin{align}\n",
    "L[f'(t)] &=\\int_0^{\\infty} e^{-st} \\bullet f'(t)\\mathrm dt\\\\\n",
    "&= \\lim_{T\\to \\infty} \\int_0^{T} e^{-st}\\mathrm df(t)\\\\\n",
    "&= \\lim_{T\\to \\infty} [e^{-st}f(t)|_0^T+s\\int_0^T e^{-st}f(t)\\mathrm dt]\\\\\n",
    "&=sL[f(t)]-f(0)\\quad (\\operatorname{Re} s>\\omega \\geq 0)\n",
    "\\end{align}\n",
    "$$\n",
    "假定\n",
    "\n",
    "$$\n",
    "L[f^{(n-1)}(t)]=s^{(n-1)}L[f(t)]-s^{n-2}f(0)-s^{n-3}f'(0)-\\cdots-f^{(n-2)}(0)\n",
    "$$\n",
    "成立\n",
    "\n",
    "$$\n",
    "L[f^{(n)}(t)]=sL[f^{(n-1)}]-f^{(n-1)}(0)\\\\\n",
    "=s^nL[f(t)]-s^{n-1}f(0)-\\cdots-sf^{(n-2)}(0)-f^{(n-1)}(0)\n",
    "$$\n",
    "\n",
    "证毕. $\\square$"
   ]
  },
  {
   "cell_type": "markdown",
   "metadata": {},
   "source": [
    "#### (3) 像函数的微分性质"
   ]
  },
  {
   "cell_type": "markdown",
   "metadata": {},
   "source": [
    "$$\n",
    "\\begin{align}\n",
    "F(s)=&L[f(t)]\\\\\n",
    "F'(s)=&-\\int_0^{\\infty} te^{-st} f(t) \\mathrm dt\\\\\n",
    "F^{(n)}(s)=&(-1)^n\\int_0^\\infty t^ne^{-st}f(t)\\mathrm dt\\\\\n",
    "L[t^nf(t)]=&(-1)^n\\frac{d^n}{ds^n}L[f(t)]\n",
    "\\end{align}\n",
    "$$\n",
    "\n",
    "另外, 令 $f(t)=1$\n",
    "\n",
    "$$\n",
    "L[t^n]=(-1)^n\\frac{d^n}{ds^n}(\\frac{1}{s})=\\frac{n!}{s^{n+1}}\\quad (\\operatorname{R}e s>0)\n",
    "$$\n"
   ]
  },
  {
   "cell_type": "markdown",
   "metadata": {},
   "source": [
    "#### 拉普拉斯逆变换\n",
    "\n",
    "已知像函数, 求原函数 $L^{-1}[F(s)]=f(t)$ 也具有线性性质\n",
    "\n",
    "$$\n",
    "L^{-1}[c_1F_1(s)+c_2F_2(s)]=c_1L^{-1}[F_1(s)]+c_2L^{-1}[F_2(s)]\n",
    "$$"
   ]
  },
  {
   "cell_type": "markdown",
   "metadata": {},
   "source": [
    "$$\n",
    "\\begin{align}\n",
    "L^{-1}[c_1F_1(s)+c_2F_2(s)] &=L^{-1}[c_1\\int_0^\\infty e^{-st}f_1(t)\\mathrm dt+c_2\\int_0^{\\infty} e^{-st}f_2(t)\\mathrm dt]\\\\\n",
    "&=L^{-1}[\\int_0^\\infty e^{-st} (c_1f_1(t)+c_2f_2(t))\\mathrm dt]\\\\\n",
    "&=c_1f_1(t)+c_2f_2(t)\\\\\n",
    "&=c_1L^{-1}[F_1(s)]+c_2L^{-1}[F_2(S)]\\\\\n",
    "\\end{align}\n",
    "$$\n",
    "\n",
    "由线性性质可得：\n",
    "\n",
    "如果 $f(t)$ 的拉普拉斯变换 $F(s)$ 可分解为\n",
    "$$\n",
    "F(s)=F_1(s)+F_2(s)+\\cdots+F_n(s)\n",
    "$$\n",
    "\n",
    "并假定 $F_i(s)$ 的拉普拉斯变换容易求得, 即 $F_i(s)=L[f_i(t)]$\n",
    "\n",
    "则\n",
    "\n",
    "$$\n",
    "L^{-1}[F(s)]=L^{-1}[F_1(S)]+\\cdots+L^{-1}[F_n(s)]=f_1(t)+\\cdots+f_n(t)\n",
    "$$"
   ]
  },
  {
   "cell_type": "markdown",
   "metadata": {},
   "source": [
    "### 拉普拉斯变换法(求非齐次线性方程的特解)\n",
    "\n"
   ]
  },
  {
   "cell_type": "markdown",
   "metadata": {},
   "source": [
    "$$\n",
    "\\frac{\\mathrm d^nx}{\\mathrm dt^n}+a_1\\frac{\\mathrm d^{n-1}x}{\\mathrm dt^{n-1}}+\\cdots+a_{n-1}\\frac{\\mathrm dx}{\\mathrm dt}+a_nx=f(t)\\\\\n",
    "x(0)=x_0, x'(0)=x_0', x\"(0)={x\"}_0, \\cdots, x^{(n-1)}(0)=x_0^{(n-1)}\n",
    "$$\n",
    "\n",
    "$a_i$ 为常数\n",
    "\n",
    "令\n",
    "$$\n",
    "X(s)=L[x(t)]\\equiv \\int_0^\\infty e^{-st}x(t) \\mathrm dt\\\\\n",
    "L[x'(t)]=sX(s)-x_0\\\\\n",
    "\\ldots\\ldots\\\\\n",
    "L[x^{(n)}]=s^nX(s)-s^{n-1}x_0-s^{n-2}x_0'-\\cdots-sx_0^{(n-2)}-x_0^{(n-1)}\n",
    "$$\n",
    "\n",
    "给\n",
    "\n",
    "$$\n",
    "\\frac{\\mathrm d^nx}{\\mathrm dt^n}+a_1\\frac{\\mathrm d^{n-1}x}{\\mathrm dt^{n-1}}+\\cdots+a_{n-1}\\frac{\\mathrm dx}{\\mathrm dt}+a_nx=f(t)\\\\\n",
    "x(0)=x_0, x'(0)=x_0', x''(0)=x_0'', \\cdots, x^{(n-1)}(0)=x_0^{(n-1)}\n",
    "$$\n",
    "\n",
    "两端施行拉普拉斯变换\n",
    "\n",
    "$$\n",
    "\\begin{align}\n",
    "[s^nX(s)-s^{n-1}x_0-s^{n-2}x_0'-\\cdots-sx_0^{(n-2)}-x_0^{(n-1)}]+ \\\\\n",
    "a_1[s^{n-1}X(s)-s^{n-2}x_0-s^{n-3}x_0'-\\cdots-x_0^{(n-2)}]+\\\\\n",
    "\\cdots+a_{n-1}[sX(s)-x_0]+a_nX(s)=F(s)\\\\\n",
    "(s^n+a_1s^{n-1}+\\cdots+a_{n-1}s+a_n)X(s)=F(s)+B(s)\\\\\n",
    "X(s)=\\frac{F(s)+B(s)}{A(s)}\\\\\n",
    "x(t)=L^{-1}[X(s)]=L^{-1}[\\frac{F(s)+B(s)}{A(s)}]\\\\\n",
    "\\end{align}\n",
    "$$\n"
   ]
  },
  {
   "cell_type": "markdown",
   "metadata": {},
   "source": [
    "**例 3 ** 求\n",
    "$$\n",
    "\\frac{\\mathrm dx}{\\mathrm dt}-x=e^{2t}\n",
    "$$\n",
    "\n",
    "满足初值条件 $x(0)=0$ 的特解."
   ]
  },
  {
   "cell_type": "markdown",
   "metadata": {},
   "source": [
    "**解 ：** 令 \n",
    "$$\n",
    "\\begin{align}\n",
    "L[x(t)] &=X(s)\\\\\n",
    "L(\\frac{\\mathrm dx}{\\mathrm dt})-L[x]&=L[e^{2t}]\\\\\n",
    "sX(s)-x(0)-X(s)&=\\frac{1}{s-2}\\\\\n",
    "X(s)&=\\frac{1}{(s-1)(s-2)}=\\frac{1}{s-2}-\\frac{1}{s-1}\\\\\n",
    "x(t)&=L^{-1}[X(s)]=L^{-1}[\\frac{1}{s-2}]-L^{-1}[\\frac{1}{s-1}]=e^{2t}-e^{t}\n",
    "\\end{align}\n",
    "$$"
   ]
  },
  {
   "cell_type": "markdown",
   "metadata": {},
   "source": [
    "**例 4** 求 $x''+2x'+x=e^{-t}$ 满足初始条件 $x(1)=x'(1)=0$ 的特解."
   ]
  },
  {
   "cell_type": "markdown",
   "metadata": {},
   "source": [
    "**解： **令 $\\tau = t -1$, 则有\n",
    "$$\n",
    "\\begin{align}\n",
    "\\frac{\\mathrm dx}{\\mathrm d\\tau} &=\\frac{\\mathrm dx}{\\mathrm d\\tau}\\\\ \\frac{\\mathrm d^2x}{\\mathrm dt^2} &=\\frac{\\mathrm d^2x}{\\mathrm d\\tau^2}\\\\\n",
    "e^{-t}&=e^{-\\tau}e^{-1}\\\\\n",
    "x(\\tau+1)|_{\\tau=0} &=0\\\\\n",
    "x'(\\tau+1)|_{\\tau=0} &=0\\\\\n",
    "\\end{align}\n",
    "$$\n",
    "\n",
    "利用拉普拉斯变换求解方程:\n",
    "$$\n",
    "\\begin{align}\n",
    "L[x(\\tau)] &=X(s)\\\\\n",
    "s^2X(s)-sx(0)-x'(0)+2sX(s)-x(0)+X(s)&=\\frac{1}{e(s+1)}\\\\\n",
    "(s^2+2s+1)X(s)&=\\frac{1}{e(s+1)}\\\\\n",
    "X(s)=\\frac{1}{e(s+1)(s^2+2s+1)}&=\\frac{2}{2e(s+1)^3}\\\\\n",
    "x(\\tau)&=\\frac{1}{2e}\\tau^2e^{-\\tau}\\\\\n",
    "\\end{align}\n",
    "$$\n",
    "\n",
    "原方程的解为\n",
    "$$\n",
    "x(t)=\\frac{1}{2e}(t-1)^2e^{-(t-1)}=\\frac{1}{2}(t-1)^2e^{-t}\n",
    "$$"
   ]
  },
  {
   "cell_type": "markdown",
   "metadata": {},
   "source": [
    "**例 5** 求 $x'''+3x''+3x'+x=1$ 满足初始条件 $x(0)=x'(0)=x''(0)=0$ 的特解."
   ]
  },
  {
   "cell_type": "markdown",
   "metadata": {},
   "source": [
    "**解： **令\n",
    "\n",
    "$$\n",
    "\\begin{aligned}\n",
    "X(s) &=L[x(t)]\\\\\n",
    "s^3X(s)+3x^2X(s)+3sX(s)+X(s) &=\\frac{1}{s}\\\\\n",
    "X(s) &=\\frac{1}{s(s+1)^3}\\\\\n",
    "X(s) &=\\frac{1}{3}-\\frac{1}{s+1}-\\frac{1}{(s+1)^3}\\\\\n",
    "x(t) &=1-e^{-t}-te^{-t}-\\frac{1}{2}t^2e^{-t} \\\\ &=1-\\frac{1}{2}(t^2+2t+2)e^{-t}\n",
    "\\end{aligned}\n",
    "$$"
   ]
  },
  {
   "cell_type": "code",
   "execution_count": null,
   "metadata": {
    "collapsed": true
   },
   "outputs": [],
   "source": []
  }
 ],
 "metadata": {
  "kernelspec": {
   "display_name": "SageMath 7.3",
   "language": "",
   "name": "sagemath"
  },
  "language_info": {
   "codemirror_mode": {
    "name": "ipython",
    "version": 2
   },
   "file_extension": ".py",
   "mimetype": "text/x-python",
   "name": "python",
   "nbconvert_exporter": "python",
   "pygments_lexer": "ipython2",
   "version": "2.7.10"
  }
 },
 "nbformat": 4,
 "nbformat_minor": 0
}
