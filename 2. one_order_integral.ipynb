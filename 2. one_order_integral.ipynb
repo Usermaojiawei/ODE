{
 "cells": [
  {
   "cell_type": "markdown",
   "metadata": {},
   "source": [
    "# 简介"
   ]
  },
  {
   "cell_type": "markdown",
   "metadata": {},
   "source": [
    "方程类型:\n",
    "$$y^\\prime = f(x,y), \\quad F(x, y, y^\\prime)=0$$"
   ]
  },
  {
   "cell_type": "markdown",
   "metadata": {},
   "source": [
    "**初等积分法:** 通过积分求解常微分方程的一种方法, 其特点是微分方程的解可以用初等函数及初等函数的积分形式来表示."
   ]
  },
  {
   "cell_type": "code",
   "execution_count": 2,
   "metadata": {
    "collapsed": false
   },
   "outputs": [
    {
     "data": {
      "text/html": [
       "<html><script type=\"math/tex; mode=display\">\\newcommand{\\Bold}[1]{\\mathbf{#1}}C e^{\\left(-t\\right)}</script></html>"
      ],
      "text/plain": [
       "_C*e^(-t)"
      ]
     },
     "metadata": {},
     "output_type": "display_data"
    }
   ],
   "source": [
    "var('t')\n",
    "f = function('f')(t)\n",
    "de = diff(f, t) + f == 0\n",
    "show(desolve(de, f))"
   ]
  },
  {
   "cell_type": "markdown",
   "metadata": {},
   "source": [
    "## 2.1 变量分离方程与变量变换"
   ]
  },
  {
   "cell_type": "markdown",
   "metadata": {},
   "source": [
    "### 1. 变量分离方程"
   ]
  },
  {
   "cell_type": "markdown",
   "metadata": {},
   "source": [
    "$$ \n",
    "\\frac{dy}{dx}=f(x)\\varphi(y) \n",
    "$$\n",
    "\n",
    "其中 $f(x)$, $g(y)$ 分别是 $x$ 和 $y$ 的已知连续函数."
   ]
  },
  {
   "cell_type": "markdown",
   "metadata": {},
   "source": [
    "**例** \n",
    "$$\\frac{dy}{dx}=-\\frac{x}{y}, \\quad R^\\prime = kR $$"
   ]
  },
  {
   "cell_type": "markdown",
   "metadata": {},
   "source": [
    "**解法步骤** 设 $\\varphi(y)\\not=0$\n",
    "1. 分离变量 $$\\frac{dy}{\\varphi(y)}=f(x)dx$$\n",
    "1. 两边积分 $$\\int\\frac{dy}{\\varphi(y)}=\\int f(x)dx$$\n",
    "1. 设 $G(x)=\\int\\frac{dy}{\\varphi(y)}$, $F(x)=\\int f(x)dx$, 可得方程通解 $$G(y)=F(x)+C$$"
   ]
  },
  {
   "cell_type": "markdown",
   "metadata": {},
   "source": [
    "**易验证上述解为通解**."
   ]
  },
  {
   "cell_type": "markdown",
   "metadata": {},
   "source": [
    "如果存在 $y_i$, 使得 $\\varphi(y_i)=0, i = 1, 2, \\cdots,k$, 则 $y=y_i$ 是方程的常数解."
   ]
  },
  {
   "cell_type": "markdown",
   "metadata": {},
   "source": [
    "最终方程的解为\n",
    "$$\n",
    "\\begin{cases}\n",
    "G(y)=F(x)+C\\\\\n",
    "y=y_i, i = 1, 2, \\cdots, k\n",
    "\\end{cases}\n",
    "$$"
   ]
  },
  {
   "cell_type": "markdown",
   "metadata": {},
   "source": [
    "**例 1** 求解方程 $\\frac{dy}{dx}=-\\frac{x}{y}$"
   ]
  },
  {
   "cell_type": "code",
   "execution_count": 8,
   "metadata": {
    "collapsed": false
   },
   "outputs": [
    {
     "data": {
      "text/html": [
       "<html><script type=\"math/tex; mode=display\">\\newcommand{\\Bold}[1]{\\mathbf{#1}}-\\frac{1}{2} \\, x^{2}</script></html>"
      ],
      "text/plain": [
       "-1/2*x^2"
      ]
     },
     "metadata": {},
     "output_type": "display_data"
    },
    {
     "data": {
      "text/html": [
       "<html><script type=\"math/tex; mode=display\">\\newcommand{\\Bold}[1]{\\mathbf{#1}}\\frac{1}{2} \\, y^{2}</script></html>"
      ],
      "text/plain": [
       "1/2*y^2"
      ]
     },
     "metadata": {},
     "output_type": "display_data"
    },
    {
     "data": {
      "text/html": [
       "<html><script type=\"math/tex; mode=display\">\\newcommand{\\Bold}[1]{\\mathbf{#1}}\\frac{1}{2} \\, y^{2} = -\\frac{1}{2} \\, x^{2} + c</script></html>"
      ],
      "text/plain": [
       "1/2*y^2 == -1/2*x^2 + c"
      ]
     },
     "metadata": {},
     "output_type": "display_data"
    }
   ],
   "source": [
    "var('x y c')\n",
    "f = -x\n",
    "g = 1/y\n",
    "F = integral(f, x)\n",
    "G = integral(1/g, y)\n",
    "show(F)\n",
    "show(G)\n",
    "s = G == F + c\n",
    "show(s)"
   ]
  },
  {
   "cell_type": "markdown",
   "metadata": {},
   "source": [
    "**例 2** 求解方程 $\\frac{dy}{dx}=y^2\\cos x$"
   ]
  },
  {
   "cell_type": "code",
   "execution_count": 15,
   "metadata": {
    "collapsed": false
   },
   "outputs": [
    {
     "data": {
      "text/html": [
       "<html><script type=\"math/tex; mode=display\">\\newcommand{\\Bold}[1]{\\mathbf{#1}}\\sin\\left(x\\right)</script></html>"
      ],
      "text/plain": [
       "sin(x)"
      ]
     },
     "metadata": {},
     "output_type": "display_data"
    },
    {
     "data": {
      "text/html": [
       "<html><script type=\"math/tex; mode=display\">\\newcommand{\\Bold}[1]{\\mathbf{#1}}-\\frac{1}{y}</script></html>"
      ],
      "text/plain": [
       "-1/y"
      ]
     },
     "metadata": {},
     "output_type": "display_data"
    },
    {
     "data": {
      "text/plain": [
       "-1/y == sin(x) - 1"
      ]
     },
     "execution_count": 15,
     "metadata": {},
     "output_type": "execute_result"
    }
   ],
   "source": [
    "var('x y c')\n",
    "f = cos(x)\n",
    "g = y^2\n",
    "F = integral(f, x)\n",
    "G = integral(1/g, y)\n",
    "show(F)\n",
    "show(G)\n",
    "s = G == F + c\n",
    "s.subs(y==1, x==0)\n",
    "s.subs(c == -1)"
   ]
  },
  {
   "cell_type": "markdown",
   "metadata": {},
   "source": [
    "### 2. 可化成变量分离方程的类型"
   ]
  },
  {
   "cell_type": "markdown",
   "metadata": {},
   "source": [
    "**(1) 齐次方程** "
   ]
  },
  {
   "cell_type": "markdown",
   "metadata": {},
   "source": [
    "**(2) 可化为齐次方程的方程类型**"
   ]
  },
  {
   "cell_type": "markdown",
   "metadata": {},
   "source": [
    "## 2.2 线性方程与常数变易法"
   ]
  },
  {
   "cell_type": "markdown",
   "metadata": {},
   "source": [
    "## 2.3 恰当方程与积分因子"
   ]
  },
  {
   "cell_type": "markdown",
   "metadata": {},
   "source": [
    "## 2.4 一阶隐式方程与参数表示"
   ]
  },
  {
   "cell_type": "code",
   "execution_count": null,
   "metadata": {
    "collapsed": true
   },
   "outputs": [],
   "source": []
  }
 ],
 "metadata": {
  "kernelspec": {
   "display_name": "SageMath 7.2",
   "language": "",
   "name": "sagemath"
  },
  "language_info": {
   "codemirror_mode": {
    "name": "ipython",
    "version": 2
   },
   "file_extension": ".py",
   "mimetype": "text/x-python",
   "name": "python",
   "nbconvert_exporter": "python",
   "pygments_lexer": "ipython2",
   "version": "2.7.10"
  }
 },
 "nbformat": 4,
 "nbformat_minor": 0
}
