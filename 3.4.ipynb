{
 "cells": [
  {
   "cell_type": "markdown",
   "metadata": {},
   "source": [
    " # $$ 3.4奇解 $$"
   ]
  },
  {
   "cell_type": "markdown",
   "metadata": {},
   "source": [
    "# 主要内容\n",
    "\n",
    "\n"
   ]
  },
  {
   "cell_type": "markdown",
   "metadata": {},
   "source": [
    "## • 包络和奇解\n",
    "\n",
    "## • 克莱罗方程（Clairant Equation）"
   ]
  },
  {
   "cell_type": "markdown",
   "metadata": {},
   "source": [
    "# 本节要求：\n",
    "\n",
    "** 1 了解奇解的意义；**\n",
    "\n",
    "** 2 掌握求奇解的方法；**\n"
   ]
  },
  {
   "cell_type": "markdown",
   "metadata": {},
   "source": [
    "### 一 包络和奇解的定义\n",
    "\n",
    "   **曲线族的包络：**是指这样的曲线,它本身并不包含在曲线族中,但过这条曲线上的每一点,有曲线族中的一条曲线与其在此点相切.\n",
    "    \n",
    "   **奇解：**在有些微分方程中,存在一条特殊的积分曲线,它并不属于这个方程的积分曲线族,但在这条特殊的积分曲线上的每一点处,都有积分曲线族中的一条曲线与其在此点相切.这条特殊的积分曲线所对应的解称为方程的**奇解**.\n",
    "   \n",
    "**注：** 都有方程的另一解存在."
   ]
  },
  {
   "cell_type": "markdown",
   "metadata": {},
   "source": [
    "**例:**$\\quad$ 单参数曲线族\n",
    "\n",
    "$$\n",
    "(x-c)^2+y^2=R^2\n",
    "$$\n",
    "\n",
    "$R$ 是常数, $c$ 是参数.\n",
    "\n",
    "![](./figures/1.jpg)\n",
    "\n",
    "显然，$y = \\pm R $ 是曲线族 $(x-c)^2+y^2=R^2$ 的包络.\n",
    "\n",
    "一般的曲线族并不一定有包络，如同心圆族，平行线族等都是没有包络的.\n"
   ]
  },
  {
   "cell_type": "markdown",
   "metadata": {},
   "source": [
    "### 二 求奇解(包络线)的方法"
   ]
  },
  {
   "cell_type": "markdown",
   "metadata": {},
   "source": [
    " **$C$-判别曲线法**\n",
    " \n",
    " **$P$-判别曲线法**\n"
   ]
  },
  {
   "cell_type": "markdown",
   "metadata": {},
   "source": [
    "设一阶方程 $F(x,y,y')=0$ 的通积分为 $\\Phi (x,y,C)=0$.\n"
   ]
  },
  {
   "cell_type": "markdown",
   "metadata": {},
   "source": [
    " **$1、 C$-判别曲线法**\n",
    "\n",
    "结论:通积分作为曲线族的包络线（奇解）包含在下列方程组\n",
    "\n",
    "$$\n",
    "\\begin{cases}\n",
    "\\Phi(x,y,C)=0\\\\\n",
    "\\Phi'_c(x,y,C)=0\\\\\n",
    "\\end{cases}\n",
    "$$\n",
    "\n",
    "消去 $C$ 而得到的曲线中."
   ]
  },
  {
   "cell_type": "markdown",
   "metadata": {},
   "source": [
    "设由 \n",
    "\n",
    "$$\n",
    "\\begin{cases}\n",
    "\\Phi(x,y,C)=0\\\\\n",
    "\\Phi'_c(x,y,C)=0\\\\\n",
    "\\end{cases}\n",
    "$$\n",
    "\n",
    "能确定出曲线为 $L:x=x(C)$ ,$y=y(C)$\n",
    "则 $\\Phi(x(C),y(C),C)=0$\n",
    "对参数 $C$ 求导数\n",
    "\n",
    "$$\n",
    "\\Phi'_x(x(C),y(C),C)x'(C)+\\Phi'_y(x(C),y(C),C)y'(C)+\\Phi'_c(x(C),y(C),C)=0\n",
    "$$\n",
    "\n",
    "从而得到恒等式\n",
    "\n",
    "$$\n",
    "\\Phi'_x(x(C),y(C),C)x'(C)+\\Phi'_y(x(C),y(C),C)y'(C)=0\n",
    "$$\n",
    "\n",
    "当 $\\Phi'_x(x,y,C)=0$ , $\\Phi'_y(x,y,C)=0$ 至少有一个不为零时有\n",
    "\n",
    "$$\n",
    "\\frac{y'(c)}{x'(C)}=\\frac{\\Phi'_x(x(C),y(C),C)}{\\Phi'_y(x(C),y(C),C)}\n",
    "$$\n",
    "\n",
    "或\n",
    "\n",
    "$$\n",
    "\\frac{x'(c)}{y'(C)}=-\\frac{\\Phi'_y(x(C),y(C),C)}{\\Phi'_x(x(C),y(C),C)}\n",
    "$$\n",
    "\n",
    "这表明曲线 $L$ 在其上每一点 $(x(C), y(C))$ 处均与曲线族中对应于C的曲线$\\phi(x, y,C)=0$ 相切."
   ]
  },
  {
   "cell_type": "markdown",
   "metadata": {},
   "source": [
    "**注意：**  $C$ -判别曲线中除了包络外,还有其他曲线 ,还有其他曲线,尚需检验."
   ]
  },
  {
   "cell_type": "markdown",
   "metadata": {},
   "source": [
    "**例1** 求直线族\n",
    "$$\n",
    "xcosα+ysinα−p=0\n",
    "$$\n",
    "的包络，这里 $\\alpha$ 是参数, $p$ 是常数.\n",
    "\n",
    "**解：** 对参数 $\\alpha$ 求导数\n",
    "$$\n",
    "−xsin\\alpha + ycos\\alpha=0\n",
    "$$\n",
    "联立\n",
    "$$\n",
    "\\begin{cases}\n",
    "xcos\\alpha+ysin\\alpha−p=0\\\\\n",
    "−xsin\\alpha + ycos\\alpha=0\\\\\n",
    "\\end{cases}\n",
    "$$\n",
    "\n",
    "$$\n",
    "x^2cos^2\\alpha+y^2sin^2\\alpha+2xy sin\\alpha cos\\alpha=p^2\n",
    "$$\n",
    "\n",
    "$$\n",
    "x^2sin^2\\alpha+y^2cos^2\\alpha-2xy sin\\alpha cos\\alpha=0\n",
    "$$\n",
    "\n",
    "相加，得 $x^2+y^2=p^2$ ,经检验，其是所求包络线."
   ]
  },
  {
   "cell_type": "markdown",
   "metadata": {},
   "source": [
    "**例2** 求直线族\n",
    "$$\n",
    "(y-c)^2-\\frac{2}{3}(x-c)^3=0\n",
    "$$\n",
    "的包络,这里 $c$ 是参数.\n",
    "\n",
    "**解：** 对参数 $c$ 求导数 $y-c-(x-c)^2=0$\n",
    "\n",
    "联立\n",
    "\n",
    "$$\n",
    "\\begin{cases}\n",
    "(y-c)^2-\\frac{2}{3}(x-c)^3=0\\\\\n",
    "y-c-(x-c)^2=0\\\\\n",
    "\\end{cases}\n",
    "$$\n",
    "\n",
    "得 $(x-c)^3[(x-c)-\\frac{2}{3}]=0$ 从 $x-c=0$ 得到 $y=x$,从 $(x-c)-\\frac{2}{3}$  得到 $y=x-\\frac{2}{9}$\n",
    "\n",
    "因此, $C$-判别曲线中包括了两条曲线,易检验，$y=x-\\frac{2}{9}$ 是所求包络线.\n",
    "\n",
    "![](./figures/2.jpg)\n"
   ]
  },
  {
   "cell_type": "markdown",
   "metadata": {},
   "source": [
    "**2、p-判别曲线**\n",
    "\n",
    "结论:方程 $F(x,y,y')=0$ 的奇解包含在下列方程组\n",
    "\n",
    "$$\n",
    "\\begin{cases}\n",
    "F(x,y,p)=0\\\\\n",
    "F'_p(x,y,p)=0\\\\\n",
    "\\end{cases}\n",
    "$$\n",
    "\n",
    "消去 $p$ 而得到的曲线中.\n",
    "\n",
    "**注意:** $p$-判别曲线中除了包络外,还有其他曲线,还有其他曲线,尚需检验."
   ]
  },
  {
   "cell_type": "markdown",
   "metadata": {},
   "source": [
    "**例3** 求方程 $\\left(\\frac{\\mathrm d y}{\\mathrm d x}\\right)^2+y^2-1=0$ 的奇解。\n",
    "\n",
    "\n",
    "**解:** 从\n",
    "$$\n",
    "\\begin{cases}\n",
    "p^2+y^2-1=0\\\\\n",
    "2p=0\\\\\n",
    "\\end{cases}\n",
    "$$\n",
    "\n",
    "消去 $p$ ,得到 $p$-判别曲线\n",
    "$$\n",
    "y=\\pm 1\n",
    "$$\n",
    "\n",
    "经检验,它们是方程的奇解.\n",
    "\n",
    "因为易求得原方程的通解为 $y=sin(x+c)$\n",
    "而 $y=\\pm 1$ 是方程的解 y = ±1 ，且正好是通解的包络.\n",
    "\n"
   ]
  },
  {
   "cell_type": "markdown",
   "metadata": {},
   "source": [
    "**例4** 求方程 $y=2x\\frac{\\mathrm d y}{\\mathrm d x}-\\left(\\frac{\\mathrm d y}{\\mathrm d x}\\right)^2$ 的奇解.\n",
    "\n",
    "**解:** 从\n",
    "$$\n",
    "\\begin{cases}\n",
    "y=2xp-p^2\\\\\n",
    "2x-2p=0\\\\\n",
    "\\end{cases}\n",
    "$$\n",
    "\n",
    "消去 $p$ ,得到 $p$ -判别曲线\n",
    "经检验, 不是方程的解 $y=x^2$ , 故此方程没有奇解.\n",
    "\n",
    "注意: 以上两种方法,只提供求奇解的途径 ,只提供求奇解的途径,所得 $p$ -判别曲线和 $C$ -判别曲线是不是奇解,必需进行检验."
   ]
  },
  {
   "cell_type": "markdown",
   "metadata": {},
   "source": [
    "**3、克莱罗方程**"
   ]
  },
  {
   "cell_type": "markdown",
   "metadata": {},
   "source": [
    "形如\n",
    "\n",
    "$$\n",
    "y=xp+f(p)\n",
    "$$\n",
    "的方程，称为**克莱罗微分方程**\n",
    "\n",
    "其中 $p=\\frac{\\mathrm d y}{\\mathrm d x} $, $f(p) $ 是 $p$ 的连续函数.\n",
    "\n",
    "**解法** \n",
    "\n",
    "\n",
    "$$ p=p+xp'+f'(p)p' $$\n",
    "\n",
    "$$(x+f'(p))p'=0$$\n",
    "\n",
    "$$p'=0 \\quad p=c$$\n",
    "\n",
    "$$y=cx+f(c)\\quad 通解$$\n",
    "\n",
    "$$\n",
    "\\begin{cases}\n",
    "x=-f'(p)\\\\\n",
    "y=-f'(p)p+\\varphi(p)\\\\  \n",
    "\\end{cases}奇解\n",
    "$$\n"
   ]
  },
  {
   "cell_type": "markdown",
   "metadata": {},
   "source": [
    "**例5** 求解方程 $y=xp+\\frac{1}{p}$\n",
    "\n",
    "**解:** 这是克莱罗方程,因而其通解为 $y=xp+\\frac{1}{p}$\n",
    "从\n",
    "\n",
    "$$\n",
    "\\begin{cases}\n",
    "x-\\frac{1}{c^2}=0\\\\\n",
    "y=xc+\\frac{1}{c}\\\\\n",
    "\\end{cases}\n",
    "$$\n",
    "\n",
    "消去 $c$ ,得到奇解\n",
    "$$\n",
    "y^2=4x\n",
    "$$"
   ]
  },
  {
   "cell_type": "markdown",
   "metadata": {},
   "source": [
    "**例6** 求一曲线，使在其上每一点的切线截割坐标轴而成的直角三角形的面积都等于2.\n",
    "\n",
    "**解** 设要求的曲线为 $y=y(x)$ 过曲线任上一点 $(x,y)$ 的切线方程为\n",
    "\n",
    "$$\n",
    "Y=y'(x)(X-x)+y\n",
    "$$\n",
    "\n",
    "其与坐标轴的交点为 $(-\\frac{y}{y'}+x,-xy'+y)$ 切线截割坐标轴而成的直角三角形的面积为 \n",
    "\n",
    "$$\n",
    "\\begin{aligned}\n",
    "\\frac{1}{2}(-\\frac{y}{y'}+x)(-xy'+y) & =2\\\\\n",
    "(y-xy')^2 & = 4y'\\\\\n",
    "y-xy' & =\\pm 2\\sqrt{-y'}\n",
    "\\end{aligned}\\\\\n",
    "$$\n",
    "\n",
    "即 $y=xy'\\pm 2\\sqrt{-y'}$\n",
    "\n",
    "这是克莱罗方程,因而其通解为\n",
    "\n",
    "$$\n",
    "y=c_1x\\pm2\\sqrt{-c_1}=2c-c^2x\n",
    "$$\n",
    "\n",
    "从\n",
    "\n",
    "$$\n",
    "\\begin{cases}\n",
    "y=2c-c^2x\\\\\n",
    "2-2cx=0\\\\\n",
    "\\end{cases}\n",
    "$$\n",
    "\n",
    "消去 $c$，得到奇解 $xy=1$\n",
    "这是等腰双曲线,显然它就是满足要求的曲线."
   ]
  },
  {
   "cell_type": "markdown",
   "metadata": {
    "collapsed": true
   },
   "source": [
    "## 课堂练习:"
   ]
  },
  {
   "cell_type": "markdown",
   "metadata": {},
   "source": [
    "1 求一曲线，使在其上每一点的切线截割坐标轴的两截距之和等于常数 $a$.\n",
    "\n",
    "2求解方程，并划出积分曲线图.\n",
    "\n",
    "(1)$y=x\\frac{\\mathrm d y}{\\mathrm d x}+\\sqrt{1+(\\frac{\\mathrm d y}{\\mathrm d x})^2}$\n",
    "\n",
    "(2)$(\\frac{\\mathrm d y}{\\mathrm d x})^2+x\\frac{\\mathrm d y}{\\mathrm d x}-y=0$"
   ]
  },
  {
   "cell_type": "code",
   "execution_count": null,
   "metadata": {
    "collapsed": true
   },
   "outputs": [],
   "source": []
  }
 ],
 "metadata": {
  "kernelspec": {
   "display_name": "SageMath 7.3",
   "language": "",
   "name": "sagemath"
  },
  "language_info": {
   "codemirror_mode": {
    "name": "ipython",
    "version": 2
   },
   "file_extension": ".py",
   "mimetype": "text/x-python",
   "name": "python",
   "nbconvert_exporter": "python",
   "pygments_lexer": "ipython2",
   "version": "2.7.10"
  }
 },
 "nbformat": 4,
 "nbformat_minor": 0
}
