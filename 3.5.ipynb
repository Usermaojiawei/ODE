{
 "cells": [
  {
   "cell_type": "markdown",
   "metadata": {},
   "source": [
    "# 3.5数值解"
   ]
  },
  {
   "cell_type": "markdown",
   "metadata": {},
   "source": [
    "在工程和科学计算中, 所建立的各种常微分方程的初值或边值问题, 除很少几类的特殊方程能给出解析解, 绝大多数方程是很难甚至不可能给出解析解的,　其主要原因在于积分工具的局限性.\n",
    "\n",
    "$$\n",
    "y'(x) = x^2+y^2\n",
    "$$\n",
    "\n",
    "因此, 人们转向用数值方法去解常微分方程, 并获得相当大的成功, 讨论和研究常微分方程的数值解法是有重要意义."
   ]
  },
  {
   "cell_type": "markdown",
   "metadata": {},
   "source": [
    "## 基本概念"
   ]
  },
  {
   "cell_type": "markdown",
   "metadata": {},
   "source": [
    "### 一阶常微分方程的初值问题"
   ]
  },
  {
   "cell_type": "markdown",
   "metadata": {},
   "source": [
    "$$\n",
    "\\begin{cases}\n",
    "y'(x) = f(x,y(x)),x \\in(a,b)\\\\\n",
    "y(a) = y_0\n",
    "\\end{cases}\n",
    "$$\n",
    "\n",
    "**注:** 若 $f$ 在 $D =\\{a\\leq x\\leq b,\\left|y\\right|<+\\infty\\}$ 内连续, 且满足 Lipschitz 条件, $\\exists L \\geq 0$, 使\n",
    "\n",
    "$$\n",
    "\\left|f(x,y_1)-f(x,y_2)\\right|\\leq L\\left|y_1-y_2\\right| \n",
    "$$ \n",
    "\n",
    "则\n",
    "\n",
    "$$\n",
    "\\begin{cases}\n",
    "y'(x) = f(x,y(x)), x \\in(a,b)\\\\\n",
    "y(a) = y_0\n",
    "\\end{cases}\n",
    "$$\n",
    "\n",
    "的连续可微解 $y(x)$ 在 $[a,b]$ 上唯一存在."
   ]
  },
  {
   "cell_type": "markdown",
   "metadata": {},
   "source": [
    "### 初值问题的数值解"
   ]
  },
  {
   "cell_type": "markdown",
   "metadata": {},
   "source": [
    "称\n",
    "\n",
    "$$\n",
    "\\begin{cases}\n",
    "y'(x) = f(x,y(x)), x \\in(a,b)\\\\\n",
    "y(a) = y_0\n",
    "\\end{cases}\n",
    "$$\n",
    "\n",
    "的解 $y(x)$ 在节点 $x_i$ 处的近似值\n",
    "\n",
    "$$\n",
    "y_i \\approx y(x_i) \\quad   a < x_1 <x_2 < \\cdots < x_n = b.\n",
    "$$\n",
    "\n",
    "为其数值解, 其求解方法称为数值方法."
   ]
  },
  {
   "cell_type": "markdown",
   "metadata": {},
   "source": [
    "**注:**\n",
    "\n",
    "+ 考虑等距节点: $x_i = a + ih$, $h = \\frac{b - a}{n}$\n",
    "\n",
    "+ 从初始条件 $y(a) = y_0$ 出发, 依次逐个计算 $y_1$, $y_2$ ,$\\cdots$, $y_n$ 的值, 称为步进法.\n",
    "\n",
    "两种:单步法、多步法.\n",
    "\n",
    "+ 二阶常微分方程 $y''(x) = f (x，y(x)，y'(x))$ 可设为一阶常微分方程组的初值问题：\n",
    "\n",
    "引进新的未知函数 $z(x) = y'(x)$, 则\n",
    "\n",
    "$$\n",
    "\\begin{cases}\n",
    "y'(x) = z(x)\\\\\n",
    "z'(x) = f(x,y(x),z(x))\\\\\n",
    "\\end{cases}\n",
    "$$\n",
    "\n",
    "其初始条件为:\n",
    "\n",
    "$$\n",
    "\\begin{cases}\n",
    "y(a) = y_0\\\\\n",
    "z(a)= y'_0\\\\\n",
    "\\end{cases}\n",
    "$$\n",
    "\n",
    "称为一阶微分方程组的初值问题, 方法类似.\n",
    "\n",
    "+ 边界问题，常用差分方法解."
   ]
  },
  {
   "cell_type": "markdown",
   "metadata": {},
   "source": [
    "### 初值问题数值解法的构造及其精度"
   ]
  },
  {
   "cell_type": "markdown",
   "metadata": {},
   "source": [
    "#### 欧拉方法"
   ]
  },
  {
   "cell_type": "markdown",
   "metadata": {},
   "source": [
    "对于 \n",
    "\n",
    "$$\n",
    "\\begin{cases}\n",
    "y'(x) = f(x,y(x)),x \\in(a,b)\\\\\n",
    "y(a) = y_0\n",
    "\\end{cases}\n",
    "$$\n",
    "\n",
    "可借助 Taylor 展开(导数法)、差商法、积分法实现离散化来构造求积公式:"
   ]
  },
  {
   "cell_type": "markdown",
   "metadata": {},
   "source": [
    "1.设 $y\\in C[a，b]$ 将 $y(x_{i+1}) = y(x_{i}+h)$ 在 $x_i$ 处展开\n",
    "\n",
    "$$\n",
    "\\begin{align}\n",
    "y(x_{i+1}) &= y(x_i) +hy'(x_i) +\\frac{h^2}{2}y''(\\xi)\\\\\n",
    "&=y(x_i)+hf(x_i,y(x_i))+\\frac{h^2}{2}y''(\\xi), \\xi\\in[x_i,x_{i+1}]\n",
    "\\end{align}\n",
    "$$"
   ]
  },
  {
   "cell_type": "markdown",
   "metadata": {},
   "source": [
    "$\\Rightarrow$ \n",
    "\n",
    "$$\n",
    "y(x_{i+１}) \\approx y_i+hf(x_i,y_i) \n",
    "$$\n",
    "\n",
    "其中 $y_i \\approx y(x_i)$ 称\n",
    "\n",
    "$$\n",
    "y_{i+１} = y_i +hf(x_i,y_i),\\quad i = 0,1,1,\\cdots,n\n",
    "$$. \n",
    "\n",
    "为 Euler 求解公式,(**Euler法**)"
   ]
  },
  {
   "cell_type": "markdown",
   "metadata": {},
   "source": [
    "2.用差商来表示:\n",
    "\n",
    "$$\n",
    "\\frac{y(x_{i+１})-y(x_i)}{h} \\approx y'(x_i)\n",
    "$$\n",
    "\n",
    "得差分方程\n",
    "\n",
    "$$\n",
    "\\frac{y_{i+1}-y_i}{h} = f(x_i,y_i)\n",
    "$$\n",
    "\n",
    "$\\Rightarrow$  $y_{i+1} = y_i+hf(x_i,y_i)$. 即为 **Euler 公式**."
   ]
  },
  {
   "cell_type": "markdown",
   "metadata": {},
   "source": [
    "若记 \n",
    "\n",
    "$$\n",
    "\\frac{y(x_{i+１})-y(x_i)}{h} \\approx y'(x_{i+1}) = f(x_{i+1}，y(x_{i+1}))\n",
    "$$\n",
    "\n",
    "$\\Rightarrow$   \n",
    "\n",
    "$$\n",
    "y_{i+1} = y_i+hf(x_{i+1}，y(x_{i+1}))\n",
    "$$\n",
    "\n",
    "称为**向后Euler法**."
   ]
  },
  {
   "cell_type": "markdown",
   "metadata": {},
   "source": [
    "+ Euler法为显式, 向后Euler法为隐式——须解出 $y_{i+1}$."
   ]
  },
  {
   "cell_type": "markdown",
   "metadata": {},
   "source": [
    "+ 可用迭代法 \n",
    "$$\n",
    "y_{i+1}^{(k+1)} = y_i + hf (xi+1，y_{i+1}^{(k)}),k = 0,1,2,\\cdots, \n",
    "$$,\n",
    "\n",
    "解得 $y_{i+1}$, 其中 $y_{i+1}^{(0)} = y_i + hf (x_i，y_i)$."
   ]
  },
  {
   "cell_type": "markdown",
   "metadata": {},
   "source": [
    "对\n",
    "\n",
    "$$\n",
    "\\begin{cases}\n",
    "y'(x) = f(x,y(x)),x \\in(a,b)\\\\\n",
    "y(a) = y_0\n",
    "\\end{cases}\n",
    "$$\n",
    "\n",
    "两边取积分得\n",
    "\n",
    "$$\n",
    "y(x_{i+1})= y({x_i}) +\\int_{x_i}^{x_{i+1}}f(x,y(x))\\mathrm d{x}\n",
    "$$"
   ]
  },
  {
   "cell_type": "markdown",
   "metadata": {},
   "source": [
    "取不同的数值积分可得不同的求解公式, 如"
   ]
  },
  {
   "cell_type": "markdown",
   "metadata": {},
   "source": [
    "１）用矩形公式："
   ]
  },
  {
   "cell_type": "markdown",
   "metadata": {},
   "source": [
    "$$\n",
    "\\int_{x_i}^{x_{i+1}}f(x,y(x))\\approx hf(x_i,y(x_i)) \\approx hf(x_{i+1},y(x_{i+1}))\n",
    "$$\n",
    "\n",
    "$$\n",
    "y(x_{i+1}) \\approx y(x_i) + hf(x_i,y(x_i))\n",
    "$$\n",
    "\n",
    "$\\Rightarrow$ \n",
    "\n",
    "$$\n",
    "y_{i+1} = y_i+hf(x_i,y_i) \\quad\\textbf{Euler 公式}\n",
    "$$"
   ]
  },
  {
   "cell_type": "markdown",
   "metadata": {},
   "source": [
    "$$\n",
    "y(x_{i+1}) \\approx y(x_i) = hf(x_{i+1},y_{i+1})\n",
    "$$\n",
    "\n",
    "$\\Rightarrow$  \n",
    "\n",
    "$$\n",
    "y_{i+1} = y_i+hf(x_{i}，y_i)\\quad\\textbf{向后Euler 公式}\n",
    "$$\n"
   ]
  },
  {
   "cell_type": "markdown",
   "metadata": {},
   "source": [
    "+ (2)用梯形公式\n",
    "\n",
    "$$\n",
    "\\int_{x_i}^{x_{i+1}}f(x,y(x)) \\mathrm d{x} = \\frac{h}{2}\\left[f(x_i,y(x_i))+f(x_{i+1},y(x_{i+1}))\\right] - \\frac{h^3}{12}f''(\\xi,y(\\xi))\n",
    "$$"
   ]
  },
  {
   "cell_type": "markdown",
   "metadata": {},
   "source": [
    "$\\Rightarrow$  \n",
    "\n",
    "$$\n",
    "y(x_{i+1}) \\approx  y(x_i)\\frac{h}{2}\\left[f(x_i,y(x_i))+f(x_{i+1},y(x_{i+1}))\\right]\n",
    "$$\n",
    "\n",
    "$\\Rightarrow$ \n",
    "\n",
    "$$\n",
    "y_{i+1} = y_i +\\frac{h}{2}\\left[f(x_i,y_i)+f(x_{i+1},y(x_{i+1}))\\right]\n",
    "$$\n",
    "\n",
    "\n",
    "称 \n",
    "\n",
    "$$\n",
    "y_{i+1} = y_i +\\frac{h}{2}\\left[f(x_i,y_i)+f(x_{i+1},y(x_{i+1}))\\right]\n",
    "$$\n",
    "\n",
    "为 **梯形公式**——隐式公式."
   ]
  },
  {
   "cell_type": "markdown",
   "metadata": {},
   "source": [
    "**显化**\n",
    "\n",
    "预估值: \n",
    "\n",
    "$$\n",
    "\\bar{y}_{i+1} = y_i+hf(x_i,y_i)\n",
    "$$\n",
    "\n",
    "校正值:\n",
    "\n",
    "$$\n",
    "y_{i+1} = y_i + \\frac{h}{2}\\left[f(x_i,y_i)+f(x_{i+1},\\bar{y}_{i+1})\\right] \n",
    "$$\n",
    "\n",
    "称\n",
    "\n",
    "$$\n",
    "y_{i+1} = y_i + \\frac{h}{2}\\left[f(x_i,y_i)+f(x_{i+1},\\bar{y}_{i+1})\\right] \n",
    "$$\n",
    "\n",
    "为**改进的Euler法**.(显示格式)"
   ]
  },
  {
   "cell_type": "markdown",
   "metadata": {},
   "source": [
    "###  几何意义"
   ]
  },
  {
   "cell_type": "markdown",
   "metadata": {},
   "source": [
    "**Euler法——折线法**\n",
    "\n",
    "![](./figures/zhixian.png)\n",
    "\n",
    "**改进Euler法——平均斜率折线法**\n",
    "\n",
    "![](./figures/gaijin.png)"
   ]
  },
  {
   "cell_type": "markdown",
   "metadata": {},
   "source": [
    "## 截断误差与代数精度"
   ]
  },
  {
   "cell_type": "markdown",
   "metadata": {},
   "source": [
    "**定义 1**\n",
    "\n",
    "+ 称 $\\varepsilon_i = y(x_i)-y_i$ 为数值解 $y_i$ 的(整体)截断误差."
   ]
  },
  {
   "cell_type": "markdown",
   "metadata": {},
   "source": [
    "+ 若 $y_k = y(x_k)$, $k = 0,1,2,…,i-1$. \n",
    "\n",
    "\n",
    "由求解公式得数值解 $\\bar{y}_i \\approx y(x_i)$, 称为 $y_i$ 的局部截断误差."
   ]
  },
  {
   "cell_type": "markdown",
   "metadata": {},
   "source": [
    "**注**：局部截断误差 $e_i$ 是指单步计算产生的误差, 而(整体)截断误差 $\\varepsilon_i$则考虑到每步误差对下一步的影响."
   ]
  },
  {
   "cell_type": "markdown",
   "metadata": {},
   "source": [
    "**定义 2**\n",
    " 若求解公式的(整体)截断误差为 $O(h^p)$, 则称该方法是 $p$ 阶方法, 或是 $p$ 阶精度."
   ]
  },
  {
   "cell_type": "markdown",
   "metadata": {},
   "source": [
    "**定理１** 设数值解公式, $y_{i+1} =y_i+h\\varphi(x_i,y_i,h)$ 中的函数 $varphi(x,y,h)$ 关于 $y$ 满足 Lipschitz 条件:\n",
    "\n",
    "$$\n",
    "\\left|\\varphi(x,y,h)-\\varphi(x,\\bar{y},h)\\right|\\leq L\\left|y-\\bar{y}\\right|\n",
    "$$"
   ]
  },
  {
   "cell_type": "markdown",
   "metadata": {},
   "source": [
    "且其局部截断误差为 $h^{p+1}$ 阶, 则其(整体)截断误差为 $h^p$ 阶, 即该数值解公式为 $p$ 阶方式."
   ]
  },
  {
   "cell_type": "markdown",
   "metadata": {},
   "source": [
    "**注：**\n",
    "\n",
    "+ 局部截断误差较易估计, **定理1**表明:\n",
    "\n",
    "若 $e_i = O(h^{p+1})$ 则 $\\varepsilon_i = O(h^p)$"
   ]
  },
  {
   "cell_type": "markdown",
   "metadata": {},
   "source": [
    "+ Euler局部截断误差为, $e_{i+1} = \\frac{h^2}{2}y''(\\xi) = O(h^2)$ 所以一阶精度.  向后Euler法也是一阶精度."
   ]
  },
  {
   "cell_type": "markdown",
   "metadata": {},
   "source": [
    "+ 梯形公式为二阶精度."
   ]
  },
  {
   "cell_type": "markdown",
   "metadata": {},
   "source": [
    "**例1**\n",
    "用 Euler 方法求解初值问题:\n",
    "\n",
    "$$\n",
    "\\begin{cases}\n",
    "y'(x) = y(x) +(1+x)y^2(x),1<x<1.5\\\\\n",
    "y(1) = -1\n",
    "\\end{cases}\n",
    "$$\n",
    "\n",
    "取步长 $h = 0.1$, 并与准确解 $y(x) = -\\frac{1}{x}$ 比较."
   ]
  },
  {
   "cell_type": "markdown",
   "metadata": {},
   "source": [
    "**解:** 因为 $x_i = 1+0.1i$, 而 $f(x,y) = y+(1+x)y^2$, 故\n",
    "\n",
    "$$\n",
    "f(x_i,y_i) = y_i+(2+0.1i)y^2\n",
    "$$\n",
    "\n",
    "于是 Euler　计算公式为\n",
    "\n",
    "$$\n",
    "y_{i+1} = y_i +0.1[y_i+(2+0.1i)y_i^2], i =0 ,1,2,3,4\n",
    "$$\n",
    "\n",
    "**注意** Euler 法的精度比较低."
   ]
  },
  {
   "cell_type": "markdown",
   "metadata": {},
   "source": [
    "**例２** 用改进的 Euler 法求解初值问题,:\n",
    "\n",
    "$$\n",
    "\\begin{cases}\n",
    "y'(x) = \\frac{1}{x}(y(x)-y^2(x)),1<x<1.5\\\\\n",
    "y(1) = 0.5\n",
    "\\end{cases}\n",
    "$$\n",
    "\n",
    "取步长 $h = 0.1$, 并与准确解　$y(x) = \\frac{x}{1+x}$ 比较."
   ]
  },
  {
   "cell_type": "markdown",
   "metadata": {},
   "source": [
    "**解:** $x_i = 1+0.1i$, \n",
    "$$\n",
    "f(x_i,y_i) = \\frac{1}{x}(y_i -y_i^2) =\\frac{(1-y_i)y_i}{1-0.1i}\n",
    "$$\n",
    "\n",
    "于是改进的 Euler 法的计算公式为\n",
    "\n",
    "$$\n",
    "\\begin{cases}\n",
    "\\bar{y}_{i+1} = y_i +\\frac{0.1(1-y_i)y_i}{1-0.1i} \\\\\n",
    "y_{i+1} = y_i +\\frac{0.1}{2}\\left(\\frac{(1-y_i)y_i}{1-0.1i}+\\frac{(1-\\bar{y}_i)\\bar{y}_i}{1-0.1(i+1)}\\right)\n",
    "\\end{cases}i = 0,1,2,3,4\n",
    "$$\n",
    "\n",
    "**注:** 改进的Ｅuler 方法比 Euler 方法精度高."
   ]
  },
  {
   "cell_type": "markdown",
   "metadata": {},
   "source": [
    "## Runge——kutta方法"
   ]
  },
  {
   "cell_type": "markdown",
   "metadata": {},
   "source": [
    "### 构造高阶单步法的直接方法"
   ]
  },
  {
   "cell_type": "markdown",
   "metadata": {},
   "source": [
    "由　Taylor 公式\n",
    "\n",
    "$$\n",
    "\\begin{align}\n",
    "y(x_{i+1}) &= y(x_i+h)\\\\\n",
    "& = y(x_i) +hy'(x_i) +\\frac{h^2}{2!}y''(x_i)+\\cdots+\\frac{h^p}{p!} y^{p}(x_i)+\\frac{h^{p+1}}{(p+1)!}y^{p+1}(\\xi)\n",
    "\\end{align}\n",
    "$$\n",
    "\n",
    "当 $h$ 充分小时, 略去 Taylor公式余项, 并以 $y_i$, $y_{i+1}$ 分别代替 $y(x_i)$, $y(x_{i+1})$, 得到差分方程:\n",
    "\n",
    "$$\n",
    "y_{i+1} = y_i +hf(x_i,y_i)+\\frac{h^2}{2!}f'(x_i,y_i) +\\cdots +\\frac{h^p}{p!}f^{p-1}(x_i,y_i)\n",
    "$$\n",
    "\n",
    "\n",
    "其局部截断误差为:\n",
    "\n",
    "$$\n",
    "y(x_{i+1})-\\bar{y_{i+1}} = \\frac{h^{p+1}}{(p+1)!}y^{p+1}(\\xi)\n",
    "$$\n",
    "\n",
    "即 \n",
    "\n",
    "$$\n",
    "y_{i+1} = y_i +hf(x_i,y_i)+\\frac{h^2}{2!}f'(x_i,y_i) +\\cdots +\\frac{h^p}{p!}f^{p-1}(x_i,y_i)\n",
    "$$\n",
    "\n",
    "为 $p$ 阶公式, 上述公式称为 Taylor 公式.\n",
    "\n",
    "**注：**　利用 Tayler 公式构造, 不实用, **高阶导数 $f^{(i)}$** 不易计算."
   ]
  },
  {
   "cell_type": "markdown",
   "metadata": {},
   "source": [
    "### 1.基本思想\n"
   ]
  },
  {
   "cell_type": "markdown",
   "metadata": {},
   "source": [
    "因为 \n",
    "\n",
    "$$\n",
    "\\begin{align}\n",
    "y(x_{i+1}) & = y(x_i) +\\int_{x_i}^{x_{i+1}} f(x,y(x)) \\mathrm d{x}\\\\\n",
    "& = y(x_i) +hf(\\xi,y(\\xi))\\\\\n",
    "& = y(x_i) +hK_{\\xi} \n",
    "\\end{align}\n",
    "$$\n",
    "\n",
    "其中 $K_{\\xi} = f(\\xi,y(\\xi))$ 称为 $y(x)$ 在 $[x_i,x_{i+1}]$ 上的平均斜率. 若取 $K_1 = f(x_i,y(x_{i+1}))$ ——Euler 公式\n",
    "取 $K_2 = f(x_{i+1},y(x_{i+1}))$ ——向后Euler 公式一阶精度\n",
    "取 $\\frac{1}{2}(K_1+K_2)$ ——梯形公式　二阶精度\n",
    "\n",
    "**猜想:** 若能多预测几个点的斜率, 再取其甲醛平均作为 $K_{\\xi}$, 可望得到较高精度的数值解, 从而避免求 $f$ 的高阶导数."
   ]
  },
  {
   "cell_type": "markdown",
   "metadata": {},
   "source": [
    "### 2.R——K公式"
   ]
  },
  {
   "cell_type": "markdown",
   "metadata": {},
   "source": [
    "$$\n",
    "\\begin{cases}\n",
    "y_{i+1} = y_i +h\\sum\\limits_{j=1}^{p}c_jK_j\\\\\n",
    "K_1 = f(x_i,y_i)\\\\\n",
    "K_j = f(x_i+a_jh,y_i+h\\sum\\limits_{s =1}^{j-1}b_{js}K_s), 2\\leq j\\leq p\n",
    "\\end{cases}\n",
    "$$\n",
    "\n",
    "其中 $K_j$ 为 $y = y(x)$ 在 $x_i+a_jh$ $(0\\leq a_j\\leq 1)$ 处的斜率预测值.\n",
    "\n",
    "$a_j$, $b_{js}$, $c_j$ 为特定的常数."
   ]
  },
  {
   "cell_type": "markdown",
   "metadata": {},
   "source": [
    "### 常数的确定\n"
   ]
  },
  {
   "cell_type": "markdown",
   "metadata": {},
   "source": [
    "确定的原则是使精度尽可能高.\n",
    "\n",
    "以二阶为例\n",
    "\n",
    "$$\n",
    "\\begin{cases}\n",
    "y_{i+1} = y_i +h(c_1K_1+c_2K_2)\\\\\n",
    "K_1 = f(x_i,y_i)\\\\\n",
    "K_2 = f(x_i+a_2h,y_i+b_{21}hK_1)\n",
    "\\end{cases}\n",
    "$$\n",
    "\n",
    "(希望 $y(x_{i+1})-y_{i+1}= O(h^{p})$ 的阶数 $p$ 尽可能高) \n",
    "\n",
    "首先 \n",
    "\n",
    "$$\n",
    "y(x_{i+1}) = y(x_i) +hy'(x_i) +\\frac{1}{2!} h^2y''(x_i) +O(h^3)\n",
    "$$"
   ]
  },
  {
   "cell_type": "markdown",
   "metadata": {},
   "source": [
    "另一方面：\n",
    "\n",
    "将 $K_2$ 在 $(x_i,y_i)$ 处展开, \n",
    "\n",
    "$$\n",
    "(f(x_0+\\Delta x,y_0+\\Delta y) = f(x_0,y_0) +(\\Delta x \\frac{\\partial}{\\partial x} +\\Delta y \\frac{\\partial}{\\partial y} ) f(x_0,y_0)+\\cdots)\n",
    "$$"
   ]
  },
  {
   "cell_type": "markdown",
   "metadata": {},
   "source": [
    "$K_2 = f(x_i,y_i)+a_2 hf'(x_i,y_i)+b_{21}hK_1f'_{y}(x_i,y_i)+O(h^2)$.\n",
    "\n",
    "代入 \n",
    "\n",
    "$$\n",
    "\\begin{cases}\n",
    "y_{i+1} = y_i +h(c_1K_1+c_2K_2)\\\\\n",
    "K_1 = f(x_i,y_i)\\\\\n",
    "K_2 = f(x_i+a_2h,y_i+b_{21}hK_1)\n",
    "\\end{cases}\n",
    "$$\n",
    "\n",
    "得：\n",
    "\n",
    "$$\n",
    "\\begin{align}\n",
    "y_{i+1} = & y_i +hc_1f(x_i,y_i)+hc_2f(x_i,y_i)+h^2c_2[a_2f'_x(x_i,y_i)+b_{21}K_1f'_y(x_i,y_i)]+O(h^3)\\\\\n",
    "= &y_i+h(c_1+c_2)f(x_i,y_i)+c_2a_2h^2[f'_x(x_i,y_i)\\\\\n",
    "+&\\frac{b_{21}}{a_2}f'(x_i,y_i)f'_y(x_i,y_i)]+O(h^3)\n",
    "\\end{align}\n",
    "$$\n",
    "\n",
    "希望 \n",
    "\n",
    " $$\n",
    " = y_i +h(c_1+c_2)y'(x_i)+c_2a_2h^2y''(x_i)+O(h^3)\n",
    " $$"
   ]
  },
  {
   "cell_type": "markdown",
   "metadata": {},
   "source": [
    "希望 \n",
    "\n",
    "$$\n",
    "e_{i+1} = y(x_{i+1}) - y_{i+1} = o(h^3), 则应\n",
    "$$\n",
    "\n",
    "$$\n",
    "\\begin{cases}\n",
    "c_1+c_2 = 1\\\\\n",
    "c_2a_2 = \\frac{1}{2}\\\\\n",
    "\\frac{b_{21}}{a_2} = 1\\\\\n",
    "\\end{cases}\n",
    "$$"
   ]
  },
  {
   "cell_type": "markdown",
   "metadata": {},
   "source": [
    "特例 $a_2 = 1$ $\\Rightarrow$  $c_1 = c_2 = \\frac{1}{2}$, $b_{21} = 1$, 得到 2 阶　R-K 公式\n",
    "\n",
    "\n",
    "$$\n",
    "\\begin{cases}\n",
    "y_{i+1} = y_i +\\frac{h}{2}(K_1+K_2)\\\\\n",
    "K_1 = f(x_i,y_i)\\\\\n",
    "K_2 = f(x_i+h,y_i+hK_1)\\\\\n",
    "\\end{cases} \\qquad ——改进的欧拉公式\n",
    "$$\n"
   ]
  },
  {
   "cell_type": "markdown",
   "metadata": {},
   "source": [
    "$$\n",
    "e_{i+1} = y(x_{i+1}) - y_{i+1} = o(h^3), 则应\n",
    "$$\n",
    "\n",
    "$$\n",
    "\\begin{cases}\n",
    "c_1+c_2 = 1\\\\\n",
    "c_2a_2 = \\frac{1}{2}\\\\\n",
    "\\frac{b_{21}}{a_2} = 1\\\\\n",
    "\\end{cases}\n",
    "$$\n",
    "\n",
    "特例　$c_1 = 0$ $\\Rightarrow$  $c_2 = 1$, $a_2 =\\frac{1}{2}$ $b_{21} = \\frac{1}{2}$, \n",
    "\n",
    "$$\n",
    "\\begin{cases}\n",
    "y_{i+1} = y_i +hK_2\\\\\n",
    "K_1 = f(x_i,y_i)\\\\\n",
    "K_2 = f(x_i+\\frac{h}{2},y_i+\\frac{h}{2}K_1)\\\\\n",
    "\\end{cases} \\qquad ——中点公式\n",
    "$$\n"
   ]
  },
  {
   "cell_type": "markdown",
   "metadata": {},
   "source": [
    "4 最常用的 R-K 公式 ——标准的4 阶R-K 公式"
   ]
  },
  {
   "cell_type": "markdown",
   "metadata": {},
   "source": [
    "$$\n",
    "\\begin{cases}\n",
    "y_{i+1} = y_i +\\frac{h}{6}(K_1+2K_2+2K_3+K_4)\\\\\n",
    "K_1 = f(x_i,y_i)\\\\\n",
    "K_2 = f(x_i+\\frac{h}{2},y_i+\\frac{h}{2}K_1)\\\\\n",
    "K_3 = f(x_i+\\frac{h}{2},y_i+\\frac{h}{2}K_2)\\\\\n",
    "K_4 = f(x_i+h,y_i+hK_3)\n",
    "\\end{cases} \n",
    "$$"
   ]
  },
  {
   "cell_type": "markdown",
   "metadata": {},
   "source": [
    "**算法**\n",
    "\n",
    "![](./figures/4R-k.png)"
   ]
  },
  {
   "cell_type": "markdown",
   "metadata": {},
   "source": [
    "**例3** 用标准的４阶R-K公式求,\n",
    "\n",
    "$$\n",
    "\\begin{cases}\n",
    "y'(x) = x+y(x)0<x<1\\\\\n",
    "y(0) = 1 \n",
    "\\end{cases}\n",
    "$$\n",
    "\n",
    "的数值解. 取 $h = 0.2$, 并与标准解 $y = 2e^{x}-x -1$ 比较 ."
   ]
  },
  {
   "cell_type": "markdown",
   "metadata": {},
   "source": [
    "**解:** 因为 $f(x,y)= x+y$ ,从而由标准公式有\n",
    "\n",
    "$$\n",
    "\\begin{cases}\n",
    "y_{i+1} = y_i+\\frac{0.2}{6} (K_1+2K_2+2K_3+K_4)\\\\\n",
    "k_1 = x_i+y_i\\\\\n",
    "K_2 = x_i +\\frac{0.2}{2}+y_i+\\frac{0.2}{2}K_1\\\\\n",
    "K_3 = x_i +\\frac{0.2}{2} + y_i +\\frac{0.2}{2}K_2\n",
    "K_4 = x_i +\\frac{}{}\n",
    "\\end{cases}\n",
    "$$"
   ]
  },
  {
   "cell_type": "code",
   "execution_count": null,
   "metadata": {
    "collapsed": true
   },
   "outputs": [],
   "source": []
  }
 ],
 "metadata": {
  "kernelspec": {
   "display_name": "Python 3",
   "language": "python",
   "name": "python3"
  },
  "language_info": {
   "codemirror_mode": {
    "name": "ipython",
    "version": 3
   },
   "file_extension": ".py",
   "mimetype": "text/x-python",
   "name": "python",
   "nbconvert_exporter": "python",
   "pygments_lexer": "ipython3",
   "version": "3.5.2"
  }
 },
 "nbformat": 4,
 "nbformat_minor": 2
}
