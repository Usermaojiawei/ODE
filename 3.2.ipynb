{
 "cells": [
  {
   "cell_type": "code",
   "execution_count": 4,
   "metadata": {
    "collapsed": true
   },
   "outputs": [],
   "source": [
    "from sympy import * # 导入 sympy 中的所有功能\n",
    "init_printing(use_latex=True) \n",
    "from IPython.display import display # 显示公式\n",
    "import matplotlib.pyplot as plt\n",
    "%matplotlib inline"
   ]
  },
  {
   "cell_type": "markdown",
   "metadata": {},
   "source": [
    "# 一、解的延拓的引入"
   ]
  },
  {
   "cell_type": "markdown",
   "metadata": {},
   "source": [
    "$$\n",
    "\\frac{\\mathrm dy}{\\mathrm dx}=f(x,y)\n",
    "$$\n",
    "\n",
    "右端函数 $f(x,y)$ 在某一有界区域 $G$ 中有意义."
   ]
  },
  {
   "cell_type": "markdown",
   "metadata": {},
   "source": [
    "## 1、局部利普希茨条件"
   ]
  },
  {
   "cell_type": "markdown",
   "metadata": {},
   "source": [
    "假设方程 \n",
    "\n",
    "$$\n",
    "\\frac{\\mathrm dy}{\\mathrm dx}=f(x,y)\n",
    "$$ \n",
    "\n",
    "右端函数 $f(x,y)$ 在某一区域 $G$ 连续，且关于 $y$ 满足局部的利普希茨条件，即对于区域 $G$ 内的每一点，有以其为中心的完全含于 $G$ 内的闭矩形 $R$ 存在，在 $R$ 上 $f(x,y)$ 关于** $y$ 满足利普希茨条件**（关于不同的点, 域 $R$的大小和常数 $L$ 可能不同).\n",
    " "
   ]
  },
  {
   "cell_type": "markdown",
   "metadata": {},
   "source": [
    "## 2、解的延拓"
   ]
  },
  {
   "cell_type": "markdown",
   "metadata": {},
   "source": [
    "设 $y=\\varphi(x),\\, x\\in [a,b]$ 是 \n",
    "\n",
    "$$\n",
    "\\begin{cases}\\frac{\\mathrm dy}{\\mathrm dx}=f(x,y)\\\\\n",
    "\\varphi (x_0)=y_0\\\n",
    "\\end{cases}\n",
    "$$\n",
    "\n",
    "的解，若 $y=\\psi (x) , x\\in [a_1,b_1]$ 也是初值问题的解, 且 $[a,b]\\subset [a_1,b_1]$, \n",
    "\n",
    "当 $x\\in [a,b]$时， $\\varphi (x)=\\psi(x)$\n",
    "\n",
    "则称 $\\psi(x)$ 是解 $\\varphi (x)$ 在区间 $[a,b]$ 上的**延拓**."
   ]
  },
  {
   "cell_type": "markdown",
   "metadata": {},
   "source": [
    "## 3、延拓方法"
   ]
  },
  {
   "cell_type": "markdown",
   "metadata": {},
   "source": [
    "设方程 \n",
    "\n",
    "$$\n",
    "\\frac{\\mathrm dy}{\\mathrm dx}=f(x,y)\n",
    "$$ \n",
    "\n",
    "的解为\n",
    "\n",
    "$$\n",
    "y=\\varphi (x), x\\in[x_0 - h, x_0 + h]\n",
    "$$\n",
    "\n",
    "现取 \n",
    "\n",
    "$$\n",
    "x_1=x_0+h , y_1=\\varphi (x_1)=\\varphi (x_0+h)\n",
    "$$\n",
    "\n",
    "然后以 $Q_1(x_1,y_1)$ 中心，作一小矩形，使它连同边界都含在区域 $G$ 的内部，再用解的存在唯一性定理，存在 $h_1 >0$ 使得在区间 \n",
    "\n",
    "$$\n",
    "|x-x_1|\\leq h_1\n",
    "$$ \n",
    "\n",
    "方程 \n",
    "$$\n",
    "\\frac{\\mathrm dy}{\\mathrm dx}=f(x,y)\n",
    "$$ \n",
    "\n",
    "有过 $(x_1,y_1)$ 的解 $y=\\psi (x)$ 且在 $x=x_1$ 处有 \n",
    "\n",
    "$$\n",
    "\\psi (x)=\\varphi (x)\n",
    "$$"
   ]
  },
  {
   "cell_type": "markdown",
   "metadata": {},
   "source": [
    "由于唯一性，显然解 $y=\\psi (x)$ 和解 $y=\\varphi (x)$ 都在定义的区间 \n",
    "\n",
    "$$\n",
    "x_1-h\\leq x\\leq x_1\n",
    "$$\n",
    "\n",
    "上，\n",
    "\n",
    "$$\n",
    "\\psi (x)=\\varphi (x)\n",
    "$$\n",
    "\n",
    "但是在区间 \n",
    "$$\n",
    "x_1-h\\leq x\\leq x_1\n",
    "$$ \n",
    "\n",
    "上 ， 解  \n",
    "\n",
    "$$\n",
    "y=\\varphi (x)\n",
    "$$\n",
    "\n",
    "向右方的延拓，即将延拓到较大的区间\n",
    "\n",
    "$$\n",
    "x_0-h\\leq x\\leq x_0+h+h_1\n",
    "$$ "
   ]
  },
  {
   "cell_type": "markdown",
   "metadata": {},
   "source": [
    "再令 \n",
    "\n",
    "$$\n",
    "x_2=x_1+h_1 , y_2=\\psi (x_2)\n",
    "$$ \n",
    "\n",
    "如果 $(x_2,y_2)\\in G$ 我们又可以取 $(x_2,y_2)$ 为中心，作一小矩形，使它连同其边界都含在区域 $G$ 内。 仿前，又可以将解延拓到更大的区间\n",
    "\n",
    "$$\n",
    "x_0-h\\leq x\\leq x_0+h+h_1\\leq x+h+h_1+h_2 \n",
    "$$ \n",
    "\n",
    "上 ， 其中 $h_2$ 是某一个正常数. 对于 $x$ 值减小的一边可以进行同样讨论, 使解向左方延拓. 就是在原来的积分曲线 $y=\\varphi (x)$ 左右端个接上一个积分的曲线段. \n",
    "\n",
    "上述解的延拓的方法还可继续进行. 那么, $y=\\varphi (x)$ 向两边延拓的最终情况如何呢？"
   ]
  },
  {
   "cell_type": "markdown",
   "metadata": {},
   "source": [
    "# 二、解的延拓定理及其推论"
   ]
  },
  {
   "cell_type": "markdown",
   "metadata": {},
   "source": [
    "## 1、解的延拓定理"
   ]
  },
  {
   "cell_type": "markdown",
   "metadata": {},
   "source": [
    "如果方程右端的函数 $f(x,y)$ 在有界区域 $G$ 中连续, 且在 $G$ 内关于 $y$ 满足局部的利普希茨条件, 那么方程\n",
    "的通过 $G$ 内任何一点 $(x_0,y_0)$ 的解 $y=\\varphi (x)$ 可以延拓, 直到点 $(x,\\varphi (x))$ 任意接\n",
    "近区域 $G$ 的边界. 以向 $x$ 增大的一方的延拓来说, 如果 $y=\\varphi (x)$ 只能延拓到区间 $x_0\\leq x<d$\n",
    "上, 则当 $x\\to d$ 时, $(x,\\varphi (x))$ 趋于区域 $G$ 的边界。"
   ]
  },
  {
   "cell_type": "markdown",
   "metadata": {},
   "source": [
    "## 2、推论"
   ]
  },
  {
   "cell_type": "markdown",
   "metadata": {},
   "source": [
    "  如果 $G$ 是无界区域, 在上面解的延拓定理的条件下, 方程的通过点 $(x_0,y_0)$ 的解 $y=\\varphi (x)$ 可\n",
    "  \n",
    "以延拓，以向 $x$ 增大的一方延拓来说，有下面两种情况：\n",
    "  \n",
    "1. 解 $y=\\varphi (x)$ 可以延拓到区间 $[x_0,+\\infty)$ ;\n",
    "2. 解 $y=\\varphi (x)$ 可以延拓到区间 $[x_0,d]$ , 其中 $d$ 为有限数，则当 $x\\to d$ 时，或者 $y=\\varphi (x)$ 无界，或者点 $(x,\\varphi (x))$ 趋于区域 $G$ 的边界;"
   ]
  },
  {
   "cell_type": "markdown",
   "metadata": {},
   "source": [
    "**例1**  讨论方程 \n",
    "$$\n",
    "\\frac{\\mathrm dy}{\\mathrm dx}=\\frac{y^2-1}{2}\n",
    "$$\n",
    "\n",
    "的分别通过点 $(0,0),(\\ln 2,-3)$ 的解的存在区间。"
   ]
  },
  {
   "cell_type": "code",
   "execution_count": 3,
   "metadata": {
    "collapsed": false
   },
   "outputs": [
    {
     "data": {
      "image/png": "[encoded data removed]",
      "text/plain": [
       "<matplotlib.figure.Figure at 0x7f6ce2ec44a8>"
      ]
     },
     "metadata": {},
     "output_type": "display_data"
    }
   ],
   "source": [
    "from sympy.abc import x\n",
    "from sympy.plotting import plot\n",
    "p = plot(((1-exp(x))/(1+exp(x)), (x, -4, 4)), \n",
    "         ((1+exp(x))/(1-exp(x)), (x, 1e-1, 4)), ylim=(-2, 2))"
   ]
  },
  {
   "cell_type": "code",
   "execution_count": 8,
   "metadata": {
    "collapsed": false
   },
   "outputs": [
    {
     "data": {
      "image/png": "[encoded data removed]",
      "text/plain": [
       "<matplotlib.figure.Figure at 0x7fe15bf76e80>"
      ]
     },
     "metadata": {},
     "output_type": "display_data"
    },
    {
     "data": {
      "text/plain": [
       "<sympy.plotting.plot.Plot at 0x7fe15bf76550>"
      ]
     },
     "execution_count": 8,
     "metadata": {},
     "output_type": "execute_result"
    }
   ],
   "source": [
    "plot(x*ln(x))"
   ]
  },
  {
   "cell_type": "code",
   "execution_count": 13,
   "metadata": {
    "collapsed": false
   },
   "outputs": [
    {
     "name": "stdout",
     "output_type": "stream",
     "text": [
      "Help on built-in function min in module builtins:\n",
      "\n",
      "min(...)\n",
      "    min(iterable, *[, default=obj, key=func]) -> value\n",
      "    min(arg1, arg2, *args, *[, key=func]) -> value\n",
      "    \n",
      "    With a single iterable argument, return its smallest item. The\n",
      "    default keyword-only argument specifies an object to return if\n",
      "    the provided iterable is empty.\n",
      "    With two or more arguments, return the smallest argument.\n",
      "\n"
     ]
    }
   ],
   "source": [
    "from sympy.plotting import plot3d\n",
    "from sympy.abc import x, y\n",
    "f = y*x**y*(1-x)"
   ]
  },
  {
   "cell_type": "code",
   "execution_count": null,
   "metadata": {
    "collapsed": true
   },
   "outputs": [],
   "source": []
  }
 ],
 "metadata": {
  "kernelspec": {
   "display_name": "Python 3",
   "language": "python",
   "name": "python3"
  },
  "language_info": {
   "codemirror_mode": {
    "name": "ipython",
    "version": 3
   },
   "file_extension": ".py",
   "mimetype": "text/x-python",
   "name": "python",
   "nbconvert_exporter": "python",
   "pygments_lexer": "ipython3",
   "version": "3.5.2"
  },
  "latex_envs": {
   "bibliofile": "biblio.bib",
   "cite_by": "apalike",
   "current_citInitial": 1,
   "eqLabelWithNumbers": true,
   "eqNumInitial": 0
  }
 },
 "nbformat": 4,
 "nbformat_minor": 0
}
