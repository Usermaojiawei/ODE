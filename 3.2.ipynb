{
 "cells": [
  {
   "cell_type": "markdown",
   "metadata": {},
   "source": [
    "# 一、解的延拓的引入"
   ]
  },
  {
   "cell_type": "markdown",
   "metadata": {},
   "source": [
    "$$\n",
    "\\frac{\\mathrm dy}{\\mathrm dx}=f(x,y)\n",
    "$$\n",
    "\n",
    "右端函数 $f(x,y)$ 在某一有界区域 $G$ 中有意义."
   ]
  },
  {
   "cell_type": "markdown",
   "metadata": {},
   "source": [
    "## 1、局部利普希茨条件"
   ]
  },
  {
   "cell_type": "markdown",
   "metadata": {},
   "source": [
    "假设方程 \n",
    "\n",
    "$$\n",
    "\\frac{\\mathrm dy}{\\mathrm dx}=f(x,y)\n",
    "$$ \n",
    "\n",
    "右端函数 $f(x,y)$ 在某一区域 $G$ 连续，且关于 $y$ 满足局部的利普希茨条件，即对于区域 $G$ 内的每一点，有以其为中心的完全含于 $G$ 内的闭矩形 $R$ 存在，在 $R$ 上 $f(x,y)$ 关于** $y$ 满足利普希茨条件**（关于不同的点, 域 $R$的大小和常数 $L$ 可能不同).\n",
    " "
   ]
  },
  {
   "cell_type": "markdown",
   "metadata": {},
   "source": [
    "## 2、解的延拓"
   ]
  },
  {
   "cell_type": "markdown",
   "metadata": {},
   "source": [
    "设 $y=\\varphi(x),\\, x\\in [a,b]$ 是 \n",
    "\n",
    "$$\n",
    "\\begin{cases}\\frac{\\mathrm dy}{\\mathrm dx}=f(x,y)\\\\\n",
    "\\varphi (x_0)=y_0\\\n",
    "\\end{cases}\n",
    "$$\n",
    "\n",
    "的解，若 $y=\\psi (x) , x\\in [a_1,b_1]$ 也是初值问题的解, 且 $[a,b]\\subset [a_1,b_1]$, \n",
    "\n",
    "当 $x\\in [a,b]$时， $\\varphi (x)=\\psi(x)$\n",
    "\n",
    "则称 $\\psi(x)$ 是解 $\\varphi (x)$ 在区间 $[a,b]$ 上的**延拓**."
   ]
  },
  {
   "cell_type": "markdown",
   "metadata": {},
   "source": [
    "## 3、延拓方法"
   ]
  },
  {
   "cell_type": "markdown",
   "metadata": {},
   "source": [
    "设方程 \n",
    "\n",
    "$$\n",
    "\\frac{\\mathrm dy}{\\mathrm dx}=f(x,y)\n",
    "$$ \n",
    "\n",
    "的解为\n",
    "\n",
    "$$\n",
    "y=\\varphi (x), x\\in[x_0 - h, x_0 + h]\n",
    "$$\n",
    "\n",
    "现取 \n",
    "\n",
    "$$\n",
    "x_1=x_0+h , y_1=\\varphi (x_1)=\\varphi (x_0+h)\n",
    "$$\n",
    "\n",
    "然后以 $Q_1(x_1,y_1)$ 中心，作一小矩形，使它连同边界都含在区域 $G$ 的内部，再用解的存在唯一性定理，存在 $h_1 >0$ 使得在区间 \n",
    "\n",
    "$$\n",
    "|x-x_1|\\leq h_1\n",
    "$$ \n",
    "\n",
    "方程 \n",
    "$$\n",
    "\\frac{\\mathrm dy}{\\mathrm dx}=f(x,y)\n",
    "$$ \n",
    "\n",
    "有过 $(x_1,y_1)$ 的解 $y=\\psi (x)$ 且在 $x=x_1$ 处有 \n",
    "\n",
    "$$\n",
    "\\psi (x)=\\varphi (x)\n",
    "$$"
   ]
  },
  {
   "cell_type": "markdown",
   "metadata": {},
   "source": [
    "由于唯一性，显然解 $y=\\psi (x)$ 和解 $y=\\varphi (x)$ 都在定义的区间 \n",
    "\n",
    "$$\n",
    "x_1-h\\leq x\\leq x_1\n",
    "$$\n",
    "\n",
    "上，\n",
    "\n",
    "$$\n",
    "\\psi (x)=\\varphi (x)\n",
    "$$\n",
    "\n",
    "但是在区间 \n",
    "$$\n",
    "x_1-h\\leq x\\leq x_1\n",
    "$$ \n",
    "\n",
    "上 ， 解  \n",
    "\n",
    "$$\n",
    "y=\\varphi (x)\n",
    "$$\n",
    "\n",
    "向右方的延拓，即将延拓到较大的区间\n",
    "\n",
    "$$\n",
    "x_0-h\\leq x\\leq x_0+h+h_1\n",
    "$$ "
   ]
  },
  {
   "cell_type": "markdown",
   "metadata": {},
   "source": [
    "再令 \n",
    "\n",
    "$$\n",
    "x_2=x_1+h_1 , y_2=\\psi (x_2)\n",
    "$$ \n",
    "\n",
    "如果 $(x_2,y_2)\\in G$ 我们又可以取 $(x_2,y_2)$ 为中心，作一小矩形，使它连同其边界都含在区域 $G$ 内。 仿前，又可以将解延拓到更大的区间\n",
    "\n",
    "$$\n",
    "x_0-h\\leq x\\leq x_0+h+h_1\\leq x+h+h_1+h_2 \n",
    "$$ \n",
    "\n",
    "上 ， 其中 $h_2$ 是某一个正常数. 对于 $x$ 值减小的一边可以进行同样讨论, 使解向左方延拓. 就是在原来的积分曲线 $y=\\varphi (x)$ 左右端个接上一个积分的曲线段. \n",
    "\n",
    "上述解的延拓的方法还可继续进行. 那么, $y=\\varphi (x)$ 向两边延拓的最终情况如何呢？"
   ]
  },
  {
   "cell_type": "markdown",
   "metadata": {},
   "source": [
    "# 二、解的延拓定理及其推论"
   ]
  },
  {
   "cell_type": "markdown",
   "metadata": {},
   "source": [
    "## 1、解的延拓定理"
   ]
  },
  {
   "cell_type": "markdown",
   "metadata": {},
   "source": [
    "如果方程右端的函数 $f(x,y)$ 在有界区域 $G$ 中连续, 且在 $G$ 内关于 $y$ 满足局部的利普希茨条件, 那么方程\n",
    "的通过 $G$ 内任何一点 $(x_0,y_0)$ 的解 $y=\\varphi (x)$ 可以延拓, 直到点 $(x,\\varphi (x))$ 任意接\n",
    "近区域 $G$ 的边界. 以向 $x$ 增大的一方的延拓来说, 如果 $y=\\varphi (x)$ 只能延拓到区间 $x_0\\leq x<d$\n",
    "上, 则当 $x\\to d$ 时, $(x,\\varphi (x))$ 趋于区域 $G$ 的边界。"
   ]
  },
  {
   "cell_type": "markdown",
   "metadata": {},
   "source": [
    "## 2、推论"
   ]
  },
  {
   "cell_type": "markdown",
   "metadata": {},
   "source": [
    "  如果 $G$ 是无界区域, 在上面解的延拓定理的条件下, 方程的通过点 $(x_0,y_0)$ 的解 $y=\\varphi (x)$ 可\n",
    "  \n",
    "以延拓，以向 $x$ 增大的一方延拓来说，有下面两种情况：\n",
    "  \n",
    "1. 解 $y=\\varphi (x)$ 可以延拓到区间 $[x_0,+\\infty)$ ;\n",
    "2. 解 $y=\\varphi (x)$ 可以延拓到区间 $[x_0,d]$ , 其中 $d$ 为有限数，则当 $x\\to d$ 时，或者 $y=\\varphi (x)$ 无界，或者点 $(x,\\varphi (x))$ 趋于区域 $G$ 的边界;"
   ]
  },
  {
   "cell_type": "markdown",
   "metadata": {},
   "source": [
    "**例1**  讨论方程 \n",
    "$$\n",
    "\\frac{\\mathrm dy}{\\mathrm dx}=\\frac{y^2-1}{2}\n",
    "$$\n",
    "\n",
    "的分别通过点 $(0,0),(\\ln 2,-3)$ 的解的存在区间。"
   ]
  },
  {
   "cell_type": "code",
   "execution_count": 1,
   "metadata": {
    "collapsed": false
   },
   "outputs": [
    {
     "data": {
      "text/html": [
       "<html><script type=\"math/tex; mode=display\">\\newcommand{\\Bold}[1]{\\mathbf{#1}}-\\log\\left(y\\left(x\\right) + 1\\right) + \\log\\left(y\\left(x\\right) - 1\\right) = C + x</script></html>"
      ],
      "text/plain": [
       "-log(y(x) + 1) + log(y(x) - 1) == _C + x"
      ]
     },
     "metadata": {},
     "output_type": "display_data"
    }
   ],
   "source": [
    "var('x')\n",
    "y = function('y')(x)\n",
    "s = desolve(diff(y, x) == (y^2 -1)/2, y)\n",
    "show(s)"
   ]
  },
  {
   "cell_type": "markdown",
   "metadata": {},
   "source": [
    "**解:**  此方程右端函数定义在整个 $Oxy$ 平面上, 且满足解的存在唯一性定理, 即解的延拓定理的条件。容易确定此方程的通解 \n",
    "\n",
    "$$\n",
    "y=\\frac{1+ce^x}{1-ce^x}\n",
    "$$ \n",
    "\n",
    "故通过点 $(0,0)$ 的特解为 \n",
    "\n",
    "$$\n",
    "y=\\frac{1-e^x}{1+e^x}\n",
    "$$ \n",
    "\n",
    "这个解的存在区间为 $-\\infty <x <+\\infty$ . \n",
    "\n",
    "通过点 $(\\ln2,-3)$ 的解为 \n",
    "\n",
    "$$\n",
    "y=\\frac{1+e^x}{1-e^x}\n",
    "$$ \n",
    "\n",
    "这个解的存在区间为 $0 < x <+\\infty$ .\n",
    "\n",
    "注意，通过点 $(\\ln 2,-3)$ 的解 \n",
    "\n",
    "$$\n",
    "y=\\frac{1+e^x}{1-e^x}\n",
    "$$\n",
    "\n",
    "可以向右方延拓到 $+\\infty$ , \n",
    "\n",
    "但对于 $x$ 减少的一方说，向左方只能延拓到 $0$ ，因为当 $x\\to 0_{+}$ 时，$y\\to -\\infty$ 这相当于延拓定理推论中的第 2 种情况。"
   ]
  },
  {
   "cell_type": "markdown",
   "metadata": {},
   "source": [
    "**例 2** 讨论方程 $$ \\frac{\\mathrm dy}{\\mathrm dx}=1+\\ln x $$ 满足条件 $y(1)=0$ 的解的存在区间。"
   ]
  },
  {
   "cell_type": "markdown",
   "metadata": {},
   "source": [
    "**解 :**  方程右端函数右半平面 $x>0$ 上有定义且满足解的延拓定理的条件。 这里区域 $G$ (右半平面)是无界开域，$y$ 轴是它的边界。容易求得问题的解 \n",
    "\n",
    "$$\n",
    "y=x\\ln x\n",
    "$$ \n",
    "\n",
    "它的区间 \n",
    "\n",
    "$$\n",
    "0<x<+\\infty\n",
    "$$\n",
    "\n",
    "上有定义、连续且当 $x\\to 0$ 时 $y \\to 0$, 所求问题的解向左方可以延拓到 $y=0$\n",
    "\n",
    "\n",
    "且当 $x\\to 0_+$ 时积分曲线上的点 $(x,y)$ 趋向于区域 $G$ 的边界上的点，这对于延拓定理推论中（2）的第二种情况."
   ]
  },
  {
   "cell_type": "markdown",
   "metadata": {},
   "source": [
    "最后我们指出，应用上述定理推论的结果不难证明：\n",
    "\n",
    "如果函数 $f(x,y)$ 于整个 $Oxy$ 平面上有定义、连续、有界，同时存在关于 $y$ 的一阶连续偏导数，则方程的任一解均可以延拓到区间 \n",
    "\n",
    "$$\n",
    "-\\infty < x < +\\infty\n",
    "$$"
   ]
  }
 ],
 "metadata": {
  "kernelspec": {
   "display_name": "SageMath 7.3",
   "language": "",
   "name": "sagemath"
  },
  "language_info": {
   "codemirror_mode": {
    "name": "ipython",
    "version": 2
   },
   "file_extension": ".py",
   "mimetype": "text/x-python",
   "name": "python",
   "nbconvert_exporter": "python",
   "pygments_lexer": "ipython2",
   "version": "2.7.10"
  }
 },
 "nbformat": 4,
 "nbformat_minor": 0
}
