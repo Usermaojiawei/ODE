{
 "cells": [
  {
   "cell_type": "markdown",
   "metadata": {},
   "source": [
    "# 课程简介"
   ]
  },
  {
   "cell_type": "markdown",
   "metadata": {},
   "source": [
    "* **任课教师:** 魏华祎\n",
    "* **电话:** 15973229281\n",
    "* **办公室:** 老办公楼西405"
   ]
  },
  {
   "cell_type": "markdown",
   "metadata": {},
   "source": [
    "* **助教:** 樊旺旺\n",
    "* **电话:** 18390212796"
   ]
  },
  {
   "cell_type": "markdown",
   "metadata": {},
   "source": [
    "## 学生邮箱账号"
   ]
  },
  {
   "cell_type": "markdown",
   "metadata": {},
   "source": [
    "1. **邮箱网址**： http://mail.smail.xtu.edu.cn/\n",
    "1. **学生邮箱账号：** 学号@smail.xtu.edu.cn\n",
    "1. **邮箱初始密码：** xtu+身份证后六位， 如果身份证后六位有字母要大写"
   ]
  },
  {
   "cell_type": "markdown",
   "metadata": {},
   "source": [
    "## 教学服务器"
   ]
  },
  {
   "cell_type": "markdown",
   "metadata": {},
   "source": [
    "**教学服务器网址：** 172.16.42.151:8080\n",
    "\n",
    "用你的学生邮箱账号申请教学服务器账号。\n",
    "\n",
    "https://github.com/weihuayi/ODE"
   ]
  },
  {
   "cell_type": "markdown",
   "metadata": {
    "collapsed": true
   },
   "source": [
    "**你将学到四个工具**\n",
    "\n",
    "* SageMath\n",
    "* Jupyter Notebook\n",
    "* Markdown \n",
    "* Latex\n",
    "\n",
    "利用这四个工具, 你可以在计算机上方便的撰写漂亮易读的数学文档, 如\n",
    "\n",
    "* 作业\n",
    "* 笔记 \n",
    "* 论文\n",
    "* 研究文档\n",
    "\n",
    "可以帮助你更好的学习<<常微分方程>>. "
   ]
  },
  {
   "cell_type": "markdown",
   "metadata": {},
   "source": [
    "## 什么是 SageMath?"
   ]
  },
  {
   "cell_type": "markdown",
   "metadata": {},
   "source": [
    "[SageMath](http://www.sagemath.org), 简称 sage,  是一个基于GPL协议的开源数学软件。它使用 Python 语言作为通用接口，将现有的许多开源软件包整合在一起，构建一个统一的计算平台, 以替代 Magma, Maple, Mathematica 和Matlab.\n",
    "\n",
    "网址:http://www.sagemath.org/"
   ]
  },
  {
   "cell_type": "markdown",
   "metadata": {},
   "source": [
    "## 什么是 Jupyter Notebook?"
   ]
  },
  {
   "cell_type": "markdown",
   "metadata": {},
   "source": [
    "The Jupyter Notebook is a web application that allows you to create and share documents that contain \n",
    "* **live code**\n",
    "* **equations** \n",
    "* **visualizations**\n",
    "* **explanatory text**\n",
    "Uses include: data cleaning and transformation, numerical simulation, statistical modeling, machine learning and much more."
   ]
  },
  {
   "cell_type": "markdown",
   "metadata": {},
   "source": [
    "## 什么是 Markdown"
   ]
  },
  {
   "cell_type": "markdown",
   "metadata": {},
   "source": [
    "Markdown 是一种轻量级的文本标记语言, 可以让你使用易读易写的纯文本格式编写文档."
   ]
  },
  {
   "cell_type": "markdown",
   "metadata": {},
   "source": [
    "* 第一点\n",
    "    + A\n",
    "    + B\n",
    "    + C\n",
    "* 第二点\n",
    "* 第三点"
   ]
  },
  {
   "cell_type": "markdown",
   "metadata": {},
   "source": [
    "1. 第一点\n",
    "    * A\n",
    "    * B\n",
    "    * C\n",
    "1. 第二点\n",
    "    + A\n",
    "    + B\n",
    "    + C\n",
    "1. 第三点"
   ]
  },
  {
   "cell_type": "markdown",
   "metadata": {},
   "source": [
    "- [x] 第一件事情\n",
    "- [x] 第二件事情 \n",
    "- [] 第三件事情"
   ]
  },
  {
   "cell_type": "markdown",
   "metadata": {},
   "source": [
    "**强调**  *斜体 **强调** *"
   ]
  },
  {
   "cell_type": "markdown",
   "metadata": {},
   "source": [
    "表头1 | 表头 2 \n",
    ":------ | ------:\n",
    " A  | B\n",
    " C  | D "
   ]
  },
  {
   "cell_type": "markdown",
   "metadata": {},
   "source": [
    "![标题](./figures/linux_jupyter.png)"
   ]
  },
  {
   "cell_type": "markdown",
   "metadata": {},
   "source": [
    "## 二级标题"
   ]
  },
  {
   "cell_type": "markdown",
   "metadata": {},
   "source": [
    "## 什么是 Latex?"
   ]
  },
  {
   "cell_type": "markdown",
   "metadata": {},
   "source": [
    " **Latex** 语言可以用纯文本的方式输入数学公式."
   ]
  },
  {
   "cell_type": "markdown",
   "metadata": {
    "collapsed": true
   },
   "source": [
    "这是一个**行内公式** $x^2 + y^2 = 1$."
   ]
  },
  {
   "cell_type": "markdown",
   "metadata": {},
   "source": [
    "下面是一个**行间公式**\n",
    "\n",
    "$$\n",
    "e^ix = \\cos x + i\\sin x\n",
    "$$"
   ]
  },
  {
   "cell_type": "markdown",
   "metadata": {},
   "source": [
    "$$\n",
    "\\sqrt{x^2_1+5}=6\n",
    "$$"
   ]
  },
  {
   "cell_type": "code",
   "execution_count": null,
   "metadata": {
    "collapsed": true
   },
   "outputs": [],
   "source": []
  }
 ],
 "metadata": {
  "kernelspec": {
   "display_name": "SageMath 7.3",
   "language": "",
   "name": "sagemath"
  },
  "language_info": {
   "codemirror_mode": {
    "name": "ipython",
    "version": 2
   },
   "file_extension": ".py",
   "mimetype": "text/x-python",
   "name": "python",
   "nbconvert_exporter": "python",
   "pygments_lexer": "ipython2",
   "version": "2.7.10"
  },
  "latex_envs": {
   "LaTeX_envs_menu_present": true,
   "bibliofile": "biblio.bib",
   "cite_by": "apalike",
   "current_citInitial": 1,
   "eqLabelWithNumbers": true,
   "eqNumInitial": 0
  }
 },
 "nbformat": 4,
 "nbformat_minor": 0
}
