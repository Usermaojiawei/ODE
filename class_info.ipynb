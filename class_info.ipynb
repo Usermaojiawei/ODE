{
 "cells": [
  {
   "cell_type": "markdown",
   "metadata": {},
   "source": [
    "# 课程信息"
   ]
  },
  {
   "cell_type": "markdown",
   "metadata": {},
   "source": [
    "* **任课教师:** 魏华祎\n",
    "* **电话:** 15973229281\n",
    "* **办公室:** 老办公楼西405\n",
    "* **邮箱：** weihuayi@xtu.edu.cn"
   ]
  },
  {
   "cell_type": "markdown",
   "metadata": {},
   "source": [
    "* **助教:** 许明\n",
    "* **电话:** 18390212796"
   ]
  },
  {
   "cell_type": "markdown",
   "metadata": {},
   "source": [
    "* 第1周—第17周，共64学时（第5周国庆）\n",
    "* 总成绩=平时（20%）+期末（80%），每周五交作业至助教，（随机查到）"
   ]
  },
  {
   "cell_type": "markdown",
   "metadata": {},
   "source": [
    "## 软件集成开发环境： Anaconda \n",
    "\n",
    "[Anaconda](https://www.anaconda.com) 是一个基于 `Python` 科学计算集成开发环境 , 包含丰富的开源数学软件模块和辅助工具, 可以作为商业软件 Matlab， Maple， Mathmatica 的替代工具使用。 \n",
    "\n",
    "* 网址： https://www.anaconda.com\n",
    "* 开源，可免费下载使用\n",
    "* 安装文件最大只有 400M， 比最新的 `Matlab` 安装包小很多。\n",
    "* 入门更加容易"
   ]
  },
  {
   "cell_type": "markdown",
   "metadata": {},
   "source": [
    "下载地址： https://www.anaconda.com/download/\n",
    "\n",
    "![](./figures/anaconda.png)"
   ]
  },
  {
   "cell_type": "markdown",
   "metadata": {},
   "source": [
    "## 什么是 Jupyter Notebook?"
   ]
  },
  {
   "cell_type": "markdown",
   "metadata": {},
   "source": [
    "`Jupyter Notebook` 是一个 web 应用， 可以创建和分享文档， 文档中可包含\n",
    "\n",
    "* **直接可运行的代码**\n",
    "* **数学公式** \n",
    "* **可视化**\n",
    "* **文本 **\n",
    "\n",
    "本课件就是直接用 Jupyter Notebook 编写的。 "
   ]
  },
  {
   "cell_type": "markdown",
   "metadata": {},
   "source": [
    "## 什么是 Markdown"
   ]
  },
  {
   "cell_type": "markdown",
   "metadata": {},
   "source": [
    "Markdown 是一种轻量级的文本标记语言, 可以让你使用易读易写的纯文本格式编写文档."
   ]
  },
  {
   "cell_type": "markdown",
   "metadata": {},
   "source": [
    "**列表：**\n",
    "\n",
    "* 第一点\n",
    "    + A\n",
    "    + B\n",
    "    + C\n",
    "* 第二点\n",
    "* 第三点"
   ]
  },
  {
   "cell_type": "markdown",
   "metadata": {},
   "source": [
    "1. 第一点\n",
    "    * A\n",
    "    * B\n",
    "    * C\n",
    "1. 第二点\n",
    "    + A\n",
    "    + B\n",
    "    + C\n",
    "1. 第三点"
   ]
  },
  {
   "cell_type": "markdown",
   "metadata": {},
   "source": [
    "**强调**  *斜体 **强调** *"
   ]
  },
  {
   "cell_type": "markdown",
   "metadata": {},
   "source": [
    "表头1 | 表头 2 \n",
    ":------ | ------:\n",
    " A  | B\n",
    " C  | D "
   ]
  },
  {
   "cell_type": "markdown",
   "metadata": {},
   "source": [
    "## 什么是 Latex?"
   ]
  },
  {
   "cell_type": "markdown",
   "metadata": {},
   "source": [
    " **Latex** 语言可以用纯文本的方式输入数学公式."
   ]
  },
  {
   "cell_type": "markdown",
   "metadata": {
    "collapsed": true
   },
   "source": [
    "这是一个**行内公式** $x^2 + y^2 = 1$."
   ]
  },
  {
   "cell_type": "markdown",
   "metadata": {},
   "source": [
    "下面是一个**行间公式**\n",
    "\n",
    "$$\n",
    "e^ix = \\cos x + i\\sin x\n",
    "$$"
   ]
  },
  {
   "cell_type": "markdown",
   "metadata": {},
   "source": [
    "$$\n",
    "\\sqrt{x^2_1+5}=6\n",
    "$$"
   ]
  },
  {
   "cell_type": "markdown",
   "metadata": {},
   "source": [
    "## 学生邮箱帐号"
   ]
  },
  {
   "cell_type": "markdown",
   "metadata": {
    "collapsed": true
   },
   "source": [
    "1. **邮箱网址**： http://mail.smail.xtu.edu.cn/\n",
    "1. **学生邮箱账号：** 学号@smail.xtu.edu.cn\n",
    "1. **邮箱初始密码：** Xtu+身份证后六位， 如果身份证后六位有字母要大写"
   ]
  }
 ],
 "metadata": {
  "kernelspec": {
   "display_name": "Python 3",
   "language": "python",
   "name": "python3"
  },
  "language_info": {
   "codemirror_mode": {
    "name": "ipython",
    "version": 3
   },
   "file_extension": ".py",
   "mimetype": "text/x-python",
   "name": "python",
   "nbconvert_exporter": "python",
   "pygments_lexer": "ipython3",
   "version": "3.5.2"
  },
  "latex_envs": {
   "LaTeX_envs_menu_present": true,
   "bibliofile": "biblio.bib",
   "cite_by": "apalike",
   "current_citInitial": 1,
   "eqLabelWithNumbers": true,
   "eqNumInitial": 0
  }
 },
 "nbformat": 4,
 "nbformat_minor": 0
}
