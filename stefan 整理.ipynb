{
 "cells": [
  {
   "cell_type": "markdown",
   "metadata": {},
   "source": [
    "# 用有限元方法解决 stefan 问题"
   ]
  },
  {
   "cell_type": "markdown",
   "metadata": {},
   "source": [
    "## 背景介绍"
   ]
  },
  {
   "cell_type": "markdown",
   "metadata": {},
   "source": [
    "   在数学及其应用中， stefan 问题是偏微分方程的一类特殊的边界值问题，它适用于一个随时间而移动的相问题。典型的　stefan 问题旨在描述一个\n",
    "   \n",
    "相问题的温度分布，例如冰转化成水的过程：这是通过热方程在初始温度和特殊的边界条件，即 stefan 条件来实现的。"
   ]
  },
  {
   "cell_type": "markdown",
   "metadata": {},
   "source": [
    "文章中主要来解　stefan　问题。这种stefan　问题是带有流体和固体两相之间的边界，并且温度随时间变化的，且已经被深入研究了，对解\n",
    "\n",
    "决这些问题有需多经典的数值解法，但是这些方法对于把　stefan　问题扩展到高维数是比较困难的。我们解决和发展这个问题是为了把这些方法应用到不\n",
    "\n",
    "稳定的模型或者枝晶凝固当中。过冷的　stefan　问题结合各向异性，依赖于边界的速度是一个不稳定的枝晶凝固模型。而过冷推动固体的增长，并且引起\n",
    "\n",
    "机制的不稳定，因此，这个结果的形状表面将是复杂的从而对于数值模拟也是比价困难的．但是，精确的数值模拟是必须的，一般的，影响参数是由晶体的形\n",
    "\n",
    "状决定。例如，表面张力。"
   ]
  },
  {
   "cell_type": "markdown",
   "metadata": {},
   "source": [
    "对于不稳定的枝晶凝固模型，任何有用的数值方法都与模拟各向异性表面张力和影响参数有关。模拟枝晶增长的不同数值方法是基于他们的格式不同。例\n",
    "\n",
    "如，边界积分方法基于解决移动边界的积分方程；向后边界积分方法是基于边界的参数化，很难扩展到高维;还有一种方法是有限元方法。尽管这些自适应算\n",
    "\n",
    "法在三维中比较复杂，且计算消耗大，但是有限元方法比其他数值方法更好。"
   ]
  },
  {
   "cell_type": "markdown",
   "metadata": {
    "collapsed": true
   },
   "source": [
    "## 数学模型"
   ]
  },
  {
   "cell_type": "markdown",
   "metadata": {},
   "source": [
    "我们考虑两相 stefan 问题，在枝晶凝固模型中，包含了过冷度，晶体各向异性，表面张力，分子活跃程度的影响。我们一个矩形区域 $D$　，表示在流固\n",
    "\n",
    "两相的每个时间层和网格点。用　$T(x, t)$表示物质的温度, $ T^-(x,t)=T(x,t)|_{\\Omega^-} $, $T^+(x,t) =T(x,t)|_{\\Omega^+}$　分\n",
    "\n",
    "别表示固体区域和液体区域的温度，这里 $\\Omega^+$ 为液态区域， $\\Omega^-$ 为固体区域。流体和固体间的界面，即止 $\\Omega$ 的边界，用\n",
    "\n",
    "$\\Gamma(t)$ 来表示。$V_n$ 表示法向速度。"
   ]
  },
  {
   "cell_type": "markdown",
   "metadata": {},
   "source": [
    "**stefan 问题的数学模型为：**\n",
    "\n",
    "$$\n",
    "\\begin{aligned}\n",
    "　 c^- \\frac{\\partial T}{\\partial t}=&\\nabla \\cdot(k^-\\nabla T),x\\in \\Omega^-\\\\\n",
    "   c^+ \\frac{\\partial T}{\\partial t}=&\\nabla \\cdot(k^+\\nabla T),x\\in \\Omega^+\\\\\n",
    "\\end{aligned}\n",
    "$$\n",
    "\n",
    "界面 $\\Gamma$ 的移动速度与温度在界面上的法向间断有关:\n",
    "\n",
    "$$\n",
    "\\begin{aligned}\n",
    "k^+T_{\\mathbf n}^+ - k^-T_{\\mathbf n}^- = -LV_{\\mathbf n}\n",
    "\\end{aligned}\n",
    "$$\n"
   ]
  },
  {
   "cell_type": "markdown",
   "metadata": {},
   "source": [
    "$c^+$, $c^-$ 分别表示液态区域和固态区域的体积热容。$k^+$, $k^-$ 分别表示液态区域和固态区域的热扩散系数。"
   ]
  },
  {
   "cell_type": "markdown",
   "metadata": {},
   "source": [
    "- 如果是固态的**熔化问题**, 界面上的温度就是 \n",
    "\n",
    "$$\n",
    "T(x, t) = T_m \\quad x\\text{ on } \\Gamma\n",
    "$$ \n",
    "\n",
    "其中 $T_m$ 是固体的熔化温度.\n",
    "\n",
    "\n",
    "- 如果是**结晶问题**, 界面上的温度满足下面条件:\n",
    "\n",
    "$$\n",
    "T(x, t) = -\\epsilon_1\\kappa - \\epsilon_2V_{\\mathbf n}\\quad x \\text{ on } \\Gamma\n",
    "$$\n",
    "\n",
    "其中 $\\epsilon_1$ 是 surface ~tension~ coefficient; $ \\epsilon_2$ 是 molecular ~kinetic~ coefficient\n",
    "\n",
    "$$\n",
    "\\begin{aligned}\n",
    "\\epsilon_1(\\mathbf n) = \\bar{\\epsilon}_1(1 - A\\cos(k_A\\theta + \\theta_0))\\\\\n",
    "\\epsilon_2(\\mathbf n) = \\bar{\\epsilon}_2(1 - A\\cos(k_A\\theta + \\theta_0))\n",
    "\\end{aligned}\n",
    "$$"
   ]
  },
  {
   "cell_type": "code",
   "execution_count": null,
   "metadata": {
    "collapsed": true
   },
   "outputs": [],
   "source": []
  }
 ],
 "metadata": {
  "kernelspec": {
   "display_name": "SageMath 7.3",
   "language": "",
   "name": "sagemath"
  },
  "language_info": {
   "codemirror_mode": {
    "name": "ipython",
    "version": 2
   },
   "file_extension": ".py",
   "mimetype": "text/x-python",
   "name": "python",
   "nbconvert_exporter": "python",
   "pygments_lexer": "ipython2",
   "version": "2.7.10"
  }
 },
 "nbformat": 4,
 "nbformat_minor": 0
}
